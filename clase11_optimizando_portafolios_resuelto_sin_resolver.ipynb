{
 "cells": [
  {
   "cell_type": "markdown",
   "id": "09d6d3c4",
   "metadata": {},
   "source": [
    "# Diversificación y fuentes de riesgo en un portafolio  - Una ilustración con mercados internacionales.\n",
    "\n",
    "<img style=\"float: right; margin: 0px 0px 15px 15px;\" src=\"https://upload.wikimedia.org/wikipedia/commons/5/5f/Map_International_Markets.jpg\" width=\"500px\" height=\"300px\" />\n",
    "\n",
    "> Entonces, la clase pasada vimos cómo afecta la correlación entre pares de activos en un portafolio. Dijimos que como un par de activos nunca tienen correlación perfecta, al combinarlos en un portafolio siempre conseguimos diversificación del riesgo.\n",
    "\n",
    "> Vimos también que no todo el riesgo se puede diversificar. Dos fuentes de riesgo:\n",
    "> - Sistemático: afecta de igual manera a todos los activos. No se puede diversificar.\n",
    "> - Idiosincrático: afecta a cada activo en particular por razones específicas. Se puede diversificar.\n",
    "\n",
    "En esta clase veremos un ejemplo de diversificación en un portafolio, usando datos de mercados de activos internacionales.\n",
    "\n",
    "En el camino, definiremos términos como *frontera de mínima varianza*, *portafolio de mínima varianza* y *portafolios eficientes*, los cuales son básicos para la construcción de la **teoría moderna de portafolios**.\n",
    "\n",
    "Estos portafolios los aprenderemos a obtener formalmente en el siguiente módulo. Por ahora nos bastará con agarrar intuición."
   ]
  },
  {
   "cell_type": "markdown",
   "id": "de3496e1",
   "metadata": {},
   "source": [
    "## 1. Ejemplo\n",
    "\n",
    "**Los datos:** tenemos el siguiente reporte de rendimientos esperados y volatilidad (anuales) para los mercados de acciones en los países integrantes del $G5$: EU, RU, Francia, Alemania y Japón."
   ]
  },
  {
   "cell_type": "code",
   "execution_count": 1,
   "id": "333a288a",
   "metadata": {},
   "outputs": [],
   "source": [
    "# Importamos pandas y numpy\n",
    "import pandas as pd\n",
    "import numpy as np\n",
    "import matplotlib.pyplot as plt"
   ]
  },
  {
   "cell_type": "code",
   "execution_count": 2,
   "id": "120adff8",
   "metadata": {},
   "outputs": [
    {
     "data": {
      "text/html": [
       "<div>\n",
       "<style scoped>\n",
       "    .dataframe tbody tr th:only-of-type {\n",
       "        vertical-align: middle;\n",
       "    }\n",
       "\n",
       "    .dataframe tbody tr th {\n",
       "        vertical-align: top;\n",
       "    }\n",
       "\n",
       "    .dataframe thead th {\n",
       "        text-align: right;\n",
       "    }\n",
       "</style>\n",
       "<table border=\"1\" class=\"dataframe\">\n",
       "  <thead>\n",
       "    <tr style=\"text-align: right;\">\n",
       "      <th></th>\n",
       "      <th>EU</th>\n",
       "      <th>RU</th>\n",
       "      <th>Francia</th>\n",
       "      <th>Alemania</th>\n",
       "      <th>Japon</th>\n",
       "    </tr>\n",
       "  </thead>\n",
       "  <tbody>\n",
       "    <tr>\n",
       "      <th>Media</th>\n",
       "      <td>0.1355</td>\n",
       "      <td>0.1589</td>\n",
       "      <td>0.1519</td>\n",
       "      <td>0.1435</td>\n",
       "      <td>0.1497</td>\n",
       "    </tr>\n",
       "    <tr>\n",
       "      <th>Volatilidad</th>\n",
       "      <td>0.1535</td>\n",
       "      <td>0.243</td>\n",
       "      <td>0.2324</td>\n",
       "      <td>0.2038</td>\n",
       "      <td>0.2298</td>\n",
       "    </tr>\n",
       "  </tbody>\n",
       "</table>\n",
       "</div>"
      ],
      "text/plain": [
       "                 EU      RU Francia Alemania   Japon\n",
       "Media        0.1355  0.1589  0.1519   0.1435  0.1497\n",
       "Volatilidad  0.1535   0.243  0.2324   0.2038  0.2298"
      ]
     },
     "execution_count": 2,
     "metadata": {},
     "output_type": "execute_result"
    }
   ],
   "source": [
    "# Resumen en base anual de rendimientos esperados y volatilidades\n",
    "annual_ret_summ = pd.DataFrame(columns=['EU', 'RU', 'Francia', 'Alemania', 'Japon'], \n",
    "                               index=['Media', 'Volatilidad'])\n",
    "annual_ret_summ.loc['Media'] = np.array([0.1355, 0.1589, 0.1519, 0.1435, 0.1497])\n",
    "annual_ret_summ.loc['Volatilidad'] = np.array([0.1535, 0.2430, 0.2324, 0.2038, 0.2298])\n",
    "\n",
    "annual_ret_summ.round(4)"
   ]
  },
  {
   "cell_type": "markdown",
   "id": "87266d0e",
   "metadata": {},
   "source": [
    "¿Qué podemos notar?\n",
    "- En cuanto al rendimiento esperado: son similares. El mínimo es de 13.5% y el máximo es de 15.9%.\n",
    "- En cuanto al riesgo: hay mucha dispersión. Varía desde 15.3% hasta 24.3%."
   ]
  },
  {
   "cell_type": "code",
   "execution_count": 3,
   "id": "252c198b",
   "metadata": {},
   "outputs": [
    {
     "data": {
      "image/png": "[encoded data removed]",
      "text/plain": [
       "<Figure size 640x480 with 1 Axes>"
      ]
     },
     "metadata": {},
     "output_type": "display_data"
    }
   ],
   "source": [
    "# Grafique  la volatilidad y el rendiiento esperado de cada país\n",
    "paises = annual_ret_summ.keys()\n",
    "for i in paises:\n",
    "    plt.scatter(annual_ret_summ[i]['Volatilidad'], annual_ret_summ[i]['Media'])\n",
    "    plt.text(annual_ret_summ[i]['Volatilidad'], annual_ret_summ[i]['Media'], i)\n",
    "plt.grid()"
   ]
  },
  {
   "cell_type": "code",
   "execution_count": 4,
   "id": "08f7918e",
   "metadata": {},
   "outputs": [
    {
     "data": {
      "text/html": [
       "<div>\n",
       "<style scoped>\n",
       "    .dataframe tbody tr th:only-of-type {\n",
       "        vertical-align: middle;\n",
       "    }\n",
       "\n",
       "    .dataframe tbody tr th {\n",
       "        vertical-align: top;\n",
       "    }\n",
       "\n",
       "    .dataframe thead th {\n",
       "        text-align: right;\n",
       "    }\n",
       "</style>\n",
       "<table border=\"1\" class=\"dataframe\">\n",
       "  <thead>\n",
       "    <tr style=\"text-align: right;\">\n",
       "      <th></th>\n",
       "      <th>EU</th>\n",
       "      <th>RU</th>\n",
       "      <th>Francia</th>\n",
       "      <th>Alemania</th>\n",
       "      <th>Japon</th>\n",
       "    </tr>\n",
       "  </thead>\n",
       "  <tbody>\n",
       "    <tr>\n",
       "      <th>EU</th>\n",
       "      <td>1.0000</td>\n",
       "      <td>0.5003</td>\n",
       "      <td>0.4398</td>\n",
       "      <td>0.3681</td>\n",
       "      <td>0.2663</td>\n",
       "    </tr>\n",
       "    <tr>\n",
       "      <th>RU</th>\n",
       "      <td>0.5003</td>\n",
       "      <td>1.0000</td>\n",
       "      <td>0.5420</td>\n",
       "      <td>0.4265</td>\n",
       "      <td>0.3581</td>\n",
       "    </tr>\n",
       "    <tr>\n",
       "      <th>Francia</th>\n",
       "      <td>0.4398</td>\n",
       "      <td>0.5420</td>\n",
       "      <td>1.0000</td>\n",
       "      <td>0.6032</td>\n",
       "      <td>0.3923</td>\n",
       "    </tr>\n",
       "    <tr>\n",
       "      <th>Alemania</th>\n",
       "      <td>0.3681</td>\n",
       "      <td>0.4265</td>\n",
       "      <td>0.6032</td>\n",
       "      <td>1.0000</td>\n",
       "      <td>0.3663</td>\n",
       "    </tr>\n",
       "    <tr>\n",
       "      <th>Japon</th>\n",
       "      <td>0.2663</td>\n",
       "      <td>0.3581</td>\n",
       "      <td>0.3923</td>\n",
       "      <td>0.3663</td>\n",
       "      <td>1.0000</td>\n",
       "    </tr>\n",
       "  </tbody>\n",
       "</table>\n",
       "</div>"
      ],
      "text/plain": [
       "              EU      RU  Francia  Alemania   Japon\n",
       "EU        1.0000  0.5003   0.4398    0.3681  0.2663\n",
       "RU        0.5003  1.0000   0.5420    0.4265  0.3581\n",
       "Francia   0.4398  0.5420   1.0000    0.6032  0.3923\n",
       "Alemania  0.3681  0.4265   0.6032    1.0000  0.3663\n",
       "Japon     0.2663  0.3581   0.3923    0.3663  1.0000"
      ]
     },
     "execution_count": 4,
     "metadata": {},
     "output_type": "execute_result"
    }
   ],
   "source": [
    "# Matriz de correlación\n",
    "corr = pd.DataFrame(data= np.array([[1.0000, 0.5003, 0.4398, 0.3681, 0.2663],\n",
    "                                    [0.5003, 1.0000, 0.5420, 0.4265, 0.3581],\n",
    "                                    [0.4398, 0.5420, 1.0000, 0.6032, 0.3923],\n",
    "                                    [0.3681, 0.4265, 0.6032, 1.0000, 0.3663],\n",
    "                                    [0.2663, 0.3581, 0.3923, 0.3663, 1.0000]]),\n",
    "                    columns=annual_ret_summ.columns, index=annual_ret_summ.columns)\n",
    "corr.round(4)"
   ]
  },
  {
   "cell_type": "markdown",
   "id": "9cb9c85e",
   "metadata": {},
   "source": [
    "¿Qué se puede observar acerca de la matriz de correlación?\n",
    "\n",
    "- Los índices con mayor correlación son: Francia y Alemania.\n",
    "- Los índices con menor correlación son: Japón y Estados Unidos."
   ]
  },
  {
   "cell_type": "markdown",
   "id": "453334d4",
   "metadata": {},
   "source": [
    "# Matriz de correlación a partir de volatilidad y matriz de correlación\n",
    "\n",
    "**Varianza**\n",
    "\n",
    "$$\n",
    "\\sigma_p^2 = \\sum_{i=1}^{n} \\sum_{k=1}^{n} w_i w_k \\sigma_{ik} = w^T \\Sigma w\n",
    "$$\n",
    "\n",
    "\n",
    "**Pasa lo mismo para sacar la covarianza a partir de la correlación**\n",
    "$$\\sigma_{i,j} = \\sigma_i \\sigma_j \\rho_{ij} $$\n",
    "\n",
    "$$\\Sigma = Diag(sigma)^T * Correlation * Diag(sigma) $$"
   ]
  },
  {
   "cell_type": "code",
   "execution_count": 5,
   "id": "08d371dc",
   "metadata": {},
   "outputs": [
    {
     "data": {
      "text/plain": [
       "array([[0.1535, 0.    , 0.    , 0.    , 0.    ],\n",
       "       [0.    , 0.243 , 0.    , 0.    , 0.    ],\n",
       "       [0.    , 0.    , 0.2324, 0.    , 0.    ],\n",
       "       [0.    , 0.    , 0.    , 0.2038, 0.    ],\n",
       "       [0.    , 0.    , 0.    , 0.    , 0.2298]])"
      ]
     },
     "execution_count": 5,
     "metadata": {},
     "output_type": "execute_result"
    }
   ],
   "source": [
    "# Crear matriz diagonal con la info de las volatilidades individuales, tipo float\n",
    "S = np.diag(annual_ret_summ.loc['Volatilidad']).astype(float)\n",
    "S"
   ]
  },
  {
   "cell_type": "code",
   "execution_count": 6,
   "id": "be63a2bb",
   "metadata": {},
   "outputs": [
    {
     "data": {
      "text/plain": [
       "array([[0.02356225, 0.01866144, 0.01568916, 0.01151538, 0.00939355],\n",
       "       [0.01866144, 0.059049  , 0.03060847, 0.02112173, 0.01999681],\n",
       "       [0.01568916, 0.03060847, 0.05400976, 0.02856943, 0.02095099],\n",
       "       [0.01151538, 0.02112173, 0.02856943, 0.04153444, 0.01715502],\n",
       "       [0.00939355, 0.01999681, 0.02095099, 0.01715502, 0.05280804]])"
      ]
     },
     "execution_count": 6,
     "metadata": {},
     "output_type": "execute_result"
    }
   ],
   "source": [
    "# A partir de la matriz anterior y la matriz de correlación:\n",
    "sigma = S.dot(corr).dot(S)\n",
    "sigma"
   ]
  },
  {
   "cell_type": "markdown",
   "id": "311d5b4a",
   "metadata": {},
   "source": [
    "### Nos enfocaremos entonces únicamente en dos mercados: EU y Japón\n",
    "\n",
    "- ¿Cómo construiríamos un portafolio que consiste de los mercados de acciones de EU y Japón?\n",
    "- ¿Cuáles serían las posibles combinaciones?"
   ]
  },
  {
   "cell_type": "markdown",
   "id": "0c5b38f8",
   "metadata": {},
   "source": [
    "#### 1. Supongamos que $w$ es la participación del mercado de EU en nuestro portafolio.\n",
    "- ¿Cuál es la participación del mercado de Japón entonces?: $1-w$\n",
    "\n",
    "- Luego, nuestras fórmulas de rendimiento esperado y varianza de portafolios son:\n",
    "\n",
    "$$E[r_p]=wE[r_{EU}]+(1-w)E[r_J]$$\n",
    "\n",
    "$$\\sigma_p^2=w^2\\sigma_{EU}^2+(1-w)^2\\sigma_J^2+2w(1-w)\\sigma_{EU,J}$$"
   ]
  },
  {
   "cell_type": "markdown",
   "id": "6b2bcbb0",
   "metadata": {},
   "source": [
    "#### 2. Con lo anterior...\n",
    "- podemos variar $w$ con pasos pequeños entre $0$ y $1$, y\n",
    "- calcular el rendimiento esperado y volatilidad para cada valor de $w$."
   ]
  },
  {
   "cell_type": "code",
   "execution_count": 7,
   "id": "acb2d5b9",
   "metadata": {},
   "outputs": [],
   "source": [
    "# Vector de w variando entre 0 y 1 con N pasos\n",
    "N = 101\n",
    "w = np.linspace(0, 1, N)\n",
    "\n",
    "# Rendimientos esperados individuales\n",
    "# Activo1: EU, Activo2: Japon\n",
    "\n",
    "# Rendimientos esperados individuales\n",
    "e_us = annual_ret_summ['EU']['Media']\n",
    "e_jp = annual_ret_summ['Japon']['Media']\n",
    "\n",
    "# Volatilidades individuales\n",
    "vol_us = annual_ret_summ['EU']['Volatilidad']\n",
    "vol_jp = annual_ret_summ['Japon']['Volatilidad']\n",
    "\n",
    "# Correlacion\n",
    "corr_us_jp = corr['EU']['Japon']\n",
    "\n",
    "# Covarianza\n",
    "covariance_us_jp = corr_us_jp * vol_us * vol_jp"
   ]
  },
  {
   "cell_type": "markdown",
   "id": "3123ba95",
   "metadata": {},
   "source": [
    "$$\n",
    "\\rho_{ij} = \\frac{\\sigma_{ij}}{\\sigma_i \\sigma_j} \\Rightarrow \\sigma_{ij} = \\sigma_i \\sigma_j \\rho_{ij}\n",
    "$$"
   ]
  },
  {
   "cell_type": "code",
   "execution_count": 8,
   "id": "bfc838c2",
   "metadata": {},
   "outputs": [
    {
     "data": {
      "text/html": [
       "<div>\n",
       "<style scoped>\n",
       "    .dataframe tbody tr th:only-of-type {\n",
       "        vertical-align: middle;\n",
       "    }\n",
       "\n",
       "    .dataframe tbody tr th {\n",
       "        vertical-align: top;\n",
       "    }\n",
       "\n",
       "    .dataframe thead th {\n",
       "        text-align: right;\n",
       "    }\n",
       "</style>\n",
       "<table border=\"1\" class=\"dataframe\">\n",
       "  <thead>\n",
       "    <tr style=\"text-align: right;\">\n",
       "      <th></th>\n",
       "      <th>w_us</th>\n",
       "      <th>w_jp</th>\n",
       "      <th>media</th>\n",
       "      <th>vol</th>\n",
       "    </tr>\n",
       "  </thead>\n",
       "  <tbody>\n",
       "    <tr>\n",
       "      <th>0</th>\n",
       "      <td>0.00</td>\n",
       "      <td>1.00</td>\n",
       "      <td>0.149700</td>\n",
       "      <td>0.229800</td>\n",
       "    </tr>\n",
       "    <tr>\n",
       "      <th>1</th>\n",
       "      <td>0.01</td>\n",
       "      <td>0.99</td>\n",
       "      <td>0.149558</td>\n",
       "      <td>0.227916</td>\n",
       "    </tr>\n",
       "    <tr>\n",
       "      <th>2</th>\n",
       "      <td>0.02</td>\n",
       "      <td>0.98</td>\n",
       "      <td>0.149416</td>\n",
       "      <td>0.226041</td>\n",
       "    </tr>\n",
       "    <tr>\n",
       "      <th>3</th>\n",
       "      <td>0.03</td>\n",
       "      <td>0.97</td>\n",
       "      <td>0.149274</td>\n",
       "      <td>0.224176</td>\n",
       "    </tr>\n",
       "    <tr>\n",
       "      <th>4</th>\n",
       "      <td>0.04</td>\n",
       "      <td>0.96</td>\n",
       "      <td>0.149132</td>\n",
       "      <td>0.222322</td>\n",
       "    </tr>\n",
       "    <tr>\n",
       "      <th>...</th>\n",
       "      <td>...</td>\n",
       "      <td>...</td>\n",
       "      <td>...</td>\n",
       "      <td>...</td>\n",
       "    </tr>\n",
       "    <tr>\n",
       "      <th>96</th>\n",
       "      <td>0.96</td>\n",
       "      <td>0.04</td>\n",
       "      <td>0.136068</td>\n",
       "      <td>0.150070</td>\n",
       "    </tr>\n",
       "    <tr>\n",
       "      <th>97</th>\n",
       "      <td>0.97</td>\n",
       "      <td>0.03</td>\n",
       "      <td>0.135926</td>\n",
       "      <td>0.150877</td>\n",
       "    </tr>\n",
       "    <tr>\n",
       "      <th>98</th>\n",
       "      <td>0.98</td>\n",
       "      <td>0.02</td>\n",
       "      <td>0.135784</td>\n",
       "      <td>0.151719</td>\n",
       "    </tr>\n",
       "    <tr>\n",
       "      <th>99</th>\n",
       "      <td>0.99</td>\n",
       "      <td>0.01</td>\n",
       "      <td>0.135642</td>\n",
       "      <td>0.152593</td>\n",
       "    </tr>\n",
       "    <tr>\n",
       "      <th>100</th>\n",
       "      <td>1.00</td>\n",
       "      <td>0.00</td>\n",
       "      <td>0.135500</td>\n",
       "      <td>0.153500</td>\n",
       "    </tr>\n",
       "  </tbody>\n",
       "</table>\n",
       "<p>101 rows × 4 columns</p>\n",
       "</div>"
      ],
      "text/plain": [
       "     w_us  w_jp     media       vol\n",
       "0    0.00  1.00  0.149700  0.229800\n",
       "1    0.01  0.99  0.149558  0.227916\n",
       "2    0.02  0.98  0.149416  0.226041\n",
       "3    0.03  0.97  0.149274  0.224176\n",
       "4    0.04  0.96  0.149132  0.222322\n",
       "..    ...   ...       ...       ...\n",
       "96   0.96  0.04  0.136068  0.150070\n",
       "97   0.97  0.03  0.135926  0.150877\n",
       "98   0.98  0.02  0.135784  0.151719\n",
       "99   0.99  0.01  0.135642  0.152593\n",
       "100  1.00  0.00  0.135500  0.153500\n",
       "\n",
       "[101 rows x 4 columns]"
      ]
     },
     "execution_count": 8,
     "metadata": {},
     "output_type": "execute_result"
    }
   ],
   "source": [
    "# Crear un DataFrame cuyas columnas sean rendimiento esperado\n",
    "# y volatilidad del portafolio para cada una de las w\n",
    "# generadas\n",
    "portafolios2 = pd.DataFrame({\n",
    "    'w_us': w,\n",
    "    'w_jp': 1 -w,\n",
    "    'media': w * e_us + (1-w) * e_jp,\n",
    "    'vol': np.sqrt(w**2 * vol_us**2 + (1-w)**2 * vol_jp**2 + 2*w*(1-w)*covariance_us_jp)\n",
    "\n",
    "})\n",
    "portafolios2"
   ]
  },
  {
   "cell_type": "code",
   "execution_count": 9,
   "id": "ce9d42c6",
   "metadata": {},
   "outputs": [
    {
     "data": {
      "image/png": "[encoded data removed]",
      "text/plain": [
       "<Figure size 640x480 with 1 Axes>"
      ]
     },
     "metadata": {},
     "output_type": "display_data"
    }
   ],
   "source": [
    "### Grafica resultados\n",
    "plt.plot(portafolios2.vol, portafolios2.media, marker = 'o')\n",
    "plt.xlabel('Vol')\n",
    "plt.ylabel('Rendimiento')\n",
    "plt.grid()"
   ]
  },
  {
   "cell_type": "markdown",
   "id": "6b181cf7",
   "metadata": {},
   "source": [
    "#### 3. Finalmente, \n",
    "- cada una de las combinaciones las podemos graficar en el espacio de rendimiento esperado (eje $y$) contra volatilidad (eje $x$)."
   ]
  },
  {
   "cell_type": "code",
   "execution_count": 10,
   "id": "e404f461",
   "metadata": {},
   "outputs": [],
   "source": [
    "# Crea un DF para los que tienen 100% en caa uno\n",
    "one_portafolio_us = portafolios2.query(\"w_us == 1\")\n",
    "one_portafolio_jp = portafolios2.query(\"w_us == 0\")"
   ]
  },
  {
   "cell_type": "code",
   "execution_count": 11,
   "id": "a7bd5bf1",
   "metadata": {},
   "outputs": [
    {
     "data": {
      "image/png": "[encoded data removed]",
      "text/plain": [
       "<Figure size 640x480 with 1 Axes>"
      ]
     },
     "metadata": {},
     "output_type": "display_data"
    }
   ],
   "source": [
    "# Grafica todo\n",
    "\n",
    "# 100% USA\n",
    "plt.scatter(one_portafolio_us.vol, one_portafolio_us.media)\n",
    "plt.text(one_portafolio_us.vol, one_portafolio_us.media, 'US')\n",
    "\n",
    "# 100% Japón\n",
    "plt.scatter(one_portafolio_jp.vol, one_portafolio_jp.media)\n",
    "plt.text(one_portafolio_jp.vol, one_portafolio_jp.media, 'Japón')\n",
    "# Mezclando\n",
    "plt.scatter(portafolios2.vol, portafolios2.media, marker = 'o', s = 8, c='navy')\n",
    "plt.xlabel('Vol')\n",
    "plt.ylabel('Rendimiento')\n",
    "plt.grid()"
   ]
  },
  {
   "cell_type": "markdown",
   "id": "2274ee9c",
   "metadata": {},
   "source": [
    "#### De la gráfica,\n",
    "1. Ver casos extremos.\n",
    "2. ¿Conviene invertir 100% en el mercado de EU? ¿Porqué?\n",
    "3. ¿Porqué ocurre esto?\n",
    "4. Definición: frontera de mínima varianza. Caso particular: dos activos.\n",
    "5. Definición: portafolio de varianza mínima.\n",
    "6. Definición: portafolios eficientes.\n",
    "\n",
    "#### 1. Definición (frontera de mínima varianza): es el lugar geométrico de los portafolios en el espacio de rendimiento esperado contra volatilidad, que para cada nivel de rendimiento esperado provee la menor varianza (volatilidad). Para dos activos, la frontera de mínima varianza son, simplemente, todos los posibles portafolios que se pueden formar con esos dos activos.\n",
    "\n",
    "\n",
    "#### 2. Definición (portafolio de mínima varianza): es el portafolio que posee la menor varianza. No podemos encontrar ningún portafolio más a la izquierda de éste, en el espacio de rendimiento esperado contra volatilidad.\n",
    "\n",
    "\n",
    "#### 3. Definición (portafolios eficientes): son los portafolios que están en la parte superior de la frontera de mínima varianza, partiendo desde el portafolio de mínima varianza.\n",
    "\n",
    "___\n"
   ]
  },
  {
   "cell_type": "markdown",
   "id": "049af888",
   "metadata": {},
   "source": [
    "## 2. ¿Cómo hallar el portafolio de varianza mínima?\n",
    "\n",
    "## Obteniendo el punto de mínima varianza de un portafolio\n",
    "\n",
    "\n",
    "En vase a las definicones de la clase, sabemos que la varianza de un portafolio de dos activos $(a,b)$ es igual a:\n",
    "\n",
    "$$\\sigma^2_p = w_a^2 \\sigma^2_a + w_b^2 \\sigma_{b}^2 + 2 w_a w_b \\rho_{ab} \\sigma_a\\sigma_{b} $$\n",
    "\n",
    "\n",
    "Dado que son dos activos, esto se puede reescribir como:\n",
    "$$\\sigma^2_p = w_a^2 \\sigma_{a}^2  + (1 - w_a)^2 \\sigma_{b}^2 + 2 w_a (1-w_a) \\rho_{ab} \\sigma_a\\sigma_{b} $$\n",
    "\n",
    "***¿Cómo puedo obtener el punto donde tenga mínima varianza?***\n",
    "\n",
    "Formalmente: \n",
    "\n",
    "\\begin{align*}\n",
    "&\\min_{w}\\sigma_p^2=w^2\\sigma_1^2+(1-w)^2\\sigma_2^2+2w(1-w)\\rho_{12}\\sigma_1\\sigma_2\\\\\n",
    "&\\text{s.t.} \\qquad 0\\leq w\\leq1,\n",
    "\\end{align*}\n",
    "\n",
    "\n",
    "Dado que la varianza de un portafolio es una función cuadrática, puedo diferenciar e igualar a 0\n",
    "\n",
    "\n",
    "Primero vamos a reorganizar un poco nuestra definición de varianza:\n",
    "$$\\sigma^2_p = w_a^2 \\sigma_{a}^2 + \\sigma_b^2 - 2w_a \\sigma_b ^2 + w_a^2 \\sigma_b ^2 - 2w_a \\sigma_a \\sigma_b \\rho_{ab} - 2 w_a^2 \\sigma_a \\sigma_b \\rho_{ab}$$\n",
    "\n",
    "\n",
    "Ahora si vamos a derivar:\n",
    "\n",
    "$$ \\frac{d}{d_{wa}} \\sigma^2_p  = 2w_a \\sigma_a^2 - 2 \\sigma_b^2 + 2w_a \\sigma_b ^2 + 2 \\sigma_a \\sigma_b \\rho_{ab} - 4 w_a \\sigma_a \\sigma_b \\rho_{ab}$$\n",
    "\n",
    "Igualamos a 0 para encontrar el punto con menor pendiente:\n",
    "\n",
    "$$ 0 = 2w_a \\sigma_a^2 - 2 \\sigma_b^2 + 2w_a \\sigma_b ^2 + 2 \\sigma_a \\sigma_b \\rho_{ab} - 4 w_a \\sigma_a \\sigma_b \\rho_{ab}$$\n",
    "\n",
    "Dividimos todo entre 2:\n",
    "$$ 0 = w_a \\sigma_a^2 -  \\sigma_b^2 + w_a \\sigma_b ^2 +  \\sigma_a \\sigma_b \\rho_{ab} - 2 w_a \\sigma_a \\sigma_b \\rho_{ab}$$\n",
    "\n",
    "Pasamos los que no tienen 0 al  otro lado:\n",
    "$$ \\sigma_b^2  - \\sigma_a \\sigma_b \\rho_{ab} = w_a \\sigma_a^2  + w_a \\sigma_b ^2  - 2 w_a \\sigma_a \\sigma_b \\rho_{ab}$$\n",
    "\n",
    "\n",
    "Agrupamos $w_a$\n",
    "$$ \\sigma_b^2  - \\sigma_a \\sigma_b \\rho_{ab} = [w_a (\\sigma_a ^2 + \\sigma_b 2)] - [2 w_a \\sigma_a \\sigma_b \\rho_{ab}]$$\n",
    "\n",
    "$$ \\sigma_b^2  - \\sigma_a \\sigma_b \\rho_{ab} = w_a ( [\\sigma_a ^2 + \\sigma_b 2] - [2\\sigma_a \\sigma_b \\rho_{ab}])$$\n",
    "\n",
    "Finalmente nos queda que:\n",
    "\n",
    "$$w_a = \\frac{\\sigma_b^2 - \\sigma_a \\sigma_b \\rho_{ab}}{\\sigma_a^2 + \\sigma_b^2 - 2 \\sigma_a \\sigma_b \\rho_{ab}}$$\n",
    "\n",
    "Esto igualmente se puede ecribir como: \n",
    "$$w_a = \\frac{\\sigma_b^2 - cov(a,b)}{\\sigma_a^2 + \\sigma_b^2 - 2 cov(a,b)}$$\n",
    "\n",
    "Debido a que:\n",
    "\n",
    "$$\\rho_{ab}=\\rho_{ab}=\\frac{\\sigma_{ab}}{\\sigma_a\\sigma_{b}}.$$\n",
    "\n",
    "Quiere decir que, si tengo un portafilo de activos $(a,b)$ y quiero obtener los pesos $(w_a, w_b)$ que me den mínima varianza, puedo hacer esto:\n",
    "\n",
    "$$w_a = \\frac{\\sigma_b^2 - cov(a,b)}{\\sigma_a^2 + \\sigma_b^2 - 2 cov(a,b)}$$\n",
    "\n",
    "$$w_b = 1 - w_a$$\n",
    "\n"
   ]
  },
  {
   "cell_type": "code",
   "execution_count": 12,
   "id": "89d19cf0",
   "metadata": {},
   "outputs": [
    {
     "data": {
      "text/plain": [
       "(0.7539437814084219, 0.2460562185915781)"
      ]
     },
     "execution_count": 12,
     "metadata": {},
     "output_type": "execute_result"
    }
   ],
   "source": [
    "# Calcular la mínima varianza\n",
    "w_min_var_usa = (vol_jp**2 - covariance_us_jp) / (vol_jp**2 + vol_us**2 - 2 * covariance_us_jp)\n",
    "w_min_var_jp = 1 - w_min_var_usa\n",
    "w_min_var_usa, w_min_var_jp"
   ]
  },
  {
   "cell_type": "markdown",
   "id": "968cb385",
   "metadata": {},
   "source": [
    "**Conclusiones:**\n",
    "- Para obtener el portafolio de mínima varianza, deberíamos invertir aproximadamente el 75.40% en el índice de EU, y el 24.60% restante en el índice de Japón."
   ]
  },
  {
   "cell_type": "markdown",
   "id": "8e45b3a1",
   "metadata": {},
   "source": [
    "### Alternativa, scipy.optimize.minimize"
   ]
  },
  {
   "cell_type": "markdown",
   "id": "c7b77ed8",
   "metadata": {},
   "source": [
    "\\begin{align*}\n",
    "&\\min_{w}\\sigma_p^2=w^2\\sigma_1^2+(1-w)^2\\sigma_2^2+2w(1-w)\\sigma_{12}\\\\\n",
    "&\\text{s.t.} \\qquad 0\\leq w\\leq1,\n",
    "\\end{align*}\n",
    "\n",
    "\n",
    "1- Creamos una función para minimizar \n",
    "\n",
    "2- Definimos lo que quieremos optimizar (los pesos en este caso)\n",
    "\n",
    "3- Ponemos restricciones\n",
    "\n",
    "4- A la función a minimizar le pasamos lo que queremos optimizar (los pesos) y luego los inputs numericos ya dados"
   ]
  },
  {
   "cell_type": "code",
   "execution_count": 13,
   "id": "f2c33c8c",
   "metadata": {},
   "outputs": [],
   "source": [
    "from scipy.optimize import minimize\n",
    "# Función objetivo\n",
    "def var2(w, s1, s2, s12):\n",
    "    return w**2 * s1**2 + (1 - w)**2 * s2**2 + 2 * w * (1 - w) * s12\n",
    "\n",
    "# Solución\n",
    "minvar_num = minimize(\n",
    "    fun=var2,\n",
    "    x0=0.1,\n",
    "    args=(vol_us, vol_jp, covariance_us_jp),\n",
    "    bounds=((0,1),)\n",
    ")"
   ]
  },
  {
   "cell_type": "code",
   "execution_count": 14,
   "id": "1443af2e",
   "metadata": {},
   "outputs": [
    {
     "data": {
      "text/plain": [
       "array([0.7539438])"
      ]
     },
     "execution_count": 14,
     "metadata": {},
     "output_type": "execute_result"
    }
   ],
   "source": [
    "w_min_var = minvar_num['x']\n",
    "w_min_var"
   ]
  },
  {
   "cell_type": "code",
   "execution_count": null,
   "id": "512ad1d2",
   "metadata": {},
   "outputs": [],
   "source": []
  },
  {
   "cell_type": "code",
   "execution_count": 15,
   "id": "886ef824",
   "metadata": {},
   "outputs": [],
   "source": [
    "# Peso del portafolio de minima varianza\n"
   ]
  },
  {
   "cell_type": "code",
   "execution_count": 15,
   "id": "c797e3f6",
   "metadata": {},
   "outputs": [
    {
     "data": {
      "text/plain": [
       "array([0.138994])"
      ]
     },
     "execution_count": 15,
     "metadata": {},
     "output_type": "execute_result"
    }
   ],
   "source": [
    "# Rendimiento esperado con el de minima varianza\n",
    "w_min_var * e_us + (1-w_min_var) * e_jp"
   ]
  },
  {
   "cell_type": "code",
   "execution_count": 16,
   "id": "9fcdc974",
   "metadata": {},
   "outputs": [
    {
     "data": {
      "text/plain": [
       "array([0.14168963])"
      ]
     },
     "execution_count": 16,
     "metadata": {},
     "output_type": "execute_result"
    }
   ],
   "source": [
    "# Volatilidad con el de minima varianza\n",
    "np.sqrt(w_min_var**2 * vol_us**2 + (1-w_min_var)**2 * vol_jp**2 + 2*w_min_var*(1-w_min_var) * covariance_us_jp)"
   ]
  },
  {
   "cell_type": "markdown",
   "id": "c0637f05",
   "metadata": {},
   "source": [
    "## 3. Si tenemos 3 activos, no todas las combinaciones están en esta varianza mínima \n",
    "En este caso:\n",
    "- EU\n",
    "- Japon\n",
    "- RU\n",
    "\n"
   ]
  },
  {
   "cell_type": "markdown",
   "id": "40899b1a",
   "metadata": {},
   "source": [
    "## Primero creamos un data frame "
   ]
  },
  {
   "cell_type": "code",
   "execution_count": 17,
   "id": "dae3d026",
   "metadata": {},
   "outputs": [
    {
     "data": {
      "text/html": [
       "<div>\n",
       "<style scoped>\n",
       "    .dataframe tbody tr th:only-of-type {\n",
       "        vertical-align: middle;\n",
       "    }\n",
       "\n",
       "    .dataframe tbody tr th {\n",
       "        vertical-align: top;\n",
       "    }\n",
       "\n",
       "    .dataframe thead th {\n",
       "        text-align: right;\n",
       "    }\n",
       "</style>\n",
       "<table border=\"1\" class=\"dataframe\">\n",
       "  <thead>\n",
       "    <tr style=\"text-align: right;\">\n",
       "      <th></th>\n",
       "      <th>w1</th>\n",
       "      <th>w2</th>\n",
       "      <th>w3</th>\n",
       "      <th>media</th>\n",
       "      <th>volatilidad</th>\n",
       "    </tr>\n",
       "  </thead>\n",
       "  <tbody>\n",
       "    <tr>\n",
       "      <th>0</th>\n",
       "      <td>0.029652</td>\n",
       "      <td>0.245423</td>\n",
       "      <td>0.724925</td>\n",
       "      <td>0.155948</td>\n",
       "      <td>0.205638</td>\n",
       "    </tr>\n",
       "    <tr>\n",
       "      <th>1</th>\n",
       "      <td>0.026447</td>\n",
       "      <td>0.406851</td>\n",
       "      <td>0.566702</td>\n",
       "      <td>0.154538</td>\n",
       "      <td>0.194175</td>\n",
       "    </tr>\n",
       "    <tr>\n",
       "      <th>2</th>\n",
       "      <td>0.388042</td>\n",
       "      <td>0.345703</td>\n",
       "      <td>0.266255</td>\n",
       "      <td>0.146639</td>\n",
       "      <td>0.155250</td>\n",
       "    </tr>\n",
       "    <tr>\n",
       "      <th>3</th>\n",
       "      <td>0.274299</td>\n",
       "      <td>0.148588</td>\n",
       "      <td>0.577113</td>\n",
       "      <td>0.151114</td>\n",
       "      <td>0.180857</td>\n",
       "    </tr>\n",
       "    <tr>\n",
       "      <th>4</th>\n",
       "      <td>0.250879</td>\n",
       "      <td>0.293165</td>\n",
       "      <td>0.455957</td>\n",
       "      <td>0.150332</td>\n",
       "      <td>0.171157</td>\n",
       "    </tr>\n",
       "    <tr>\n",
       "      <th>...</th>\n",
       "      <td>...</td>\n",
       "      <td>...</td>\n",
       "      <td>...</td>\n",
       "      <td>...</td>\n",
       "      <td>...</td>\n",
       "    </tr>\n",
       "    <tr>\n",
       "      <th>995</th>\n",
       "      <td>0.377620</td>\n",
       "      <td>0.360382</td>\n",
       "      <td>0.261998</td>\n",
       "      <td>0.146748</td>\n",
       "      <td>0.155875</td>\n",
       "    </tr>\n",
       "    <tr>\n",
       "      <th>996</th>\n",
       "      <td>0.056505</td>\n",
       "      <td>0.483165</td>\n",
       "      <td>0.460330</td>\n",
       "      <td>0.153133</td>\n",
       "      <td>0.187869</td>\n",
       "    </tr>\n",
       "    <tr>\n",
       "      <th>997</th>\n",
       "      <td>0.213293</td>\n",
       "      <td>0.127587</td>\n",
       "      <td>0.659120</td>\n",
       "      <td>0.152735</td>\n",
       "      <td>0.191589</td>\n",
       "    </tr>\n",
       "    <tr>\n",
       "      <th>998</th>\n",
       "      <td>0.361263</td>\n",
       "      <td>0.339625</td>\n",
       "      <td>0.299113</td>\n",
       "      <td>0.147322</td>\n",
       "      <td>0.157639</td>\n",
       "    </tr>\n",
       "    <tr>\n",
       "      <th>999</th>\n",
       "      <td>0.714644</td>\n",
       "      <td>0.171456</td>\n",
       "      <td>0.113900</td>\n",
       "      <td>0.140600</td>\n",
       "      <td>0.143084</td>\n",
       "    </tr>\n",
       "  </tbody>\n",
       "</table>\n",
       "<p>1000 rows × 5 columns</p>\n",
       "</div>"
      ],
      "text/plain": [
       "           w1        w2        w3     media  volatilidad\n",
       "0    0.029652  0.245423  0.724925  0.155948     0.205638\n",
       "1    0.026447  0.406851  0.566702  0.154538     0.194175\n",
       "2    0.388042  0.345703  0.266255  0.146639     0.155250\n",
       "3    0.274299  0.148588  0.577113  0.151114     0.180857\n",
       "4    0.250879  0.293165  0.455957  0.150332     0.171157\n",
       "..        ...       ...       ...       ...          ...\n",
       "995  0.377620  0.360382  0.261998  0.146748     0.155875\n",
       "996  0.056505  0.483165  0.460330  0.153133     0.187869\n",
       "997  0.213293  0.127587  0.659120  0.152735     0.191589\n",
       "998  0.361263  0.339625  0.299113  0.147322     0.157639\n",
       "999  0.714644  0.171456  0.113900  0.140600     0.143084\n",
       "\n",
       "[1000 rows x 5 columns]"
      ]
     },
     "execution_count": 17,
     "metadata": {},
     "output_type": "execute_result"
    }
   ],
   "source": [
    "# Create reandom weights\n",
    "def rand_weights(n):\n",
    "    k = np.random.rand(n)\n",
    "    return k / sum(k)\n",
    "df3 = pd.DataFrame([rand_weights(3) for i in range(1000)], \n",
    "                            columns =['w1', 'w2', 'w3'])\n",
    "\n",
    "# Pesos\n",
    "w1 = df3.w1\n",
    "w2 = df3.w2\n",
    "w3 = df3.w3\n",
    "\n",
    "# volatilidades\n",
    "vol1 = annual_ret_summ['EU'].loc['Volatilidad']\n",
    "vol2 = annual_ret_summ['Japon'].loc['Volatilidad']\n",
    "vol3 = annual_ret_summ['RU'].loc['Volatilidad']\n",
    "\n",
    "# Covarianzas\n",
    "cov12 = corr['EU']['Japon']*vol1*vol2\n",
    "cov13 = corr['EU']['RU']*vol1*vol3\n",
    "cov23 = corr['Japon']['RU']*vol2*vol3\n",
    "\n",
    "# Valores esperados\n",
    "e1 = annual_ret_summ['EU'].loc['Media']\n",
    "e2 = annual_ret_summ['Japon'].loc['Media']\n",
    "e3 = annual_ret_summ['RU'].loc['Media']\n",
    "\n",
    "\n",
    "# Crea un portafolio con pesos ranodom\n",
    "portafolios3 = pd.DataFrame({\n",
    "    'w1': w1,\n",
    "    'w2': w2,\n",
    "    'w3': w3,\n",
    "    'media':w1 * e1 + w2 * e2 + w3 * e3,\n",
    "    'volatilidad': np.sqrt(w1**2 * vol1**2 + \n",
    "                    w2**2 * vol2**2 + \n",
    "                    w3**2 * vol3**2 +\n",
    "                    2*w1*w2*cov12 + \n",
    "                    2*w1*w3*cov13 + \n",
    "                    2*w2*w3*cov23)\n",
    "    \n",
    "})\n",
    "\n",
    "portafolios3"
   ]
  },
  {
   "cell_type": "code",
   "execution_count": 18,
   "id": "cc914346",
   "metadata": {},
   "outputs": [
    {
     "data": {
      "image/png": "[encoded data removed]",
      "text/plain": [
       "<Figure size 640x480 with 1 Axes>"
      ]
     },
     "metadata": {},
     "output_type": "display_data"
    }
   ],
   "source": [
    "# Grafica los portafolios\n",
    "plt.scatter(portafolios3.volatilidad, portafolios3.media, s = 10, c='navy')\n",
    "plt.grid()"
   ]
  },
  {
   "cell_type": "markdown",
   "id": "4944a3d2",
   "metadata": {},
   "source": [
    "La búsqueda del portafolio de varianza mínima corresponde a la solución del siguiente problema de optimización:\n",
    "\n",
    "- Para un portafolio con $n$ activos ($\\boldsymbol{w}=[w_1,\\dots,w_n]^T\\in\\mathbb{R}^n$):\n",
    "\\begin{align*}\n",
    "&\\min_{\\boldsymbol{w}} & \\sigma_p^2=\\boldsymbol{w}^T\\Sigma\\boldsymbol{w}\\\\\n",
    "&\\text{s.t.} \\qquad & \\boldsymbol{w}\\geq0,\\\\\n",
    "& & w_1+\\dots+w_n=1\n",
    "\\\\\n",
    "& & E[p] = \\mu\n",
    "\\end{align*}\n",
    "donde $\\Sigma$ es la matriz de varianza-covarianza de los rendimientos de los $n$ activos."
   ]
  },
  {
   "cell_type": "markdown",
   "id": "1abd57a5",
   "metadata": {},
   "source": [
    "## Ejemplo: ¿Cuál es el mejor portafolio para un rendimiento de 14%?"
   ]
  },
  {
   "cell_type": "code",
   "execution_count": 19,
   "id": "8b731ea6",
   "metadata": {},
   "outputs": [],
   "source": [
    "# volatilidades\n",
    "s1 = annual_ret_summ['EU'].loc['Volatilidad']\n",
    "s2 = annual_ret_summ['Japon'].loc['Volatilidad']\n",
    "s3 = annual_ret_summ['RU'].loc['Volatilidad']\n",
    "\n",
    "# Covarianzas\n",
    "s12 = corr['EU']['Japon']*vol1*vol2\n",
    "s13 = corr['EU']['RU']*vol1 * vol3\n",
    "s23 = corr['RU']['Japon']*vol3*vol2"
   ]
  },
  {
   "cell_type": "code",
   "execution_count": 20,
   "id": "ec2da9dd",
   "metadata": {},
   "outputs": [],
   "source": [
    "## Construcción de parámetros\n",
    "## Activo 1: EU, Activo 2: Japon, Activo 3: RU\n",
    "\n",
    "# 1. Sigma: matriz de varianza-covarianza\n",
    "sigma = np.array([[s1**2, s12, s13],\n",
    "                  [s12, s2**2, s23],\n",
    "                  [s13, s23, s3**2]])\n",
    "\n",
    "# 2. rendimientos esperados activos individuales\n",
    "eind = np.array([e1, e2, e3])"
   ]
  },
  {
   "cell_type": "code",
   "execution_count": 22,
   "id": "c56bdb58",
   "metadata": {},
   "outputs": [],
   "source": [
    "# Lo que quiero minimizar\n",
    "def varianza(w, sigma):\n",
    "    return w.T.dot(sigma).dot(w)\n",
    "\n",
    "# Restricciones, quiero un rendimiento iguial a mu_req \n",
    "def rendimiento_req(w, Eind, mu_req):\n",
    "    return w.T.dot(Eind) - mu_req\n",
    "\n",
    "# Pesos tiene que sumar 1 \n",
    "def weights_equal_1(w):\n",
    "    return np.sum(w) - 1\n",
    "\n",
    "\n",
    "cons = (\n",
    "    # Rendimiento requerido\n",
    "    {'type': 'eq', 'fun': rendimiento_req, 'args': (eind, 0.14)},\n",
    "    # Los pesos tienne que ser 1\n",
    "    {'type': 'eq', 'fun': weights_equal_1}\n",
    ")\n",
    "# Portafolio de mínima varianza para nivel de rendimiento esperado Ereq[i]\n",
    "min_var = minimize(fun=varianza,\n",
    "                   x0=np.array([1/3, 1/3, 1/3]),\n",
    "                   args=(sigma,),\n",
    "                   bounds=((0,1), (0,1), (0,1)),\n",
    "                   constraints=cons)\n"
   ]
  },
  {
   "cell_type": "code",
   "execution_count": 23,
   "id": "80effd04",
   "metadata": {},
   "outputs": [
    {
     "data": {
      "text/plain": [
       "array([0.71197345, 0.24345884, 0.04456771])"
      ]
     },
     "execution_count": 23,
     "metadata": {},
     "output_type": "execute_result"
    }
   ],
   "source": [
    "# ¿Como quedaría la ponderacion?\n",
    "min_var['x']"
   ]
  },
  {
   "cell_type": "markdown",
   "id": "50eda95a",
   "metadata": {},
   "source": [
    "### Quiero el mejor portafolio posible para cada uno de los rendimientos"
   ]
  },
  {
   "cell_type": "code",
   "execution_count": 24,
   "id": "49404371",
   "metadata": {},
   "outputs": [],
   "source": [
    "# DataFrame de portafolios de la frontera\n",
    "portfolios3 = pd.DataFrame(index=range(N), columns=['w1', 'w2', 'w3', 'media', 'vol'])"
   ]
  },
  {
   "cell_type": "code",
   "execution_count": 25,
   "id": "b9c91bb6",
   "metadata": {},
   "outputs": [],
   "source": [
    "ereq = np.linspace(eind.min(), eind.max(), N)"
   ]
  },
  {
   "cell_type": "code",
   "execution_count": 27,
   "id": "39a4cf24",
   "metadata": {},
   "outputs": [],
   "source": [
    "# Número de portafolios\n",
    "N = 100\n",
    "ereq = np.linspace(eind.min(), eind.max(), N)\n",
    "\n",
    "# Para cada rendimiento entre el mínimo y máximo posible ... ¿cuáles son los pesoso con mínima varianza?\n",
    "for i in range(len(ereq)):\n",
    "    # Restricciones\n",
    "    cons = (\n",
    "        # Rendimiento requerido\n",
    "        {'type': 'eq', 'fun': rendimiento_req, 'args': (eind, ereq[i])},\n",
    "        # Los pesos tienne que ser 1\n",
    "        {'type': 'eq', 'fun': weights_equal_1}\n",
    "    )\n",
    "    # Portafolio de mínima varianza para nivel de rendimiento esperado Ereq[i]\n",
    "    min_var = minimize(fun=varianza,\n",
    "                       x0=np.array([1/3, 1/3, 1/3]),\n",
    "                       args=(sigma,),\n",
    "                       bounds=((0,1), (0,1), (0,1)),\n",
    "                       constraints=cons\n",
    "                      )\n",
    "    # Pesos, rendimientos y volatilidades de los portafolio\n",
    "    portfolios3.loc[i, ['w1','w2','w3']] = min_var.x\n",
    "    portfolios3['media'][i] = eind.dot(min_var.x)\n",
    "    portfolios3['vol'][i] = np.sqrt(varianza(min_var.x, sigma))"
   ]
  },
  {
   "cell_type": "code",
   "execution_count": 28,
   "id": "aae3bc12",
   "metadata": {},
   "outputs": [
    {
     "data": {
      "text/html": [
       "<div>\n",
       "<style scoped>\n",
       "    .dataframe tbody tr th:only-of-type {\n",
       "        vertical-align: middle;\n",
       "    }\n",
       "\n",
       "    .dataframe tbody tr th {\n",
       "        vertical-align: top;\n",
       "    }\n",
       "\n",
       "    .dataframe thead th {\n",
       "        text-align: right;\n",
       "    }\n",
       "</style>\n",
       "<table border=\"1\" class=\"dataframe\">\n",
       "  <thead>\n",
       "    <tr style=\"text-align: right;\">\n",
       "      <th></th>\n",
       "      <th>w1</th>\n",
       "      <th>w2</th>\n",
       "      <th>w3</th>\n",
       "      <th>media</th>\n",
       "      <th>vol</th>\n",
       "    </tr>\n",
       "  </thead>\n",
       "  <tbody>\n",
       "    <tr>\n",
       "      <th>0</th>\n",
       "      <td>1.0</td>\n",
       "      <td>0.0</td>\n",
       "      <td>0.0</td>\n",
       "      <td>0.1355</td>\n",
       "      <td>0.1535</td>\n",
       "    </tr>\n",
       "    <tr>\n",
       "      <th>1</th>\n",
       "      <td>0.983355</td>\n",
       "      <td>0.016645</td>\n",
       "      <td>0.0</td>\n",
       "      <td>0.135736</td>\n",
       "      <td>0.152008</td>\n",
       "    </tr>\n",
       "    <tr>\n",
       "      <th>2</th>\n",
       "      <td>0.966709</td>\n",
       "      <td>0.033291</td>\n",
       "      <td>0.0</td>\n",
       "      <td>0.135973</td>\n",
       "      <td>0.150608</td>\n",
       "    </tr>\n",
       "    <tr>\n",
       "      <th>3</th>\n",
       "      <td>0.950064</td>\n",
       "      <td>0.049936</td>\n",
       "      <td>0.0</td>\n",
       "      <td>0.136209</td>\n",
       "      <td>0.149301</td>\n",
       "    </tr>\n",
       "    <tr>\n",
       "      <th>4</th>\n",
       "      <td>0.933419</td>\n",
       "      <td>0.066581</td>\n",
       "      <td>0.0</td>\n",
       "      <td>0.136445</td>\n",
       "      <td>0.14809</td>\n",
       "    </tr>\n",
       "    <tr>\n",
       "      <th>...</th>\n",
       "      <td>...</td>\n",
       "      <td>...</td>\n",
       "      <td>...</td>\n",
       "      <td>...</td>\n",
       "      <td>...</td>\n",
       "    </tr>\n",
       "    <tr>\n",
       "      <th>96</th>\n",
       "      <td>0.0</td>\n",
       "      <td>0.077075</td>\n",
       "      <td>0.922925</td>\n",
       "      <td>0.158191</td>\n",
       "      <td>0.231206</td>\n",
       "    </tr>\n",
       "    <tr>\n",
       "      <th>97</th>\n",
       "      <td>0.0</td>\n",
       "      <td>0.051383</td>\n",
       "      <td>0.948617</td>\n",
       "      <td>0.158427</td>\n",
       "      <td>0.235001</td>\n",
       "    </tr>\n",
       "    <tr>\n",
       "      <th>98</th>\n",
       "      <td>0.0</td>\n",
       "      <td>0.025692</td>\n",
       "      <td>0.974308</td>\n",
       "      <td>0.158664</td>\n",
       "      <td>0.238935</td>\n",
       "    </tr>\n",
       "    <tr>\n",
       "      <th>99</th>\n",
       "      <td>0.0</td>\n",
       "      <td>0.0</td>\n",
       "      <td>1.0</td>\n",
       "      <td>0.1589</td>\n",
       "      <td>0.243</td>\n",
       "    </tr>\n",
       "    <tr>\n",
       "      <th>100</th>\n",
       "      <td>NaN</td>\n",
       "      <td>NaN</td>\n",
       "      <td>NaN</td>\n",
       "      <td>NaN</td>\n",
       "      <td>NaN</td>\n",
       "    </tr>\n",
       "  </tbody>\n",
       "</table>\n",
       "<p>101 rows × 5 columns</p>\n",
       "</div>"
      ],
      "text/plain": [
       "           w1        w2        w3     media       vol\n",
       "0         1.0       0.0       0.0    0.1355    0.1535\n",
       "1    0.983355  0.016645       0.0  0.135736  0.152008\n",
       "2    0.966709  0.033291       0.0  0.135973  0.150608\n",
       "3    0.950064  0.049936       0.0  0.136209  0.149301\n",
       "4    0.933419  0.066581       0.0  0.136445   0.14809\n",
       "..        ...       ...       ...       ...       ...\n",
       "96        0.0  0.077075  0.922925  0.158191  0.231206\n",
       "97        0.0  0.051383  0.948617  0.158427  0.235001\n",
       "98        0.0  0.025692  0.974308  0.158664  0.238935\n",
       "99        0.0       0.0       1.0    0.1589     0.243\n",
       "100       NaN       NaN       NaN       NaN       NaN\n",
       "\n",
       "[101 rows x 5 columns]"
      ]
     },
     "execution_count": 28,
     "metadata": {},
     "output_type": "execute_result"
    }
   ],
   "source": [
    "# Portafolios de la frontera\n",
    "portfolios3"
   ]
  },
  {
   "cell_type": "code",
   "execution_count": null,
   "id": "a23347d4",
   "metadata": {},
   "outputs": [],
   "source": []
  },
  {
   "cell_type": "markdown",
   "id": "d4041b14",
   "metadata": {},
   "source": [
    "### Portafolio de varianza mínima\n",
    "\n",
    "En este caso, es algo muy similar pero no tenemos que hacer ningún loop y no hay restricción de rendimiento esperado"
   ]
  },
  {
   "cell_type": "code",
   "execution_count": 29,
   "id": "c8b98ded",
   "metadata": {},
   "outputs": [
    {
     "data": {
      "text/plain": [
       " message: Optimization terminated successfully\n",
       " success: True\n",
       "  status: 0\n",
       "     fun: 0.02004726958272075\n",
       "       x: [ 7.346e-01  2.389e-01  2.641e-02]\n",
       "     nit: 7\n",
       "     jac: [ 4.009e-02  4.009e-02  4.009e-02]\n",
       "    nfev: 28\n",
       "    njev: 7"
      ]
     },
     "execution_count": 29,
     "metadata": {},
     "output_type": "execute_result"
    }
   ],
   "source": [
    "# Portafolio de mínima varianza\n",
    "cons = ({'type': 'eq', 'fun': weights_equal_1},)\n",
    "min_var3 = minimize(varianza, \n",
    "                    x0=np.array([1/3, 1/3, 1/3]),\n",
    "                    args=(sigma,),\n",
    "                    bounds=((0,1), (0,1), (0,1)),\n",
    "                    constraints=cons)\n",
    "min_var3"
   ]
  },
  {
   "cell_type": "code",
   "execution_count": 30,
   "id": "a182ba27",
   "metadata": {},
   "outputs": [],
   "source": [
    "w_minvar3 = min_var3.x\n",
    "e_minvar3 = eind.dot(w_minvar3)\n",
    "s_minvar3 = np.sqrt(varianza(w_minvar3, sigma))"
   ]
  },
  {
   "cell_type": "code",
   "execution_count": 31,
   "id": "9890463d",
   "metadata": {},
   "outputs": [
    {
     "data": {
      "image/png": "[encoded data removed]",
      "text/plain": [
       "<Figure size 640x480 with 1 Axes>"
      ]
     },
     "metadata": {},
     "output_type": "display_data"
    }
   ],
   "source": [
    "# Grafica ambos portafolios, ¿que concluyes?\n",
    "plt.plot(portafolios2.vol, portafolios2.media, label='2 activos', c='slategray')\n",
    "plt.plot(portfolios3.vol, portfolios3.media, label='3 activos', c='navy')\n",
    "plt.legend()\n",
    "plt.grid()"
   ]
  },
  {
   "cell_type": "markdown",
   "id": "f53a4f18",
   "metadata": {},
   "source": [
    "**Conclusión.** Mayor diversificación.\n"
   ]
  },
  {
   "cell_type": "markdown",
   "id": "544869a4",
   "metadata": {},
   "source": [
    "## 4. Comentarios acerca de la Teoría Moderna de Portafolios.\n",
    "\n",
    "- Todo lo anterior es un abrebocas de lo que llamamos análisis de media-varianza, y que es la base de la teoría moderna de portafolios.\n",
    "- El análisis de media-varianza transformó el mundo de las inversiones cuando fué presentada por primera vez.\n",
    "- Claro, tiene ciertas limitaciones, pero se mantiene como una de las ideas principales en la selección óptima de portafolios."
   ]
  },
  {
   "cell_type": "markdown",
   "id": "264b9d7e",
   "metadata": {},
   "source": [
    "### Historia.\n",
    "\n",
    "1. Fue presentada por primera vez por Harry Markowitz en 1950. Acá su [artículo](https://www.google.com/url?sa=t&rct=j&q=&esrc=s&source=web&cd=1&ved=2ahUKEwjd0cOTx8XdAhUVo4MKHcLoBhcQFjAAegQICBAC&url=https%3A%2F%2Fwww.math.ust.hk%2F~maykwok%2Fcourses%2Fma362%2F07F%2Fmarkowitz_JF.pdf&usg=AOvVaw3d29hQoNJVqXvC8zPuixYG).\n",
    "2. Era un joven estudiante de Doctorado en la Universidad de Chicago.\n",
    "3. Publicó su tesis doctoral en selección de portafolios en \"Journal of Finance\" en 1952.\n",
    "4. Su contribución transformó por completo la forma en la que entendemos el riesgo.\n",
    "5. Básicamente obtuvo una teoría que analiza como los inversionistas deberían escoger de manera óptima sus portafolios, en otras palabras, cómo distribuir la riqueza de manera óptima en diferentes activos.\n",
    "6. Casi 40 años después, Markowitz ganó el Premio Nobel en economía por esta idea."
   ]
  },
  {
   "cell_type": "markdown",
   "id": "a25a33fb",
   "metadata": {},
   "source": [
    "- En el siguiente módulo revisaremos cómo elegir portafolios óptimos como si los inversionistas sólo se preocuparan por medias y varianzas.\n",
    "- ¿Qué pasa si un inversionista también se preocupa por otros momentos (asimetría, curtosis...)?\n",
    "- La belleza del análisis media-varianza es que cuando combinamos activos correlacionados imperfectamente, las varianzas siempre decrecen (no sabemos que pasa con otras medidas de riesgo).\n",
    "- Si a un inversionista le preocupan otras medidas de riesgo, el análisis media-varianza no es el camino."
   ]
  },
  {
   "cell_type": "markdown",
   "id": "c47ac901",
   "metadata": {},
   "source": [
    "- Además, si eres una persona que le gusta el riesgo: quieres encontrar la próxima compañía top que apenas va arrancando (como Google en los 2000) e invertir todo en ella para generar ganancias extraordinarias; entonces la diversificación no es tampoco el camino.\n",
    "- La diversificación, por definición, elimina el riesgo idiosincrático (de cada compañía), y por tanto elimina estos rendimientos altísimos que brindaría un portafolio altamente concentrado."
   ]
  }
 ],
 "metadata": {
  "kernelspec": {
   "display_name": "Python 3 (ipykernel)",
   "language": "python",
   "name": "python3"
  },
  "language_info": {
   "codemirror_mode": {
    "name": "ipython",
    "version": 3
   },
   "file_extension": ".py",
   "mimetype": "text/x-python",
   "name": "python",
   "nbconvert_exporter": "python",
   "pygments_lexer": "ipython3",
   "version": "3.11.4"
  }
 },
 "nbformat": 4,
 "nbformat_minor": 5
}
