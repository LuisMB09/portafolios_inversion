{
 "cells": [
  {
   "cell_type": "markdown",
   "metadata": {},
   "source": [
    "# Tarea 4. Construyendo la frontera de mínima varianza para dos activos.\n",
    "\n",
    "<img style=\"float: right; margin: 0px 0px 15px 15px;\" src=\"https://upload.wikimedia.org/wikipedia/commons/0/08/Pareto_Efficient_Frontier_for_the_Markowitz_Portfolio_selection_problem..png\" width=\"600px\" height=\"400px\" />\n",
    "\n",
    "**Resumen.**\n",
    "> En esta tarea, construirás la frontera de mínima varianza para dos activos riesgosos usando los datos de mercados internacionales que usamos en la clase 10.\n",
    "\n",
    "> Construirás portafolios que consisten de dos activos riesgosos, graficarás la frontera de mínima varianza y encontrarás el portafolio de mínima varianza. Repetirás luego el ejercicio para otro par de activos y compararás los beneficios de diversificación en cada caso.\n",
    "\n",
    "> Por favor, revisar la clase 10 para los datos. \n",
    "\n",
    "**Criterio de revisión.**\n",
    "> Se te calificará de acuerdo a los resultados finales que reportes, basados en tu análisis.\n",
    "\n",
    "**Antes de comenzar.**\n",
    "> Por favor, copiar y pegar este archivo en otra ubicación. Antes de comenzar, nombrarlo *Tarea5_ApellidoNombre*, sin acentos y sin espacios; por ejemplo, en mi caso el archivo se llamaría *Tarea5_JimenezEsteban*. Resolver todos los puntos en dicho archivo y subir en este espacio."
   ]
  },
  {
   "cell_type": "markdown",
   "metadata": {},
   "source": [
    "## 1. Datos (10 puntos)\n",
    "\n",
    "Copiar y pegar los datos de rendimientos esperados, volatilidades y correlaciones de mercados internacionales brindados en la Clase 9.\n",
    "\n",
    "1. Mostrar los DataFrame con los datos (5 puntos).\n",
    "2. Graficar en el espacio de rendimiento esperado contra volatilidad cada uno de los activos (5 puntos)."
   ]
  },
  {
   "cell_type": "code",
   "execution_count": 1,
   "metadata": {},
   "outputs": [],
   "source": [
    "import pandas as pd\n",
    "import numpy as np\n",
    "import matplotlib.pyplot as plt"
   ]
  },
  {
   "cell_type": "code",
   "execution_count": 2,
   "metadata": {},
   "outputs": [
    {
     "data": {
      "text/html": [
       "<div>\n",
       "<style scoped>\n",
       "    .dataframe tbody tr th:only-of-type {\n",
       "        vertical-align: middle;\n",
       "    }\n",
       "\n",
       "    .dataframe tbody tr th {\n",
       "        vertical-align: top;\n",
       "    }\n",
       "\n",
       "    .dataframe thead th {\n",
       "        text-align: right;\n",
       "    }\n",
       "</style>\n",
       "<table border=\"1\" class=\"dataframe\">\n",
       "  <thead>\n",
       "    <tr style=\"text-align: right;\">\n",
       "      <th></th>\n",
       "      <th>EU</th>\n",
       "      <th>RU</th>\n",
       "      <th>Francia</th>\n",
       "      <th>Alemania</th>\n",
       "      <th>Japon</th>\n",
       "    </tr>\n",
       "  </thead>\n",
       "  <tbody>\n",
       "    <tr>\n",
       "      <th>Media</th>\n",
       "      <td>0.1355</td>\n",
       "      <td>0.1589</td>\n",
       "      <td>0.1519</td>\n",
       "      <td>0.1435</td>\n",
       "      <td>0.1497</td>\n",
       "    </tr>\n",
       "    <tr>\n",
       "      <th>Volatilidad</th>\n",
       "      <td>0.1535</td>\n",
       "      <td>0.243</td>\n",
       "      <td>0.2324</td>\n",
       "      <td>0.2038</td>\n",
       "      <td>0.2298</td>\n",
       "    </tr>\n",
       "  </tbody>\n",
       "</table>\n",
       "</div>"
      ],
      "text/plain": [
       "                 EU      RU Francia Alemania   Japon\n",
       "Media        0.1355  0.1589  0.1519   0.1435  0.1497\n",
       "Volatilidad  0.1535   0.243  0.2324   0.2038  0.2298"
      ]
     },
     "execution_count": 2,
     "metadata": {},
     "output_type": "execute_result"
    }
   ],
   "source": [
    "annual_ret_summ = pd.DataFrame(columns=['EU', 'RU', 'Francia', 'Alemania', 'Japon'], index=['Media', 'Volatilidad'])\n",
    "annual_ret_summ.loc['Media'] = np.array([0.1355, 0.1589, 0.1519, 0.1435, 0.1497])\n",
    "annual_ret_summ.loc['Volatilidad'] = np.array([0.1535, 0.2430, 0.2324, 0.2038, 0.2298])\n",
    "\n",
    "annual_ret_summ.round(4)"
   ]
  },
  {
   "cell_type": "code",
   "execution_count": 3,
   "metadata": {},
   "outputs": [
    {
     "data": {
      "text/html": [
       "<div>\n",
       "<style scoped>\n",
       "    .dataframe tbody tr th:only-of-type {\n",
       "        vertical-align: middle;\n",
       "    }\n",
       "\n",
       "    .dataframe tbody tr th {\n",
       "        vertical-align: top;\n",
       "    }\n",
       "\n",
       "    .dataframe thead th {\n",
       "        text-align: right;\n",
       "    }\n",
       "</style>\n",
       "<table border=\"1\" class=\"dataframe\">\n",
       "  <thead>\n",
       "    <tr style=\"text-align: right;\">\n",
       "      <th></th>\n",
       "      <th>EU</th>\n",
       "      <th>RU</th>\n",
       "      <th>Francia</th>\n",
       "      <th>Alemania</th>\n",
       "      <th>Japon</th>\n",
       "    </tr>\n",
       "  </thead>\n",
       "  <tbody>\n",
       "    <tr>\n",
       "      <th>EU</th>\n",
       "      <td>1.0000</td>\n",
       "      <td>0.5003</td>\n",
       "      <td>0.4398</td>\n",
       "      <td>0.3681</td>\n",
       "      <td>0.2663</td>\n",
       "    </tr>\n",
       "    <tr>\n",
       "      <th>RU</th>\n",
       "      <td>0.5003</td>\n",
       "      <td>1.0000</td>\n",
       "      <td>0.5420</td>\n",
       "      <td>0.4265</td>\n",
       "      <td>0.3581</td>\n",
       "    </tr>\n",
       "    <tr>\n",
       "      <th>Francia</th>\n",
       "      <td>0.4398</td>\n",
       "      <td>0.5420</td>\n",
       "      <td>1.0000</td>\n",
       "      <td>0.6032</td>\n",
       "      <td>0.3923</td>\n",
       "    </tr>\n",
       "    <tr>\n",
       "      <th>Alemania</th>\n",
       "      <td>0.3681</td>\n",
       "      <td>0.4265</td>\n",
       "      <td>0.6032</td>\n",
       "      <td>1.0000</td>\n",
       "      <td>0.3663</td>\n",
       "    </tr>\n",
       "    <tr>\n",
       "      <th>Japon</th>\n",
       "      <td>0.2663</td>\n",
       "      <td>0.3581</td>\n",
       "      <td>0.3923</td>\n",
       "      <td>0.3663</td>\n",
       "      <td>1.0000</td>\n",
       "    </tr>\n",
       "  </tbody>\n",
       "</table>\n",
       "</div>"
      ],
      "text/plain": [
       "              EU      RU  Francia  Alemania   Japon\n",
       "EU        1.0000  0.5003   0.4398    0.3681  0.2663\n",
       "RU        0.5003  1.0000   0.5420    0.4265  0.3581\n",
       "Francia   0.4398  0.5420   1.0000    0.6032  0.3923\n",
       "Alemania  0.3681  0.4265   0.6032    1.0000  0.3663\n",
       "Japon     0.2663  0.3581   0.3923    0.3663  1.0000"
      ]
     },
     "execution_count": 3,
     "metadata": {},
     "output_type": "execute_result"
    }
   ],
   "source": [
    "corr = pd.DataFrame(data= np.array([[1.0000, 0.5003, 0.4398, 0.3681, 0.2663],\n",
    "                                    [0.5003, 1.0000, 0.5420, 0.4265, 0.3581],\n",
    "                                    [0.4398, 0.5420, 1.0000, 0.6032, 0.3923],\n",
    "                                    [0.3681, 0.4265, 0.6032, 1.0000, 0.3663],\n",
    "                                    [0.2663, 0.3581, 0.3923, 0.3663, 1.0000]]),\n",
    "                    columns=annual_ret_summ.columns, index=annual_ret_summ.columns)\n",
    "corr.round(4)"
   ]
  },
  {
   "cell_type": "code",
   "execution_count": 4,
   "metadata": {},
   "outputs": [
    {
     "data": {
      "image/png": "[encoded data removed]",
      "text/plain": [
       "<Figure size 640x480 with 1 Axes>"
      ]
     },
     "metadata": {},
     "output_type": "display_data"
    }
   ],
   "source": [
    "paises = annual_ret_summ.keys()\n",
    "for i in paises:\n",
    "    plt.scatter(annual_ret_summ[i]['Volatilidad'], annual_ret_summ[i]['Media'])\n",
    "    plt.text(annual_ret_summ[i]['Volatilidad'], annual_ret_summ[i]['Media'], i)\n",
    "\n",
    "plt.title('Rendimiento vs Volatilidad')\n",
    "plt.xlabel('Volatilidad $\\sigma$')\n",
    "plt.ylabel('Rendimiento $E[X]$')\n",
    "plt.grid()"
   ]
  },
  {
   "cell_type": "markdown",
   "metadata": {},
   "source": [
    "## 2. Portafolios con Japón y Reino Unido (30 puntos)\n",
    "\n",
    "Usando los datos del punto anterior:\n",
    "\n",
    "1. Construya la frontera de mínima varianza que representa las posibles combinaciones de portafolios que se pueden crear con los mercados Japoneses y del Reino Unido como activos riesgosos. Puedes pensar en ellos como índices de mercado. Reportar los rendimientos esperados y las volatilidades de estos portafolios en un DataFrame (15 puntos).\n",
    "2. Encontrar los pesos del portafolio de mínima varianza. ¿Cuáles son el rendimiento esperado y volatilidad del portafolio de mínima varianza? (15 puntos)."
   ]
  },
  {
   "cell_type": "code",
   "execution_count": 5,
   "metadata": {},
   "outputs": [
    {
     "data": {
      "text/plain": [
       "array([[0.1535, 0.    , 0.    , 0.    , 0.    ],\n",
       "       [0.    , 0.243 , 0.    , 0.    , 0.    ],\n",
       "       [0.    , 0.    , 0.2324, 0.    , 0.    ],\n",
       "       [0.    , 0.    , 0.    , 0.2038, 0.    ],\n",
       "       [0.    , 0.    , 0.    , 0.    , 0.2298]])"
      ]
     },
     "execution_count": 5,
     "metadata": {},
     "output_type": "execute_result"
    }
   ],
   "source": [
    "# Crear matriz diagonal con la info de las volatilidades individuales, tipo float\n",
    "S = np.diag(annual_ret_summ.loc['Volatilidad']).astype(float)\n",
    "S"
   ]
  },
  {
   "cell_type": "code",
   "execution_count": 6,
   "metadata": {},
   "outputs": [
    {
     "data": {
      "text/plain": [
       "array([[0.02356225, 0.01866144, 0.01568916, 0.01151538, 0.00939355],\n",
       "       [0.01866144, 0.059049  , 0.03060847, 0.02112173, 0.01999681],\n",
       "       [0.01568916, 0.03060847, 0.05400976, 0.02856943, 0.02095099],\n",
       "       [0.01151538, 0.02112173, 0.02856943, 0.04153444, 0.01715502],\n",
       "       [0.00939355, 0.01999681, 0.02095099, 0.01715502, 0.05280804]])"
      ]
     },
     "execution_count": 6,
     "metadata": {},
     "output_type": "execute_result"
    }
   ],
   "source": [
    "# A partir de la matriz anterior y la matriz de correlación:\n",
    "sigma = S.dot(corr).dot(S)\n",
    "sigma"
   ]
  },
  {
   "cell_type": "code",
   "execution_count": 7,
   "metadata": {},
   "outputs": [],
   "source": [
    "# Vector de w variando entre 0 y 1 con N pasos\n",
    "N = 101\n",
    "w = np.linspace(0, 1, N)\n",
    "\n",
    "# Rendimientos esperados individuales\n",
    "# Activo1: EU, Activo2: Japon\n",
    "\n",
    "# Rendimientos esperados individuales\n",
    "e_jp = annual_ret_summ['Japon']['Media']\n",
    "e_ru = annual_ret_summ['RU']['Media']\n",
    "\n",
    "# Volatilidades individuales\n",
    "vol_jp = annual_ret_summ['Japon']['Volatilidad']\n",
    "vol_ru = annual_ret_summ['RU']['Volatilidad']\n",
    "\n",
    "# Correlacion\n",
    "corr_jp_ru = corr['Japon']['RU']\n",
    "\n",
    "# Covarianza\n",
    "covariance_jp_ru = corr_jp_ru * vol_jp * vol_ru"
   ]
  },
  {
   "cell_type": "code",
   "execution_count": 8,
   "metadata": {},
   "outputs": [
    {
     "data": {
      "text/html": [
       "<div>\n",
       "<style scoped>\n",
       "    .dataframe tbody tr th:only-of-type {\n",
       "        vertical-align: middle;\n",
       "    }\n",
       "\n",
       "    .dataframe tbody tr th {\n",
       "        vertical-align: top;\n",
       "    }\n",
       "\n",
       "    .dataframe thead th {\n",
       "        text-align: right;\n",
       "    }\n",
       "</style>\n",
       "<table border=\"1\" class=\"dataframe\">\n",
       "  <thead>\n",
       "    <tr style=\"text-align: right;\">\n",
       "      <th></th>\n",
       "      <th>w_jp</th>\n",
       "      <th>w_ru</th>\n",
       "      <th>media</th>\n",
       "      <th>vol</th>\n",
       "    </tr>\n",
       "  </thead>\n",
       "  <tbody>\n",
       "    <tr>\n",
       "      <th>0</th>\n",
       "      <td>0.00</td>\n",
       "      <td>1.00</td>\n",
       "      <td>0.158900</td>\n",
       "      <td>0.243000</td>\n",
       "    </tr>\n",
       "    <tr>\n",
       "      <th>1</th>\n",
       "      <td>0.01</td>\n",
       "      <td>0.99</td>\n",
       "      <td>0.158808</td>\n",
       "      <td>0.241402</td>\n",
       "    </tr>\n",
       "    <tr>\n",
       "      <th>2</th>\n",
       "      <td>0.02</td>\n",
       "      <td>0.98</td>\n",
       "      <td>0.158716</td>\n",
       "      <td>0.239824</td>\n",
       "    </tr>\n",
       "    <tr>\n",
       "      <th>3</th>\n",
       "      <td>0.03</td>\n",
       "      <td>0.97</td>\n",
       "      <td>0.158624</td>\n",
       "      <td>0.238266</td>\n",
       "    </tr>\n",
       "    <tr>\n",
       "      <th>4</th>\n",
       "      <td>0.04</td>\n",
       "      <td>0.96</td>\n",
       "      <td>0.158532</td>\n",
       "      <td>0.236727</td>\n",
       "    </tr>\n",
       "    <tr>\n",
       "      <th>...</th>\n",
       "      <td>...</td>\n",
       "      <td>...</td>\n",
       "      <td>...</td>\n",
       "      <td>...</td>\n",
       "    </tr>\n",
       "    <tr>\n",
       "      <th>96</th>\n",
       "      <td>0.96</td>\n",
       "      <td>0.04</td>\n",
       "      <td>0.150068</td>\n",
       "      <td>0.224272</td>\n",
       "    </tr>\n",
       "    <tr>\n",
       "      <th>97</th>\n",
       "      <td>0.97</td>\n",
       "      <td>0.03</td>\n",
       "      <td>0.149976</td>\n",
       "      <td>0.225619</td>\n",
       "    </tr>\n",
       "    <tr>\n",
       "      <th>98</th>\n",
       "      <td>0.98</td>\n",
       "      <td>0.02</td>\n",
       "      <td>0.149884</td>\n",
       "      <td>0.226990</td>\n",
       "    </tr>\n",
       "    <tr>\n",
       "      <th>99</th>\n",
       "      <td>0.99</td>\n",
       "      <td>0.01</td>\n",
       "      <td>0.149792</td>\n",
       "      <td>0.228383</td>\n",
       "    </tr>\n",
       "    <tr>\n",
       "      <th>100</th>\n",
       "      <td>1.00</td>\n",
       "      <td>0.00</td>\n",
       "      <td>0.149700</td>\n",
       "      <td>0.229800</td>\n",
       "    </tr>\n",
       "  </tbody>\n",
       "</table>\n",
       "<p>101 rows × 4 columns</p>\n",
       "</div>"
      ],
      "text/plain": [
       "     w_jp  w_ru     media       vol\n",
       "0    0.00  1.00  0.158900  0.243000\n",
       "1    0.01  0.99  0.158808  0.241402\n",
       "2    0.02  0.98  0.158716  0.239824\n",
       "3    0.03  0.97  0.158624  0.238266\n",
       "4    0.04  0.96  0.158532  0.236727\n",
       "..    ...   ...       ...       ...\n",
       "96   0.96  0.04  0.150068  0.224272\n",
       "97   0.97  0.03  0.149976  0.225619\n",
       "98   0.98  0.02  0.149884  0.226990\n",
       "99   0.99  0.01  0.149792  0.228383\n",
       "100  1.00  0.00  0.149700  0.229800\n",
       "\n",
       "[101 rows x 4 columns]"
      ]
     },
     "execution_count": 8,
     "metadata": {},
     "output_type": "execute_result"
    }
   ],
   "source": [
    "portafolios = pd.DataFrame({\n",
    "    'w_jp': w,\n",
    "    'w_ru': 1 -w,\n",
    "    'media': w * e_jp + (1-w) * e_ru,\n",
    "    'vol': np.sqrt(w**2 * vol_jp**2 + (1-w)**2 * vol_ru**2 + 2*w*(1-w)*covariance_jp_ru)\n",
    "\n",
    "})\n",
    "portafolios"
   ]
  },
  {
   "cell_type": "code",
   "execution_count": 9,
   "metadata": {},
   "outputs": [],
   "source": [
    "portafolio_varianza_minima = portafolios[portafolios.vol == portafolios.vol.min()]"
   ]
  },
  {
   "cell_type": "code",
   "execution_count": 10,
   "metadata": {},
   "outputs": [
    {
     "data": {
      "image/png": "[encoded data removed]",
      "text/plain": [
       "<Figure size 640x480 with 1 Axes>"
      ]
     },
     "metadata": {},
     "output_type": "display_data"
    }
   ],
   "source": [
    "plt.scatter(portafolios.vol, portafolios.media, s=8, c='navy')\n",
    "plt.scatter(portafolio_varianza_minima.vol, portafolio_varianza_minima.media, c='slategray')\n",
    "plt.text(portafolio_varianza_minima.vol, portafolio_varianza_minima.media, 'min_var')\n",
    "\n",
    "plt.title('Rendimiento vs Volatilidad de los Portafolios')\n",
    "plt.xlabel('Volatilidad $\\sigma$')\n",
    "plt.ylabel('Rendimiento $E[X]$')\n",
    "plt.grid()"
   ]
  },
  {
   "cell_type": "code",
   "execution_count": 11,
   "metadata": {},
   "outputs": [
    {
     "data": {
      "text/plain": [
       "(0.5434223641917344, 0.4565776358082656)"
      ]
     },
     "execution_count": 11,
     "metadata": {},
     "output_type": "execute_result"
    }
   ],
   "source": [
    "w_min_var_jp = (vol_ru**2 - covariance_jp_ru) / (vol_ru**2 + vol_jp**2 - 2 * covariance_jp_ru)\n",
    "w_min_var_ru = 1 - w_min_var_jp\n",
    "w_min_var_jp, w_min_var_ru"
   ]
  },
  {
   "cell_type": "code",
   "execution_count": 12,
   "metadata": {},
   "outputs": [],
   "source": [
    "from scipy.optimize import minimize\n",
    "# Función objetivo\n",
    "def var2(w, s1, s2, s12):\n",
    "    return w**2 * s1**2 + (1 - w)**2 * s2**2 + 2 * w * (1 - w) * s12\n",
    "\n",
    "# Solución\n",
    "minvar_num = minimize(\n",
    "    fun=var2,\n",
    "    x0=0.1,\n",
    "    args=(vol_jp, vol_ru, covariance_jp_ru),\n",
    "    bounds=((0,1),)\n",
    ")"
   ]
  },
  {
   "cell_type": "code",
   "execution_count": 13,
   "metadata": {},
   "outputs": [
    {
     "data": {
      "text/plain": [
       "array([0.5434223])"
      ]
     },
     "execution_count": 13,
     "metadata": {},
     "output_type": "execute_result"
    }
   ],
   "source": [
    "w_min_var = minvar_num['x']\n",
    "w_min_var"
   ]
  },
  {
   "cell_type": "code",
   "execution_count": 14,
   "metadata": {},
   "outputs": [
    {
     "data": {
      "text/plain": [
       "array([0.15390051])"
      ]
     },
     "execution_count": 14,
     "metadata": {},
     "output_type": "execute_result"
    }
   ],
   "source": [
    "w_min_var * e_jp + (1-w_min_var) * e_ru"
   ]
  },
  {
   "cell_type": "code",
   "execution_count": 15,
   "metadata": {},
   "outputs": [
    {
     "data": {
      "text/plain": [
       "array([0.19449207])"
      ]
     },
     "execution_count": 15,
     "metadata": {},
     "output_type": "execute_result"
    }
   ],
   "source": [
    "np.sqrt(w_min_var**2 * vol_jp**2 + (1-w_min_var)**2 * vol_ru**2 + 2*w_min_var*(1-w_min_var) * covariance_jp_ru)"
   ]
  },
  {
   "cell_type": "markdown",
   "metadata": {},
   "source": [
    "**Encontrar los pesos del portafolio de mínima varianza. ¿Cuáles son el rendimiento esperado y volatilidad del portafolio de mínima varianza?**\n",
    "\n",
    "Los pesos del portafolio de mínima varianza son:\n",
    "* Japón: 54.35%\n",
    "* RU: 45.65%\n",
    "\n",
    "Rendimiento de portafolio de mínima varianza: \n",
    "15.39%\n",
    "\n",
    "Volatilidad de portafolio de mínima varianza: \n",
    "19.44%"
   ]
  },
  {
   "cell_type": "markdown",
   "metadata": {},
   "source": [
    "## 3. Mismos activos, distinta correlación (30 puntos)\n",
    "\n",
    "En este punto se usarán los mismos activos (Japón y Reino Unido) con sus rendimientos esperados y volatilidades, solo que supondremos que el coeficiente de correlación entre sus rendimiento es de 0.5.\n",
    "\n",
    "1. Nuevamente, construya la frontera de mínima varianza para estos dos activos con el nuevo supuesto de correlación. Reportar los rendimientos esperados y las volatilidades de estos portafolios en un DataFrame (15 puntos).\n",
    "2. Encontrar los pesos del portafolio de mínima varianza. ¿Cuáles son el rendimiento esperado y volatilidad del portafolio de mínima varianza? (15 puntos)."
   ]
  },
  {
   "cell_type": "code",
   "execution_count": 16,
   "metadata": {},
   "outputs": [],
   "source": [
    "# Vector de w variando entre 0 y 1 con N pasos\n",
    "N = 101\n",
    "w = np.linspace(0, 1, N)\n",
    "\n",
    "# Rendimientos esperados individuales\n",
    "# Activo1: EU, Activo2: Japon\n",
    "\n",
    "# Rendimientos esperados individuales\n",
    "e_jp = annual_ret_summ['Japon']['Media']\n",
    "e_ru = annual_ret_summ['RU']['Media']\n",
    "\n",
    "# Volatilidades individuales\n",
    "vol_jp = annual_ret_summ['Japon']['Volatilidad']\n",
    "vol_ru = annual_ret_summ['RU']['Volatilidad']\n",
    "\n",
    "# Correlacion\n",
    "corr_jp_ru2 = 0.5\n",
    "\n",
    "# Covarianza\n",
    "covariance_jp_ru2 = corr_jp_ru2 * vol_jp * vol_ru"
   ]
  },
  {
   "cell_type": "code",
   "execution_count": 17,
   "metadata": {},
   "outputs": [
    {
     "data": {
      "text/html": [
       "<div>\n",
       "<style scoped>\n",
       "    .dataframe tbody tr th:only-of-type {\n",
       "        vertical-align: middle;\n",
       "    }\n",
       "\n",
       "    .dataframe tbody tr th {\n",
       "        vertical-align: top;\n",
       "    }\n",
       "\n",
       "    .dataframe thead th {\n",
       "        text-align: right;\n",
       "    }\n",
       "</style>\n",
       "<table border=\"1\" class=\"dataframe\">\n",
       "  <thead>\n",
       "    <tr style=\"text-align: right;\">\n",
       "      <th></th>\n",
       "      <th>w_jp</th>\n",
       "      <th>w_ru</th>\n",
       "      <th>media</th>\n",
       "      <th>vol</th>\n",
       "    </tr>\n",
       "  </thead>\n",
       "  <tbody>\n",
       "    <tr>\n",
       "      <th>0</th>\n",
       "      <td>0.00</td>\n",
       "      <td>1.00</td>\n",
       "      <td>0.158900</td>\n",
       "      <td>0.243000</td>\n",
       "    </tr>\n",
       "    <tr>\n",
       "      <th>1</th>\n",
       "      <td>0.01</td>\n",
       "      <td>0.99</td>\n",
       "      <td>0.158808</td>\n",
       "      <td>0.241727</td>\n",
       "    </tr>\n",
       "    <tr>\n",
       "      <th>2</th>\n",
       "      <td>0.02</td>\n",
       "      <td>0.98</td>\n",
       "      <td>0.158716</td>\n",
       "      <td>0.240471</td>\n",
       "    </tr>\n",
       "    <tr>\n",
       "      <th>3</th>\n",
       "      <td>0.03</td>\n",
       "      <td>0.97</td>\n",
       "      <td>0.158624</td>\n",
       "      <td>0.239232</td>\n",
       "    </tr>\n",
       "    <tr>\n",
       "      <th>4</th>\n",
       "      <td>0.04</td>\n",
       "      <td>0.96</td>\n",
       "      <td>0.158532</td>\n",
       "      <td>0.238009</td>\n",
       "    </tr>\n",
       "    <tr>\n",
       "      <th>...</th>\n",
       "      <td>...</td>\n",
       "      <td>...</td>\n",
       "      <td>...</td>\n",
       "      <td>...</td>\n",
       "    </tr>\n",
       "    <tr>\n",
       "      <th>96</th>\n",
       "      <td>0.96</td>\n",
       "      <td>0.04</td>\n",
       "      <td>0.150068</td>\n",
       "      <td>0.225625</td>\n",
       "    </tr>\n",
       "    <tr>\n",
       "      <th>97</th>\n",
       "      <td>0.97</td>\n",
       "      <td>0.03</td>\n",
       "      <td>0.149976</td>\n",
       "      <td>0.226639</td>\n",
       "    </tr>\n",
       "    <tr>\n",
       "      <th>98</th>\n",
       "      <td>0.98</td>\n",
       "      <td>0.02</td>\n",
       "      <td>0.149884</td>\n",
       "      <td>0.227673</td>\n",
       "    </tr>\n",
       "    <tr>\n",
       "      <th>99</th>\n",
       "      <td>0.99</td>\n",
       "      <td>0.01</td>\n",
       "      <td>0.149792</td>\n",
       "      <td>0.228727</td>\n",
       "    </tr>\n",
       "    <tr>\n",
       "      <th>100</th>\n",
       "      <td>1.00</td>\n",
       "      <td>0.00</td>\n",
       "      <td>0.149700</td>\n",
       "      <td>0.229800</td>\n",
       "    </tr>\n",
       "  </tbody>\n",
       "</table>\n",
       "<p>101 rows × 4 columns</p>\n",
       "</div>"
      ],
      "text/plain": [
       "     w_jp  w_ru     media       vol\n",
       "0    0.00  1.00  0.158900  0.243000\n",
       "1    0.01  0.99  0.158808  0.241727\n",
       "2    0.02  0.98  0.158716  0.240471\n",
       "3    0.03  0.97  0.158624  0.239232\n",
       "4    0.04  0.96  0.158532  0.238009\n",
       "..    ...   ...       ...       ...\n",
       "96   0.96  0.04  0.150068  0.225625\n",
       "97   0.97  0.03  0.149976  0.226639\n",
       "98   0.98  0.02  0.149884  0.227673\n",
       "99   0.99  0.01  0.149792  0.228727\n",
       "100  1.00  0.00  0.149700  0.229800\n",
       "\n",
       "[101 rows x 4 columns]"
      ]
     },
     "execution_count": 17,
     "metadata": {},
     "output_type": "execute_result"
    }
   ],
   "source": [
    "portafolios2 = pd.DataFrame({\n",
    "    'w_jp': w,\n",
    "    'w_ru': 1 -w,\n",
    "    'media': w * e_jp + (1-w) * e_ru,\n",
    "    'vol': np.sqrt(w**2 * vol_jp**2 + (1-w)**2 * vol_ru**2 + 2*w*(1-w)*covariance_jp_ru2)\n",
    "\n",
    "})\n",
    "portafolios2"
   ]
  },
  {
   "cell_type": "code",
   "execution_count": 18,
   "metadata": {},
   "outputs": [],
   "source": [
    "portafolio_varianza_minima2 = portafolios2[portafolios2.vol == portafolios2.vol.min()]"
   ]
  },
  {
   "cell_type": "code",
   "execution_count": 19,
   "metadata": {},
   "outputs": [
    {
     "data": {
      "image/png": "[encoded data removed]",
      "text/plain": [
       "<Figure size 640x480 with 1 Axes>"
      ]
     },
     "metadata": {},
     "output_type": "display_data"
    }
   ],
   "source": [
    "plt.scatter(portafolios2.vol, portafolios2.media, s=8, c='navy')\n",
    "plt.scatter(portafolio_varianza_minima2.vol, portafolio_varianza_minima2.media, c='slategray')\n",
    "plt.text(portafolio_varianza_minima2.vol, portafolio_varianza_minima2.media, 'min_var')\n",
    "\n",
    "plt.title('Rendimiento vs Volatilidad de los Portafolios (Corr = 0.5)')\n",
    "plt.xlabel('Volatilidad $\\sigma$')\n",
    "plt.ylabel('Rendimiento $E[X]$')\n",
    "plt.grid()"
   ]
  },
  {
   "cell_type": "code",
   "execution_count": 20,
   "metadata": {},
   "outputs": [
    {
     "data": {
      "text/plain": [
       "(0.5557072988900957, 0.44429270110990426)"
      ]
     },
     "execution_count": 20,
     "metadata": {},
     "output_type": "execute_result"
    }
   ],
   "source": [
    "w_min_var_jp2 = (vol_ru**2 - covariance_jp_ru2) / (vol_ru**2 + vol_jp**2 - 2 * covariance_jp_ru2)\n",
    "w_min_var_ru2 = 1 - w_min_var_jp2\n",
    "w_min_var_jp2, w_min_var_ru2"
   ]
  },
  {
   "cell_type": "code",
   "execution_count": 21,
   "metadata": {},
   "outputs": [],
   "source": [
    "from scipy.optimize import minimize\n",
    "# Función objetivo\n",
    "def var2(w, s1, s2, s12):\n",
    "    return w**2 * s1**2 + (1 - w)**2 * s2**2 + 2 * w * (1 - w) * s12\n",
    "\n",
    "# Solución\n",
    "minvar_num2 = minimize(\n",
    "    fun=var2,\n",
    "    x0=0.1,\n",
    "    args=(vol_jp, vol_ru, covariance_jp_ru2),\n",
    "    bounds=((0,1),)\n",
    ")"
   ]
  },
  {
   "cell_type": "code",
   "execution_count": 22,
   "metadata": {},
   "outputs": [
    {
     "data": {
      "text/plain": [
       "array([0.55570714])"
      ]
     },
     "execution_count": 22,
     "metadata": {},
     "output_type": "execute_result"
    }
   ],
   "source": [
    "w_min_var2 = minvar_num2['x']\n",
    "w_min_var2"
   ]
  },
  {
   "cell_type": "code",
   "execution_count": 23,
   "metadata": {},
   "outputs": [
    {
     "data": {
      "text/plain": [
       "array([0.15378749])"
      ]
     },
     "execution_count": 23,
     "metadata": {},
     "output_type": "execute_result"
    }
   ],
   "source": [
    "w_min_var2 * e_jp + (1-w_min_var2) * e_ru"
   ]
  },
  {
   "cell_type": "code",
   "execution_count": 24,
   "metadata": {},
   "outputs": [
    {
     "data": {
      "text/plain": [
       "array([0.20433007])"
      ]
     },
     "execution_count": 24,
     "metadata": {},
     "output_type": "execute_result"
    }
   ],
   "source": [
    "np.sqrt(w_min_var2**2 * vol_jp**2 + (1-w_min_var2)**2 * vol_ru**2 + 2*w_min_var2*(1-w_min_var2) * covariance_jp_ru2)"
   ]
  },
  {
   "cell_type": "markdown",
   "metadata": {},
   "source": [
    "**Encontrar los pesos del portafolio de mínima varianza. ¿Cuáles son el rendimiento esperado y volatilidad del portafolio de mínima varianza?**\n",
    "\n",
    "Los pesos del portafolio de mínima varianza son:\n",
    "* Japón: 55.57%\n",
    "* RU: 44.43%\n",
    "\n",
    "Rendimiento de portafolio de mínima varianza: \n",
    "15.37%\n",
    "\n",
    "Volatilidad de portafolio de mínima varianza: \n",
    "20.43%"
   ]
  },
  {
   "cell_type": "markdown",
   "metadata": {},
   "source": [
    "## 4. Gráficos y conclusiones (30 puntos)\n",
    "\n",
    "1. Usando sus respuestas para los puntos 2 y 3, grafique las dos fronteras encontradas en una sola gráfica, además de los puntos correspondientes a los activos individuales, donde el eje $x$ es la volatilidad y el eje $y$ el rendimiento esperado. Asegúrese de etiquetar todo y poner distintos colores para diferenciar los distintos elementos en su gráfico (15 puntos).\n",
    "2. Concluya acerca de la gráfica de las dos fronteras de mínima varianza. ¿Cuál provee más diversificación?, ¿cómo se diferencian?, ¿son diferentes los pesos de los dos portafolios de varianza mínima en cada caso?, ¿cómo puede explicar esta diferencia? (15 puntos)."
   ]
  },
  {
   "cell_type": "code",
   "execution_count": 25,
   "metadata": {},
   "outputs": [
    {
     "data": {
      "image/png": "[encoded data removed]",
      "text/plain": [
       "<Figure size 640x480 with 1 Axes>"
      ]
     },
     "metadata": {},
     "output_type": "display_data"
    }
   ],
   "source": [
    "plt.plot(portafolios.vol, portafolios.media, c='navy', label = 'Original (Corr = 0.35)')\n",
    "plt.plot(portafolios2.vol, portafolios2.media, c='slategray', label = 'Corr = 0.5')\n",
    "\n",
    "plt.scatter(annual_ret_summ['Japon']['Volatilidad'], annual_ret_summ['Japon']['Media'], c='red')\n",
    "plt.text(annual_ret_summ['Japon']['Volatilidad'], annual_ret_summ['Japon']['Media'], 'Japon')\n",
    "\n",
    "plt.scatter(annual_ret_summ['RU']['Volatilidad'], annual_ret_summ['RU']['Media'], c='black')\n",
    "plt.text(annual_ret_summ['RU']['Volatilidad'], annual_ret_summ['RU']['Media'], 'RU')\n",
    "\n",
    "plt.title('Rendimiento vs Volatilidad de los Portafolios')\n",
    "plt.xlabel('Volatilidad $\\sigma$')\n",
    "plt.ylabel('Rendimiento $E[X]$')\n",
    "plt.legend()\n",
    "plt.grid()"
   ]
  },
  {
   "cell_type": "markdown",
   "metadata": {},
   "source": [
    "## Conclusiones\n",
    "\n",
    "**¿Cuál provee más diversificación?**\n",
    "El portafolio original tiene una mayor diversificación ya que tiene una frontera más amplia debido a su menor correlación entre activos, lo cual ofrece portafolios con misma volatilidad pero más rendimiento, o mismo rendimiento pero menos volatilidad.\n",
    "\n",
    "**¿Cómo se diferencian?**\n",
    "El portafolio original tiene una covarianza menor, por lo que los activos se mueven de una manera muy diferente entre ellos ofreciendo así menor riesgo lo caul hace más amplia la frontera de mínima varianza.\n",
    "\n",
    "**¿Son diferentes los pesos de los dos portafolios de varianza mínima en cada caso?**\n",
    "El portafolio de mínima varianza para cada caso tiene pesos difernetes para cada activo.\n",
    "\n",
    "**¿Cómo puede explicar esta diferencia?**\n",
    "Al cambiar la correlación de los activos la covarianza cambia por fórmula ($\\sigma_{12} = p * \\sigma_1 * \\sigma_2$), y como la covarianza se utiliza para obtener la volatilidad del portafolio y en este caso es distinta a la del portafolio original, los pesos que minimicen la varianza del portafolio van a cambiar ya que son valores de covarianza distintos. Al ser más grande la correlación también la covarianza y por la fórmula de varianza se esta sumando un número más grande por lo que se vuelve más chica la frontera ya que se recorre hacia la derecha."
   ]
  },
  {
   "cell_type": "markdown",
   "metadata": {},
   "source": [
    "## 5. Frontera y portafolio de mínima varianza con los 5 índices de mercado \n",
    "Usando los datos del punto 1:\n",
    "\n",
    "1. Construya la frontera de mínima varianza para los portafolios que se pueden crear con todos los índices de mercado. Puedes pensar en ellos como índices de mercado. Reportar los rendimientos esperados y las volatilidades de estos portafolios en un DataFrame.\n",
    "2. Encontrar los pesos del portafolio de mínima varianza. ¿Cuáles son el rendimiento esperado y volatilidad del portafolio de mínima varianza?."
   ]
  },
  {
   "cell_type": "code",
   "execution_count": 26,
   "metadata": {},
   "outputs": [
    {
     "data": {
      "text/plain": [
       "array([[0.02356225, 0.01866144, 0.01568916, 0.01151538, 0.00939355],\n",
       "       [0.01866144, 0.059049  , 0.03060847, 0.02112173, 0.01999681],\n",
       "       [0.01568916, 0.03060847, 0.05400976, 0.02856943, 0.02095099],\n",
       "       [0.01151538, 0.02112173, 0.02856943, 0.04153444, 0.01715502],\n",
       "       [0.00939355, 0.01999681, 0.02095099, 0.01715502, 0.05280804]])"
      ]
     },
     "execution_count": 26,
     "metadata": {},
     "output_type": "execute_result"
    }
   ],
   "source": [
    "e1 = annual_ret_summ['EU'].loc['Media']\n",
    "e2 = annual_ret_summ['RU'].loc['Media']\n",
    "e3 = annual_ret_summ['Francia'].loc['Media']\n",
    "e4 = annual_ret_summ['Alemania'].loc['Media']\n",
    "e5 = annual_ret_summ['Japon'].loc['Media']\n",
    "\n",
    "eind = np.array([e1, e2, e3, e4, e5])\n",
    "\n",
    "sigma"
   ]
  },
  {
   "cell_type": "code",
   "execution_count": 27,
   "metadata": {},
   "outputs": [],
   "source": [
    "# Lo que quiero minimizar\n",
    "def varianza(w, sigma):\n",
    "    return w.T.dot(sigma).dot(w)\n",
    "\n",
    "# Restricciones, quiero un rendimiento iguial a mu_req \n",
    "def rendimiento_req(w, Eind, mu_req):\n",
    "    return w.T.dot(Eind) - mu_req\n",
    "\n",
    "# Pesos tiene que sumar 1 \n",
    "def weights_equal_1(w):\n",
    "    return np.sum(w) - 1\n",
    "\n",
    "\n",
    "cons = (\n",
    "    # Rendimiento requerido\n",
    "    {'type': 'eq', 'fun': rendimiento_req, 'args': (eind, 0.15)},\n",
    "    # Los pesos tienne que ser 1\n",
    "    {'type': 'eq', 'fun': weights_equal_1}\n",
    ")\n",
    "# Portafolio de mínima varianza para nivel de rendimiento esperado Ereq[i]\n",
    "min_var = minimize(fun=varianza,\n",
    "                   x0=np.array([1/5, 1/5, 1/5, 1/5, 1/5]),\n",
    "                   args=(sigma,),\n",
    "                   bounds=((0,1), (0,1), (0,1), (0,1), (0,1)),\n",
    "                   constraints=cons)\n"
   ]
  },
  {
   "cell_type": "code",
   "execution_count": 28,
   "metadata": {},
   "outputs": [
    {
     "data": {
      "text/plain": [
       "array([0.15534315, 0.31750132, 0.13778338, 0.11584884, 0.27352331])"
      ]
     },
     "execution_count": 28,
     "metadata": {},
     "output_type": "execute_result"
    }
   ],
   "source": [
    "# ¿Como quedaría la ponderacion?\n",
    "min_var['x']"
   ]
  },
  {
   "cell_type": "code",
   "execution_count": 29,
   "metadata": {},
   "outputs": [],
   "source": [
    "# DataFrame de portafolios de la frontera\n",
    "portafolios3 = pd.DataFrame(index=range(N), columns=['w1', 'w2', 'w3', 'w4', 'w5', 'media', 'vol'])"
   ]
  },
  {
   "cell_type": "code",
   "execution_count": 30,
   "metadata": {},
   "outputs": [],
   "source": [
    "# Número de portafolios\n",
    "N = 100\n",
    "ereq = np.linspace(eind.min(), eind.max(), N)\n",
    "\n",
    "# Para cada rendimiento entre el mínimo y máximo posible ... ¿cuáles son los pesoso con mínima varianza?\n",
    "for i in range(len(ereq)):\n",
    "    # Restricciones\n",
    "    cons = (\n",
    "        # Rendimiento requerido\n",
    "        {'type': 'eq', 'fun': rendimiento_req, 'args': (eind, ereq[i])},\n",
    "        # Los pesos tienne que ser 1\n",
    "        {'type': 'eq', 'fun': weights_equal_1}\n",
    "    )\n",
    "    # Portafolio de mínima varianza para nivel de rendimiento esperado Ereq[i]\n",
    "    min_var = minimize(fun=varianza,\n",
    "                       x0=np.array([1/5, 1/5, 1/5, 1/5, 1/5]),\n",
    "                       args=(sigma,),\n",
    "                       bounds=((0,1), (0,1), (0,1), (0,1), (0,1)),\n",
    "                       constraints=cons\n",
    "                      )\n",
    "    # Pesos, rendimientos y volatilidades de los portafolio\n",
    "    portafolios3.loc[i, ['w1','w2','w3', 'w4','w5']] = min_var.x\n",
    "    portafolios3['media'][i] = eind.dot(min_var.x)\n",
    "    portafolios3['vol'][i] = np.sqrt(varianza(min_var.x, sigma))"
   ]
  },
  {
   "cell_type": "code",
   "execution_count": 31,
   "metadata": {},
   "outputs": [
    {
     "data": {
      "text/html": [
       "<div>\n",
       "<style scoped>\n",
       "    .dataframe tbody tr th:only-of-type {\n",
       "        vertical-align: middle;\n",
       "    }\n",
       "\n",
       "    .dataframe tbody tr th {\n",
       "        vertical-align: top;\n",
       "    }\n",
       "\n",
       "    .dataframe thead th {\n",
       "        text-align: right;\n",
       "    }\n",
       "</style>\n",
       "<table border=\"1\" class=\"dataframe\">\n",
       "  <thead>\n",
       "    <tr style=\"text-align: right;\">\n",
       "      <th></th>\n",
       "      <th>w1</th>\n",
       "      <th>w2</th>\n",
       "      <th>w3</th>\n",
       "      <th>w4</th>\n",
       "      <th>w5</th>\n",
       "      <th>media</th>\n",
       "      <th>vol</th>\n",
       "    </tr>\n",
       "  </thead>\n",
       "  <tbody>\n",
       "    <tr>\n",
       "      <th>0</th>\n",
       "      <td>1.0</td>\n",
       "      <td>0.0</td>\n",
       "      <td>0.0</td>\n",
       "      <td>0.0</td>\n",
       "      <td>0.0</td>\n",
       "      <td>0.1355</td>\n",
       "      <td>0.1535</td>\n",
       "    </tr>\n",
       "    <tr>\n",
       "      <th>1</th>\n",
       "      <td>0.970455</td>\n",
       "      <td>0.0</td>\n",
       "      <td>0.0</td>\n",
       "      <td>0.029545</td>\n",
       "      <td>0.0</td>\n",
       "      <td>0.135736</td>\n",
       "      <td>0.151285</td>\n",
       "    </tr>\n",
       "    <tr>\n",
       "      <th>2</th>\n",
       "      <td>0.940909</td>\n",
       "      <td>0.0</td>\n",
       "      <td>0.0</td>\n",
       "      <td>0.059091</td>\n",
       "      <td>0.0</td>\n",
       "      <td>0.135973</td>\n",
       "      <td>0.149283</td>\n",
       "    </tr>\n",
       "    <tr>\n",
       "      <th>3</th>\n",
       "      <td>0.911364</td>\n",
       "      <td>0.0</td>\n",
       "      <td>0.0</td>\n",
       "      <td>0.088636</td>\n",
       "      <td>0.0</td>\n",
       "      <td>0.136209</td>\n",
       "      <td>0.147503</td>\n",
       "    </tr>\n",
       "    <tr>\n",
       "      <th>4</th>\n",
       "      <td>0.881818</td>\n",
       "      <td>0.0</td>\n",
       "      <td>0.0</td>\n",
       "      <td>0.118182</td>\n",
       "      <td>0.0</td>\n",
       "      <td>0.136445</td>\n",
       "      <td>0.145953</td>\n",
       "    </tr>\n",
       "    <tr>\n",
       "      <th>...</th>\n",
       "      <td>...</td>\n",
       "      <td>...</td>\n",
       "      <td>...</td>\n",
       "      <td>...</td>\n",
       "      <td>...</td>\n",
       "      <td>...</td>\n",
       "      <td>...</td>\n",
       "    </tr>\n",
       "    <tr>\n",
       "      <th>96</th>\n",
       "      <td>0.0</td>\n",
       "      <td>0.919608</td>\n",
       "      <td>0.01387</td>\n",
       "      <td>0.0</td>\n",
       "      <td>0.066522</td>\n",
       "      <td>0.158191</td>\n",
       "      <td>0.231185</td>\n",
       "    </tr>\n",
       "    <tr>\n",
       "      <th>97</th>\n",
       "      <td>0.0</td>\n",
       "      <td>0.948489</td>\n",
       "      <td>0.000535</td>\n",
       "      <td>0.0</td>\n",
       "      <td>0.050976</td>\n",
       "      <td>0.158427</td>\n",
       "      <td>0.235001</td>\n",
       "    </tr>\n",
       "    <tr>\n",
       "      <th>98</th>\n",
       "      <td>0.0</td>\n",
       "      <td>0.974308</td>\n",
       "      <td>0.0</td>\n",
       "      <td>0.0</td>\n",
       "      <td>0.025692</td>\n",
       "      <td>0.158664</td>\n",
       "      <td>0.238935</td>\n",
       "    </tr>\n",
       "    <tr>\n",
       "      <th>99</th>\n",
       "      <td>0.0</td>\n",
       "      <td>1.0</td>\n",
       "      <td>0.0</td>\n",
       "      <td>0.0</td>\n",
       "      <td>0.0</td>\n",
       "      <td>0.1589</td>\n",
       "      <td>0.243</td>\n",
       "    </tr>\n",
       "    <tr>\n",
       "      <th>100</th>\n",
       "      <td>NaN</td>\n",
       "      <td>NaN</td>\n",
       "      <td>NaN</td>\n",
       "      <td>NaN</td>\n",
       "      <td>NaN</td>\n",
       "      <td>NaN</td>\n",
       "      <td>NaN</td>\n",
       "    </tr>\n",
       "  </tbody>\n",
       "</table>\n",
       "<p>101 rows × 7 columns</p>\n",
       "</div>"
      ],
      "text/plain": [
       "           w1        w2        w3        w4        w5     media       vol\n",
       "0         1.0       0.0       0.0       0.0       0.0    0.1355    0.1535\n",
       "1    0.970455       0.0       0.0  0.029545       0.0  0.135736  0.151285\n",
       "2    0.940909       0.0       0.0  0.059091       0.0  0.135973  0.149283\n",
       "3    0.911364       0.0       0.0  0.088636       0.0  0.136209  0.147503\n",
       "4    0.881818       0.0       0.0  0.118182       0.0  0.136445  0.145953\n",
       "..        ...       ...       ...       ...       ...       ...       ...\n",
       "96        0.0  0.919608   0.01387       0.0  0.066522  0.158191  0.231185\n",
       "97        0.0  0.948489  0.000535       0.0  0.050976  0.158427  0.235001\n",
       "98        0.0  0.974308       0.0       0.0  0.025692  0.158664  0.238935\n",
       "99        0.0       1.0       0.0       0.0       0.0    0.1589     0.243\n",
       "100       NaN       NaN       NaN       NaN       NaN       NaN       NaN\n",
       "\n",
       "[101 rows x 7 columns]"
      ]
     },
     "execution_count": 31,
     "metadata": {},
     "output_type": "execute_result"
    }
   ],
   "source": [
    "portafolios3"
   ]
  },
  {
   "cell_type": "code",
   "execution_count": 32,
   "metadata": {},
   "outputs": [
    {
     "data": {
      "text/html": [
       "<div>\n",
       "<style scoped>\n",
       "    .dataframe tbody tr th:only-of-type {\n",
       "        vertical-align: middle;\n",
       "    }\n",
       "\n",
       "    .dataframe tbody tr th {\n",
       "        vertical-align: top;\n",
       "    }\n",
       "\n",
       "    .dataframe thead th {\n",
       "        text-align: right;\n",
       "    }\n",
       "</style>\n",
       "<table border=\"1\" class=\"dataframe\">\n",
       "  <thead>\n",
       "    <tr style=\"text-align: right;\">\n",
       "      <th></th>\n",
       "      <th>w1</th>\n",
       "      <th>w2</th>\n",
       "      <th>w3</th>\n",
       "      <th>w4</th>\n",
       "      <th>w5</th>\n",
       "      <th>media</th>\n",
       "      <th>vol</th>\n",
       "    </tr>\n",
       "  </thead>\n",
       "  <tbody>\n",
       "    <tr>\n",
       "      <th>17</th>\n",
       "      <td>0.629309</td>\n",
       "      <td>0.0</td>\n",
       "      <td>0.0</td>\n",
       "      <td>0.200909</td>\n",
       "      <td>0.169783</td>\n",
       "      <td>0.139518</td>\n",
       "      <td>0.136454</td>\n",
       "    </tr>\n",
       "  </tbody>\n",
       "</table>\n",
       "</div>"
      ],
      "text/plain": [
       "          w1   w2   w3        w4        w5     media       vol\n",
       "17  0.629309  0.0  0.0  0.200909  0.169783  0.139518  0.136454"
      ]
     },
     "execution_count": 32,
     "metadata": {},
     "output_type": "execute_result"
    }
   ],
   "source": [
    "portafolio_varianza_minima3 = portafolios3[portafolios3.vol == portafolios3.vol.min()]\n",
    "portafolio_varianza_minima3"
   ]
  },
  {
   "cell_type": "code",
   "execution_count": 33,
   "metadata": {},
   "outputs": [
    {
     "data": {
      "text/plain": [
       " message: Optimization terminated successfully\n",
       " success: True\n",
       "  status: 0\n",
       "     fun: 0.018617763910885928\n",
       "       x: [ 6.178e-01  0.000e+00  0.000e+00  2.094e-01  1.728e-01]\n",
       "     nit: 7\n",
       "     jac: [ 3.718e-02  3.881e-02  3.859e-02  3.755e-02  3.704e-02]\n",
       "    nfev: 42\n",
       "    njev: 7"
      ]
     },
     "execution_count": 33,
     "metadata": {},
     "output_type": "execute_result"
    }
   ],
   "source": [
    "# Portafolio de mínima varianza\n",
    "cons = ({'type': 'eq', 'fun': weights_equal_1},)\n",
    "min_var3 = minimize(varianza, \n",
    "                    x0=np.array([1/5, 1/5, 1/5, 1/5, 1/5]),\n",
    "                    args=(sigma,),\n",
    "                    bounds=((0,1), (0,1), (0,1), (0,1), (0,1)),\n",
    "                    constraints=cons)\n",
    "min_var3"
   ]
  },
  {
   "cell_type": "code",
   "execution_count": 34,
   "metadata": {},
   "outputs": [
    {
     "data": {
      "text/plain": [
       "(array([0.61779705, 0.        , 0.        , 0.20939436, 0.17280859]),\n",
       " 0.13962903689371373,\n",
       " 0.1364469270848044)"
      ]
     },
     "execution_count": 34,
     "metadata": {},
     "output_type": "execute_result"
    }
   ],
   "source": [
    "w_minvar3 = min_var3.x\n",
    "e_minvar3 = eind.dot(w_minvar3)\n",
    "s_minvar3 = np.sqrt(varianza(w_minvar3, sigma))\n",
    "\n",
    "w_minvar3, e_minvar3, s_minvar3"
   ]
  },
  {
   "cell_type": "code",
   "execution_count": 35,
   "metadata": {},
   "outputs": [
    {
     "data": {
      "image/png": "[encoded data removed]",
      "text/plain": [
       "<Figure size 640x480 with 1 Axes>"
      ]
     },
     "metadata": {},
     "output_type": "display_data"
    }
   ],
   "source": [
    "plt.scatter(portafolios3.vol, portafolios3.media, s=8, c='navy')\n",
    "plt.scatter(s_minvar3, e_minvar3, c='slategray')\n",
    "plt.text(s_minvar3, e_minvar3, 'min_var')\n",
    "\n",
    "plt.title('Rendimiento vs Volatilidad de los Portafolios (5 activos)')\n",
    "plt.xlabel('Volatilidad $\\sigma$')\n",
    "plt.ylabel('Rendimiento $E[X]$')\n",
    "plt.grid()"
   ]
  },
  {
   "cell_type": "markdown",
   "metadata": {},
   "source": [
    "**Encontrar los pesos del portafolio de mínima varianza. ¿Cuáles son el rendimiento esperado y volatilidad del portafolio de mínima varianza?**\n",
    "\n",
    "Los pesos del portafolio de mínima varianza son:\n",
    "* EU: 61.77%\n",
    "* RU: 0%\n",
    "* Francia: 0%\n",
    "* Alemania: 20.94%\n",
    "* Japón: 17.29%\n",
    "\n",
    "Rendimiento de portafolio de mínima varianza: \n",
    "13.96%\n",
    "\n",
    "Volatilidad de portafolio de mínima varianza: \n",
    "13.64%"
   ]
  },
  {
   "cell_type": "code",
   "execution_count": 36,
   "metadata": {},
   "outputs": [
    {
     "data": {
      "image/png": "[encoded data removed]",
      "text/plain": [
       "<Figure size 640x480 with 1 Axes>"
      ]
     },
     "metadata": {},
     "output_type": "display_data"
    }
   ],
   "source": [
    "plt.plot(portafolios.vol, portafolios.media, c='slategray', label = 'Original (Corr = 0.35)')\n",
    "plt.plot(portafolios2.vol, portafolios2.media, c='skyblue', label = 'Corr = 0.5')\n",
    "plt.plot(portafolios3.vol, portafolios3.media, c='navy', label = '5 activos')\n",
    "\n",
    "for i in paises:\n",
    "    plt.scatter(annual_ret_summ[i]['Volatilidad'], annual_ret_summ[i]['Media'])\n",
    "    plt.text(annual_ret_summ[i]['Volatilidad'], annual_ret_summ[i]['Media'], i)\n",
    "\n",
    "plt.scatter(s_minvar3, e_minvar3, c='slategray')\n",
    "plt.text(s_minvar3, e_minvar3, 'min_var3')\n",
    "\n",
    "plt.scatter(portafolio_varianza_minima2.vol, portafolio_varianza_minima2.media, c='slategray')\n",
    "plt.text(portafolio_varianza_minima2.vol, portafolio_varianza_minima2.media, 'min_var2')\n",
    "\n",
    "plt.scatter(portafolio_varianza_minima.vol, portafolio_varianza_minima.media, c='slategray')\n",
    "plt.text(portafolio_varianza_minima.vol, portafolio_varianza_minima.media, 'min_var')\n",
    "\n",
    "plt.title('Rendimiento vs Volatilidad de los Portafolios')\n",
    "plt.xlabel('Volatilidad $\\sigma$')\n",
    "plt.ylabel('Rendimiento $E[X]$')\n",
    "plt.legend()\n",
    "plt.grid()"
   ]
  }
 ],
 "metadata": {
  "kernelspec": {
   "display_name": "Python 3 (ipykernel)",
   "language": "python",
   "name": "python3"
  },
  "language_info": {
   "codemirror_mode": {
    "name": "ipython",
    "version": 3
   },
   "file_extension": ".py",
   "mimetype": "text/x-python",
   "name": "python",
   "nbconvert_exporter": "python",
   "pygments_lexer": "ipython3",
   "version": "3.11.4"
  }
 },
 "nbformat": 4,
 "nbformat_minor": 2
}
