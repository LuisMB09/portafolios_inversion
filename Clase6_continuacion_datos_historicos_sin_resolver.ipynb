{
 "cells": [
  {
   "cell_type": "markdown",
   "id": "e8035b5a",
   "metadata": {},
   "source": [
    "# Clase 6, usando datos de acciones\n",
    "\n",
    "Vamos a aprender a descargar datos historicos dela bolsa de valores y aplicar los conceptos que hemos visto \n",
    "\n",
    "- Leer archivos CSV\n",
    "- Descargar datos historicos\n",
    "- Obtener estadísticos básicos"
   ]
  },
  {
   "cell_type": "code",
   "execution_count": 1,
   "id": "9b6423b2",
   "metadata": {},
   "outputs": [],
   "source": [
    "# Importar el modulo data del paquete pandas_datareader. La comunidad lo importa con el nombre de web\n",
    "import pandas as pd\n",
    "import numpy as np\n",
    "import yfinance as yf\n",
    "import matplotlib.pyplot as plt"
   ]
  },
  {
   "cell_type": "markdown",
   "id": "49b6d3d7",
   "metadata": {},
   "source": [
    "## Obtener datos diarios, tesla y apple"
   ]
  },
  {
   "cell_type": "code",
   "execution_count": 4,
   "id": "7da2b65b",
   "metadata": {},
   "outputs": [
    {
     "name": "stdout",
     "output_type": "stream",
     "text": [
      "[*********************100%%**********************]  16 of 16 completed\n"
     ]
    }
   ],
   "source": [
    "tickers = ['AAPL', 'AMZN', 'GOOGL', 'COST', 'MSFT', \n",
    "           'BRK-A', 'NVDA', 'NFLX', 'WMT', 'V', \n",
    "           'JPM', 'XOM', 'MA', 'TSLA', 'PEP', 'PG']\n",
    "start_date = '2017-01-01'\n",
    "end_date = '2023-12-31'\n",
    "df = yf.download(tickers, start=start_date, end=end_date)['Close']\n",
    "rt = df.pct_change()"
   ]
  },
  {
   "cell_type": "code",
   "execution_count": 8,
   "id": "3ab286fd",
   "metadata": {},
   "outputs": [],
   "source": [
    "df = pd.DataFrame({\n",
    "    'vol' : rt.std() * np.sqrt(252),\n",
    "    'rend' : rt.mean() * 252\n",
    "})"
   ]
  },
  {
   "cell_type": "code",
   "execution_count": 13,
   "id": "d97e8547",
   "metadata": {},
   "outputs": [
    {
     "data": {
      "text/html": [
       "<div>\n",
       "<style scoped>\n",
       "    .dataframe tbody tr th:only-of-type {\n",
       "        vertical-align: middle;\n",
       "    }\n",
       "\n",
       "    .dataframe tbody tr th {\n",
       "        vertical-align: top;\n",
       "    }\n",
       "\n",
       "    .dataframe thead th {\n",
       "        text-align: right;\n",
       "    }\n",
       "</style>\n",
       "<table border=\"1\" class=\"dataframe\">\n",
       "  <thead>\n",
       "    <tr style=\"text-align: right;\">\n",
       "      <th></th>\n",
       "      <th>vol</th>\n",
       "      <th>rend</th>\n",
       "    </tr>\n",
       "  </thead>\n",
       "  <tbody>\n",
       "    <tr>\n",
       "      <th>AAPL</th>\n",
       "      <td>0.300911</td>\n",
       "      <td>0.316421</td>\n",
       "    </tr>\n",
       "    <tr>\n",
       "      <th>AMZN</th>\n",
       "      <td>0.336948</td>\n",
       "      <td>0.256470</td>\n",
       "    </tr>\n",
       "    <tr>\n",
       "      <th>BRK-B</th>\n",
       "      <td>0.207233</td>\n",
       "      <td>0.132955</td>\n",
       "    </tr>\n",
       "    <tr>\n",
       "      <th>COST</th>\n",
       "      <td>0.229505</td>\n",
       "      <td>0.229754</td>\n",
       "    </tr>\n",
       "    <tr>\n",
       "      <th>GOOGL</th>\n",
       "      <td>0.294806</td>\n",
       "      <td>0.221293</td>\n",
       "    </tr>\n",
       "    <tr>\n",
       "      <th>JPM</th>\n",
       "      <td>0.289255</td>\n",
       "      <td>0.137406</td>\n",
       "    </tr>\n",
       "    <tr>\n",
       "      <th>MA</th>\n",
       "      <td>0.292905</td>\n",
       "      <td>0.243113</td>\n",
       "    </tr>\n",
       "    <tr>\n",
       "      <th>MSFT</th>\n",
       "      <td>0.284624</td>\n",
       "      <td>0.297523</td>\n",
       "    </tr>\n",
       "    <tr>\n",
       "      <th>NFLX</th>\n",
       "      <td>0.440711</td>\n",
       "      <td>0.291784</td>\n",
       "    </tr>\n",
       "    <tr>\n",
       "      <th>NVDA</th>\n",
       "      <td>0.499218</td>\n",
       "      <td>0.549580</td>\n",
       "    </tr>\n",
       "    <tr>\n",
       "      <th>PEP</th>\n",
       "      <td>0.199934</td>\n",
       "      <td>0.089419</td>\n",
       "    </tr>\n",
       "    <tr>\n",
       "      <th>PG</th>\n",
       "      <td>0.198542</td>\n",
       "      <td>0.099062</td>\n",
       "    </tr>\n",
       "    <tr>\n",
       "      <th>TSLA</th>\n",
       "      <td>0.605332</td>\n",
       "      <td>0.590426</td>\n",
       "    </tr>\n",
       "    <tr>\n",
       "      <th>V</th>\n",
       "      <td>0.260173</td>\n",
       "      <td>0.203782</td>\n",
       "    </tr>\n",
       "    <tr>\n",
       "      <th>WMT</th>\n",
       "      <td>0.218747</td>\n",
       "      <td>0.143011</td>\n",
       "    </tr>\n",
       "    <tr>\n",
       "      <th>XOM</th>\n",
       "      <td>0.305619</td>\n",
       "      <td>0.060347</td>\n",
       "    </tr>\n",
       "  </tbody>\n",
       "</table>\n",
       "</div>"
      ],
      "text/plain": [
       "            vol      rend\n",
       "AAPL   0.300911  0.316421\n",
       "AMZN   0.336948  0.256470\n",
       "BRK-B  0.207233  0.132955\n",
       "COST   0.229505  0.229754\n",
       "GOOGL  0.294806  0.221293\n",
       "JPM    0.289255  0.137406\n",
       "MA     0.292905  0.243113\n",
       "MSFT   0.284624  0.297523\n",
       "NFLX   0.440711  0.291784\n",
       "NVDA   0.499218  0.549580\n",
       "PEP    0.199934  0.089419\n",
       "PG     0.198542  0.099062\n",
       "TSLA   0.605332  0.590426\n",
       "V      0.260173  0.203782\n",
       "WMT    0.218747  0.143011\n",
       "XOM    0.305619  0.060347"
      ]
     },
     "execution_count": 13,
     "metadata": {},
     "output_type": "execute_result"
    }
   ],
   "source": [
    "df"
   ]
  },
  {
   "cell_type": "code",
   "execution_count": 16,
   "id": "680e8381",
   "metadata": {},
   "outputs": [
    {
     "data": {
      "text/plain": [
       "Text(0, 0.5, 'Rendimiento')"
      ]
     },
     "execution_count": 16,
     "metadata": {},
     "output_type": "execute_result"
    },
    {
     "data": {
      "image/png": "[encoded data removed]",
      "text/plain": [
       "<Figure size 640x480 with 1 Axes>"
      ]
     },
     "metadata": {},
     "output_type": "display_data"
    }
   ],
   "source": [
    "# Grafica las acciones\n",
    "for i in range(len(df)):\n",
    "    flag = df.iloc[i]\n",
    "    plt.scatter(flag.vol, flag.rend)\n",
    "    plt.text(flag.vol, flag.rend, tickers[i])\n",
    "plt.grid()\n",
    "plt.xlabel('Volatilidad')\n",
    "plt.ylabel('Rendimiento')"
   ]
  },
  {
   "cell_type": "markdown",
   "id": "77efac7e",
   "metadata": {},
   "source": [
    "### Obtenga la regresión lineal usando sklearn "
   ]
  },
  {
   "cell_type": "code",
   "execution_count": 17,
   "id": "f96080e6",
   "metadata": {},
   "outputs": [],
   "source": [
    "from sklearn.linear_model import LinearRegression"
   ]
  },
  {
   "cell_type": "markdown",
   "id": "65c7a475",
   "metadata": {},
   "source": [
    "Si modelamos la relacion entre volatilidad y riesgo de forma lineal, tenemos la siguiente ecuación:\n",
    "\n",
    "$E[x] = \\theta_0 + \\theta_1 \\sigma $"
   ]
  },
  {
   "cell_type": "code",
   "execution_count": 18,
   "id": "029c2ecc",
   "metadata": {},
   "outputs": [],
   "source": [
    "X = df[['vol']]\n",
    "y = df[['rend']]\n",
    "\n",
    "model = LinearRegression().fit(X,y)"
   ]
  },
  {
   "cell_type": "code",
   "execution_count": 19,
   "id": "bfd7f943",
   "metadata": {},
   "outputs": [
    {
     "data": {
      "text/plain": [
       "array([-0.11681201])"
      ]
     },
     "execution_count": 19,
     "metadata": {},
     "output_type": "execute_result"
    }
   ],
   "source": [
    "# ¿Cuál es el intercepto? Cuando volatilidad es 0, entonces debe ser igual a cetes de EUA\n",
    "model.intercept_"
   ]
  },
  {
   "cell_type": "code",
   "execution_count": 20,
   "id": "c8d040f1",
   "metadata": {},
   "outputs": [
    {
     "data": {
      "text/plain": [
       "array([[1.15447298]])"
      ]
     },
     "execution_count": 20,
     "metadata": {},
     "output_type": "execute_result"
    }
   ],
   "source": [
    "# ¿Cuál es el coeficiente? Rendimiento aumenta 1.15 por cada\n",
    "model.coef_"
   ]
  },
  {
   "cell_type": "markdown",
   "id": "dbfef4a9",
   "metadata": {},
   "source": [
    "Escriba la ecuación del modelo"
   ]
  },
  {
   "cell_type": "markdown",
   "id": "f5e8c393",
   "metadata": {},
   "source": [
    "$$Rendimiento = -0.11 + 1.15 * volatilidad$$"
   ]
  },
  {
   "cell_type": "markdown",
   "id": "b2193c2e",
   "metadata": {},
   "source": [
    "Grafique el modelo con la gráfica anterior"
   ]
  },
  {
   "cell_type": "code",
   "execution_count": 21,
   "id": "1c496732",
   "metadata": {},
   "outputs": [],
   "source": [
    "df['predicciones']= model.predict(X)"
   ]
  },
  {
   "cell_type": "code",
   "execution_count": 22,
   "id": "50b13559",
   "metadata": {},
   "outputs": [
    {
     "data": {
      "text/plain": [
       "[<matplotlib.lines.Line2D at 0x1dad1e2fd10>]"
      ]
     },
     "execution_count": 22,
     "metadata": {},
     "output_type": "execute_result"
    },
    {
     "data": {
      "image/png": "[encoded data removed]",
      "text/plain": [
       "<Figure size 640x480 with 1 Axes>"
      ]
     },
     "metadata": {},
     "output_type": "display_data"
    }
   ],
   "source": [
    "# Grafica las acciones\n",
    "for i in range(len(df)):\n",
    "    flag = df.iloc[i]\n",
    "    plt.scatter(flag.vol, flag.rend)\n",
    "    plt.text(flag.vol, flag.rend, tickers[i])\n",
    "plt.grid()\n",
    "plt.xlabel('Volatilidad')\n",
    "plt.ylabel('Rendimiento')\n",
    "plt.plot(df.vol, df.predicciones)"
   ]
  },
  {
   "cell_type": "markdown",
   "id": "9bd9c887",
   "metadata": {},
   "source": [
    "¿A mayor volatilidad, mayor rendimiento esperado?"
   ]
  },
  {
   "cell_type": "markdown",
   "id": "6cb83871",
   "metadata": {},
   "source": [
    "Más volatilidad es más rendimiento porque lo más riesgoso es más barato."
   ]
  }
 ],
 "metadata": {
  "kernelspec": {
   "display_name": "Python 3 (ipykernel)",
   "language": "python",
   "name": "python3"
  },
  "language_info": {
   "codemirror_mode": {
    "name": "ipython",
    "version": 3
   },
   "file_extension": ".py",
   "mimetype": "text/x-python",
   "name": "python",
   "nbconvert_exporter": "python",
   "pygments_lexer": "ipython3",
   "version": "3.11.4"
  }
 },
 "nbformat": 4,
 "nbformat_minor": 5
}
