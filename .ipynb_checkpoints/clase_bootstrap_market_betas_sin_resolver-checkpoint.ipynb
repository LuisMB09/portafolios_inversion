{
 "cells": [
  {
   "cell_type": "markdown",
   "id": "b1256b1f",
   "metadata": {},
   "source": [
    "### Bootstrap\n",
    "\n",
    "Bootstrap es una idea loca que surgió en los 80's que consiste en reaamplear con remplazo\n"
   ]
  },
  {
   "cell_type": "code",
   "execution_count": 1,
   "id": "32da4e53",
   "metadata": {},
   "outputs": [],
   "source": [
    "# Importar liberias\n",
    "import pandas as pd\n",
    "import numpy as np\n",
    "import matplotlib.pyplot as plt\n",
    "import random"
   ]
  },
  {
   "cell_type": "markdown",
   "id": "41746325",
   "metadata": {},
   "source": [
    "### Procedimiento: bootstrap resampling\n",
    "\n",
    "1- Crea muchas muestras con remplazo y obten una metrica (promedio, desviación, AUC, lo que sea)\n",
    "\n",
    "2- Guarda esa métrica en una lista\n",
    "\n",
    "3- Esa lista te dará la distribución real de la variable aleatoria\n",
    "\n",
    "\n"
   ]
  },
  {
   "cell_type": "markdown",
   "id": "1e731a0b",
   "metadata": {},
   "source": [
    "## Aplicación : Intervalos de confianza para las market betas"
   ]
  },
  {
   "cell_type": "code",
   "execution_count": 2,
   "id": "472da2ab",
   "metadata": {},
   "outputs": [
    {
     "name": "stdout",
     "output_type": "stream",
     "text": [
      "[*********************100%%**********************]  3 of 3 completed\n"
     ]
    },
    {
     "data": {
      "text/html": [
       "<div>\n",
       "<style scoped>\n",
       "    .dataframe tbody tr th:only-of-type {\n",
       "        vertical-align: middle;\n",
       "    }\n",
       "\n",
       "    .dataframe tbody tr th {\n",
       "        vertical-align: top;\n",
       "    }\n",
       "\n",
       "    .dataframe thead th {\n",
       "        text-align: right;\n",
       "    }\n",
       "</style>\n",
       "<table border=\"1\" class=\"dataframe\">\n",
       "  <thead>\n",
       "    <tr style=\"text-align: right;\">\n",
       "      <th></th>\n",
       "      <th>AAPL</th>\n",
       "      <th>AMZN</th>\n",
       "      <th>VTI</th>\n",
       "    </tr>\n",
       "    <tr>\n",
       "      <th>Date</th>\n",
       "      <th></th>\n",
       "      <th></th>\n",
       "      <th></th>\n",
       "    </tr>\n",
       "  </thead>\n",
       "  <tbody>\n",
       "    <tr>\n",
       "      <th>2015-01-05</th>\n",
       "      <td>-0.028172</td>\n",
       "      <td>-0.020517</td>\n",
       "      <td>-0.017183</td>\n",
       "    </tr>\n",
       "    <tr>\n",
       "      <th>2015-01-06</th>\n",
       "      <td>0.000094</td>\n",
       "      <td>-0.022833</td>\n",
       "      <td>-0.009798</td>\n",
       "    </tr>\n",
       "    <tr>\n",
       "      <th>2015-01-07</th>\n",
       "      <td>0.014022</td>\n",
       "      <td>0.010600</td>\n",
       "      <td>0.011933</td>\n",
       "    </tr>\n",
       "    <tr>\n",
       "      <th>2015-01-08</th>\n",
       "      <td>0.038422</td>\n",
       "      <td>0.006836</td>\n",
       "      <td>0.017640</td>\n",
       "    </tr>\n",
       "    <tr>\n",
       "      <th>2015-01-09</th>\n",
       "      <td>0.001073</td>\n",
       "      <td>-0.011749</td>\n",
       "      <td>-0.008290</td>\n",
       "    </tr>\n",
       "  </tbody>\n",
       "</table>\n",
       "</div>"
      ],
      "text/plain": [
       "                AAPL      AMZN       VTI\n",
       "Date                                    \n",
       "2015-01-05 -0.028172 -0.020517 -0.017183\n",
       "2015-01-06  0.000094 -0.022833 -0.009798\n",
       "2015-01-07  0.014022  0.010600  0.011933\n",
       "2015-01-08  0.038422  0.006836  0.017640\n",
       "2015-01-09  0.001073 -0.011749 -0.008290"
      ]
     },
     "execution_count": 2,
     "metadata": {},
     "output_type": "execute_result"
    }
   ],
   "source": [
    "# Get tickers \n",
    "import yfinance as yf\n",
    "tickers = ['VTI', 'AMZN', 'AAPL']\n",
    "start_date = '2015-01-01'\n",
    "\n",
    "# Descargar precios y graficar\n",
    "St = yf.download(tickers, start=start_date)['Adj Close']\n",
    "\n",
    "returns = St.pct_change().dropna()\n",
    "returns.head()"
   ]
  },
  {
   "cell_type": "markdown",
   "id": "4154f20b",
   "metadata": {},
   "source": [
    "\n",
    "\n",
    "Calcular beta con una regresión:\n",
    "$$r_{vgt} = \\beta_o + \\beta_1 * r_{vti}$$"
   ]
  },
  {
   "cell_type": "code",
   "execution_count": 3,
   "id": "f014acf2",
   "metadata": {},
   "outputs": [
    {
     "data": {
      "text/plain": [
       "1.1715038474057844"
      ]
     },
     "execution_count": 3,
     "metadata": {},
     "output_type": "execute_result"
    }
   ],
   "source": [
    "# Calcular beta del activo \n",
    "from sklearn.linear_model import LinearRegression\n",
    "X = returns[['VTI']]\n",
    "y = returns[['AAPL']]\n",
    "\n",
    "model = LinearRegression()\n",
    "\n",
    "model.fit(X, y)\n",
    "predictions = model.predict(X)\n",
    "\n",
    "model.coef_[0][0]"
   ]
  },
  {
   "cell_type": "code",
   "execution_count": 4,
   "id": "eb27fc7f",
   "metadata": {},
   "outputs": [],
   "source": [
    "# Calcule bootstrap de las betas\n",
    "betas = []\n",
    "n_reps = 10000\n",
    "for i in range(n_reps):\n",
    "    flag_frame = returns.sample(len(returns), replace = True)\n",
    "    model = LinearRegression()\n",
    "    X = flag_frame[['VTI']]\n",
    "    y = flag_frame[['AAPL']]\n",
    "    model.fit(X, y)\n",
    "    beta = model.coef_[0][0]\n",
    "    betas.append(beta)"
   ]
  },
  {
   "cell_type": "code",
   "execution_count": 5,
   "id": "fa0e0fa1",
   "metadata": {},
   "outputs": [
    {
     "data": {
      "image/png": "[encoded data removed]",
      "text/plain": [
       "<Figure size 640x480 with 1 Axes>"
      ]
     },
     "metadata": {},
     "output_type": "display_data"
    }
   ],
   "source": [
    "# Histograma de las betas\n",
    "df_betas_aapl = pd.DataFrame()\n",
    "df_betas_aapl['betas'] = betas\n",
    "\n",
    "plt.hist(df_betas_aapl, bins = 100, color = 'navy')\n",
    "plt.grid()"
   ]
  },
  {
   "cell_type": "markdown",
   "id": "1148fb90",
   "metadata": {},
   "source": [
    "¿Cuál es la probabilidad de que el beta sea menor a 0?"
   ]
  },
  {
   "cell_type": "code",
   "execution_count": 6,
   "id": "a5efc0ec",
   "metadata": {},
   "outputs": [
    {
     "data": {
      "text/plain": [
       "0.0"
      ]
     },
     "execution_count": 6,
     "metadata": {},
     "output_type": "execute_result"
    }
   ],
   "source": [
    "(df_betas_aapl.betas < 0).mean()"
   ]
  },
  {
   "cell_type": "markdown",
   "id": "266ff519",
   "metadata": {},
   "source": [
    "Probabilidad mayor a 1.2"
   ]
  },
  {
   "cell_type": "code",
   "execution_count": 7,
   "id": "d450fa53",
   "metadata": {},
   "outputs": [
    {
     "data": {
      "text/plain": [
       "0.1458"
      ]
     },
     "execution_count": 7,
     "metadata": {},
     "output_type": "execute_result"
    }
   ],
   "source": [
    "(df_betas_aapl.betas > 1.2).mean()"
   ]
  },
  {
   "cell_type": "markdown",
   "id": "808d2f03",
   "metadata": {},
   "source": [
    "¿Cuál es la probabilidad de que el beta sea menor a 1?"
   ]
  },
  {
   "cell_type": "code",
   "execution_count": 8,
   "id": "9150c891",
   "metadata": {},
   "outputs": [
    {
     "data": {
      "text/plain": [
       "0.0"
      ]
     },
     "execution_count": 8,
     "metadata": {},
     "output_type": "execute_result"
    }
   ],
   "source": [
    "(df_betas_aapl.betas < 1).mean()"
   ]
  },
  {
   "cell_type": "markdown",
   "id": "3dea8cc0",
   "metadata": {},
   "source": [
    "Probabilidad que la beta sea mayor a 1.1"
   ]
  },
  {
   "cell_type": "code",
   "execution_count": 9,
   "id": "b00efe88",
   "metadata": {},
   "outputs": [
    {
     "data": {
      "text/plain": [
       "0.9964"
      ]
     },
     "execution_count": 9,
     "metadata": {},
     "output_type": "execute_result"
    }
   ],
   "source": [
    "(df_betas_aapl.betas > 1.1).mean()"
   ]
  },
  {
   "cell_type": "markdown",
   "id": "16a9b2a6",
   "metadata": {},
   "source": [
    "## Con las betas anteriores, calcula el CAPM \n",
    "\n",
    "\n",
    "rf = 4%\n",
    "\n",
    "mercado = 9%\n",
    "\n",
    "$$E[r_i] = rf + \\beta * (E[m] - rf) $$"
   ]
  },
  {
   "cell_type": "code",
   "execution_count": 10,
   "id": "914bc3f9",
   "metadata": {},
   "outputs": [
    {
     "data": {
      "image/png": "[encoded data removed]",
      "text/plain": [
       "<Figure size 640x480 with 1 Axes>"
      ]
     },
     "metadata": {},
     "output_type": "display_data"
    }
   ],
   "source": [
    "# Simula el CAPM con todas las betas del bootstrap\n",
    "rf = 0.04\n",
    "rm = 0.09\n",
    "df_betas_aapl['capm'] = rf + df_betas_aapl.betas * (rm - rf)\n",
    "plt.hist(df_betas_aapl.capm, bins = 100, color = 'navy')\n",
    "plt.grid()"
   ]
  },
  {
   "cell_type": "code",
   "execution_count": 11,
   "id": "42f944d2",
   "metadata": {},
   "outputs": [
    {
     "data": {
      "text/plain": [
       "0.0"
      ]
     },
     "execution_count": 11,
     "metadata": {},
     "output_type": "execute_result"
    }
   ],
   "source": [
    "# Probabilidad de rendimiento esperado menor a 9%\n",
    "(df_betas_aapl.capm < 0.09).mean()"
   ]
  },
  {
   "cell_type": "code",
   "execution_count": 12,
   "id": "1368e24c",
   "metadata": {},
   "outputs": [
    {
     "data": {
      "text/plain": [
       "0.8542"
      ]
     },
     "execution_count": 12,
     "metadata": {},
     "output_type": "execute_result"
    }
   ],
   "source": [
    "# Probabilidad de rendimiento esperado menor a 10%\n",
    "(df_betas_aapl.capm < 0.1).mean()"
   ]
  },
  {
   "cell_type": "code",
   "execution_count": 13,
   "id": "20713df2",
   "metadata": {},
   "outputs": [
    {
     "data": {
      "text/plain": [
       "0.9964"
      ]
     },
     "execution_count": 13,
     "metadata": {},
     "output_type": "execute_result"
    }
   ],
   "source": [
    "(df_betas_aapl.capm > 0.095).mean()"
   ]
  },
  {
   "cell_type": "markdown",
   "id": "6ee49755",
   "metadata": {},
   "source": [
    "### Mezclando dos simulaciones"
   ]
  },
  {
   "cell_type": "code",
   "execution_count": 14,
   "id": "d795df8f",
   "metadata": {},
   "outputs": [
    {
     "data": {
      "text/plain": [
       "0.09870506959695255"
      ]
     },
     "execution_count": 14,
     "metadata": {},
     "output_type": "execute_result"
    }
   ],
   "source": [
    "import random\n",
    "\n",
    "def get_rf():\n",
    "    rf = random.choice([0.01, 0.02, 0.03, 0.04, 0.05])\n",
    "    return rf\n",
    "\n",
    "def get_rm():\n",
    "    rm = random.choice([0.06, 0.07, 0.08, 0.09])\n",
    "    return rm\n",
    "\n",
    "def get_betas():\n",
    "    beta = random.choice(betas)\n",
    "    return beta\n",
    "\n",
    "rf_example = get_rf()\n",
    "rm_example = get_rm()\n",
    "beta_example = get_betas()\n",
    "\n",
    "capm_example = rf_example + beta_example * (rm_example - rf_example)\n",
    "capm_example"
   ]
  },
  {
   "cell_type": "code",
   "execution_count": 15,
   "id": "94be4860",
   "metadata": {},
   "outputs": [],
   "source": [
    "### Rf puede tomar distintos valores, 3%, 2% y 4%\n",
    "### El rendimiento de mercado ronda entre 8% y 10%, simular con estas distintas alternativas\n",
    "capm_simulado = []\n",
    "for i in range(10000):\n",
    "    rf_example = get_rf()\n",
    "    rm_example = get_rm()\n",
    "    beta_example = get_betas()\n",
    "    \n",
    "    capm_example = rf_example + beta_example * (rm_example - rf_example)\n",
    "    capm_simulado.append(capm_example)\n",
    "\n"
   ]
  },
  {
   "cell_type": "code",
   "execution_count": 16,
   "id": "7f881d48",
   "metadata": {},
   "outputs": [],
   "source": [
    "df_capm = pd.DataFrame()\n",
    "df_capm['capm'] = capm_simulado"
   ]
  },
  {
   "cell_type": "code",
   "execution_count": 17,
   "id": "c4fc78c4",
   "metadata": {},
   "outputs": [
    {
     "data": {
      "image/png": "[encoded data removed]",
      "text/plain": [
       "<Figure size 640x480 with 1 Axes>"
      ]
     },
     "metadata": {},
     "output_type": "display_data"
    }
   ],
   "source": [
    "plt.hist(df_capm.capm, bins = 100, color = 'skyblue')\n",
    "plt.grid()"
   ]
  },
  {
   "cell_type": "code",
   "execution_count": 18,
   "id": "f02c6af9",
   "metadata": {},
   "outputs": [
    {
     "data": {
      "text/plain": [
       "0.5402"
      ]
     },
     "execution_count": 18,
     "metadata": {},
     "output_type": "execute_result"
    }
   ],
   "source": [
    "# Probabilidad que sea mayor a 8%\n",
    "(df_capm.capm > 0.08).mean()"
   ]
  },
  {
   "cell_type": "code",
   "execution_count": 19,
   "id": "33ef6553",
   "metadata": {},
   "outputs": [
    {
     "data": {
      "text/plain": [
       "0.1284"
      ]
     },
     "execution_count": 19,
     "metadata": {},
     "output_type": "execute_result"
    }
   ],
   "source": [
    "# Probabilidad que sea mayor a 10%\n",
    "(df_capm.capm > 0.1).mean()"
   ]
  },
  {
   "cell_type": "markdown",
   "id": "9103bc06",
   "metadata": {},
   "source": [
    "### ¿Qué tan buena es la beta para escoger acciones?\n",
    "\n",
    "#### ¿Será que lo que importa en realidad es la beta que tiene un activo? \n",
    "\n",
    "Es decir, ¿si el mercado funciona así?\n",
    "\n",
    "- *Lo único que importa es el riesgo*\n",
    "- *Más riesgo es más rendimiento y el riesgo tiene que ver con el riesgo de mercado*\n"
   ]
  },
  {
   "cell_type": "code",
   "execution_count": 20,
   "id": "7182da89",
   "metadata": {},
   "outputs": [
    {
     "data": {
      "text/plain": [
       "1.1161520217262897"
      ]
     },
     "execution_count": 20,
     "metadata": {},
     "output_type": "execute_result"
    }
   ],
   "source": [
    "# Calcular beta del activo \n",
    "\n",
    "X = returns[['VTI']]\n",
    "y = returns[['AMZN']]\n",
    "model = LinearRegression().fit(X, y)\n",
    "\n",
    "model.coef_[0][0]"
   ]
  },
  {
   "cell_type": "code",
   "execution_count": 21,
   "id": "e8f3c8ac",
   "metadata": {},
   "outputs": [],
   "source": [
    "# Prediga usando el modelo\n",
    "predicciones = model.predict(X)"
   ]
  },
  {
   "cell_type": "code",
   "execution_count": 22,
   "id": "c80f7f79",
   "metadata": {},
   "outputs": [
    {
     "data": {
      "image/png": "[encoded data removed]",
      "text/plain": [
       "<Figure size 640x480 with 1 Axes>"
      ]
     },
     "metadata": {},
     "output_type": "display_data"
    }
   ],
   "source": [
    "# Grafique regresion\n",
    "plt.scatter(X, y, c = 'skyblue')\n",
    "plt.plot(X, predicciones, color = 'red')\n",
    "plt.grid()"
   ]
  },
  {
   "cell_type": "markdown",
   "id": "302e039b",
   "metadata": {},
   "source": [
    "$$ R^2 = \\frac{Var(x_{mean}) - Var(x_{model})}{Var(x_{model})} $$"
   ]
  },
  {
   "cell_type": "code",
   "execution_count": 23,
   "id": "a2e668f7",
   "metadata": {},
   "outputs": [
    {
     "data": {
      "text/plain": [
       "0.38152886184444"
      ]
     },
     "execution_count": 23,
     "metadata": {},
     "output_type": "execute_result"
    }
   ],
   "source": [
    "# Calcule el R2 con sklearn\n",
    "from sklearn.metrics import r2_score\n",
    "\n",
    "r2_score(y_true = y, y_pred = predicciones)"
   ]
  },
  {
   "cell_type": "code",
   "execution_count": 24,
   "id": "7c43a29f",
   "metadata": {},
   "outputs": [],
   "source": [
    "# Doble bootstrap, betas y R2\n",
    "# Calcule bootstrap de las betas\n",
    "r2 = []\n",
    "n = 10000\n",
    "for i in range(n):\n",
    "    flag_frame = returns.sample(len(returns), replace = True)\n",
    "    X = flag_frame[['VTI']]\n",
    "    y = flag_frame[['AAPL']]\n",
    "    model = LinearRegression().fit(X, y)\n",
    "    predicciones = model.predict(X)\n",
    "    flag_r2 = r2_score(y_true = y, y_pred = predicciones)\n",
    "    r2.append(flag_r2)"
   ]
  },
  {
   "cell_type": "code",
   "execution_count": 25,
   "id": "ac52ae6b",
   "metadata": {},
   "outputs": [
    {
     "data": {
      "image/png": "[encoded data removed]",
      "text/plain": [
       "<Figure size 640x480 with 1 Axes>"
      ]
     },
     "metadata": {},
     "output_type": "display_data"
    }
   ],
   "source": [
    "# Histograma del R2\n",
    "plt.hist(r2, bins = 100, color = 'skyblue')\n",
    "plt.grid()"
   ]
  },
  {
   "cell_type": "code",
   "execution_count": 26,
   "id": "be627817",
   "metadata": {},
   "outputs": [],
   "source": [
    "# Meta todo en un data frame\n",
    "df_r2 = pd.DataFrame({\n",
    "    'r2': r2\n",
    "})"
   ]
  },
  {
   "cell_type": "markdown",
   "id": "48005324",
   "metadata": {},
   "source": [
    "### Probabilidad de que el 60% de la variación este explicado por el modelo "
   ]
  },
  {
   "cell_type": "code",
   "execution_count": 27,
   "id": "2c54fe5b",
   "metadata": {},
   "outputs": [
    {
     "data": {
      "text/plain": [
       "0.0245"
      ]
     },
     "execution_count": 27,
     "metadata": {},
     "output_type": "execute_result"
    }
   ],
   "source": [
    "(df_r2.r2 > 0.6).mean()"
   ]
  },
  {
   "cell_type": "markdown",
   "id": "a5bb0761",
   "metadata": {},
   "source": [
    "### Probabilidad de que el 45% de la variación este explicado por el modelo "
   ]
  },
  {
   "cell_type": "markdown",
   "id": "33509528",
   "metadata": {},
   "source": [
    "# ¿Cuál sería la beta de un portafolio de 50% Amazon, 50% Apple?"
   ]
  },
  {
   "cell_type": "code",
   "execution_count": 28,
   "id": "c9da5482",
   "metadata": {},
   "outputs": [],
   "source": [
    "# Crear portafolio\n",
    "returns['portafolios'] = 0.5 * returns.AAPL + 0.5 * returns.AMZN"
   ]
  },
  {
   "cell_type": "code",
   "execution_count": 29,
   "id": "ef6c60c0",
   "metadata": {},
   "outputs": [
    {
     "data": {
      "text/plain": [
       "array([[1.14382793]])"
      ]
     },
     "execution_count": 29,
     "metadata": {},
     "output_type": "execute_result"
    }
   ],
   "source": [
    "model = LinearRegression()\n",
    "X = returns[['VTI']]\n",
    "y = returns[['portafolios']]\n",
    "\n",
    "model.fit(X, y)\n",
    "model.coef_"
   ]
  },
  {
   "cell_type": "code",
   "execution_count": 30,
   "id": "1d7cbc5f",
   "metadata": {},
   "outputs": [
    {
     "data": {
      "text/plain": [
       "0.5833902298346061"
      ]
     },
     "execution_count": 30,
     "metadata": {},
     "output_type": "execute_result"
    }
   ],
   "source": [
    "# Grafique el modelo\n",
    "predicciones = model.predict(X)\n",
    "r2_score(y_pred = predicciones, y_true = y)"
   ]
  },
  {
   "cell_type": "code",
   "execution_count": 31,
   "id": "95add616",
   "metadata": {},
   "outputs": [
    {
     "data": {
      "image/png": "[encoded data removed]",
      "text/plain": [
       "<Figure size 640x480 with 1 Axes>"
      ]
     },
     "metadata": {},
     "output_type": "display_data"
    }
   ],
   "source": [
    "plt.scatter(X, y, c = 'skyblue')\n",
    "plt.plot(X, predicciones, c = 'red')\n",
    "plt.grid()"
   ]
  },
  {
   "cell_type": "code",
   "execution_count": 32,
   "id": "0716cb3b",
   "metadata": {},
   "outputs": [],
   "source": [
    "r2 = []\n",
    "betas = []\n",
    "n = 10000\n",
    "for i in range(n):\n",
    "    flag_frame = returns.sample(len(returns), replace = True)\n",
    "    X = flag_frame[['VTI']]\n",
    "    y = flag_frame[['portafolios']]\n",
    "    model = LinearRegression().fit(X, y)\n",
    "    predicciones = model.predict(X)\n",
    "    # r2\n",
    "    flag_r2 = r2_score(y_true = y, y_pred = predicciones)\n",
    "    r2.append(flag_r2)\n",
    "    # betas\n",
    "    flag_beta = model.coef_[0][0]\n",
    "    betas.append(flag_beta)"
   ]
  },
  {
   "cell_type": "code",
   "execution_count": 33,
   "id": "b92c640b",
   "metadata": {},
   "outputs": [
    {
     "data": {
      "image/png": "[encoded data removed]",
      "text/plain": [
       "<Figure size 640x480 with 1 Axes>"
      ]
     },
     "metadata": {},
     "output_type": "display_data"
    }
   ],
   "source": [
    "plt.hist(betas, bins = 100, color = 'skyblue')\n",
    "plt.grid()"
   ]
  },
  {
   "cell_type": "markdown",
   "id": "fdbc895d",
   "metadata": {},
   "source": [
    "# ¿Cuál sería el R2?"
   ]
  },
  {
   "cell_type": "code",
   "execution_count": 34,
   "id": "3d1133b8",
   "metadata": {},
   "outputs": [
    {
     "data": {
      "image/png": "[encoded data removed]",
      "text/plain": [
       "<Figure size 640x480 with 1 Axes>"
      ]
     },
     "metadata": {},
     "output_type": "display_data"
    }
   ],
   "source": [
    "# Calcular R2\n",
    "plt.hist(r2, bins = 100, color = 'skyblue')\n",
    "plt.grid()"
   ]
  },
  {
   "cell_type": "markdown",
   "id": "2d9f9b25",
   "metadata": {},
   "source": [
    "# Pregunta: ¿qué creen que pase con el R2 a medida que agregamos más activos a un portafolio?"
   ]
  },
  {
   "cell_type": "code",
   "execution_count": null,
   "id": "fdad255a",
   "metadata": {},
   "outputs": [],
   "source": []
  }
 ],
 "metadata": {
  "kernelspec": {
   "display_name": "Python 3 (ipykernel)",
   "language": "python",
   "name": "python3"
  },
  "language_info": {
   "codemirror_mode": {
    "name": "ipython",
    "version": 3
   },
   "file_extension": ".py",
   "mimetype": "text/x-python",
   "name": "python",
   "nbconvert_exporter": "python",
   "pygments_lexer": "ipython3",
   "version": "3.11.4"
  }
 },
 "nbformat": 4,
 "nbformat_minor": 5
}
