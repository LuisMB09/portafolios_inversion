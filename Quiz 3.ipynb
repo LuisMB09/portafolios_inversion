{
 "cells": [
  {
   "cell_type": "code",
   "execution_count": 1,
   "id": "8dbc2eeb",
   "metadata": {},
   "outputs": [],
   "source": [
    "import numpy as np\n",
    "import pandas as pd"
   ]
  },
  {
   "cell_type": "code",
   "execution_count": 5,
   "id": "caf4053a",
   "metadata": {},
   "outputs": [
    {
     "data": {
      "text/plain": [
       "0.215"
      ]
     },
     "execution_count": 5,
     "metadata": {},
     "output_type": "execute_result"
    }
   ],
   "source": [
    "np.round(0.23 - (0.5*3*0.1**2),3)"
   ]
  },
  {
   "cell_type": "code",
   "execution_count": 6,
   "id": "4d3fc5e7",
   "metadata": {},
   "outputs": [
    {
     "data": {
      "text/plain": [
       "0.266"
      ]
     },
     "execution_count": 6,
     "metadata": {},
     "output_type": "execute_result"
    }
   ],
   "source": [
    "np.round(0.30 - (0.5*3*0.15**2),3)"
   ]
  },
  {
   "cell_type": "code",
   "execution_count": 7,
   "id": "b23d0810",
   "metadata": {},
   "outputs": [
    {
     "data": {
      "text/plain": [
       "0.02"
      ]
     },
     "execution_count": 7,
     "metadata": {},
     "output_type": "execute_result"
    }
   ],
   "source": [
    "np.round(0.26 - (0.5*3*0.40**2),3)"
   ]
  },
  {
   "cell_type": "markdown",
   "id": "6521d20f",
   "metadata": {},
   "source": [
    "2"
   ]
  },
  {
   "cell_type": "code",
   "execution_count": 32,
   "id": "411cd1b3",
   "metadata": {},
   "outputs": [
    {
     "data": {
      "text/plain": [
       "0.23"
      ]
     },
     "execution_count": 32,
     "metadata": {},
     "output_type": "execute_result"
    }
   ],
   "source": [
    "np.round(0.23 - (0.5*0*0.1**2),3)"
   ]
  },
  {
   "cell_type": "code",
   "execution_count": 33,
   "id": "fc3ac1f6",
   "metadata": {},
   "outputs": [
    {
     "data": {
      "text/plain": [
       "0.3"
      ]
     },
     "execution_count": 33,
     "metadata": {},
     "output_type": "execute_result"
    }
   ],
   "source": [
    "np.round(0.30 - (0.5*0*0.15**2),3)"
   ]
  },
  {
   "cell_type": "code",
   "execution_count": 34,
   "id": "5646c401",
   "metadata": {},
   "outputs": [
    {
     "data": {
      "text/plain": [
       "0.26"
      ]
     },
     "execution_count": 34,
     "metadata": {},
     "output_type": "execute_result"
    }
   ],
   "source": [
    "np.round(0.26 - (0.5*0*0.40**2),3)"
   ]
  },
  {
   "cell_type": "markdown",
   "id": "4d2dc507",
   "metadata": {},
   "source": [
    "3"
   ]
  },
  {
   "cell_type": "code",
   "execution_count": 19,
   "id": "9737b162",
   "metadata": {},
   "outputs": [
    {
     "data": {
      "text/plain": [
       "0.13"
      ]
     },
     "execution_count": 19,
     "metadata": {},
     "output_type": "execute_result"
    }
   ],
   "source": [
    "np.round(0.22 - (0.5*2*0.30**2),3)"
   ]
  },
  {
   "cell_type": "code",
   "execution_count": 35,
   "id": "8919ce63",
   "metadata": {},
   "outputs": [
    {
     "data": {
      "text/plain": [
       "0.05"
      ]
     },
     "execution_count": 35,
     "metadata": {},
     "output_type": "execute_result"
    }
   ],
   "source": [
    "np.round(0.05 - (0.5*2*0**2),3)"
   ]
  },
  {
   "cell_type": "markdown",
   "id": "25b703de",
   "metadata": {},
   "source": [
    "4"
   ]
  },
  {
   "cell_type": "code",
   "execution_count": 21,
   "id": "7221ed32",
   "metadata": {},
   "outputs": [
    {
     "data": {
      "text/plain": [
       "0.567"
      ]
     },
     "execution_count": 21,
     "metadata": {},
     "output_type": "execute_result"
    }
   ],
   "source": [
    "np.round((0.22-0.05)/0.30,3)"
   ]
  },
  {
   "cell_type": "markdown",
   "id": "38b8a7d6",
   "metadata": {},
   "source": [
    "5"
   ]
  },
  {
   "cell_type": "code",
   "execution_count": 31,
   "id": "cac9bce5",
   "metadata": {},
   "outputs": [
    {
     "data": {
      "text/plain": [
       "0.1"
      ]
     },
     "execution_count": 31,
     "metadata": {},
     "output_type": "execute_result"
    }
   ],
   "source": [
    "np.round(0.5 * 0.15 + 0.5 * 0.05,3)"
   ]
  },
  {
   "cell_type": "markdown",
   "id": "a94cb05b",
   "metadata": {},
   "source": [
    "6"
   ]
  },
  {
   "cell_type": "code",
   "execution_count": 25,
   "id": "f76250c1",
   "metadata": {},
   "outputs": [
    {
     "data": {
      "text/plain": [
       "0.1"
      ]
     },
     "execution_count": 25,
     "metadata": {},
     "output_type": "execute_result"
    }
   ],
   "source": [
    "np.round(0.5 * 0.2,3)"
   ]
  },
  {
   "cell_type": "markdown",
   "id": "7aeea841",
   "metadata": {},
   "source": [
    "7"
   ]
  },
  {
   "cell_type": "code",
   "execution_count": 28,
   "id": "b8ecac2f",
   "metadata": {},
   "outputs": [
    {
     "data": {
      "text/plain": [
       "0.357"
      ]
     },
     "execution_count": 28,
     "metadata": {},
     "output_type": "execute_result"
    }
   ],
   "source": [
    "np.round((0.15-0.05)/(7*0.2**2),3)"
   ]
  },
  {
   "cell_type": "markdown",
   "id": "fa10cacb",
   "metadata": {},
   "source": [
    "8"
   ]
  },
  {
   "cell_type": "code",
   "execution_count": 30,
   "id": "a81a2962",
   "metadata": {},
   "outputs": [
    {
     "data": {
      "text/plain": [
       "0.105"
      ]
     },
     "execution_count": 30,
     "metadata": {},
     "output_type": "execute_result"
    }
   ],
   "source": [
    "np.round((0.5*.15+0.03),3)"
   ]
  }
 ],
 "metadata": {
  "kernelspec": {
   "display_name": "Python 3 (ipykernel)",
   "language": "python",
   "name": "python3"
  },
  "language_info": {
   "codemirror_mode": {
    "name": "ipython",
    "version": 3
   },
   "file_extension": ".py",
   "mimetype": "text/x-python",
   "name": "python",
   "nbconvert_exporter": "python",
   "pygments_lexer": "ipython3",
   "version": "3.11.4"
  }
 },
 "nbformat": 4,
 "nbformat_minor": 5
}
