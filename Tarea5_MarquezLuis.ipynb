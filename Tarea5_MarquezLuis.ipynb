{
 "cells": [
  {
   "cell_type": "markdown",
   "metadata": {},
   "source": [
    "# Tarea 6. Distribución óptima de capital y selección de portafolios.\n",
    "\n",
    "<img style=\"float: right; margin: 0px 0px 15px 15px;\" src=\"https://upload.wikimedia.org/wikipedia/en/f/f3/SML-chart.png\" width=\"400px\" height=\"400px\" />\n",
    "\n",
    "**Resumen.**\n",
    "> En esta tarea, tendrás la oportunidad de aplicar los conceptos y las herramientas que aprendimos en el módulo 3. Específicamente, utilizarás técnicas de optimización media-varianza para construir la frontera de mínima varianza, encontrar el mejor portafolio sobre la frontera mínima varianza, y finalmente, identificar la asignación óptima de capital para un inversionista dado su nivel de averisón al riesgo.\n",
    "\n",
    "**Criterio de revisión.**\n",
    "> Se te calificará de acuerdo a los resultados finales que reportes, basados en tu análisis.\n",
    "\n",
    "**Antes de comenzar.**\n",
    "> Por favor, copiar y pegar este archivo en otra ubicación. Antes de comenzar, nombrarlo *Tarea6_ApellidoNombre*, sin acentos y sin espacios; por ejemplo, en mi caso el archivo se llamaría *Tarea6_JimenezEsteban*. Resolver todos los puntos en dicho archivo y subir en este espacio."
   ]
  },
  {
   "cell_type": "markdown",
   "metadata": {},
   "source": [
    "## 1. Datos (10 puntos)\n",
    "\n",
    "Considere los siguientes datos de bonos, índice de acciones, mercados desarrollados, mercados emergentes, fondos privados, activos reales y activos libres de riesgo:"
   ]
  },
  {
   "cell_type": "code",
   "execution_count": 1,
   "metadata": {},
   "outputs": [],
   "source": [
    "# Importamos pandas y numpy\n",
    "import pandas as pd\n",
    "import numpy as np\n",
    "import matplotlib.pyplot as plt"
   ]
  },
  {
   "cell_type": "code",
   "execution_count": 2,
   "metadata": {},
   "outputs": [
    {
     "data": {
      "text/html": [
       "<div>\n",
       "<style scoped>\n",
       "    .dataframe tbody tr th:only-of-type {\n",
       "        vertical-align: middle;\n",
       "    }\n",
       "\n",
       "    .dataframe tbody tr th {\n",
       "        vertical-align: top;\n",
       "    }\n",
       "\n",
       "    .dataframe thead th {\n",
       "        text-align: right;\n",
       "    }\n",
       "</style>\n",
       "<table border=\"1\" class=\"dataframe\">\n",
       "  <thead>\n",
       "    <tr style=\"text-align: right;\">\n",
       "      <th></th>\n",
       "      <th>Bonos</th>\n",
       "      <th>Acciones</th>\n",
       "      <th>Desarrollado</th>\n",
       "      <th>Emergente</th>\n",
       "      <th>Privados</th>\n",
       "      <th>Real</th>\n",
       "      <th>Libre_riesgo</th>\n",
       "    </tr>\n",
       "  </thead>\n",
       "  <tbody>\n",
       "    <tr>\n",
       "      <th>Media</th>\n",
       "      <td>0.04</td>\n",
       "      <td>0.106</td>\n",
       "      <td>0.083</td>\n",
       "      <td>0.119</td>\n",
       "      <td>0.128</td>\n",
       "      <td>0.062</td>\n",
       "      <td>0.03</td>\n",
       "    </tr>\n",
       "    <tr>\n",
       "      <th>Volatilidad</th>\n",
       "      <td>0.068</td>\n",
       "      <td>0.224</td>\n",
       "      <td>0.221</td>\n",
       "      <td>0.3</td>\n",
       "      <td>0.231</td>\n",
       "      <td>0.068</td>\n",
       "      <td>0.0</td>\n",
       "    </tr>\n",
       "  </tbody>\n",
       "</table>\n",
       "</div>"
      ],
      "text/plain": [
       "             Bonos Acciones Desarrollado Emergente Privados   Real  \\\n",
       "Media         0.04    0.106        0.083     0.119    0.128  0.062   \n",
       "Volatilidad  0.068    0.224        0.221       0.3    0.231  0.068   \n",
       "\n",
       "            Libre_riesgo  \n",
       "Media               0.03  \n",
       "Volatilidad          0.0  "
      ]
     },
     "execution_count": 2,
     "metadata": {},
     "output_type": "execute_result"
    }
   ],
   "source": [
    "# Resumen en base anual de rendimientos esperados y volatilidades\n",
    "annual_ret_summ = pd.DataFrame(columns=['Bonos', 'Acciones', 'Desarrollado', 'Emergente', 'Privados', \n",
    "                                        'Real', 'Libre_riesgo'], index=['Media', 'Volatilidad'])\n",
    "annual_ret_summ.loc['Media'] = np.array([0.0400, 0.1060, 0.0830, 0.1190, 0.1280, 0.0620, 0.0300])\n",
    "annual_ret_summ.loc['Volatilidad'] = np.array([0.0680, 0.2240, 0.2210, 0.3000, 0.2310, 0.0680, 0.0])\n",
    "\n",
    "annual_ret_summ.round(4)"
   ]
  },
  {
   "cell_type": "code",
   "execution_count": 3,
   "metadata": {},
   "outputs": [
    {
     "data": {
      "text/html": [
       "<div>\n",
       "<style scoped>\n",
       "    .dataframe tbody tr th:only-of-type {\n",
       "        vertical-align: middle;\n",
       "    }\n",
       "\n",
       "    .dataframe tbody tr th {\n",
       "        vertical-align: top;\n",
       "    }\n",
       "\n",
       "    .dataframe thead th {\n",
       "        text-align: right;\n",
       "    }\n",
       "</style>\n",
       "<table border=\"1\" class=\"dataframe\">\n",
       "  <thead>\n",
       "    <tr style=\"text-align: right;\">\n",
       "      <th></th>\n",
       "      <th>Bonos</th>\n",
       "      <th>Acciones</th>\n",
       "      <th>Desarrollado</th>\n",
       "      <th>Emergente</th>\n",
       "      <th>Privados</th>\n",
       "      <th>Real</th>\n",
       "    </tr>\n",
       "  </thead>\n",
       "  <tbody>\n",
       "    <tr>\n",
       "      <th>Bonos</th>\n",
       "      <td>1.00</td>\n",
       "      <td>0.4</td>\n",
       "      <td>0.25</td>\n",
       "      <td>0.20</td>\n",
       "      <td>0.15</td>\n",
       "      <td>0.20</td>\n",
       "    </tr>\n",
       "    <tr>\n",
       "      <th>Acciones</th>\n",
       "      <td>0.40</td>\n",
       "      <td>1.0</td>\n",
       "      <td>0.70</td>\n",
       "      <td>0.60</td>\n",
       "      <td>0.70</td>\n",
       "      <td>0.20</td>\n",
       "    </tr>\n",
       "    <tr>\n",
       "      <th>Desarrollado</th>\n",
       "      <td>0.25</td>\n",
       "      <td>0.7</td>\n",
       "      <td>1.00</td>\n",
       "      <td>0.75</td>\n",
       "      <td>0.60</td>\n",
       "      <td>0.10</td>\n",
       "    </tr>\n",
       "    <tr>\n",
       "      <th>Emergente</th>\n",
       "      <td>0.20</td>\n",
       "      <td>0.6</td>\n",
       "      <td>0.75</td>\n",
       "      <td>1.00</td>\n",
       "      <td>0.25</td>\n",
       "      <td>0.15</td>\n",
       "    </tr>\n",
       "    <tr>\n",
       "      <th>Privados</th>\n",
       "      <td>0.15</td>\n",
       "      <td>0.7</td>\n",
       "      <td>0.60</td>\n",
       "      <td>0.25</td>\n",
       "      <td>1.00</td>\n",
       "      <td>0.30</td>\n",
       "    </tr>\n",
       "    <tr>\n",
       "      <th>Real</th>\n",
       "      <td>0.20</td>\n",
       "      <td>0.2</td>\n",
       "      <td>0.10</td>\n",
       "      <td>0.15</td>\n",
       "      <td>0.30</td>\n",
       "      <td>1.00</td>\n",
       "    </tr>\n",
       "  </tbody>\n",
       "</table>\n",
       "</div>"
      ],
      "text/plain": [
       "              Bonos  Acciones  Desarrollado  Emergente  Privados  Real\n",
       "Bonos          1.00       0.4          0.25       0.20      0.15  0.20\n",
       "Acciones       0.40       1.0          0.70       0.60      0.70  0.20\n",
       "Desarrollado   0.25       0.7          1.00       0.75      0.60  0.10\n",
       "Emergente      0.20       0.6          0.75       1.00      0.25  0.15\n",
       "Privados       0.15       0.7          0.60       0.25      1.00  0.30\n",
       "Real           0.20       0.2          0.10       0.15      0.30  1.00"
      ]
     },
     "execution_count": 3,
     "metadata": {},
     "output_type": "execute_result"
    }
   ],
   "source": [
    "# Matriz de correlación\n",
    "corr = pd.DataFrame(data= np.array([[1.0000, 0.4000, 0.2500, 0.2000, 0.1500, 0.2000],\n",
    "                                    [0.4000, 1.0000, 0.7000, 0.6000, 0.7000, 0.2000],\n",
    "                                    [0.2500, 0.7000, 1.0000, 0.7500, 0.6000, 0.1000],\n",
    "                                    [0.2000, 0.6000, 0.7500, 1.0000, 0.2500, 0.1500],\n",
    "                                    [0.1500, 0.7000, 0.6000, 0.2500, 1.0000, 0.3000],\n",
    "                                    [0.2000, 0.2000, 0.1000, 0.1500, 0.3000, 1.0000]]),\n",
    "                    columns=annual_ret_summ.columns[:-1], index=annual_ret_summ.columns[:-1])\n",
    "corr.round(4)"
   ]
  },
  {
   "cell_type": "markdown",
   "metadata": {},
   "source": [
    "1. Graficar en el espacio de rendimiento esperado contra volatilidad cada uno de los activos (10 puntos)."
   ]
  },
  {
   "cell_type": "code",
   "execution_count": 4,
   "metadata": {},
   "outputs": [
    {
     "data": {
      "image/png": "[encoded data removed]",
      "text/plain": [
       "<Figure size 640x480 with 1 Axes>"
      ]
     },
     "metadata": {},
     "output_type": "display_data"
    }
   ],
   "source": [
    "activos = annual_ret_summ.keys()\n",
    "for i in activos:\n",
    "    plt.scatter(annual_ret_summ[i]['Volatilidad'], annual_ret_summ[i]['Media'])\n",
    "    plt.text(annual_ret_summ[i]['Volatilidad'], annual_ret_summ[i]['Media'], i)\n",
    "\n",
    "plt.title('Rendimiento vs Volatilidad')\n",
    "plt.xlabel('Volatilidad $\\sigma$')\n",
    "plt.ylabel('Rendimiento $E[X]$')\n",
    "plt.grid()"
   ]
  },
  {
   "cell_type": "markdown",
   "metadata": {},
   "source": [
    "## 2. Hallando portafolios sobre la frontera de mínima varianza (35 puntos)\n",
    "\n",
    "Usando los datos del punto anterior:\n",
    "\n",
    "1. Halle los pesos del portafolio de mínima varianza considerando todos los activos riesgosos. También reportar claramente el rendimiento esperado, volatilidad y cociente de Sharpe para dicho portafolio \n",
    "2. Halle los pesos del portafolio EMV considerando todos los activos riesgosos. También reportar claramente el rendimiento esperado, volatilidad y cociente de Sharpe para dicho portafolio \n"
   ]
  },
  {
   "cell_type": "code",
   "execution_count": 5,
   "metadata": {},
   "outputs": [
    {
     "data": {
      "text/html": [
       "<div>\n",
       "<style scoped>\n",
       "    .dataframe tbody tr th:only-of-type {\n",
       "        vertical-align: middle;\n",
       "    }\n",
       "\n",
       "    .dataframe tbody tr th {\n",
       "        vertical-align: top;\n",
       "    }\n",
       "\n",
       "    .dataframe thead th {\n",
       "        text-align: right;\n",
       "    }\n",
       "</style>\n",
       "<table border=\"1\" class=\"dataframe\">\n",
       "  <thead>\n",
       "    <tr style=\"text-align: right;\">\n",
       "      <th></th>\n",
       "      <th>Bonos</th>\n",
       "      <th>Acciones</th>\n",
       "      <th>Desarrollado</th>\n",
       "      <th>Emergente</th>\n",
       "      <th>Privados</th>\n",
       "      <th>Real</th>\n",
       "    </tr>\n",
       "  </thead>\n",
       "  <tbody>\n",
       "    <tr>\n",
       "      <th>Media</th>\n",
       "      <td>0.04</td>\n",
       "      <td>0.106</td>\n",
       "      <td>0.083</td>\n",
       "      <td>0.119</td>\n",
       "      <td>0.128</td>\n",
       "      <td>0.062</td>\n",
       "    </tr>\n",
       "    <tr>\n",
       "      <th>Volatilidad</th>\n",
       "      <td>0.068</td>\n",
       "      <td>0.224</td>\n",
       "      <td>0.221</td>\n",
       "      <td>0.3</td>\n",
       "      <td>0.231</td>\n",
       "      <td>0.068</td>\n",
       "    </tr>\n",
       "  </tbody>\n",
       "</table>\n",
       "</div>"
      ],
      "text/plain": [
       "             Bonos Acciones Desarrollado Emergente Privados   Real\n",
       "Media         0.04    0.106        0.083     0.119    0.128  0.062\n",
       "Volatilidad  0.068    0.224        0.221       0.3    0.231  0.068"
      ]
     },
     "execution_count": 5,
     "metadata": {},
     "output_type": "execute_result"
    }
   ],
   "source": [
    "annual_ret_summ2 = pd.DataFrame(columns=['Bonos', 'Acciones', 'Desarrollado', 'Emergente', 'Privados', \n",
    "                                        'Real'], index=['Media', 'Volatilidad'])\n",
    "annual_ret_summ2.loc['Media'] = np.array([0.0400, 0.1060, 0.0830, 0.1190, 0.1280, 0.0620])\n",
    "annual_ret_summ2.loc['Volatilidad'] = np.array([0.0680, 0.2240, 0.2210, 0.3000, 0.2310, 0.0680])\n",
    "\n",
    "annual_ret_summ2.round(4)"
   ]
  },
  {
   "cell_type": "code",
   "execution_count": 6,
   "metadata": {},
   "outputs": [
    {
     "data": {
      "text/plain": [
       "array([[0.068, 0.   , 0.   , 0.   , 0.   , 0.   ],\n",
       "       [0.   , 0.224, 0.   , 0.   , 0.   , 0.   ],\n",
       "       [0.   , 0.   , 0.221, 0.   , 0.   , 0.   ],\n",
       "       [0.   , 0.   , 0.   , 0.3  , 0.   , 0.   ],\n",
       "       [0.   , 0.   , 0.   , 0.   , 0.231, 0.   ],\n",
       "       [0.   , 0.   , 0.   , 0.   , 0.   , 0.068]])"
      ]
     },
     "execution_count": 6,
     "metadata": {},
     "output_type": "execute_result"
    }
   ],
   "source": [
    "S = np.diag(annual_ret_summ2.loc['Volatilidad']).astype(float)\n",
    "S"
   ]
  },
  {
   "cell_type": "code",
   "execution_count": 7,
   "metadata": {},
   "outputs": [
    {
     "data": {
      "text/plain": [
       "array([[0.004624 , 0.0060928, 0.003757 , 0.00408  , 0.0023562, 0.0009248],\n",
       "       [0.0060928, 0.050176 , 0.0346528, 0.04032  , 0.0362208, 0.0030464],\n",
       "       [0.003757 , 0.0346528, 0.048841 , 0.049725 , 0.0306306, 0.0015028],\n",
       "       [0.00408  , 0.04032  , 0.049725 , 0.09     , 0.017325 , 0.00306  ],\n",
       "       [0.0023562, 0.0362208, 0.0306306, 0.017325 , 0.053361 , 0.0047124],\n",
       "       [0.0009248, 0.0030464, 0.0015028, 0.00306  , 0.0047124, 0.004624 ]])"
      ]
     },
     "execution_count": 7,
     "metadata": {},
     "output_type": "execute_result"
    }
   ],
   "source": [
    "sigma = S.dot(corr).dot(S)\n",
    "sigma"
   ]
  },
  {
   "cell_type": "code",
   "execution_count": 8,
   "metadata": {},
   "outputs": [],
   "source": [
    "e1 = annual_ret_summ['Bonos'].loc['Media']\n",
    "e2 = annual_ret_summ['Acciones'].loc['Media']\n",
    "e3 = annual_ret_summ['Desarrollado'].loc['Media']\n",
    "e4 = annual_ret_summ['Emergente'].loc['Media']\n",
    "e5 = annual_ret_summ['Privados'].loc['Media']\n",
    "e6 = annual_ret_summ['Real'].loc['Media']\n",
    "\n",
    "eind = np.array([e1, e2, e3, e4, e5, e6])"
   ]
  },
  {
   "cell_type": "code",
   "execution_count": 9,
   "metadata": {},
   "outputs": [],
   "source": [
    "from scipy.optimize import minimize\n",
    "\n",
    "# Lo que quiero minimizar\n",
    "def varianza(w, sigma):\n",
    "    return w.T.dot(sigma).dot(w)\n",
    "\n",
    "# Restricciones, quiero un rendimiento iguial a mu_req \n",
    "def rendimiento_req(w, Eind, mu_req):\n",
    "    return w.T.dot(Eind) - mu_req\n",
    "\n",
    "# Pesos tiene que sumar 1 \n",
    "def weights_equal_1(w):\n",
    "    return np.sum(w) - 1\n",
    "\n",
    "\n",
    "cons = (\n",
    "    # Rendimiento requerido\n",
    "    {'type': 'eq', 'fun': rendimiento_req, 'args': (eind, 0.15)},\n",
    "    # Los pesos tienne que ser 1\n",
    "    {'type': 'eq', 'fun': weights_equal_1}\n",
    ")\n",
    "# Portafolio de mínima varianza para nivel de rendimiento esperado Ereq[i]\n",
    "min_var = minimize(fun=varianza,\n",
    "                   x0=np.array([1/6, 1/6, 1/6, 1/6, 1/6, 1/6]),\n",
    "                   args=(sigma,),\n",
    "                   bounds=((0,1), (0,1), (0,1), (0,1), (0,1), (0,1)),\n",
    "                   constraints=cons)\n"
   ]
  },
  {
   "cell_type": "code",
   "execution_count": 10,
   "metadata": {},
   "outputs": [],
   "source": [
    "# DataFrame de portafolios de la frontera\n",
    "N = 100\n",
    "portafolios = pd.DataFrame(index=range(N), columns=['w1', 'w2', 'w3', 'w4', 'w5', 'w6', 'media', 'vol'])"
   ]
  },
  {
   "cell_type": "code",
   "execution_count": 11,
   "metadata": {},
   "outputs": [],
   "source": [
    "ereq = np.linspace(eind.min(), eind.max(), N)\n",
    "\n",
    "# Para cada rendimiento entre el mínimo y máximo posible ... ¿cuáles son los pesoso con mínima varianza?\n",
    "for i in range(len(ereq)):\n",
    "    # Restricciones\n",
    "    cons = (\n",
    "        # Rendimiento requerido\n",
    "        {'type': 'eq', 'fun': rendimiento_req, 'args': (eind, ereq[i])},\n",
    "        # Los pesos tienne que ser 1\n",
    "        {'type': 'eq', 'fun': weights_equal_1}\n",
    "    )\n",
    "    # Portafolio de mínima varianza para nivel de rendimiento esperado Ereq[i]\n",
    "    min_var = minimize(fun=varianza,\n",
    "                       x0=np.array([1/6, 1/6, 1/6, 1/6, 1/6, 1/6]),\n",
    "                       args=(sigma,),\n",
    "                       bounds=((0,1), (0,1), (0,1), (0,1), (0,1), (0,1)),\n",
    "                       constraints=cons\n",
    "                      )\n",
    "    # Pesos, rendimientos y volatilidades de los portafolio\n",
    "    portafolios.loc[i, ['w1','w2','w3', 'w4','w5', 'w6']] = min_var.x\n",
    "    portafolios['media'][i] = eind.dot(min_var.x)\n",
    "    portafolios['vol'][i] = np.sqrt(varianza(min_var.x, sigma))"
   ]
  },
  {
   "cell_type": "code",
   "execution_count": 12,
   "metadata": {},
   "outputs": [
    {
     "data": {
      "text/html": [
       "<div>\n",
       "<style scoped>\n",
       "    .dataframe tbody tr th:only-of-type {\n",
       "        vertical-align: middle;\n",
       "    }\n",
       "\n",
       "    .dataframe tbody tr th {\n",
       "        vertical-align: top;\n",
       "    }\n",
       "\n",
       "    .dataframe thead th {\n",
       "        text-align: right;\n",
       "    }\n",
       "</style>\n",
       "<table border=\"1\" class=\"dataframe\">\n",
       "  <thead>\n",
       "    <tr style=\"text-align: right;\">\n",
       "      <th></th>\n",
       "      <th>w1</th>\n",
       "      <th>w2</th>\n",
       "      <th>w3</th>\n",
       "      <th>w4</th>\n",
       "      <th>w5</th>\n",
       "      <th>w6</th>\n",
       "      <th>media</th>\n",
       "      <th>vol</th>\n",
       "      <th>sharpe</th>\n",
       "    </tr>\n",
       "  </thead>\n",
       "  <tbody>\n",
       "    <tr>\n",
       "      <th>0</th>\n",
       "      <td>1.0</td>\n",
       "      <td>0.0</td>\n",
       "      <td>0.0</td>\n",
       "      <td>0.0</td>\n",
       "      <td>0.0</td>\n",
       "      <td>0.0</td>\n",
       "      <td>0.04</td>\n",
       "      <td>0.068</td>\n",
       "      <td>0.147059</td>\n",
       "    </tr>\n",
       "    <tr>\n",
       "      <th>1</th>\n",
       "      <td>0.959596</td>\n",
       "      <td>0.0</td>\n",
       "      <td>0.0</td>\n",
       "      <td>0.0</td>\n",
       "      <td>0.0</td>\n",
       "      <td>0.040404</td>\n",
       "      <td>0.040889</td>\n",
       "      <td>0.065857</td>\n",
       "      <td>0.165341</td>\n",
       "    </tr>\n",
       "    <tr>\n",
       "      <th>2</th>\n",
       "      <td>0.919192</td>\n",
       "      <td>0.0</td>\n",
       "      <td>0.0</td>\n",
       "      <td>0.0</td>\n",
       "      <td>0.0</td>\n",
       "      <td>0.080808</td>\n",
       "      <td>0.041778</td>\n",
       "      <td>0.063832</td>\n",
       "      <td>0.184514</td>\n",
       "    </tr>\n",
       "    <tr>\n",
       "      <th>3</th>\n",
       "      <td>0.878788</td>\n",
       "      <td>0.0</td>\n",
       "      <td>0.0</td>\n",
       "      <td>0.0</td>\n",
       "      <td>0.0</td>\n",
       "      <td>0.121212</td>\n",
       "      <td>0.042667</td>\n",
       "      <td>0.061935</td>\n",
       "      <td>0.204516</td>\n",
       "    </tr>\n",
       "    <tr>\n",
       "      <th>4</th>\n",
       "      <td>0.838384</td>\n",
       "      <td>0.0</td>\n",
       "      <td>0.0</td>\n",
       "      <td>0.0</td>\n",
       "      <td>0.0</td>\n",
       "      <td>0.161616</td>\n",
       "      <td>0.043556</td>\n",
       "      <td>0.060179</td>\n",
       "      <td>0.225253</td>\n",
       "    </tr>\n",
       "    <tr>\n",
       "      <th>...</th>\n",
       "      <td>...</td>\n",
       "      <td>...</td>\n",
       "      <td>...</td>\n",
       "      <td>...</td>\n",
       "      <td>...</td>\n",
       "      <td>...</td>\n",
       "      <td>...</td>\n",
       "      <td>...</td>\n",
       "      <td>...</td>\n",
       "    </tr>\n",
       "    <tr>\n",
       "      <th>95</th>\n",
       "      <td>0.0</td>\n",
       "      <td>0.0</td>\n",
       "      <td>0.0</td>\n",
       "      <td>0.278406</td>\n",
       "      <td>0.705686</td>\n",
       "      <td>0.015908</td>\n",
       "      <td>0.124444</td>\n",
       "      <td>0.201224</td>\n",
       "      <td>0.46935</td>\n",
       "    </tr>\n",
       "    <tr>\n",
       "      <th>96</th>\n",
       "      <td>0.0</td>\n",
       "      <td>0.0</td>\n",
       "      <td>0.0</td>\n",
       "      <td>0.282137</td>\n",
       "      <td>0.715933</td>\n",
       "      <td>0.001931</td>\n",
       "      <td>0.125333</td>\n",
       "      <td>0.203789</td>\n",
       "      <td>0.467803</td>\n",
       "    </tr>\n",
       "    <tr>\n",
       "      <th>97</th>\n",
       "      <td>0.0</td>\n",
       "      <td>0.0</td>\n",
       "      <td>0.0</td>\n",
       "      <td>0.197531</td>\n",
       "      <td>0.802469</td>\n",
       "      <td>0.0</td>\n",
       "      <td>0.126222</td>\n",
       "      <td>0.208246</td>\n",
       "      <td>0.462061</td>\n",
       "    </tr>\n",
       "    <tr>\n",
       "      <th>98</th>\n",
       "      <td>0.0</td>\n",
       "      <td>0.0</td>\n",
       "      <td>0.0</td>\n",
       "      <td>0.098765</td>\n",
       "      <td>0.901235</td>\n",
       "      <td>0.0</td>\n",
       "      <td>0.127111</td>\n",
       "      <td>0.217493</td>\n",
       "      <td>0.446502</td>\n",
       "    </tr>\n",
       "    <tr>\n",
       "      <th>99</th>\n",
       "      <td>0.0</td>\n",
       "      <td>0.0</td>\n",
       "      <td>0.0</td>\n",
       "      <td>0.0</td>\n",
       "      <td>1.0</td>\n",
       "      <td>0.0</td>\n",
       "      <td>0.128</td>\n",
       "      <td>0.231</td>\n",
       "      <td>0.424242</td>\n",
       "    </tr>\n",
       "  </tbody>\n",
       "</table>\n",
       "<p>100 rows × 9 columns</p>\n",
       "</div>"
      ],
      "text/plain": [
       "          w1   w2   w3        w4        w5        w6     media       vol  \\\n",
       "0        1.0  0.0  0.0       0.0       0.0       0.0      0.04     0.068   \n",
       "1   0.959596  0.0  0.0       0.0       0.0  0.040404  0.040889  0.065857   \n",
       "2   0.919192  0.0  0.0       0.0       0.0  0.080808  0.041778  0.063832   \n",
       "3   0.878788  0.0  0.0       0.0       0.0  0.121212  0.042667  0.061935   \n",
       "4   0.838384  0.0  0.0       0.0       0.0  0.161616  0.043556  0.060179   \n",
       "..       ...  ...  ...       ...       ...       ...       ...       ...   \n",
       "95       0.0  0.0  0.0  0.278406  0.705686  0.015908  0.124444  0.201224   \n",
       "96       0.0  0.0  0.0  0.282137  0.715933  0.001931  0.125333  0.203789   \n",
       "97       0.0  0.0  0.0  0.197531  0.802469       0.0  0.126222  0.208246   \n",
       "98       0.0  0.0  0.0  0.098765  0.901235       0.0  0.127111  0.217493   \n",
       "99       0.0  0.0  0.0       0.0       1.0       0.0     0.128     0.231   \n",
       "\n",
       "      sharpe  \n",
       "0   0.147059  \n",
       "1   0.165341  \n",
       "2   0.184514  \n",
       "3   0.204516  \n",
       "4   0.225253  \n",
       "..       ...  \n",
       "95   0.46935  \n",
       "96  0.467803  \n",
       "97  0.462061  \n",
       "98  0.446502  \n",
       "99  0.424242  \n",
       "\n",
       "[100 rows x 9 columns]"
      ]
     },
     "execution_count": 12,
     "metadata": {},
     "output_type": "execute_result"
    }
   ],
   "source": [
    "portafolios['sharpe']=(portafolios.media - 0.03)/portafolios.vol\n",
    "portafolios"
   ]
  },
  {
   "cell_type": "code",
   "execution_count": 13,
   "metadata": {},
   "outputs": [
    {
     "data": {
      "text/html": [
       "<div>\n",
       "<style scoped>\n",
       "    .dataframe tbody tr th:only-of-type {\n",
       "        vertical-align: middle;\n",
       "    }\n",
       "\n",
       "    .dataframe tbody tr th {\n",
       "        vertical-align: top;\n",
       "    }\n",
       "\n",
       "    .dataframe thead th {\n",
       "        text-align: right;\n",
       "    }\n",
       "</style>\n",
       "<table border=\"1\" class=\"dataframe\">\n",
       "  <thead>\n",
       "    <tr style=\"text-align: right;\">\n",
       "      <th></th>\n",
       "      <th>w1</th>\n",
       "      <th>w2</th>\n",
       "      <th>w3</th>\n",
       "      <th>w4</th>\n",
       "      <th>w5</th>\n",
       "      <th>w6</th>\n",
       "      <th>media</th>\n",
       "      <th>vol</th>\n",
       "      <th>sharpe</th>\n",
       "    </tr>\n",
       "  </thead>\n",
       "  <tbody>\n",
       "    <tr>\n",
       "      <th>13</th>\n",
       "      <td>0.480905</td>\n",
       "      <td>0.0</td>\n",
       "      <td>0.006451</td>\n",
       "      <td>0.0</td>\n",
       "      <td>0.0</td>\n",
       "      <td>0.512644</td>\n",
       "      <td>0.051556</td>\n",
       "      <td>0.052686</td>\n",
       "      <td>0.409129</td>\n",
       "    </tr>\n",
       "  </tbody>\n",
       "</table>\n",
       "</div>"
      ],
      "text/plain": [
       "          w1   w2        w3   w4   w5        w6     media       vol    sharpe\n",
       "13  0.480905  0.0  0.006451  0.0  0.0  0.512644  0.051556  0.052686  0.409129"
      ]
     },
     "execution_count": 13,
     "metadata": {},
     "output_type": "execute_result"
    }
   ],
   "source": [
    "min_var = portafolios[portafolios.vol == portafolios.vol.min()]\n",
    "min_var"
   ]
  },
  {
   "cell_type": "code",
   "execution_count": 14,
   "metadata": {},
   "outputs": [
    {
     "data": {
      "text/plain": [
       " message: Optimization terminated successfully\n",
       " success: True\n",
       "  status: 0\n",
       "     fun: 0.0027745037321007093\n",
       "       x: [ 4.951e-01  3.036e-18  2.098e-04  8.674e-19  0.000e+00\n",
       "            5.046e-01]\n",
       "     nit: 8\n",
       "     jac: [ 5.514e-03  9.123e-03  5.258e-03  7.150e-03  7.102e-03\n",
       "            5.583e-03]\n",
       "    nfev: 56\n",
       "    njev: 8"
      ]
     },
     "execution_count": 14,
     "metadata": {},
     "output_type": "execute_result"
    }
   ],
   "source": [
    "# Portafolio de mínima varianza\n",
    "cons = ({'type': 'eq', 'fun': weights_equal_1},)\n",
    "min_var3 = minimize(varianza, \n",
    "                    x0=np.array([1/6, 1/6, 1/6, 1/6, 1/6, 1/6]),\n",
    "                    args=(sigma,),\n",
    "                    bounds=((0,1), (0,1), (0,1), (0,1), (0,1), (0,1)),\n",
    "                    constraints=cons)\n",
    "min_var3"
   ]
  },
  {
   "cell_type": "code",
   "execution_count": 15,
   "metadata": {},
   "outputs": [
    {
     "data": {
      "text/plain": [
       "(array([4.95146499e-01, 3.03576608e-18, 2.09838959e-04, 8.67361738e-19,\n",
       "        0.00000000e+00, 5.04643663e-01]),\n",
       " 0.051111183650607274,\n",
       " 0.05267355818720346,\n",
       " 0.4007928147853136)"
      ]
     },
     "execution_count": 15,
     "metadata": {},
     "output_type": "execute_result"
    }
   ],
   "source": [
    "w_minvar3 = min_var3.x\n",
    "e_minvar3 = eind.dot(w_minvar3)\n",
    "s_minvar3 = np.sqrt(varianza(w_minvar3, sigma))\n",
    "sr_minvar3 = (e_minvar3-0.03)/s_minvar3\n",
    "\n",
    "w_minvar3, e_minvar3, s_minvar3, sr_minvar3"
   ]
  },
  {
   "cell_type": "code",
   "execution_count": 16,
   "metadata": {},
   "outputs": [
    {
     "data": {
      "text/html": [
       "<div>\n",
       "<style scoped>\n",
       "    .dataframe tbody tr th:only-of-type {\n",
       "        vertical-align: middle;\n",
       "    }\n",
       "\n",
       "    .dataframe tbody tr th {\n",
       "        vertical-align: top;\n",
       "    }\n",
       "\n",
       "    .dataframe thead th {\n",
       "        text-align: right;\n",
       "    }\n",
       "</style>\n",
       "<table border=\"1\" class=\"dataframe\">\n",
       "  <thead>\n",
       "    <tr style=\"text-align: right;\">\n",
       "      <th></th>\n",
       "      <th>w1</th>\n",
       "      <th>w2</th>\n",
       "      <th>w3</th>\n",
       "      <th>w4</th>\n",
       "      <th>w5</th>\n",
       "      <th>w6</th>\n",
       "      <th>media</th>\n",
       "      <th>vol</th>\n",
       "      <th>sharpe</th>\n",
       "    </tr>\n",
       "  </thead>\n",
       "  <tbody>\n",
       "    <tr>\n",
       "      <th>42</th>\n",
       "      <td>0.003191</td>\n",
       "      <td>0.0</td>\n",
       "      <td>0.0</td>\n",
       "      <td>0.080966</td>\n",
       "      <td>0.163461</td>\n",
       "      <td>0.752381</td>\n",
       "      <td>0.077333</td>\n",
       "      <td>0.081443</td>\n",
       "      <td>0.581186</td>\n",
       "    </tr>\n",
       "  </tbody>\n",
       "</table>\n",
       "</div>"
      ],
      "text/plain": [
       "          w1   w2   w3        w4        w5        w6     media       vol  \\\n",
       "42  0.003191  0.0  0.0  0.080966  0.163461  0.752381  0.077333  0.081443   \n",
       "\n",
       "      sharpe  \n",
       "42  0.581186  "
      ]
     },
     "execution_count": 16,
     "metadata": {},
     "output_type": "execute_result"
    }
   ],
   "source": [
    "max_sharpe = portafolios[portafolios.sharpe == portafolios.sharpe.max()]\n",
    "max_sharpe"
   ]
  },
  {
   "cell_type": "markdown",
   "metadata": {},
   "source": [
    "# Portafolio mínima varianza\n",
    "\n",
    "* Bonos: 49.51%\n",
    "* Acciones: 0%\n",
    "* Desarrollado: 0.03%\n",
    "* Emergentes: 0%\n",
    "* Privados: 0%\n",
    "* Real: 50.46%\n",
    "\n",
    "**Rendimiento:** 5.11%\n",
    "\n",
    "**Volatilidad:** 5.26%\n",
    "\n",
    "**Sharpe Ratio:** 0.4007"
   ]
  },
  {
   "cell_type": "markdown",
   "metadata": {},
   "source": [
    "# Portafolio EMV\n",
    "\n",
    "* Bonos: 0.33%\n",
    "* Acciones: 0%\n",
    "* Desarrollado: 0%\n",
    "* Emergentes: 8.1%\n",
    "* Privados: 16.34%\n",
    "* Real: 75.23%\n",
    "\n",
    "**Rendimiento:** 7.76%\n",
    "\n",
    "**Volatilidad:** 8.14%\n",
    "\n",
    "**Sharpe Ratio:** 0.5811"
   ]
  },
  {
   "cell_type": "code",
   "execution_count": 17,
   "metadata": {},
   "outputs": [
    {
     "data": {
      "image/png": "[encoded data removed]",
      "text/plain": [
       "<Figure size 640x480 with 1 Axes>"
      ]
     },
     "metadata": {},
     "output_type": "display_data"
    }
   ],
   "source": [
    "plt.plot(portafolios.vol, portafolios.media, c='navy')\n",
    "\n",
    "plt.scatter(s_minvar3, e_minvar3, c='red')\n",
    "plt.text(s_minvar3, e_minvar3, 'min_var')\n",
    "\n",
    "plt.scatter(max_sharpe.vol, max_sharpe.media, c='red')\n",
    "plt.text(max_sharpe.vol, max_sharpe.media, 'EMV')\n",
    "\n",
    "plt.title('Rendimiento vs Volatilidad')\n",
    "plt.xlabel('Volatilidad $\\sigma$')\n",
    "plt.ylabel('Rendimiento $E[X]$')\n",
    "plt.grid()"
   ]
  },
  {
   "cell_type": "markdown",
   "metadata": {},
   "source": [
    "## 3. Frontera de mínima varianza y LAC (30 puntos)\n",
    "\n",
    "Con los portafolios que se encontraron en el punto anterior (de mínima varianza y EMV):\n",
    "\n",
    "1. Construya la frontera de mínima varianza calculando el rendimiento esperado y volatilidad para varias combinaciones de los anteriores portafolios. Reportar dichas combinaciones en un DataFrame incluyendo pesos, rendimiento, volatilidad y cociente de Sharpe (15 puntos).\n",
    "2. También construya la línea de asignación de capital entre el activo libre de riesgo y el portafolio EMV. Reportar las combinaciones de estos activos en un DataFrame incluyendo pesos, rendimiento, volatilidad y cociente de Sharpe (15 puntos)."
   ]
  },
  {
   "cell_type": "code",
   "execution_count": 18,
   "metadata": {},
   "outputs": [
    {
     "data": {
      "image/png": "[encoded data removed]",
      "text/plain": [
       "<Figure size 640x480 with 1 Axes>"
      ]
     },
     "metadata": {},
     "output_type": "display_data"
    }
   ],
   "source": [
    "erp = max_sharpe.media.iloc[0]\n",
    "sp = max_sharpe.vol.iloc[0]\n",
    "\n",
    "s = np.linspace(0,0.15,10)\n",
    "\n",
    "lac = 0.03 + s * max_sharpe.sharpe.iloc[0]\n",
    "\n",
    "plt.scatter(0, 0.03, s = 50, c = 'red')\n",
    "plt.text(0, 0.03, 'Rendimiento libre de riesgo')\n",
    "\n",
    "plt.scatter(sp, erp, s = 50, c = 'skyblue')\n",
    "plt.text(sp, erp, '100% activos')\n",
    "\n",
    "plt.plot(s, lac, c = 'navy')\n",
    "\n",
    "plt.plot(portafolios.vol, portafolios.media)\n",
    "\n",
    "plt.title('Rendimiento vs Volatilidad')\n",
    "plt.xlabel('Volatilidad $\\sigma$')\n",
    "plt.ylabel('Rendimiento $E[x]$')\n",
    "plt.grid()"
   ]
  },
  {
   "cell_type": "code",
   "execution_count": 19,
   "metadata": {},
   "outputs": [
    {
     "data": {
      "text/html": [
       "<div>\n",
       "<style scoped>\n",
       "    .dataframe tbody tr th:only-of-type {\n",
       "        vertical-align: middle;\n",
       "    }\n",
       "\n",
       "    .dataframe tbody tr th {\n",
       "        vertical-align: top;\n",
       "    }\n",
       "\n",
       "    .dataframe thead th {\n",
       "        text-align: right;\n",
       "    }\n",
       "</style>\n",
       "<table border=\"1\" class=\"dataframe\">\n",
       "  <thead>\n",
       "    <tr style=\"text-align: right;\">\n",
       "      <th></th>\n",
       "      <th>gamma</th>\n",
       "      <th>w_activos</th>\n",
       "      <th>w_libre_riesgo</th>\n",
       "      <th>rendimientos</th>\n",
       "      <th>volatilidad</th>\n",
       "      <th>sharpe_ratio</th>\n",
       "    </tr>\n",
       "  </thead>\n",
       "  <tbody>\n",
       "    <tr>\n",
       "      <th>0</th>\n",
       "      <td>1.0</td>\n",
       "      <td>7.136147</td>\n",
       "      <td>-6.136147</td>\n",
       "      <td>0.367778</td>\n",
       "      <td>0.581186</td>\n",
       "      <td>0.581186</td>\n",
       "    </tr>\n",
       "    <tr>\n",
       "      <th>1</th>\n",
       "      <td>2.0</td>\n",
       "      <td>3.568073</td>\n",
       "      <td>-2.568073</td>\n",
       "      <td>0.198889</td>\n",
       "      <td>0.290593</td>\n",
       "      <td>0.581186</td>\n",
       "    </tr>\n",
       "    <tr>\n",
       "      <th>2</th>\n",
       "      <td>3.0</td>\n",
       "      <td>2.378716</td>\n",
       "      <td>-1.378716</td>\n",
       "      <td>0.142593</td>\n",
       "      <td>0.193729</td>\n",
       "      <td>0.581186</td>\n",
       "    </tr>\n",
       "    <tr>\n",
       "      <th>3</th>\n",
       "      <td>4.0</td>\n",
       "      <td>1.784037</td>\n",
       "      <td>-0.784037</td>\n",
       "      <td>0.114444</td>\n",
       "      <td>0.145297</td>\n",
       "      <td>0.581186</td>\n",
       "    </tr>\n",
       "    <tr>\n",
       "      <th>4</th>\n",
       "      <td>5.0</td>\n",
       "      <td>1.427229</td>\n",
       "      <td>-0.427229</td>\n",
       "      <td>0.097556</td>\n",
       "      <td>0.116237</td>\n",
       "      <td>0.581186</td>\n",
       "    </tr>\n",
       "    <tr>\n",
       "      <th>5</th>\n",
       "      <td>6.0</td>\n",
       "      <td>1.189358</td>\n",
       "      <td>-0.189358</td>\n",
       "      <td>0.086296</td>\n",
       "      <td>0.096864</td>\n",
       "      <td>0.581186</td>\n",
       "    </tr>\n",
       "    <tr>\n",
       "      <th>6</th>\n",
       "      <td>7.0</td>\n",
       "      <td>1.019450</td>\n",
       "      <td>-0.019450</td>\n",
       "      <td>0.078254</td>\n",
       "      <td>0.083027</td>\n",
       "      <td>0.581186</td>\n",
       "    </tr>\n",
       "    <tr>\n",
       "      <th>7</th>\n",
       "      <td>8.0</td>\n",
       "      <td>0.892018</td>\n",
       "      <td>0.107982</td>\n",
       "      <td>0.072222</td>\n",
       "      <td>0.072648</td>\n",
       "      <td>0.581186</td>\n",
       "    </tr>\n",
       "    <tr>\n",
       "      <th>8</th>\n",
       "      <td>9.0</td>\n",
       "      <td>0.792905</td>\n",
       "      <td>0.207095</td>\n",
       "      <td>0.067531</td>\n",
       "      <td>0.064576</td>\n",
       "      <td>0.581186</td>\n",
       "    </tr>\n",
       "    <tr>\n",
       "      <th>9</th>\n",
       "      <td>10.0</td>\n",
       "      <td>0.713615</td>\n",
       "      <td>0.286385</td>\n",
       "      <td>0.063778</td>\n",
       "      <td>0.058119</td>\n",
       "      <td>0.581186</td>\n",
       "    </tr>\n",
       "  </tbody>\n",
       "</table>\n",
       "</div>"
      ],
      "text/plain": [
       "   gamma  w_activos  w_libre_riesgo  rendimientos  volatilidad  sharpe_ratio\n",
       "0    1.0   7.136147       -6.136147      0.367778     0.581186      0.581186\n",
       "1    2.0   3.568073       -2.568073      0.198889     0.290593      0.581186\n",
       "2    3.0   2.378716       -1.378716      0.142593     0.193729      0.581186\n",
       "3    4.0   1.784037       -0.784037      0.114444     0.145297      0.581186\n",
       "4    5.0   1.427229       -0.427229      0.097556     0.116237      0.581186\n",
       "5    6.0   1.189358       -0.189358      0.086296     0.096864      0.581186\n",
       "6    7.0   1.019450       -0.019450      0.078254     0.083027      0.581186\n",
       "7    8.0   0.892018        0.107982      0.072222     0.072648      0.581186\n",
       "8    9.0   0.792905        0.207095      0.067531     0.064576      0.581186\n",
       "9   10.0   0.713615        0.286385      0.063778     0.058119      0.581186"
      ]
     },
     "execution_count": 19,
     "metadata": {},
     "output_type": "execute_result"
    }
   ],
   "source": [
    "gamma = np.linspace(1, 10, 10)\n",
    "df = pd.DataFrame({\n",
    "    'gamma': gamma,\n",
    "    'w_activos': (max_sharpe.media.iloc[0] - 0.03)/(gamma*max_sharpe.vol.iloc[0]**2)\n",
    "})\n",
    "df['w_libre_riesgo'] = 1-df.w_activos\n",
    "df['rendimientos'] = df.w_activos * max_sharpe.media.iloc[0] + df.w_libre_riesgo * 0.03\n",
    "df['volatilidad'] = df.w_activos * max_sharpe.vol.iloc[0]\n",
    "df['sharpe_ratio'] = (df.rendimientos - 0.03)/df.volatilidad\n",
    "df"
   ]
  },
  {
   "cell_type": "markdown",
   "metadata": {},
   "source": [
    "## 4. Gráficos y conclusiones (25 puntos)\n",
    "\n",
    "1. Usando todos los datos obtenidos, grafique:\n",
    " - los activos individuales,\n",
    " - portafolio de mínima varianza,\n",
    " - portafolio eficiente en media-varianza (EMV),\n",
    " - frontera de mínima varianza, y\n",
    " - línea de asignación de capital,\n",
    "en el espacio de rendimiento (eje $y$) vs. volatilidad (eje $x$). Asegúrese de etiquetar todo y poner distintos colores para diferenciar los distintos elementos en su gráfico (15 puntos).\n",
    "2. Suponga que usted está aconsejando a un cliente cuyo coeficiente de aversión al riesgo resultó ser 4. ¿Qué asignación de capital le sugeriría?, ¿qué significa su resultado?(10 puntos)"
   ]
  },
  {
   "cell_type": "code",
   "execution_count": 20,
   "metadata": {},
   "outputs": [
    {
     "data": {
      "image/png": "[encoded data removed]",
      "text/plain": [
       "<Figure size 640x480 with 1 Axes>"
      ]
     },
     "metadata": {},
     "output_type": "display_data"
    }
   ],
   "source": [
    "# Activos individuales\n",
    "activos = annual_ret_summ.keys()\n",
    "for i in activos:\n",
    "    plt.scatter(annual_ret_summ[i]['Volatilidad'], annual_ret_summ[i]['Media'], s = 30)\n",
    "    plt.text(annual_ret_summ[i]['Volatilidad'], annual_ret_summ[i]['Media'], i)\n",
    "\n",
    "# Mínima varianza\n",
    "plt.scatter(s_minvar3, e_minvar3, c='gray', s = 100)\n",
    "plt.text(s_minvar3, e_minvar3, 'min_var')\n",
    "\n",
    "# EMV\n",
    "plt.scatter(max_sharpe.vol, max_sharpe.media, c='black', s = 100)\n",
    "plt.text(max_sharpe.vol, max_sharpe.media, 'EMV')\n",
    "\n",
    "# Frontera mínima varianza\n",
    "plt.plot(portafolios.vol, portafolios.media, c='navy', label = 'Frontera mínima varianza')\n",
    "\n",
    "# LAC\n",
    "plt.plot(s, lac, c = 'skyblue', label = 'LAC')\n",
    "\n",
    "plt.legend()\n",
    "plt.title('Rendimiento vs Volatilidad')\n",
    "plt.xlabel('Volatilidad $\\sigma$')\n",
    "plt.ylabel('Rendimiento $E[X]$')\n",
    "plt.grid()"
   ]
  },
  {
   "cell_type": "code",
   "execution_count": 21,
   "metadata": {},
   "outputs": [
    {
     "data": {
      "text/html": [
       "<div>\n",
       "<style scoped>\n",
       "    .dataframe tbody tr th:only-of-type {\n",
       "        vertical-align: middle;\n",
       "    }\n",
       "\n",
       "    .dataframe tbody tr th {\n",
       "        vertical-align: top;\n",
       "    }\n",
       "\n",
       "    .dataframe thead th {\n",
       "        text-align: right;\n",
       "    }\n",
       "</style>\n",
       "<table border=\"1\" class=\"dataframe\">\n",
       "  <thead>\n",
       "    <tr style=\"text-align: right;\">\n",
       "      <th></th>\n",
       "      <th>gamma</th>\n",
       "      <th>w_activos</th>\n",
       "      <th>w_libre_riesgo</th>\n",
       "      <th>rendimientos</th>\n",
       "      <th>volatilidad</th>\n",
       "      <th>sharpe_ratio</th>\n",
       "    </tr>\n",
       "  </thead>\n",
       "  <tbody>\n",
       "    <tr>\n",
       "      <th>3</th>\n",
       "      <td>4.0</td>\n",
       "      <td>1.784037</td>\n",
       "      <td>-0.784037</td>\n",
       "      <td>0.114444</td>\n",
       "      <td>0.145297</td>\n",
       "      <td>0.581186</td>\n",
       "    </tr>\n",
       "  </tbody>\n",
       "</table>\n",
       "</div>"
      ],
      "text/plain": [
       "   gamma  w_activos  w_libre_riesgo  rendimientos  volatilidad  sharpe_ratio\n",
       "3    4.0   1.784037       -0.784037      0.114444     0.145297      0.581186"
      ]
     },
     "execution_count": 21,
     "metadata": {},
     "output_type": "execute_result"
    }
   ],
   "source": [
    "df.query('gamma == 4')"
   ]
  },
  {
   "cell_type": "markdown",
   "metadata": {},
   "source": [
    "# Conclusión\n",
    "\n",
    "De acuerdo a la asignación de capital óptima, un cliente con coeficiente de aversión al riesgo de 4, que es algo bajo, debería invertir el **178.40%** de su capital en los activos, este 78% extra pidiendolo prestado, es decir, apalancarse. \n",
    "\n",
    "El -78% de libre de riesgo significa que de ahí se pide prestados, sin embargo, en la práctica no te prestan a tasa libre de riesgo pero ese 78% extra debe pedirse prestado.\n",
    "\n",
    "Esto le permitiría a este inversionista obtener rendimientos del **11.44%** expuesto a una volatilidad de **14.52%** teniendo así un sharpe ratio de **0.5811.**"
   ]
  }
 ],
 "metadata": {
  "kernelspec": {
   "display_name": "Python 3 (ipykernel)",
   "language": "python",
   "name": "python3"
  },
  "language_info": {
   "codemirror_mode": {
    "name": "ipython",
    "version": 3
   },
   "file_extension": ".py",
   "mimetype": "text/x-python",
   "name": "python",
   "nbconvert_exporter": "python",
   "pygments_lexer": "ipython3",
   "version": "3.11.4"
  }
 },
 "nbformat": 4,
 "nbformat_minor": 2
}
