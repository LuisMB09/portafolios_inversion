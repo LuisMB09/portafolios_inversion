{
 "cells": [
  {
   "cell_type": "code",
   "execution_count": 1,
   "id": "a_fKjtFS500N",
   "metadata": {
    "id": "a_fKjtFS500N"
   },
   "outputs": [],
   "source": [
    "import yfinance as yf\n",
    "import pandas as pd\n",
    "import numpy as np\n",
    "import datetime\n",
    "import matplotlib.pyplot as plt\n",
    "import pandas_datareader.data as web\n",
    "from sklearn.linear_model import LinearRegression\n",
    "from sklearn.metrics import r2_score"
   ]
  },
  {
   "cell_type": "markdown",
   "id": "1628101f",
   "metadata": {
    "id": "1628101f"
   },
   "source": [
    "# Teoría"
   ]
  },
  {
   "cell_type": "markdown",
   "id": "078c9bea",
   "metadata": {
    "id": "078c9bea"
   },
   "source": [
    "## 1- 10 puntos\n",
    "\n",
    "La formula del R2 es:\n",
    "\n",
    "$$R^2 = \\frac{Var(errorPromedio) - Var(errorModelo)}{Var(errorPromedio)}$$\n",
    "\n",
    "Convenceme que entiendes esta formula y porque esto tiene sentido\n"
   ]
  },
  {
   "cell_type": "markdown",
   "id": "25c627ca",
   "metadata": {
    "id": "25c627ca"
   },
   "source": [
    "# 2- 20 puntos\n",
    "\n",
    "¿Qué es una regresión lineal y para que sirve?\n",
    "¿Qué es el gradiente descendiente? ¿Cómo uso eso para encontrar los mejores coeficientes de una regresión lineal?\n",
    "\n",
    "\n",
    "Responde estas preguntas, convenceme que entiendes que es una regresión lineal y de donde salen los coeficientes"
   ]
  },
  {
   "cell_type": "markdown",
   "id": "a8f7789a",
   "metadata": {
    "id": "a8f7789a"
   },
   "source": [
    "# 3- 5 puntos\n",
    "¿Por qué hay empresas con valuaciones bajas respecto a sus ganancias?"
   ]
  },
  {
   "cell_type": "markdown",
   "id": "402caf35",
   "metadata": {
    "id": "402caf35"
   },
   "source": [
    "## 4- 10 puntos\n",
    "\n",
    "La utilidad de un activo es:\n",
    "\n",
    "$$Utiliad = E[P] - \\alpha *\\frac{1}{2} Var(P) $$\n",
    "\n",
    "Explica porque esto tiene sentido  en el mundo de los econos"
   ]
  },
  {
   "cell_type": "markdown",
   "id": "18c75549",
   "metadata": {
    "id": "18c75549"
   },
   "source": [
    "## 5- 5 puntos\n",
    "Explica en 3 renglones la hopitesis de mercados eficientes"
   ]
  },
  {
   "cell_type": "markdown",
   "id": "1495fff2",
   "metadata": {
    "id": "1495fff2"
   },
   "source": [
    "# Práctica"
   ]
  },
  {
   "cell_type": "markdown",
   "id": "87c0fd7c",
   "metadata": {
    "id": "87c0fd7c"
   },
   "source": [
    "### 30%\n",
    "\n",
    "Baja del 2016 a 2021, de forma diaria las acciones de:\n",
    "\n",
    "\n",
    "- Apple\n",
    "- Amazon\n",
    "- Discover\n",
    "- Cotsco\n",
    "- Starbucks\n",
    "\n",
    "\n",
    "- Obten el portafolio de mínima varianza\n",
    "- Obten una gráfica de todos los posibles portafolios\n",
    "- Calcula la beta de cada uno de esos activos\n",
    "- Calcula el R2 de cada uno de esos activos\n",
    "- Cuanto debes invertir en ese portafolio dado los cooeficientes de aversión : [1, 2, 3, 4, 5, 6, 6, 7]\n",
    "- Obten el R2 y Beta con bootstrap de cada uno de esos activos\n",
    "  Responde: probabilidad beta > 1  y probabilidad r2 > 0.5\n",
    "  \n",
    "  \n",
    "### CAPM, Fama french y 5 factores (20%)\n",
    "\n",
    "Sobre el portafolio anterior, crea los 3 distintos modelos vistos en clase.\n",
    "\n",
    "¿Cuál es el R2 de cada uno?  Crea un boostrap de cada uno de los R2\n",
    "\n",
    "Explica conclusiones"
   ]
  },
  {
   "cell_type": "markdown",
   "id": "hIzub7dNXrXe",
   "metadata": {
    "id": "hIzub7dNXrXe"
   },
   "source": [
    "#### Descarga de datos"
   ]
  },
  {
   "cell_type": "code",
   "execution_count": 2,
   "id": "f9b7f88c",
   "metadata": {
    "colab": {
     "base_uri": "https://localhost:8080/"
    },
    "id": "f9b7f88c",
    "outputId": "f2dce4e7-4c92-4198-809f-b803db3cda45"
   },
   "outputs": [
    {
     "name": "stdout",
     "output_type": "stream",
     "text": [
      "[*********************100%%**********************]  5 of 5 completed\n",
      "[*********************100%%**********************]  6 of 6 completed\n"
     ]
    }
   ],
   "source": [
    "np.random.seed(150)\n",
    "\n",
    "tickers2 = ['AAPL', 'AMZN', 'DFS', 'COST', 'SBUX',\n",
    "           'VTI']\n",
    "tickers = tickers2.copy()\n",
    "tickers.remove(\"VTI\")\n",
    "start_date = '2016-01-01'\n",
    "end_date = \"2021-12-31\"\n",
    "\n",
    "St = yf.download(tickers, start=start_date, end=end_date)['Adj Close']\n",
    "Stock = yf.download(tickers2, start=start_date, end=end_date)['Adj Close']\n",
    "rt = St.pct_change().dropna()\n",
    "returns = Stock.pct_change().dropna()"
   ]
  },
  {
   "cell_type": "markdown",
   "id": "iBVudYNcX1Rv",
   "metadata": {
    "id": "iBVudYNcX1Rv"
   },
   "source": [
    "#### Portafolio de mínima varianza"
   ]
  },
  {
   "cell_type": "code",
   "execution_count": 3,
   "id": "efaTtdU66gB3",
   "metadata": {
    "colab": {
     "base_uri": "https://localhost:8080/",
     "height": 89
    },
    "id": "efaTtdU66gB3",
    "outputId": "0f338be1-a7bb-4a96-b067-acd6f0e53684"
   },
   "outputs": [
    {
     "data": {
      "text/html": [
       "<div>\n",
       "<style scoped>\n",
       "    .dataframe tbody tr th:only-of-type {\n",
       "        vertical-align: middle;\n",
       "    }\n",
       "\n",
       "    .dataframe tbody tr th {\n",
       "        vertical-align: top;\n",
       "    }\n",
       "\n",
       "    .dataframe thead th {\n",
       "        text-align: right;\n",
       "    }\n",
       "</style>\n",
       "<table border=\"1\" class=\"dataframe\">\n",
       "  <thead>\n",
       "    <tr style=\"text-align: right;\">\n",
       "      <th></th>\n",
       "      <th>Expected_value</th>\n",
       "      <th>Volatility</th>\n",
       "      <th>Sharpe</th>\n",
       "      <th>W_AAPL</th>\n",
       "      <th>W_AMZN</th>\n",
       "      <th>W_DFS</th>\n",
       "      <th>W_COST</th>\n",
       "      <th>W_SBUX</th>\n",
       "    </tr>\n",
       "  </thead>\n",
       "  <tbody>\n",
       "    <tr>\n",
       "      <th>5861</th>\n",
       "      <td>0.237684</td>\n",
       "      <td>0.18732</td>\n",
       "      <td>1.10871</td>\n",
       "      <td>0.006256</td>\n",
       "      <td>0.116799</td>\n",
       "      <td>0.579715</td>\n",
       "      <td>0.006662</td>\n",
       "      <td>0.290568</td>\n",
       "    </tr>\n",
       "  </tbody>\n",
       "</table>\n",
       "</div>"
      ],
      "text/plain": [
       "      Expected_value  Volatility   Sharpe    W_AAPL    W_AMZN     W_DFS  \\\n",
       "5861        0.237684     0.18732  1.10871  0.006256  0.116799  0.579715   \n",
       "\n",
       "        W_COST    W_SBUX  \n",
       "5861  0.006662  0.290568  "
      ]
     },
     "execution_count": 3,
     "metadata": {},
     "output_type": "execute_result"
    }
   ],
   "source": [
    "sigma = rt.cov()\n",
    "\n",
    "n_port = 10000\n",
    "n_act = len(rt.keys())\n",
    "\n",
    "W = np.random.dirichlet((1,) * n_act, size=n_port)\n",
    "\n",
    "rendimientos = W.dot(rt.mean()) * 252\n",
    "\n",
    "zeros = np.zeros(n_port)\n",
    "for j in range(len(zeros)):\n",
    "    zeros[j] = W[j, :].dot(sigma).dot(W[j, :])\n",
    "volatility = zeros**(1/2) * 252**(1/2)\n",
    "\n",
    "rf = 0.03\n",
    "\n",
    "sharpe = (rendimientos - rf) / volatility\n",
    "\n",
    "resultados = pd.DataFrame({\n",
    "    \"Expected_value\": rendimientos,\n",
    "    \"Volatility\": volatility,\n",
    "    \"Sharpe\": sharpe\n",
    "})\n",
    "\n",
    "for j in range(len(tickers)):\n",
    "    ticker_temp = tickers[j]\n",
    "    resultados[\"W_\" + ticker_temp] = W[:, j]\n",
    "\n",
    "min_var = resultados[resultados.Volatility == resultados.Volatility.min()]\n",
    "emv = resultados[resultados.Sharpe == resultados.Sharpe.max()]\n",
    "\n",
    "emv_volatility = emv.Volatility.values[0]\n",
    "emv_expected_value = emv.Expected_value.values[0]\n",
    "\n",
    "min_var"
   ]
  },
  {
   "cell_type": "code",
   "execution_count": 4,
   "id": "BRg5Z_piDc7a",
   "metadata": {
    "colab": {
     "base_uri": "https://localhost:8080/",
     "height": 89
    },
    "id": "BRg5Z_piDc7a",
    "outputId": "85a62396-4cf6-4ecb-c850-ac3d0aa34d2b"
   },
   "outputs": [
    {
     "data": {
      "text/html": [
       "<div>\n",
       "<style scoped>\n",
       "    .dataframe tbody tr th:only-of-type {\n",
       "        vertical-align: middle;\n",
       "    }\n",
       "\n",
       "    .dataframe tbody tr th {\n",
       "        vertical-align: top;\n",
       "    }\n",
       "\n",
       "    .dataframe thead th {\n",
       "        text-align: right;\n",
       "    }\n",
       "</style>\n",
       "<table border=\"1\" class=\"dataframe\">\n",
       "  <thead>\n",
       "    <tr style=\"text-align: right;\">\n",
       "      <th></th>\n",
       "      <th>Expected_value</th>\n",
       "      <th>Volatility</th>\n",
       "      <th>Sharpe</th>\n",
       "      <th>W_AAPL</th>\n",
       "      <th>W_AMZN</th>\n",
       "      <th>W_DFS</th>\n",
       "      <th>W_COST</th>\n",
       "      <th>W_SBUX</th>\n",
       "    </tr>\n",
       "  </thead>\n",
       "  <tbody>\n",
       "    <tr>\n",
       "      <th>7577</th>\n",
       "      <td>0.307328</td>\n",
       "      <td>0.207515</td>\n",
       "      <td>1.33642</td>\n",
       "      <td>0.351699</td>\n",
       "      <td>0.1625</td>\n",
       "      <td>0.452681</td>\n",
       "      <td>0.031241</td>\n",
       "      <td>0.001879</td>\n",
       "    </tr>\n",
       "  </tbody>\n",
       "</table>\n",
       "</div>"
      ],
      "text/plain": [
       "      Expected_value  Volatility   Sharpe    W_AAPL  W_AMZN     W_DFS  \\\n",
       "7577        0.307328    0.207515  1.33642  0.351699  0.1625  0.452681   \n",
       "\n",
       "        W_COST    W_SBUX  \n",
       "7577  0.031241  0.001879  "
      ]
     },
     "execution_count": 4,
     "metadata": {},
     "output_type": "execute_result"
    }
   ],
   "source": [
    "emv"
   ]
  },
  {
   "cell_type": "markdown",
   "id": "6OCmbx1rYVOG",
   "metadata": {
    "id": "6OCmbx1rYVOG"
   },
   "source": [
    "####Gráfica de todos los posibles portafolios"
   ]
  },
  {
   "cell_type": "code",
   "execution_count": 5,
   "id": "DjH-vxUZ8jR2",
   "metadata": {
    "colab": {
     "base_uri": "https://localhost:8080/",
     "height": 648
    },
    "id": "DjH-vxUZ8jR2",
    "outputId": "016cb5b8-9ed9-439a-cd49-62f3d3a22baa"
   },
   "outputs": [
    {
     "data": {
      "text/plain": [
       "Text(0, 0.5, '$E[x]$')"
      ]
     },
     "execution_count": 5,
     "metadata": {},
     "output_type": "execute_result"
    },
    {
     "data": {
      "image/png": "[encoded data removed]",
      "text/plain": [
       "<Figure size 640x480 with 1 Axes>"
      ]
     },
     "metadata": {},
     "output_type": "display_data"
    }
   ],
   "source": [
    "plt.figure()\n",
    "plt.scatter(resultados.Volatility, resultados.Expected_value, alpha=0.3)\n",
    "plt.scatter(min_var.Volatility, min_var.Expected_value, s=100)\n",
    "plt.text(min_var.Volatility, min_var.Expected_value, \"Min Var\")\n",
    "plt.scatter(emv.Volatility, emv.Expected_value, s=100)\n",
    "plt.text(emv.Volatility, emv.Expected_value, \"EMV\")\n",
    "plt.grid()\n",
    "plt.title(\"Simulación portafolios\")\n",
    "plt.xlabel(\"$\\sigma$\")\n",
    "plt.ylabel(\"$E[x]$\")"
   ]
  },
  {
   "cell_type": "markdown",
   "id": "W8hstgl-YwPx",
   "metadata": {
    "id": "W8hstgl-YwPx"
   },
   "source": [
    "####Betas y R2s de todos los activos"
   ]
  },
  {
   "cell_type": "code",
   "execution_count": 6,
   "id": "2u7GtZZbAJuK",
   "metadata": {
    "colab": {
     "base_uri": "https://localhost:8080/",
     "height": 206
    },
    "id": "2u7GtZZbAJuK",
    "outputId": "829e98d4-9544-4a3f-f82a-dcee762af5db"
   },
   "outputs": [
    {
     "data": {
      "text/html": [
       "<div>\n",
       "<style scoped>\n",
       "    .dataframe tbody tr th:only-of-type {\n",
       "        vertical-align: middle;\n",
       "    }\n",
       "\n",
       "    .dataframe tbody tr th {\n",
       "        vertical-align: top;\n",
       "    }\n",
       "\n",
       "    .dataframe thead th {\n",
       "        text-align: right;\n",
       "    }\n",
       "</style>\n",
       "<table border=\"1\" class=\"dataframe\">\n",
       "  <thead>\n",
       "    <tr style=\"text-align: right;\">\n",
       "      <th></th>\n",
       "      <th>tickers</th>\n",
       "      <th>betas</th>\n",
       "      <th>r2</th>\n",
       "    </tr>\n",
       "  </thead>\n",
       "  <tbody>\n",
       "    <tr>\n",
       "      <th>0</th>\n",
       "      <td>AAPL</td>\n",
       "      <td>1.166020</td>\n",
       "      <td>0.532842</td>\n",
       "    </tr>\n",
       "    <tr>\n",
       "      <th>1</th>\n",
       "      <td>AMZN</td>\n",
       "      <td>0.924592</td>\n",
       "      <td>0.335324</td>\n",
       "    </tr>\n",
       "    <tr>\n",
       "      <th>2</th>\n",
       "      <td>DFS</td>\n",
       "      <td>1.630198</td>\n",
       "      <td>0.527663</td>\n",
       "    </tr>\n",
       "    <tr>\n",
       "      <th>3</th>\n",
       "      <td>COST</td>\n",
       "      <td>0.633836</td>\n",
       "      <td>0.310283</td>\n",
       "    </tr>\n",
       "    <tr>\n",
       "      <th>4</th>\n",
       "      <td>SBUX</td>\n",
       "      <td>0.990025</td>\n",
       "      <td>0.475362</td>\n",
       "    </tr>\n",
       "  </tbody>\n",
       "</table>\n",
       "</div>"
      ],
      "text/plain": [
       "  tickers     betas        r2\n",
       "0    AAPL  1.166020  0.532842\n",
       "1    AMZN  0.924592  0.335324\n",
       "2     DFS  1.630198  0.527663\n",
       "3    COST  0.633836  0.310283\n",
       "4    SBUX  0.990025  0.475362"
      ]
     },
     "execution_count": 6,
     "metadata": {},
     "output_type": "execute_result"
    }
   ],
   "source": [
    "r2s = []\n",
    "betas = []\n",
    "\n",
    "for i in tickers:\n",
    "    X = returns[[\"VTI\"]]\n",
    "    y = rt[[i]]\n",
    "\n",
    "    #Calculo de beta\n",
    "    model = LinearRegression().fit(X, y)\n",
    "    beta = model.coef_[0][0]\n",
    "    betas.append(beta)\n",
    "\n",
    "    #Calculo de R2\n",
    "    predictions = model.predict(X)\n",
    "    r2 = r2_score(y_true=y, y_pred=predictions)\n",
    "    r2s.append(r2)\n",
    "\n",
    "df = pd.DataFrame()\n",
    "df[\"tickers\"] = tickers\n",
    "df[\"betas\"] = betas\n",
    "df[\"r2\"] = r2s\n",
    "df"
   ]
  },
  {
   "cell_type": "markdown",
   "id": "YSWnHu0AZR4R",
   "metadata": {
    "id": "YSWnHu0AZR4R"
   },
   "source": [
    "####LAC con diferentes aversiones al riesgo"
   ]
  },
  {
   "cell_type": "code",
   "execution_count": 7,
   "id": "XE8_Bm3eC7b9",
   "metadata": {
    "colab": {
     "base_uri": "https://localhost:8080/",
     "height": 300
    },
    "id": "XE8_Bm3eC7b9",
    "outputId": "f2b29cb4-33c7-41b4-af42-ea34a86d0b88"
   },
   "outputs": [
    {
     "data": {
      "text/html": [
       "<div>\n",
       "<style scoped>\n",
       "    .dataframe tbody tr th:only-of-type {\n",
       "        vertical-align: middle;\n",
       "    }\n",
       "\n",
       "    .dataframe tbody tr th {\n",
       "        vertical-align: top;\n",
       "    }\n",
       "\n",
       "    .dataframe thead th {\n",
       "        text-align: right;\n",
       "    }\n",
       "</style>\n",
       "<table border=\"1\" class=\"dataframe\">\n",
       "  <thead>\n",
       "    <tr style=\"text-align: right;\">\n",
       "      <th></th>\n",
       "      <th>gamma</th>\n",
       "      <th>w_acciones</th>\n",
       "      <th>w_bonos</th>\n",
       "      <th>media</th>\n",
       "      <th>vol</th>\n",
       "    </tr>\n",
       "  </thead>\n",
       "  <tbody>\n",
       "    <tr>\n",
       "      <th>0</th>\n",
       "      <td>1.0</td>\n",
       "      <td>6.440100</td>\n",
       "      <td>-5.440100</td>\n",
       "      <td>1.816017</td>\n",
       "      <td>1.979220</td>\n",
       "    </tr>\n",
       "    <tr>\n",
       "      <th>1</th>\n",
       "      <td>2.0</td>\n",
       "      <td>3.220050</td>\n",
       "      <td>-2.220050</td>\n",
       "      <td>0.923009</td>\n",
       "      <td>0.989610</td>\n",
       "    </tr>\n",
       "    <tr>\n",
       "      <th>2</th>\n",
       "      <td>3.0</td>\n",
       "      <td>2.146700</td>\n",
       "      <td>-1.146700</td>\n",
       "      <td>0.625339</td>\n",
       "      <td>0.659740</td>\n",
       "    </tr>\n",
       "    <tr>\n",
       "      <th>3</th>\n",
       "      <td>4.0</td>\n",
       "      <td>1.610025</td>\n",
       "      <td>-0.610025</td>\n",
       "      <td>0.476504</td>\n",
       "      <td>0.494805</td>\n",
       "    </tr>\n",
       "    <tr>\n",
       "      <th>4</th>\n",
       "      <td>5.0</td>\n",
       "      <td>1.288020</td>\n",
       "      <td>-0.288020</td>\n",
       "      <td>0.387203</td>\n",
       "      <td>0.395844</td>\n",
       "    </tr>\n",
       "    <tr>\n",
       "      <th>5</th>\n",
       "      <td>6.0</td>\n",
       "      <td>1.073350</td>\n",
       "      <td>-0.073350</td>\n",
       "      <td>0.327670</td>\n",
       "      <td>0.329870</td>\n",
       "    </tr>\n",
       "    <tr>\n",
       "      <th>6</th>\n",
       "      <td>7.0</td>\n",
       "      <td>0.920014</td>\n",
       "      <td>0.079986</td>\n",
       "      <td>0.285145</td>\n",
       "      <td>0.282746</td>\n",
       "    </tr>\n",
       "    <tr>\n",
       "      <th>7</th>\n",
       "      <td>8.0</td>\n",
       "      <td>0.805013</td>\n",
       "      <td>0.194987</td>\n",
       "      <td>0.253252</td>\n",
       "      <td>0.247403</td>\n",
       "    </tr>\n",
       "  </tbody>\n",
       "</table>\n",
       "</div>"
      ],
      "text/plain": [
       "   gamma  w_acciones   w_bonos     media       vol\n",
       "0    1.0    6.440100 -5.440100  1.816017  1.979220\n",
       "1    2.0    3.220050 -2.220050  0.923009  0.989610\n",
       "2    3.0    2.146700 -1.146700  0.625339  0.659740\n",
       "3    4.0    1.610025 -0.610025  0.476504  0.494805\n",
       "4    5.0    1.288020 -0.288020  0.387203  0.395844\n",
       "5    6.0    1.073350 -0.073350  0.327670  0.329870\n",
       "6    7.0    0.920014  0.079986  0.285145  0.282746\n",
       "7    8.0    0.805013  0.194987  0.253252  0.247403"
      ]
     },
     "execution_count": 7,
     "metadata": {},
     "output_type": "execute_result"
    }
   ],
   "source": [
    "gamma = np.linspace(1, 8, 8)\n",
    "\n",
    "lac_emv = pd.DataFrame({\n",
    "    \"gamma\": gamma,\n",
    "    \"w_acciones\": (emv_expected_value - rf) / (gamma * emv_volatility**2)\n",
    "})\n",
    "\n",
    "lac_emv[\"w_bonos\"] = 1 - lac_emv.w_acciones\n",
    "\n",
    "media_lac = lac_emv.w_acciones * emv_expected_value + lac_emv.w_bonos * rf\n",
    "vol_lac = lac_emv.w_acciones * emv_expected_value\n",
    "\n",
    "media = []\n",
    "vol = []\n",
    "\n",
    "for j in range(len(media_lac)):\n",
    "    media.append(media_lac.values[j])\n",
    "    vol.append(vol_lac.values[j])\n",
    "\n",
    "lac_emv[\"media\"] = media\n",
    "lac_emv[\"vol\"] = vol\n",
    "\n",
    "lac_emv"
   ]
  },
  {
   "cell_type": "markdown",
   "id": "bAqIebgMZyUl",
   "metadata": {
    "id": "bAqIebgMZyUl"
   },
   "source": [
    "####Bootstrap de beta y R2"
   ]
  },
  {
   "cell_type": "code",
   "execution_count": 8,
   "id": "PJ9wXD6wFqC6",
   "metadata": {
    "colab": {
     "base_uri": "https://localhost:8080/",
     "height": 423
    },
    "id": "PJ9wXD6wFqC6",
    "outputId": "3573c6c0-e2d3-4a24-b8ae-5770a6b4cfa5"
   },
   "outputs": [
    {
     "data": {
      "text/html": [
       "<div>\n",
       "<style scoped>\n",
       "    .dataframe tbody tr th:only-of-type {\n",
       "        vertical-align: middle;\n",
       "    }\n",
       "\n",
       "    .dataframe tbody tr th {\n",
       "        vertical-align: top;\n",
       "    }\n",
       "\n",
       "    .dataframe thead th {\n",
       "        text-align: right;\n",
       "    }\n",
       "</style>\n",
       "<table border=\"1\" class=\"dataframe\">\n",
       "  <thead>\n",
       "    <tr style=\"text-align: right;\">\n",
       "      <th></th>\n",
       "      <th>AAPL</th>\n",
       "      <th>AMZN</th>\n",
       "      <th>DFS</th>\n",
       "      <th>COST</th>\n",
       "      <th>SBUX</th>\n",
       "    </tr>\n",
       "  </thead>\n",
       "  <tbody>\n",
       "    <tr>\n",
       "      <th>0</th>\n",
       "      <td>1.123154</td>\n",
       "      <td>1.081058</td>\n",
       "      <td>1.500643</td>\n",
       "      <td>0.652717</td>\n",
       "      <td>1.052870</td>\n",
       "    </tr>\n",
       "    <tr>\n",
       "      <th>1</th>\n",
       "      <td>1.079490</td>\n",
       "      <td>0.886631</td>\n",
       "      <td>1.432427</td>\n",
       "      <td>0.723819</td>\n",
       "      <td>0.922172</td>\n",
       "    </tr>\n",
       "    <tr>\n",
       "      <th>2</th>\n",
       "      <td>1.138225</td>\n",
       "      <td>0.841365</td>\n",
       "      <td>1.689163</td>\n",
       "      <td>0.700374</td>\n",
       "      <td>0.931728</td>\n",
       "    </tr>\n",
       "    <tr>\n",
       "      <th>3</th>\n",
       "      <td>1.139138</td>\n",
       "      <td>0.921428</td>\n",
       "      <td>1.625822</td>\n",
       "      <td>0.706176</td>\n",
       "      <td>0.987326</td>\n",
       "    </tr>\n",
       "    <tr>\n",
       "      <th>4</th>\n",
       "      <td>1.148786</td>\n",
       "      <td>0.943387</td>\n",
       "      <td>1.487181</td>\n",
       "      <td>0.671506</td>\n",
       "      <td>0.955371</td>\n",
       "    </tr>\n",
       "    <tr>\n",
       "      <th>...</th>\n",
       "      <td>...</td>\n",
       "      <td>...</td>\n",
       "      <td>...</td>\n",
       "      <td>...</td>\n",
       "      <td>...</td>\n",
       "    </tr>\n",
       "    <tr>\n",
       "      <th>995</th>\n",
       "      <td>1.224957</td>\n",
       "      <td>0.904498</td>\n",
       "      <td>1.611877</td>\n",
       "      <td>0.672401</td>\n",
       "      <td>0.925695</td>\n",
       "    </tr>\n",
       "    <tr>\n",
       "      <th>996</th>\n",
       "      <td>1.148378</td>\n",
       "      <td>0.880934</td>\n",
       "      <td>1.782758</td>\n",
       "      <td>0.623321</td>\n",
       "      <td>0.906866</td>\n",
       "    </tr>\n",
       "    <tr>\n",
       "      <th>997</th>\n",
       "      <td>1.178806</td>\n",
       "      <td>0.947237</td>\n",
       "      <td>1.476376</td>\n",
       "      <td>0.702719</td>\n",
       "      <td>1.004851</td>\n",
       "    </tr>\n",
       "    <tr>\n",
       "      <th>998</th>\n",
       "      <td>1.175315</td>\n",
       "      <td>0.908761</td>\n",
       "      <td>1.635490</td>\n",
       "      <td>0.647930</td>\n",
       "      <td>1.001416</td>\n",
       "    </tr>\n",
       "    <tr>\n",
       "      <th>999</th>\n",
       "      <td>1.122307</td>\n",
       "      <td>0.883855</td>\n",
       "      <td>1.503984</td>\n",
       "      <td>0.585123</td>\n",
       "      <td>1.006148</td>\n",
       "    </tr>\n",
       "  </tbody>\n",
       "</table>\n",
       "<p>1000 rows × 5 columns</p>\n",
       "</div>"
      ],
      "text/plain": [
       "         AAPL      AMZN       DFS      COST      SBUX\n",
       "0    1.123154  1.081058  1.500643  0.652717  1.052870\n",
       "1    1.079490  0.886631  1.432427  0.723819  0.922172\n",
       "2    1.138225  0.841365  1.689163  0.700374  0.931728\n",
       "3    1.139138  0.921428  1.625822  0.706176  0.987326\n",
       "4    1.148786  0.943387  1.487181  0.671506  0.955371\n",
       "..        ...       ...       ...       ...       ...\n",
       "995  1.224957  0.904498  1.611877  0.672401  0.925695\n",
       "996  1.148378  0.880934  1.782758  0.623321  0.906866\n",
       "997  1.178806  0.947237  1.476376  0.702719  1.004851\n",
       "998  1.175315  0.908761  1.635490  0.647930  1.001416\n",
       "999  1.122307  0.883855  1.503984  0.585123  1.006148\n",
       "\n",
       "[1000 rows x 5 columns]"
      ]
     },
     "execution_count": 8,
     "metadata": {},
     "output_type": "execute_result"
    }
   ],
   "source": [
    "betas_dict = {}\n",
    "r2_dict = {}\n",
    "model = LinearRegression()\n",
    "n_reps = 1000\n",
    "\n",
    "for i in tickers:\n",
    "    betas_dict[i] = []\n",
    "    r2_dict[i] = []\n",
    "    for j in range(n_reps):\n",
    "        #Betas\n",
    "        flag_frame = returns.sample(len(returns), replace=True)\n",
    "        X = flag_frame[[\"VTI\"]]\n",
    "        y = flag_frame[[i]]\n",
    "        model.fit(X, y)\n",
    "        beta = model.coef_[0][0]\n",
    "        betas_dict[i].append(beta)\n",
    "\n",
    "        #R2\n",
    "        predictions = model.predict(X)\n",
    "        r2 = r2_score(y_true=y, y_pred=predictions)\n",
    "        r2_dict[i].append(r2)\n",
    "\n",
    "df_betas_bootstrap = pd.DataFrame({})\n",
    "\n",
    "for i in tickers:\n",
    "    df_betas_bootstrap[i] = betas_dict[i]\n",
    "\n",
    "df_betas_bootstrap"
   ]
  },
  {
   "cell_type": "code",
   "execution_count": 9,
   "id": "Gtl8wm5PHM1z",
   "metadata": {
    "colab": {
     "base_uri": "https://localhost:8080/",
     "height": 423
    },
    "id": "Gtl8wm5PHM1z",
    "outputId": "6626d20d-1dba-420d-f0e0-ae2776438fd6"
   },
   "outputs": [
    {
     "data": {
      "text/html": [
       "<div>\n",
       "<style scoped>\n",
       "    .dataframe tbody tr th:only-of-type {\n",
       "        vertical-align: middle;\n",
       "    }\n",
       "\n",
       "    .dataframe tbody tr th {\n",
       "        vertical-align: top;\n",
       "    }\n",
       "\n",
       "    .dataframe thead th {\n",
       "        text-align: right;\n",
       "    }\n",
       "</style>\n",
       "<table border=\"1\" class=\"dataframe\">\n",
       "  <thead>\n",
       "    <tr style=\"text-align: right;\">\n",
       "      <th></th>\n",
       "      <th>AAPL</th>\n",
       "      <th>AMZN</th>\n",
       "      <th>DFS</th>\n",
       "      <th>COST</th>\n",
       "      <th>SBUX</th>\n",
       "    </tr>\n",
       "  </thead>\n",
       "  <tbody>\n",
       "    <tr>\n",
       "      <th>0</th>\n",
       "      <td>0.511439</td>\n",
       "      <td>0.360440</td>\n",
       "      <td>0.435724</td>\n",
       "      <td>0.289275</td>\n",
       "      <td>0.522659</td>\n",
       "    </tr>\n",
       "    <tr>\n",
       "      <th>1</th>\n",
       "      <td>0.518793</td>\n",
       "      <td>0.351146</td>\n",
       "      <td>0.525720</td>\n",
       "      <td>0.360970</td>\n",
       "      <td>0.498692</td>\n",
       "    </tr>\n",
       "    <tr>\n",
       "      <th>2</th>\n",
       "      <td>0.567151</td>\n",
       "      <td>0.295374</td>\n",
       "      <td>0.541511</td>\n",
       "      <td>0.316663</td>\n",
       "      <td>0.429371</td>\n",
       "    </tr>\n",
       "    <tr>\n",
       "      <th>3</th>\n",
       "      <td>0.461805</td>\n",
       "      <td>0.282802</td>\n",
       "      <td>0.542456</td>\n",
       "      <td>0.357416</td>\n",
       "      <td>0.421586</td>\n",
       "    </tr>\n",
       "    <tr>\n",
       "      <th>4</th>\n",
       "      <td>0.534601</td>\n",
       "      <td>0.339428</td>\n",
       "      <td>0.467535</td>\n",
       "      <td>0.282026</td>\n",
       "      <td>0.462254</td>\n",
       "    </tr>\n",
       "    <tr>\n",
       "      <th>...</th>\n",
       "      <td>...</td>\n",
       "      <td>...</td>\n",
       "      <td>...</td>\n",
       "      <td>...</td>\n",
       "      <td>...</td>\n",
       "    </tr>\n",
       "    <tr>\n",
       "      <th>995</th>\n",
       "      <td>0.520328</td>\n",
       "      <td>0.328300</td>\n",
       "      <td>0.516260</td>\n",
       "      <td>0.337820</td>\n",
       "      <td>0.459899</td>\n",
       "    </tr>\n",
       "    <tr>\n",
       "      <th>996</th>\n",
       "      <td>0.486483</td>\n",
       "      <td>0.344096</td>\n",
       "      <td>0.599016</td>\n",
       "      <td>0.283942</td>\n",
       "      <td>0.387719</td>\n",
       "    </tr>\n",
       "    <tr>\n",
       "      <th>997</th>\n",
       "      <td>0.575945</td>\n",
       "      <td>0.332421</td>\n",
       "      <td>0.518708</td>\n",
       "      <td>0.307833</td>\n",
       "      <td>0.488155</td>\n",
       "    </tr>\n",
       "    <tr>\n",
       "      <th>998</th>\n",
       "      <td>0.552359</td>\n",
       "      <td>0.322959</td>\n",
       "      <td>0.567857</td>\n",
       "      <td>0.339066</td>\n",
       "      <td>0.477532</td>\n",
       "    </tr>\n",
       "    <tr>\n",
       "      <th>999</th>\n",
       "      <td>0.435022</td>\n",
       "      <td>0.294215</td>\n",
       "      <td>0.519951</td>\n",
       "      <td>0.238791</td>\n",
       "      <td>0.472327</td>\n",
       "    </tr>\n",
       "  </tbody>\n",
       "</table>\n",
       "<p>1000 rows × 5 columns</p>\n",
       "</div>"
      ],
      "text/plain": [
       "         AAPL      AMZN       DFS      COST      SBUX\n",
       "0    0.511439  0.360440  0.435724  0.289275  0.522659\n",
       "1    0.518793  0.351146  0.525720  0.360970  0.498692\n",
       "2    0.567151  0.295374  0.541511  0.316663  0.429371\n",
       "3    0.461805  0.282802  0.542456  0.357416  0.421586\n",
       "4    0.534601  0.339428  0.467535  0.282026  0.462254\n",
       "..        ...       ...       ...       ...       ...\n",
       "995  0.520328  0.328300  0.516260  0.337820  0.459899\n",
       "996  0.486483  0.344096  0.599016  0.283942  0.387719\n",
       "997  0.575945  0.332421  0.518708  0.307833  0.488155\n",
       "998  0.552359  0.322959  0.567857  0.339066  0.477532\n",
       "999  0.435022  0.294215  0.519951  0.238791  0.472327\n",
       "\n",
       "[1000 rows x 5 columns]"
      ]
     },
     "execution_count": 9,
     "metadata": {},
     "output_type": "execute_result"
    }
   ],
   "source": [
    "df_r2s_bootstrap = pd.DataFrame({})\n",
    "\n",
    "for i in tickers:\n",
    "    df_r2s_bootstrap[i] = r2_dict[i]\n",
    "\n",
    "df_r2s_bootstrap"
   ]
  },
  {
   "cell_type": "markdown",
   "id": "Fmb6UfSvZ4Ob",
   "metadata": {
    "id": "Fmb6UfSvZ4Ob"
   },
   "source": [
    "#####Preguntas sobre bootstrap"
   ]
  },
  {
   "cell_type": "code",
   "execution_count": 10,
   "id": "SImQjmZaH5tN",
   "metadata": {
    "colab": {
     "base_uri": "https://localhost:8080/"
    },
    "id": "SImQjmZaH5tN",
    "outputId": "5a85ff0b-54fe-47f6-fc45-c4bb2bb8b610"
   },
   "outputs": [
    {
     "name": "stdout",
     "output_type": "stream",
     "text": [
      "La probabilidad de que la beta de AAPL sea mayor a 1 es de: 1.0\n",
      "La probabilidad de que el R2 de AAPL sea mayor a 0.5 es de: 0.825\n",
      "\n",
      "La probabilidad de que la beta de AMZN sea mayor a 1 es de: 0.112\n",
      "La probabilidad de que el R2 de AMZN sea mayor a 0.5 es de: 0.0\n",
      "\n",
      "La probabilidad de que la beta de DFS sea mayor a 1 es de: 1.0\n",
      "La probabilidad de que el R2 de DFS sea mayor a 0.5 es de: 0.733\n",
      "\n",
      "La probabilidad de que la beta de COST sea mayor a 1 es de: 0.0\n",
      "La probabilidad de que el R2 de COST sea mayor a 0.5 es de: 0.0\n",
      "\n",
      "La probabilidad de que la beta de SBUX sea mayor a 1 es de: 0.429\n",
      "La probabilidad de que el R2 de SBUX sea mayor a 0.5 es de: 0.315\n",
      "\n"
     ]
    }
   ],
   "source": [
    "for i in tickers:\n",
    "    print(\"La probabilidad de que la beta de \" + i + \" sea mayor a 1 es de: \" + str(((df_betas_bootstrap[i] > 1).mean())))\n",
    "    print(\"La probabilidad de que el R2 de \" + i + \" sea mayor a 0.5 es de: \" + str(((df_r2s_bootstrap[i] > 0.5).mean())))\n",
    "    print()"
   ]
  },
  {
   "cell_type": "markdown",
   "id": "VY2NEg-DaB1x",
   "metadata": {
    "id": "VY2NEg-DaB1x"
   },
   "source": [
    "#### CAPM, Fama french y 5 factores"
   ]
  },
  {
   "cell_type": "code",
   "execution_count": 11,
   "id": "PKPdsXWdKBZA",
   "metadata": {
    "colab": {
     "base_uri": "https://localhost:8080/"
    },
    "id": "PKPdsXWdKBZA",
    "outputId": "402a1f76-d00d-4790-abc6-4c553bb8174f"
   },
   "outputs": [],
   "source": [
    "start_date = datetime.datetime(2016, 1, 1)\n",
    "end_date = datetime.datetime(2021, 12, 31)\n",
    "\n",
    "ff_factores = web.DataReader(\"F-F_Research_Data_5_Factors_2x3\", \"famafrench\", start_date, end_date)\n",
    "\n",
    "factors_df = ff_factores[0] / 100\n",
    "factors_df.index = factors_df.index.to_timestamp()"
   ]
  },
  {
   "cell_type": "code",
   "execution_count": 12,
   "id": "oETgbPHtKOAy",
   "metadata": {
    "colab": {
     "base_uri": "https://localhost:8080/"
    },
    "id": "oETgbPHtKOAy",
    "outputId": "50497559-3539-44f2-a9af-6c5339c9f9a2"
   },
   "outputs": [
    {
     "name": "stdout",
     "output_type": "stream",
     "text": [
      "[*********************100%%**********************]  5 of 5 completed\n"
     ]
    }
   ],
   "source": [
    "stock_data = yf.download(tickers, start_date, end_date, interval='1mo')['Adj Close']\n",
    "rt = stock_data.pct_change().dropna()\n",
    "\n",
    "fama_french_df = pd.merge(rt, factors_df, on='Date')"
   ]
  },
  {
   "cell_type": "code",
   "execution_count": 17,
   "id": "6XKlIma1K2TA",
   "metadata": {
    "colab": {
     "base_uri": "https://localhost:8080/"
    },
    "id": "6XKlIma1K2TA",
    "outputId": "6c79e21d-4dda-41b8-9555-68aec79c77e8"
   },
   "outputs": [
    {
     "data": {
      "text/plain": [
       "{'CAPM': {'BETAS': {\"['Mkt-RF']\": [1.3499064452154532]},\n",
       "  'R2': 0.7510359029453093},\n",
       " '3 factor': {'BETAS': {\"['Mkt-RF' 'SMB' 'HML']\": [1.3401378703467113,\n",
       "    0.04290060555609793,\n",
       "    -0.0063563302386353444]},\n",
       "  'R2': 0.7512884136840801},\n",
       " '5 factor': {'BETAS': {\"['Mkt-RF' 'SMB' 'HML' 'RMW' 'CMA']\": [1.2068633976789254,\n",
       "    0.1854973687741721,\n",
       "    0.1304044725111614,\n",
       "    0.2900288116100799,\n",
       "    -0.6981202932982792]},\n",
       "  'R2': 0.779203753756122}}"
      ]
     },
     "execution_count": 17,
     "metadata": {},
     "output_type": "execute_result"
    }
   ],
   "source": [
    "def run_all_models(data, ticker):\n",
    "    flag_data = data.copy()\n",
    "    flag_data[ticker + '_minus_RF'] = data[ticker] - data['RF']\n",
    "    y = flag_data[[ticker + '_minus_RF']]\n",
    "\n",
    "    # CAPM\n",
    "    X_capm = flag_data[['Mkt-RF']]\n",
    "    model_capm = LinearRegression().fit(X_capm, y)\n",
    "    prediction_capm = model_capm.predict(X_capm)\n",
    "    r2_capm = r2_score(y_pred=prediction_capm, y_true=y)\n",
    "    summary_capm = {str(X_capm.keys().values): list(model_capm.coef_[0])}\n",
    "\n",
    "    # 3 factor model\n",
    "    X_3factor = flag_data[['Mkt-RF', 'SMB', 'HML']]\n",
    "    model_3factor = LinearRegression().fit(X_3factor, y)\n",
    "    prediction_3factor = model_3factor.predict(X_3factor)\n",
    "    r2_3factor = r2_score(y_pred=prediction_3factor, y_true=y)\n",
    "    summary_3factor = {str(X_3factor.keys().values): list(model_3factor.coef_[0])}\n",
    "\n",
    "\n",
    "    # 5 factor\n",
    "    X_5factor = flag_data[['Mkt-RF', 'SMB', 'HML', 'RMW', 'CMA']]\n",
    "    model_5factor = LinearRegression().fit(X_5factor, y)\n",
    "    prediction_5factor = model_5factor.predict(X_5factor)\n",
    "    r2_5factor = r2_score(y_pred=prediction_5factor, y_true=y)\n",
    "    summary_5factor = {str(X_5factor.keys().values): list(model_5factor.coef_[0])}\n",
    "\n",
    "    summary = {\n",
    "        'CAPM': {'BETAS': summary_capm, 'R2': r2_capm},\n",
    "        '3 factor': {'BETAS': summary_3factor, 'R2': r2_3factor},\n",
    "        '5 factor': {'BETAS': summary_5factor, 'R2': r2_5factor}\n",
    "\n",
    "    }\n",
    "    return summary\n",
    "\n",
    "fama_french_df['emv'] = emv.W_AAPL.values[0]*fama_french_df['AAPL'] + emv.W_AMZN.values[0]*fama_french_df['AMZN'] + emv.W_DFS.values[0]*fama_french_df['DFS'] +emv.W_COST.values[0]*fama_french_df['COST'] + emv.W_SBUX.values[0]*fama_french_df['SBUX']\n",
    "\n",
    "run_all_models(fama_french_df, 'emv')"
   ]
  },
  {
   "cell_type": "code",
   "execution_count": 15,
   "id": "9b6de140-1568-4e56-8890-f3b37cbc4a6f",
   "metadata": {},
   "outputs": [
    {
     "data": {
      "text/html": [
       "<div>\n",
       "<style scoped>\n",
       "    .dataframe tbody tr th:only-of-type {\n",
       "        vertical-align: middle;\n",
       "    }\n",
       "\n",
       "    .dataframe tbody tr th {\n",
       "        vertical-align: top;\n",
       "    }\n",
       "\n",
       "    .dataframe thead th {\n",
       "        text-align: right;\n",
       "    }\n",
       "</style>\n",
       "<table border=\"1\" class=\"dataframe\">\n",
       "  <thead>\n",
       "    <tr style=\"text-align: right;\">\n",
       "      <th></th>\n",
       "      <th>AAPL</th>\n",
       "      <th>AMZN</th>\n",
       "      <th>COST</th>\n",
       "      <th>DFS</th>\n",
       "      <th>SBUX</th>\n",
       "      <th>Mkt-RF</th>\n",
       "      <th>SMB</th>\n",
       "      <th>HML</th>\n",
       "      <th>RMW</th>\n",
       "      <th>CMA</th>\n",
       "      <th>RF</th>\n",
       "      <th>emv</th>\n",
       "    </tr>\n",
       "    <tr>\n",
       "      <th>Date</th>\n",
       "      <th></th>\n",
       "      <th></th>\n",
       "      <th></th>\n",
       "      <th></th>\n",
       "      <th></th>\n",
       "      <th></th>\n",
       "      <th></th>\n",
       "      <th></th>\n",
       "      <th></th>\n",
       "      <th></th>\n",
       "      <th></th>\n",
       "      <th></th>\n",
       "    </tr>\n",
       "  </thead>\n",
       "  <tbody>\n",
       "    <tr>\n",
       "      <th>2016-02-01</th>\n",
       "      <td>-0.006677</td>\n",
       "      <td>-0.058739</td>\n",
       "      <td>-0.007213</td>\n",
       "      <td>0.013758</td>\n",
       "      <td>-0.042126</td>\n",
       "      <td>-0.0007</td>\n",
       "      <td>0.0088</td>\n",
       "      <td>-0.0057</td>\n",
       "      <td>0.0325</td>\n",
       "      <td>0.0202</td>\n",
       "      <td>0.0002</td>\n",
       "      <td>-0.005970</td>\n",
       "    </tr>\n",
       "    <tr>\n",
       "      <th>2016-03-01</th>\n",
       "      <td>0.133327</td>\n",
       "      <td>0.074423</td>\n",
       "      <td>0.053171</td>\n",
       "      <td>0.103652</td>\n",
       "      <td>0.028949</td>\n",
       "      <td>0.0696</td>\n",
       "      <td>0.0107</td>\n",
       "      <td>0.0119</td>\n",
       "      <td>0.0077</td>\n",
       "      <td>-0.0008</td>\n",
       "      <td>0.0002</td>\n",
       "      <td>0.107621</td>\n",
       "    </tr>\n",
       "    <tr>\n",
       "      <th>2016-04-01</th>\n",
       "      <td>-0.139921</td>\n",
       "      <td>0.111094</td>\n",
       "      <td>-0.059970</td>\n",
       "      <td>0.105067</td>\n",
       "      <td>-0.058124</td>\n",
       "      <td>0.0091</td>\n",
       "      <td>0.0123</td>\n",
       "      <td>0.0328</td>\n",
       "      <td>-0.0297</td>\n",
       "      <td>0.0190</td>\n",
       "      <td>0.0001</td>\n",
       "      <td>0.014422</td>\n",
       "    </tr>\n",
       "    <tr>\n",
       "      <th>2016-05-01</th>\n",
       "      <td>0.065287</td>\n",
       "      <td>0.095817</td>\n",
       "      <td>0.007291</td>\n",
       "      <td>0.009597</td>\n",
       "      <td>-0.023830</td>\n",
       "      <td>0.0178</td>\n",
       "      <td>-0.0061</td>\n",
       "      <td>-0.0166</td>\n",
       "      <td>-0.0109</td>\n",
       "      <td>-0.0248</td>\n",
       "      <td>0.0001</td>\n",
       "      <td>0.043059</td>\n",
       "    </tr>\n",
       "    <tr>\n",
       "      <th>2016-06-01</th>\n",
       "      <td>-0.036831</td>\n",
       "      <td>-0.009920</td>\n",
       "      <td>0.055589</td>\n",
       "      <td>-0.051974</td>\n",
       "      <td>0.044268</td>\n",
       "      <td>-0.0005</td>\n",
       "      <td>0.0045</td>\n",
       "      <td>-0.0148</td>\n",
       "      <td>0.0140</td>\n",
       "      <td>0.0194</td>\n",
       "      <td>0.0002</td>\n",
       "      <td>-0.036273</td>\n",
       "    </tr>\n",
       "    <tr>\n",
       "      <th>...</th>\n",
       "      <td>...</td>\n",
       "      <td>...</td>\n",
       "      <td>...</td>\n",
       "      <td>...</td>\n",
       "      <td>...</td>\n",
       "      <td>...</td>\n",
       "      <td>...</td>\n",
       "      <td>...</td>\n",
       "      <td>...</td>\n",
       "      <td>...</td>\n",
       "      <td>...</td>\n",
       "      <td>...</td>\n",
       "    </tr>\n",
       "    <tr>\n",
       "      <th>2021-08-01</th>\n",
       "      <td>0.040930</td>\n",
       "      <td>0.043034</td>\n",
       "      <td>0.061956</td>\n",
       "      <td>0.031371</td>\n",
       "      <td>-0.032447</td>\n",
       "      <td>0.0291</td>\n",
       "      <td>-0.0068</td>\n",
       "      <td>-0.0015</td>\n",
       "      <td>-0.0028</td>\n",
       "      <td>-0.0179</td>\n",
       "      <td>0.0000</td>\n",
       "      <td>0.037464</td>\n",
       "    </tr>\n",
       "    <tr>\n",
       "      <th>2021-09-01</th>\n",
       "      <td>-0.066640</td>\n",
       "      <td>-0.053518</td>\n",
       "      <td>-0.013480</td>\n",
       "      <td>-0.038219</td>\n",
       "      <td>-0.057468</td>\n",
       "      <td>-0.0437</td>\n",
       "      <td>0.0112</td>\n",
       "      <td>0.0508</td>\n",
       "      <td>-0.0196</td>\n",
       "      <td>0.0210</td>\n",
       "      <td>0.0000</td>\n",
       "      <td>-0.049964</td>\n",
       "    </tr>\n",
       "    <tr>\n",
       "      <th>2021-10-01</th>\n",
       "      <td>0.058657</td>\n",
       "      <td>0.026602</td>\n",
       "      <td>0.093891</td>\n",
       "      <td>-0.077574</td>\n",
       "      <td>-0.038437</td>\n",
       "      <td>0.0665</td>\n",
       "      <td>-0.0270</td>\n",
       "      <td>-0.0049</td>\n",
       "      <td>0.0166</td>\n",
       "      <td>-0.0145</td>\n",
       "      <td>0.0000</td>\n",
       "      <td>-0.007303</td>\n",
       "    </tr>\n",
       "    <tr>\n",
       "      <th>2021-11-01</th>\n",
       "      <td>0.103471</td>\n",
       "      <td>0.039924</td>\n",
       "      <td>0.099102</td>\n",
       "      <td>-0.048270</td>\n",
       "      <td>0.033657</td>\n",
       "      <td>-0.0155</td>\n",
       "      <td>-0.0177</td>\n",
       "      <td>-0.0045</td>\n",
       "      <td>0.0720</td>\n",
       "      <td>0.0173</td>\n",
       "      <td>0.0000</td>\n",
       "      <td>0.024187</td>\n",
       "    </tr>\n",
       "    <tr>\n",
       "      <th>2021-12-01</th>\n",
       "      <td>0.075797</td>\n",
       "      <td>-0.049252</td>\n",
       "      <td>0.052505</td>\n",
       "      <td>0.076120</td>\n",
       "      <td>0.071455</td>\n",
       "      <td>0.0310</td>\n",
       "      <td>-0.0080</td>\n",
       "      <td>0.0326</td>\n",
       "      <td>0.0491</td>\n",
       "      <td>0.0440</td>\n",
       "      <td>0.0001</td>\n",
       "      <td>0.054887</td>\n",
       "    </tr>\n",
       "  </tbody>\n",
       "</table>\n",
       "<p>71 rows × 12 columns</p>\n",
       "</div>"
      ],
      "text/plain": [
       "                AAPL      AMZN      COST       DFS      SBUX  Mkt-RF     SMB  \\\n",
       "Date                                                                           \n",
       "2016-02-01 -0.006677 -0.058739 -0.007213  0.013758 -0.042126 -0.0007  0.0088   \n",
       "2016-03-01  0.133327  0.074423  0.053171  0.103652  0.028949  0.0696  0.0107   \n",
       "2016-04-01 -0.139921  0.111094 -0.059970  0.105067 -0.058124  0.0091  0.0123   \n",
       "2016-05-01  0.065287  0.095817  0.007291  0.009597 -0.023830  0.0178 -0.0061   \n",
       "2016-06-01 -0.036831 -0.009920  0.055589 -0.051974  0.044268 -0.0005  0.0045   \n",
       "...              ...       ...       ...       ...       ...     ...     ...   \n",
       "2021-08-01  0.040930  0.043034  0.061956  0.031371 -0.032447  0.0291 -0.0068   \n",
       "2021-09-01 -0.066640 -0.053518 -0.013480 -0.038219 -0.057468 -0.0437  0.0112   \n",
       "2021-10-01  0.058657  0.026602  0.093891 -0.077574 -0.038437  0.0665 -0.0270   \n",
       "2021-11-01  0.103471  0.039924  0.099102 -0.048270  0.033657 -0.0155 -0.0177   \n",
       "2021-12-01  0.075797 -0.049252  0.052505  0.076120  0.071455  0.0310 -0.0080   \n",
       "\n",
       "               HML     RMW     CMA      RF       emv  \n",
       "Date                                                  \n",
       "2016-02-01 -0.0057  0.0325  0.0202  0.0002 -0.005970  \n",
       "2016-03-01  0.0119  0.0077 -0.0008  0.0002  0.107621  \n",
       "2016-04-01  0.0328 -0.0297  0.0190  0.0001  0.014422  \n",
       "2016-05-01 -0.0166 -0.0109 -0.0248  0.0001  0.043059  \n",
       "2016-06-01 -0.0148  0.0140  0.0194  0.0002 -0.036273  \n",
       "...            ...     ...     ...     ...       ...  \n",
       "2021-08-01 -0.0015 -0.0028 -0.0179  0.0000  0.037464  \n",
       "2021-09-01  0.0508 -0.0196  0.0210  0.0000 -0.049964  \n",
       "2021-10-01 -0.0049  0.0166 -0.0145  0.0000 -0.007303  \n",
       "2021-11-01 -0.0045  0.0720  0.0173  0.0000  0.024187  \n",
       "2021-12-01  0.0326  0.0491  0.0440  0.0001  0.054887  \n",
       "\n",
       "[71 rows x 12 columns]"
      ]
     },
     "execution_count": 15,
     "metadata": {},
     "output_type": "execute_result"
    }
   ],
   "source": [
    "fama_french_df"
   ]
  },
  {
   "cell_type": "markdown",
   "id": "wcj5VTBuajKo",
   "metadata": {
    "id": "wcj5VTBuajKo"
   },
   "source": [
    "####Bootstrap R2"
   ]
  },
  {
   "cell_type": "code",
   "execution_count": 14,
   "id": "2SkvgXMtwV2k",
   "metadata": {
    "colab": {
     "base_uri": "https://localhost:8080/",
     "height": 423
    },
    "id": "2SkvgXMtwV2k",
    "outputId": "bfd648bb-778c-41a9-d21b-849469f4f2e2"
   },
   "outputs": [
    {
     "data": {
      "text/html": [
       "<div>\n",
       "<style scoped>\n",
       "    .dataframe tbody tr th:only-of-type {\n",
       "        vertical-align: middle;\n",
       "    }\n",
       "\n",
       "    .dataframe tbody tr th {\n",
       "        vertical-align: top;\n",
       "    }\n",
       "\n",
       "    .dataframe thead th {\n",
       "        text-align: right;\n",
       "    }\n",
       "</style>\n",
       "<table border=\"1\" class=\"dataframe\">\n",
       "  <thead>\n",
       "    <tr style=\"text-align: right;\">\n",
       "      <th></th>\n",
       "      <th>CAPM</th>\n",
       "      <th>3_factores</th>\n",
       "      <th>5_factores</th>\n",
       "    </tr>\n",
       "  </thead>\n",
       "  <tbody>\n",
       "    <tr>\n",
       "      <th>0</th>\n",
       "      <td>0.755232</td>\n",
       "      <td>0.755393</td>\n",
       "      <td>0.785574</td>\n",
       "    </tr>\n",
       "    <tr>\n",
       "      <th>1</th>\n",
       "      <td>0.747879</td>\n",
       "      <td>0.748254</td>\n",
       "      <td>0.772983</td>\n",
       "    </tr>\n",
       "    <tr>\n",
       "      <th>2</th>\n",
       "      <td>0.760230</td>\n",
       "      <td>0.760582</td>\n",
       "      <td>0.784946</td>\n",
       "    </tr>\n",
       "    <tr>\n",
       "      <th>3</th>\n",
       "      <td>0.736966</td>\n",
       "      <td>0.737946</td>\n",
       "      <td>0.766250</td>\n",
       "    </tr>\n",
       "    <tr>\n",
       "      <th>4</th>\n",
       "      <td>0.747972</td>\n",
       "      <td>0.749040</td>\n",
       "      <td>0.779181</td>\n",
       "    </tr>\n",
       "    <tr>\n",
       "      <th>...</th>\n",
       "      <td>...</td>\n",
       "      <td>...</td>\n",
       "      <td>...</td>\n",
       "    </tr>\n",
       "    <tr>\n",
       "      <th>95</th>\n",
       "      <td>0.757753</td>\n",
       "      <td>0.757831</td>\n",
       "      <td>0.784215</td>\n",
       "    </tr>\n",
       "    <tr>\n",
       "      <th>96</th>\n",
       "      <td>0.742583</td>\n",
       "      <td>0.742803</td>\n",
       "      <td>0.772795</td>\n",
       "    </tr>\n",
       "    <tr>\n",
       "      <th>97</th>\n",
       "      <td>0.744835</td>\n",
       "      <td>0.745118</td>\n",
       "      <td>0.770085</td>\n",
       "    </tr>\n",
       "    <tr>\n",
       "      <th>98</th>\n",
       "      <td>0.755573</td>\n",
       "      <td>0.756261</td>\n",
       "      <td>0.782418</td>\n",
       "    </tr>\n",
       "    <tr>\n",
       "      <th>99</th>\n",
       "      <td>0.760809</td>\n",
       "      <td>0.761436</td>\n",
       "      <td>0.785003</td>\n",
       "    </tr>\n",
       "  </tbody>\n",
       "</table>\n",
       "<p>100 rows × 3 columns</p>\n",
       "</div>"
      ],
      "text/plain": [
       "        CAPM  3_factores  5_factores\n",
       "0   0.755232    0.755393    0.785574\n",
       "1   0.747879    0.748254    0.772983\n",
       "2   0.760230    0.760582    0.784946\n",
       "3   0.736966    0.737946    0.766250\n",
       "4   0.747972    0.749040    0.779181\n",
       "..       ...         ...         ...\n",
       "95  0.757753    0.757831    0.784215\n",
       "96  0.742583    0.742803    0.772795\n",
       "97  0.744835    0.745118    0.770085\n",
       "98  0.755573    0.756261    0.782418\n",
       "99  0.760809    0.761436    0.785003\n",
       "\n",
       "[100 rows x 3 columns]"
      ]
     },
     "execution_count": 14,
     "metadata": {},
     "output_type": "execute_result"
    }
   ],
   "source": [
    "data = fama_french_df\n",
    "bs_r2_capm = []\n",
    "bs_r2_3f = []\n",
    "bs_r2_5f = []\n",
    "bootstrap_r2 = pd.DataFrame()\n",
    "\n",
    "for i in range(100):\n",
    "    flag_data = data.sample(frac = len(data), replace=True)\n",
    "    flag_data['emv' + '_minus_RF'] = fama_french_df['emv'] - fama_french_df['RF']\n",
    "    y = flag_data[['emv' + '_minus_RF']]\n",
    "\n",
    "    #CAPM\n",
    "    X_capm = flag_data[['Mkt-RF']]\n",
    "\n",
    "    model_capm = LinearRegression().fit(X_capm, y)\n",
    "    prediction_capm = model_capm.predict(X_capm)\n",
    "\n",
    "    r2_capm = r2_score(y_pred=prediction_capm, y_true=y)\n",
    "    bs_r2_capm.append(r2_capm)\n",
    "\n",
    "    #3 factores\n",
    "    X_3factor = flag_data[['Mkt-RF', 'SMB', 'HML']]\n",
    "\n",
    "    model_3factor = LinearRegression().fit(X_3factor, y)\n",
    "    prediction_3factor = model_3factor.predict(X_3factor)\n",
    "\n",
    "    r2_3factor = r2_score(y_pred=prediction_3factor, y_true=y)\n",
    "    bs_r2_3f.append(r2_3factor)\n",
    "\n",
    "    #5 factores\n",
    "    X_5factor = flag_data[['Mkt-RF', 'SMB', 'HML', 'RMW', 'CMA']]\n",
    "\n",
    "    model_5factor = LinearRegression().fit(X_5factor, y)\n",
    "    prediction_5factor = model_5factor.predict(X_5factor)\n",
    "\n",
    "    r2_5factor = r2_score(y_pred=prediction_5factor, y_true=y)\n",
    "    bs_r2_5f.append(r2_5factor)\n",
    "\n",
    "\n",
    "bootstrap_r2[\"CAPM\"] = bs_r2_capm\n",
    "bootstrap_r2[\"3_factores\"] = bs_r2_3f\n",
    "bootstrap_r2[\"5_factores\"] = bs_r2_5f\n",
    "bootstrap_r2"
   ]
  },
  {
   "cell_type": "code",
   "execution_count": null,
   "id": "3ph80MUi06Hz",
   "metadata": {
    "id": "3ph80MUi06Hz"
   },
   "outputs": [],
   "source": []
  }
 ],
 "metadata": {
  "colab": {
   "provenance": []
  },
  "kernelspec": {
   "display_name": "Python 3 (ipykernel)",
   "language": "python",
   "name": "python3"
  },
  "language_info": {
   "codemirror_mode": {
    "name": "ipython",
    "version": 3
   },
   "file_extension": ".py",
   "mimetype": "text/x-python",
   "name": "python",
   "nbconvert_exporter": "python",
   "pygments_lexer": "ipython3",
   "version": "3.11.4"
  }
 },
 "nbformat": 4,
 "nbformat_minor": 5
}
