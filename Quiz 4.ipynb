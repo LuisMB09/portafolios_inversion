{
 "cells": [
  {
   "cell_type": "code",
   "execution_count": 2,
   "id": "c3361c73",
   "metadata": {},
   "outputs": [
    {
     "name": "stdout",
     "output_type": "stream",
     "text": [
      "[*********************100%%**********************]  2 of 2 completed\n"
     ]
    }
   ],
   "source": [
    "import yfinance as yf\n",
    "import pandas as pd\n",
    "import numpy as np \n",
    "import matplotlib.pyplot as plt\n",
    "from sklearn.linear_model import LinearRegression\n",
    "from sklearn.metrics import r2_score\n",
    "\n",
    "tickers = ['VTI', 'AMZN']\n",
    "start_date = '2015-01-01'\n",
    "end_date = '2023-01-01'\n",
    "St = yf.download(tickers, start=start_date, end=end_date)['Adj Close']\n",
    "St.head()\n",
    "rt = St.pct_change().dropna()"
   ]
  },
  {
   "cell_type": "code",
   "execution_count": 6,
   "id": "410e7b25",
   "metadata": {},
   "outputs": [
    {
     "name": "stderr",
     "output_type": "stream",
     "text": [
      "C:\\Users\\luism\\anaconda3\\Lib\\site-packages\\numpy\\core\\fromnumeric.py:3462: FutureWarning: In a future version, DataFrame.mean(axis=None) will return a scalar mean over the entire DataFrame. To retain the old behavior, use 'frame.mean(axis=0)' or just 'frame.mean()'\n",
      "  return mean(axis=axis, dtype=dtype, out=out, **kwargs)\n",
      "C:\\Users\\luism\\anaconda3\\Lib\\site-packages\\numpy\\core\\fromnumeric.py:3462: FutureWarning: In a future version, DataFrame.mean(axis=None) will return a scalar mean over the entire DataFrame. To retain the old behavior, use 'frame.mean(axis=0)' or just 'frame.mean()'\n",
      "  return mean(axis=axis, dtype=dtype, out=out, **kwargs)\n"
     ]
    }
   ],
   "source": [
    "r2s = []\n",
    "betas = []\n",
    "rendimiento = []\n",
    "\n",
    "for i in tickers:\n",
    "    X = rt[['VTI']]\n",
    "    y = rt[[i]]\n",
    "    # Beta\n",
    "    model = LinearRegression().fit(X, y)\n",
    "    beta = np.round(model.coef_[0][0],3)\n",
    "    betas.append(beta)\n",
    "    # R2\n",
    "    predictions = model.predict(X)\n",
    "    r2 = r2_score(y_true = y, y_pred = predictions)\n",
    "    r2s.append(r2)\n",
    "    # rend\n",
    "    rend = np.mean(rt[[i]])[0] * 252\n",
    "    rendimiento.append(rend)"
   ]
  },
  {
   "cell_type": "code",
   "execution_count": 7,
   "id": "215fc008",
   "metadata": {},
   "outputs": [
    {
     "data": {
      "text/html": [
       "<div>\n",
       "<style scoped>\n",
       "    .dataframe tbody tr th:only-of-type {\n",
       "        vertical-align: middle;\n",
       "    }\n",
       "\n",
       "    .dataframe tbody tr th {\n",
       "        vertical-align: top;\n",
       "    }\n",
       "\n",
       "    .dataframe thead th {\n",
       "        text-align: right;\n",
       "    }\n",
       "</style>\n",
       "<table border=\"1\" class=\"dataframe\">\n",
       "  <thead>\n",
       "    <tr style=\"text-align: right;\">\n",
       "      <th></th>\n",
       "      <th>tickers</th>\n",
       "      <th>betas</th>\n",
       "      <th>r2</th>\n",
       "      <th>rendimientos</th>\n",
       "    </tr>\n",
       "  </thead>\n",
       "  <tbody>\n",
       "    <tr>\n",
       "      <th>0</th>\n",
       "      <td>VTI</td>\n",
       "      <td>1.000</td>\n",
       "      <td>1.000000</td>\n",
       "      <td>0.109981</td>\n",
       "    </tr>\n",
       "    <tr>\n",
       "      <th>1</th>\n",
       "      <td>AMZN</td>\n",
       "      <td>1.089</td>\n",
       "      <td>0.385973</td>\n",
       "      <td>0.267343</td>\n",
       "    </tr>\n",
       "  </tbody>\n",
       "</table>\n",
       "</div>"
      ],
      "text/plain": [
       "  tickers  betas        r2  rendimientos\n",
       "0     VTI  1.000  1.000000      0.109981\n",
       "1    AMZN  1.089  0.385973      0.267343"
      ]
     },
     "execution_count": 7,
     "metadata": {},
     "output_type": "execute_result"
    }
   ],
   "source": [
    "df = pd.DataFrame()\n",
    "df['tickers'] = tickers\n",
    "df['betas'] = betas\n",
    "df['r2'] = r2s\n",
    "df['rendimientos'] = rendimiento\n",
    "df"
   ]
  },
  {
   "cell_type": "code",
   "execution_count": 13,
   "id": "cc8fcd75",
   "metadata": {},
   "outputs": [],
   "source": [
    "r = rt.AMZN.mean() * 252 \n",
    "vol = rt.AMZN.std() * np.sqrt(252)"
   ]
  },
  {
   "cell_type": "code",
   "execution_count": 15,
   "id": "d2bcab04",
   "metadata": {},
   "outputs": [
    {
     "data": {
      "text/plain": [
       "0.713"
      ]
     },
     "execution_count": 15,
     "metadata": {},
     "output_type": "execute_result"
    }
   ],
   "source": [
    "np.round((r-.03)/vol,3)"
   ]
  },
  {
   "cell_type": "code",
   "execution_count": 16,
   "id": "9d71e0e8",
   "metadata": {},
   "outputs": [],
   "source": [
    "r_VTI = rt.VTI.mean() * 252 \n",
    "vol_VTI = rt.VTI.std() * np.sqrt(252)"
   ]
  },
  {
   "cell_type": "code",
   "execution_count": 17,
   "id": "ac2d5445",
   "metadata": {},
   "outputs": [
    {
     "data": {
      "text/plain": [
       "0.421"
      ]
     },
     "execution_count": 17,
     "metadata": {},
     "output_type": "execute_result"
    }
   ],
   "source": [
    "np.round((r_VTI-.03)/vol_VTI,3)"
   ]
  },
  {
   "cell_type": "code",
   "execution_count": 23,
   "id": "11315dec",
   "metadata": {},
   "outputs": [
    {
     "data": {
      "text/plain": [
       "0.095"
      ]
     },
     "execution_count": 23,
     "metadata": {},
     "output_type": "execute_result"
    }
   ],
   "source": [
    "rf = 0.03\n",
    "beta_amazon = betas[1]\n",
    "market_return = 0.09\n",
    "\n",
    "capm_amzn = rf + beta_amazon*(market_return - rf)\n",
    "np.round(capm_amzn,3)"
   ]
  }
 ],
 "metadata": {
  "kernelspec": {
   "display_name": "Python 3 (ipykernel)",
   "language": "python",
   "name": "python3"
  },
  "language_info": {
   "codemirror_mode": {
    "name": "ipython",
    "version": 3
   },
   "file_extension": ".py",
   "mimetype": "text/x-python",
   "name": "python",
   "nbconvert_exporter": "python",
   "pygments_lexer": "ipython3",
   "version": "3.11.4"
  }
 },
 "nbformat": 4,
 "nbformat_minor": 5
}
