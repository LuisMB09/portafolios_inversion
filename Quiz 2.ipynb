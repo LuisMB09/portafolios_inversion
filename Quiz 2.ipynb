{
 "cells": [
  {
   "cell_type": "code",
   "execution_count": 1,
   "id": "447319b5",
   "metadata": {},
   "outputs": [],
   "source": [
    "import numpy as np\n",
    "import pandas as pd"
   ]
  },
  {
   "cell_type": "code",
   "execution_count": 2,
   "id": "52e4a295",
   "metadata": {},
   "outputs": [
    {
     "data": {
      "text/html": [
       "<div>\n",
       "<style scoped>\n",
       "    .dataframe tbody tr th:only-of-type {\n",
       "        vertical-align: middle;\n",
       "    }\n",
       "\n",
       "    .dataframe tbody tr th {\n",
       "        vertical-align: top;\n",
       "    }\n",
       "\n",
       "    .dataframe thead th {\n",
       "        text-align: right;\n",
       "    }\n",
       "</style>\n",
       "<table border=\"1\" class=\"dataframe\">\n",
       "  <thead>\n",
       "    <tr style=\"text-align: right;\">\n",
       "      <th></th>\n",
       "      <th>prob</th>\n",
       "      <th>a</th>\n",
       "      <th>b</th>\n",
       "      <th>c</th>\n",
       "    </tr>\n",
       "  </thead>\n",
       "  <tbody>\n",
       "    <tr>\n",
       "      <th>0</th>\n",
       "      <td>0.2</td>\n",
       "      <td>-0.20</td>\n",
       "      <td>-0.05</td>\n",
       "      <td>0.05</td>\n",
       "    </tr>\n",
       "    <tr>\n",
       "      <th>1</th>\n",
       "      <td>0.3</td>\n",
       "      <td>0.05</td>\n",
       "      <td>0.10</td>\n",
       "      <td>0.03</td>\n",
       "    </tr>\n",
       "    <tr>\n",
       "      <th>2</th>\n",
       "      <td>0.5</td>\n",
       "      <td>0.40</td>\n",
       "      <td>0.15</td>\n",
       "      <td>0.02</td>\n",
       "    </tr>\n",
       "  </tbody>\n",
       "</table>\n",
       "</div>"
      ],
      "text/plain": [
       "   prob     a     b     c\n",
       "0   0.2 -0.20 -0.05  0.05\n",
       "1   0.3  0.05  0.10  0.03\n",
       "2   0.5  0.40  0.15  0.02"
      ]
     },
     "execution_count": 2,
     "metadata": {},
     "output_type": "execute_result"
    }
   ],
   "source": [
    "# ejercicio 1\n",
    "tabla = pd.DataFrame({\n",
    "    'prob': [0.2, 0.3, 0.5],\n",
    "    'a': [-0.2, 0.05, 0.4],\n",
    "    'b': [-0.05, 0.1, 0.15],\n",
    "    'c': [0.05, 0.03, 0.02]\n",
    "})\n",
    "tabla"
   ]
  },
  {
   "cell_type": "code",
   "execution_count": 3,
   "id": "c1ffecc8",
   "metadata": {},
   "outputs": [
    {
     "data": {
      "text/plain": [
       "(0.175, 0.095, 0.029000000000000005)"
      ]
     },
     "execution_count": 3,
     "metadata": {},
     "output_type": "execute_result"
    }
   ],
   "source": [
    "ea = (tabla.a * tabla.prob).sum()\n",
    "eb = (tabla.b * tabla.prob).sum()\n",
    "ec = (tabla.c * tabla.prob).sum()\n",
    "ea,eb,ec"
   ]
  },
  {
   "cell_type": "code",
   "execution_count": 4,
   "id": "83959c02",
   "metadata": {},
   "outputs": [
    {
     "data": {
      "text/plain": [
       "0.114"
      ]
     },
     "execution_count": 4,
     "metadata": {},
     "output_type": "execute_result"
    }
   ],
   "source": [
    "np.round(0.4 * ea + 0.4 * eb + 0.2 * ec,3)"
   ]
  },
  {
   "cell_type": "code",
   "execution_count": 5,
   "id": "feca3316",
   "metadata": {},
   "outputs": [
    {
     "data": {
      "text/plain": [
       "(0.1, 0.45, 0.45)"
      ]
     },
     "execution_count": 5,
     "metadata": {},
     "output_type": "execute_result"
    }
   ],
   "source": [
    "# ejercicio 2\n",
    "#𝐸[𝑅𝐴]=20% \n",
    "#𝐸[𝑅𝐵]=15% \n",
    "#𝐸[𝑅𝐶]=17%\n",
    "#50,000\n",
    "#Si el inversionista elige invertir 5,000 en el activo A, $22,500 en el activo B y 22,500 en el activo C\n",
    "x = 5000/50000\n",
    "y = 22500/50000\n",
    "z = 22500/50000\n",
    "x,y,z"
   ]
  },
  {
   "cell_type": "code",
   "execution_count": 6,
   "id": "c8a8bd17",
   "metadata": {},
   "outputs": [
    {
     "data": {
      "text/plain": [
       "0.164"
      ]
     },
     "execution_count": 6,
     "metadata": {},
     "output_type": "execute_result"
    }
   ],
   "source": [
    "np.round(x * 0.2 + y * 0.15 + z * 0.17,3)"
   ]
  },
  {
   "cell_type": "code",
   "execution_count": 7,
   "id": "5a271ae8",
   "metadata": {},
   "outputs": [
    {
     "data": {
      "text/plain": [
       "0.925"
      ]
     },
     "execution_count": 7,
     "metadata": {},
     "output_type": "execute_result"
    }
   ],
   "source": [
    "# ejercicio 3\n",
    "# Coeficiente de correlación del activo A y B\n",
    "\n",
    "var_A = (tabla.prob * (tabla.a - ea)**2).sum()\n",
    "vol_A = np.sqrt(var_A)\n",
    "\n",
    "var_B = (tabla.prob * (tabla.b - eb)**2).sum()\n",
    "vol_B = np.sqrt(var_B)\n",
    "\n",
    "var_C = (tabla.prob * (tabla.c - ec)**2).sum()\n",
    "vol_C = np.sqrt(var_C)\n",
    "\n",
    "cov_AB = (tabla.prob * (tabla.a - ea) * (tabla.b - eb)).sum()\n",
    "\n",
    "corr_AB = cov_AB/(vol_A * vol_B)\n",
    "np.round(corr_AB,3)\n"
   ]
  },
  {
   "cell_type": "code",
   "execution_count": 8,
   "id": "d27d7e66",
   "metadata": {},
   "outputs": [
    {
     "data": {
      "text/plain": [
       "(0.065, 0.073)"
      ]
     },
     "execution_count": 8,
     "metadata": {},
     "output_type": "execute_result"
    }
   ],
   "source": [
    "# ejercicio 4\n",
    "#Si un inversionista le mete 30% al activo A y 70% al activo C, ¿cuál será la volatilidad de su portafolio?\n",
    "w1 = 0.3\n",
    "\n",
    "cov_AC = (tabla.prob * (tabla.a - ea) * (tabla.c - ec)).sum()\n",
    "\n",
    "var_AC = w1**2 * vol_A**2 + (1-w1)**2 * vol_C**2 + 2*w1*(1-w1) * cov_AC\n",
    "vol_AC = np.sqrt(var_AC)\n",
    "\n",
    "e_AC = ea * 0.3 + ec * 0.7\n",
    "\n",
    "np.round(vol_AC,3), np.round(e_AC,3)\n",
    "\n"
   ]
  },
  {
   "cell_type": "code",
   "execution_count": 9,
   "id": "0c3a57a3",
   "metadata": {},
   "outputs": [
    {
     "data": {
      "text/plain": [
       "0.162"
      ]
     },
     "execution_count": 9,
     "metadata": {},
     "output_type": "execute_result"
    }
   ],
   "source": [
    "# ejercicio 6\n",
    "#El rendimiento esperado de XYZ es del 12%, y una desviación estándar del 9%. \n",
    "#ABC tiene un rendimiento esperado del 18%, y desviación estándar del 25%. \n",
    "#¿Cuál es el rendimiento esperado en un portafolio cuyos pesos son wXYZ=0.3 y wABC=0.7?\n",
    "\n",
    "e_XYZ = 0.12\n",
    "e_ABC = 0.18\n",
    "\n",
    "np.round(e_XYZ * 0.3 + e_ABC * 0.7,3)"
   ]
  },
  {
   "cell_type": "code",
   "execution_count": 10,
   "id": "aeb89a5a",
   "metadata": {},
   "outputs": [
    {
     "data": {
      "text/plain": [
       "0.182"
      ]
     },
     "execution_count": 10,
     "metadata": {},
     "output_type": "execute_result"
    }
   ],
   "source": [
    "#Si la correlación entre los rendimientos de XYZ y ABC es de 0.2, \n",
    "#¿cuál es la volatilidad de los rendimientos en un portafolio cuyos pesos son wXYZ=0.3 y wABC=0.7?\n",
    "\n",
    "vol_XYZ = 0.09\n",
    "vol_ABC = 0.25\n",
    "corr = 0.2\n",
    "w1 = 0.3\n",
    "\n",
    "var = w1**2 * vol_XYZ**2 + (1-w1)**2 * vol_ABC**2 + 2*w1*(1-w1) * corr * vol_XYZ * vol_ABC\n",
    "vol_p = np.sqrt(var)\n",
    "\n",
    "np.round(vol_p,3)\n"
   ]
  }
 ],
 "metadata": {
  "kernelspec": {
   "display_name": "Python 3 (ipykernel)",
   "language": "python",
   "name": "python3"
  },
  "language_info": {
   "codemirror_mode": {
    "name": "ipython",
    "version": 3
   },
   "file_extension": ".py",
   "mimetype": "text/x-python",
   "name": "python",
   "nbconvert_exporter": "python",
   "pygments_lexer": "ipython3",
   "version": "3.11.4"
  }
 },
 "nbformat": 4,
 "nbformat_minor": 5
}
