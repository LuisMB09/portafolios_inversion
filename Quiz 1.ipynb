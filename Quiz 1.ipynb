{
 "cells": [
  {
   "cell_type": "code",
   "execution_count": 1,
   "id": "20fa2f6f",
   "metadata": {},
   "outputs": [],
   "source": [
    "import pandas as pd\n",
    "import numpy as np"
   ]
  },
  {
   "cell_type": "code",
   "execution_count": 2,
   "id": "c3f54caa",
   "metadata": {},
   "outputs": [
    {
     "data": {
      "text/html": [
       "<div>\n",
       "<style scoped>\n",
       "    .dataframe tbody tr th:only-of-type {\n",
       "        vertical-align: middle;\n",
       "    }\n",
       "\n",
       "    .dataframe tbody tr th {\n",
       "        vertical-align: top;\n",
       "    }\n",
       "\n",
       "    .dataframe thead th {\n",
       "        text-align: right;\n",
       "    }\n",
       "</style>\n",
       "<table border=\"1\" class=\"dataframe\">\n",
       "  <thead>\n",
       "    <tr style=\"text-align: right;\">\n",
       "      <th></th>\n",
       "      <th>year</th>\n",
       "      <th>rendimiento</th>\n",
       "    </tr>\n",
       "  </thead>\n",
       "  <tbody>\n",
       "    <tr>\n",
       "      <th>0</th>\n",
       "      <td>1</td>\n",
       "      <td>0.20</td>\n",
       "    </tr>\n",
       "    <tr>\n",
       "      <th>1</th>\n",
       "      <td>2</td>\n",
       "      <td>-0.10</td>\n",
       "    </tr>\n",
       "    <tr>\n",
       "      <th>2</th>\n",
       "      <td>3</td>\n",
       "      <td>0.15</td>\n",
       "    </tr>\n",
       "  </tbody>\n",
       "</table>\n",
       "</div>"
      ],
      "text/plain": [
       "   year  rendimiento\n",
       "0     1         0.20\n",
       "1     2        -0.10\n",
       "2     3         0.15"
      ]
     },
     "execution_count": 2,
     "metadata": {},
     "output_type": "execute_result"
    }
   ],
   "source": [
    "tabla = pd.DataFrame({\n",
    "    'year':[1,2,3],\n",
    "    'rendimiento':[0.20,-0.10,0.15]\n",
    "})\n",
    "tabla"
   ]
  },
  {
   "cell_type": "code",
   "execution_count": 3,
   "id": "832014a5",
   "metadata": {},
   "outputs": [
    {
     "data": {
      "text/plain": [
       "0.242"
      ]
     },
     "execution_count": 3,
     "metadata": {},
     "output_type": "execute_result"
    }
   ],
   "source": [
    "(1 + tabla.rendimiento).prod()-1"
   ]
  },
  {
   "cell_type": "code",
   "execution_count": 4,
   "id": "250c17f3",
   "metadata": {},
   "outputs": [
    {
     "data": {
      "text/html": [
       "<div>\n",
       "<style scoped>\n",
       "    .dataframe tbody tr th:only-of-type {\n",
       "        vertical-align: middle;\n",
       "    }\n",
       "\n",
       "    .dataframe tbody tr th {\n",
       "        vertical-align: top;\n",
       "    }\n",
       "\n",
       "    .dataframe thead th {\n",
       "        text-align: right;\n",
       "    }\n",
       "</style>\n",
       "<table border=\"1\" class=\"dataframe\">\n",
       "  <thead>\n",
       "    <tr style=\"text-align: right;\">\n",
       "      <th></th>\n",
       "      <th>prob</th>\n",
       "      <th>ret</th>\n",
       "    </tr>\n",
       "    <tr>\n",
       "      <th>state</th>\n",
       "      <th></th>\n",
       "      <th></th>\n",
       "    </tr>\n",
       "  </thead>\n",
       "  <tbody>\n",
       "    <tr>\n",
       "      <th>recesion</th>\n",
       "      <td>0.4</td>\n",
       "      <td>-0.10</td>\n",
       "    </tr>\n",
       "    <tr>\n",
       "      <th>normalidad</th>\n",
       "      <td>0.3</td>\n",
       "      <td>0.08</td>\n",
       "    </tr>\n",
       "    <tr>\n",
       "      <th>expansiion</th>\n",
       "      <td>0.3</td>\n",
       "      <td>0.23</td>\n",
       "    </tr>\n",
       "  </tbody>\n",
       "</table>\n",
       "</div>"
      ],
      "text/plain": [
       "            prob   ret\n",
       "state                 \n",
       "recesion     0.4 -0.10\n",
       "normalidad   0.3  0.08\n",
       "expansiion   0.3  0.23"
      ]
     },
     "execution_count": 4,
     "metadata": {},
     "output_type": "execute_result"
    }
   ],
   "source": [
    "# Creamos tabla\n",
    "tabla2 = pd.DataFrame(columns=['prob','ret'], \n",
    "                      index=['recesion', 'normalidad', 'expansiion'])\n",
    "tabla2.index.name = 'state'\n",
    "tabla2['prob'] = [0.40,0.30,0.30]\n",
    "tabla2['ret'] = [-0.10,0.08,0.23]\n",
    "tabla2"
   ]
  },
  {
   "cell_type": "code",
   "execution_count": 5,
   "id": "09f1700e",
   "metadata": {},
   "outputs": [
    {
     "data": {
      "text/plain": [
       "0.053"
      ]
     },
     "execution_count": 5,
     "metadata": {},
     "output_type": "execute_result"
    }
   ],
   "source": [
    "valor_esperado=(tabla2['prob'] * tabla2['ret']).sum()\n",
    "valor_esperado"
   ]
  },
  {
   "cell_type": "code",
   "execution_count": 6,
   "id": "b1e149cc",
   "metadata": {},
   "outputs": [
    {
     "data": {
      "text/plain": [
       "0.138"
      ]
     },
     "execution_count": 6,
     "metadata": {},
     "output_type": "execute_result"
    }
   ],
   "source": [
    "varianza = np.sum(tabla2.prob * (-valor_esperado+tabla2.ret)**2)\n",
    "volatilidad = np.sqrt(varianza)\n",
    "round(volatilidad,3)"
   ]
  },
  {
   "cell_type": "code",
   "execution_count": 7,
   "id": "2846f49a",
   "metadata": {},
   "outputs": [
    {
     "data": {
      "text/html": [
       "<div>\n",
       "<style scoped>\n",
       "    .dataframe tbody tr th:only-of-type {\n",
       "        vertical-align: middle;\n",
       "    }\n",
       "\n",
       "    .dataframe tbody tr th {\n",
       "        vertical-align: top;\n",
       "    }\n",
       "\n",
       "    .dataframe thead th {\n",
       "        text-align: right;\n",
       "    }\n",
       "</style>\n",
       "<table border=\"1\" class=\"dataframe\">\n",
       "  <thead>\n",
       "    <tr style=\"text-align: right;\">\n",
       "      <th></th>\n",
       "      <th>r</th>\n",
       "    </tr>\n",
       "  </thead>\n",
       "  <tbody>\n",
       "    <tr>\n",
       "      <th>0</th>\n",
       "      <td>-0.07</td>\n",
       "    </tr>\n",
       "    <tr>\n",
       "      <th>1</th>\n",
       "      <td>0.04</td>\n",
       "    </tr>\n",
       "    <tr>\n",
       "      <th>2</th>\n",
       "      <td>0.10</td>\n",
       "    </tr>\n",
       "    <tr>\n",
       "      <th>3</th>\n",
       "      <td>-0.08</td>\n",
       "    </tr>\n",
       "    <tr>\n",
       "      <th>4</th>\n",
       "      <td>0.15</td>\n",
       "    </tr>\n",
       "  </tbody>\n",
       "</table>\n",
       "</div>"
      ],
      "text/plain": [
       "      r\n",
       "0 -0.07\n",
       "1  0.04\n",
       "2  0.10\n",
       "3 -0.08\n",
       "4  0.15"
      ]
     },
     "execution_count": 7,
     "metadata": {},
     "output_type": "execute_result"
    }
   ],
   "source": [
    "rt = pd.DataFrame({'r': [-0.07, 0.04, 0.1, -0.08, 0.15]})\n",
    "rt"
   ]
  },
  {
   "cell_type": "code",
   "execution_count": 8,
   "id": "9598ec9d",
   "metadata": {},
   "outputs": [
    {
     "data": {
      "text/plain": [
       "0.024"
      ]
     },
     "execution_count": 8,
     "metadata": {},
     "output_type": "execute_result"
    }
   ],
   "source": [
    "rg = (1+rt['r']).prod()**(1/len(rt))-1\n",
    "round(rg,3)"
   ]
  },
  {
   "cell_type": "code",
   "execution_count": 9,
   "id": "2688a965",
   "metadata": {},
   "outputs": [
    {
     "data": {
      "text/plain": [
       "1.126"
      ]
     },
     "execution_count": 9,
     "metadata": {},
     "output_type": "execute_result"
    }
   ],
   "source": [
    "round((1 + rt.r).prod(),3)"
   ]
  },
  {
   "cell_type": "code",
   "execution_count": 10,
   "id": "b4536c25",
   "metadata": {},
   "outputs": [
    {
     "data": {
      "text/html": [
       "<div>\n",
       "<style scoped>\n",
       "    .dataframe tbody tr th:only-of-type {\n",
       "        vertical-align: middle;\n",
       "    }\n",
       "\n",
       "    .dataframe tbody tr th {\n",
       "        vertical-align: top;\n",
       "    }\n",
       "\n",
       "    .dataframe thead th {\n",
       "        text-align: right;\n",
       "    }\n",
       "</style>\n",
       "<table border=\"1\" class=\"dataframe\">\n",
       "  <thead>\n",
       "    <tr style=\"text-align: right;\">\n",
       "      <th></th>\n",
       "      <th>r</th>\n",
       "      <th>prob</th>\n",
       "    </tr>\n",
       "  </thead>\n",
       "  <tbody>\n",
       "    <tr>\n",
       "      <th>0</th>\n",
       "      <td>-0.07</td>\n",
       "      <td>0.2</td>\n",
       "    </tr>\n",
       "    <tr>\n",
       "      <th>1</th>\n",
       "      <td>0.04</td>\n",
       "      <td>0.2</td>\n",
       "    </tr>\n",
       "    <tr>\n",
       "      <th>2</th>\n",
       "      <td>0.10</td>\n",
       "      <td>0.2</td>\n",
       "    </tr>\n",
       "    <tr>\n",
       "      <th>3</th>\n",
       "      <td>-0.08</td>\n",
       "      <td>0.2</td>\n",
       "    </tr>\n",
       "    <tr>\n",
       "      <th>4</th>\n",
       "      <td>0.15</td>\n",
       "      <td>0.2</td>\n",
       "    </tr>\n",
       "  </tbody>\n",
       "</table>\n",
       "</div>"
      ],
      "text/plain": [
       "      r  prob\n",
       "0 -0.07   0.2\n",
       "1  0.04   0.2\n",
       "2  0.10   0.2\n",
       "3 -0.08   0.2\n",
       "4  0.15   0.2"
      ]
     },
     "execution_count": 10,
     "metadata": {},
     "output_type": "execute_result"
    }
   ],
   "source": [
    "rt['prob']=0.20\n",
    "rt"
   ]
  },
  {
   "cell_type": "code",
   "execution_count": 11,
   "id": "4754ca5c",
   "metadata": {},
   "outputs": [
    {
     "data": {
      "text/plain": [
       "0.028"
      ]
     },
     "execution_count": 11,
     "metadata": {},
     "output_type": "execute_result"
    }
   ],
   "source": [
    "ve=(rt['r'] * rt['prob']).sum()\n",
    "round(ve,3)"
   ]
  },
  {
   "cell_type": "code",
   "execution_count": 12,
   "id": "fb7b4949",
   "metadata": {},
   "outputs": [
    {
     "data": {
      "text/plain": [
       "0.091"
      ]
     },
     "execution_count": 12,
     "metadata": {},
     "output_type": "execute_result"
    }
   ],
   "source": [
    "varianza = np.sum(rt.prob * (-ve+rt.r)**2)\n",
    "volatilidad = np.sqrt(varianza)\n",
    "round(volatilidad,3)"
   ]
  },
  {
   "cell_type": "code",
   "execution_count": 13,
   "id": "2948dd5e",
   "metadata": {},
   "outputs": [
    {
     "data": {
      "text/plain": [
       "0.091"
      ]
     },
     "execution_count": 13,
     "metadata": {},
     "output_type": "execute_result"
    }
   ],
   "source": [
    "v=0.2 * (ve+0.07)**2 + 0.2 * (ve-0.04)**2 +0.2 * (ve-0.10)**2 +0.2 * (ve+0.08)**2 +0.2 * (ve-0.15)**2 \n",
    "round(np.sqrt(v),3)"
   ]
  },
  {
   "cell_type": "code",
   "execution_count": 14,
   "id": "8f3f6e4c",
   "metadata": {},
   "outputs": [
    {
     "name": "stdout",
     "output_type": "stream",
     "text": [
      "[*********************100%%**********************]  1 of 1 completed\n"
     ]
    },
    {
     "data": {
      "text/plain": [
       "Date\n",
       "1927-12-31         NaN\n",
       "1928-12-31    0.378822\n",
       "1929-12-31   -0.119096\n",
       "1930-12-31   -0.284849\n",
       "1931-12-31   -0.470665\n",
       "                ...   \n",
       "2019-12-31    0.288781\n",
       "2020-12-31    0.162589\n",
       "2021-12-31    0.268927\n",
       "2022-12-31   -0.194428\n",
       "2023-12-31    0.242305\n",
       "Freq: A-DEC, Name: Adj Close, Length: 97, dtype: float64"
      ]
     },
     "execution_count": 14,
     "metadata": {},
     "output_type": "execute_result"
    }
   ],
   "source": [
    "import yfinance as yf\n",
    "import numpy as np\n",
    "\n",
    "tickers = ['^GSPC']\n",
    "start_date = '1900-01-01'\n",
    "end_date = '2023-12-31'\n",
    "df = yf.download(tickers, start=start_date, end=end_date)['Adj Close']\n",
    "df = df.resample('Y').last()\n",
    "rt = df.pct_change()\n",
    "rt"
   ]
  },
  {
   "cell_type": "code",
   "execution_count": 15,
   "id": "076efe36",
   "metadata": {},
   "outputs": [
    {
     "data": {
      "text/plain": [
       "Date\n",
       "1928-12-31    0.378822\n",
       "1929-12-31   -0.119096\n",
       "1930-12-31   -0.284849\n",
       "1931-12-31   -0.470665\n",
       "1932-12-31   -0.147783\n",
       "                ...   \n",
       "2019-12-31    0.288781\n",
       "2020-12-31    0.162589\n",
       "2021-12-31    0.268927\n",
       "2022-12-31   -0.194428\n",
       "2023-12-31    0.242305\n",
       "Freq: A-DEC, Name: Adj Close, Length: 96, dtype: float64"
      ]
     },
     "execution_count": 15,
     "metadata": {},
     "output_type": "execute_result"
    }
   ],
   "source": [
    "rt = rt.dropna()\n",
    "rt"
   ]
  },
  {
   "cell_type": "code",
   "execution_count": 16,
   "id": "21dfb5fa",
   "metadata": {},
   "outputs": [
    {
     "data": {
      "text/plain": [
       "269.092"
      ]
     },
     "execution_count": 16,
     "metadata": {},
     "output_type": "execute_result"
    }
   ],
   "source": [
    "round((1 + rt).prod()-1,3)"
   ]
  },
  {
   "cell_type": "code",
   "execution_count": 17,
   "id": "7b174880",
   "metadata": {},
   "outputs": [
    {
     "data": {
      "text/plain": [
       "0.059"
      ]
     },
     "execution_count": 17,
     "metadata": {},
     "output_type": "execute_result"
    }
   ],
   "source": [
    "import numpy as np\n",
    "rg = (1+rt).prod()**(1/len(df))-1\n",
    "np.round(rg,3)"
   ]
  },
  {
   "cell_type": "code",
   "execution_count": 18,
   "id": "3a0dd9d6",
   "metadata": {},
   "outputs": [
    {
     "data": {
      "text/plain": [
       "253.944"
      ]
     },
     "execution_count": 18,
     "metadata": {},
     "output_type": "execute_result"
    }
   ],
   "source": [
    "round((1+rg)**(len(rt))-1,3)"
   ]
  },
  {
   "cell_type": "code",
   "execution_count": 19,
   "id": "dd1e527e",
   "metadata": {},
   "outputs": [
    {
     "data": {
      "text/plain": [
       "269.092"
      ]
     },
     "execution_count": 19,
     "metadata": {},
     "output_type": "execute_result"
    }
   ],
   "source": [
    "round(df.iloc[-1]/df.iloc[0]-1,3)"
   ]
  },
  {
   "cell_type": "code",
   "execution_count": 20,
   "id": "53a1837d",
   "metadata": {},
   "outputs": [
    {
     "data": {
      "text/plain": [
       "count    96.000\n",
       "mean      0.079\n",
       "std       0.191\n",
       "min      -0.471\n",
       "25%      -0.054\n",
       "50%       0.111\n",
       "75%       0.220\n",
       "max       0.450\n",
       "Name: Adj Close, dtype: float64"
      ]
     },
     "execution_count": 20,
     "metadata": {},
     "output_type": "execute_result"
    }
   ],
   "source": [
    "round(rt.describe(),3)"
   ]
  },
  {
   "cell_type": "code",
   "execution_count": 21,
   "id": "1f3729f0",
   "metadata": {},
   "outputs": [
    {
     "data": {
      "text/plain": [
       "0.079"
      ]
     },
     "execution_count": 21,
     "metadata": {},
     "output_type": "execute_result"
    }
   ],
   "source": [
    "round(rt.mean(),3)"
   ]
  },
  {
   "cell_type": "code",
   "execution_count": 22,
   "id": "4586b91e",
   "metadata": {},
   "outputs": [
    {
     "data": {
      "text/plain": [
       "0.111"
      ]
     },
     "execution_count": 22,
     "metadata": {},
     "output_type": "execute_result"
    }
   ],
   "source": [
    "round(rt.median(),3)"
   ]
  },
  {
   "cell_type": "code",
   "execution_count": 23,
   "id": "9176b1d5",
   "metadata": {},
   "outputs": [
    {
     "data": {
      "text/plain": [
       "<Axes: >"
      ]
     },
     "execution_count": 23,
     "metadata": {},
     "output_type": "execute_result"
    },
    {
     "data": {
      "image/png": "[encoded data removed]",
      "text/plain": [
       "<Figure size 640x480 with 1 Axes>"
      ]
     },
     "metadata": {},
     "output_type": "display_data"
    }
   ],
   "source": [
    "rt.hist(bins=50)"
   ]
  },
  {
   "cell_type": "code",
   "execution_count": 25,
   "id": "576186f4",
   "metadata": {},
   "outputs": [
    {
     "data": {
      "text/plain": [
       "0.3229166666666667"
      ]
     },
     "execution_count": 25,
     "metadata": {},
     "output_type": "execute_result"
    }
   ],
   "source": [
    "np.mean(rt < 0)"
   ]
  },
  {
   "cell_type": "code",
   "execution_count": 24,
   "id": "bca4fb93",
   "metadata": {},
   "outputs": [
    {
     "data": {
      "text/plain": [
       "<Axes: xlabel='Date'>"
      ]
     },
     "execution_count": 24,
     "metadata": {},
     "output_type": "execute_result"
    },
    {
     "data": {
      "image/png": "[encoded data removed]",
      "text/plain": [
       "<Figure size 640x480 with 1 Axes>"
      ]
     },
     "metadata": {},
     "output_type": "display_data"
    }
   ],
   "source": [
    "df.plot()"
   ]
  }
 ],
 "metadata": {
  "kernelspec": {
   "display_name": "Python 3 (ipykernel)",
   "language": "python",
   "name": "python3"
  },
  "language_info": {
   "codemirror_mode": {
    "name": "ipython",
    "version": 3
   },
   "file_extension": ".py",
   "mimetype": "text/x-python",
   "name": "python",
   "nbconvert_exporter": "python",
   "pygments_lexer": "ipython3",
   "version": "3.11.4"
  }
 },
 "nbformat": 4,
 "nbformat_minor": 5
}
