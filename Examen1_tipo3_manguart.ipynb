{
 "cells": [
  {
   "cell_type": "markdown",
   "metadata": {},
   "source": [
    "# Examen 1 - Portafolios de inversión. Tipo 3\n",
    ".\n",
    "\n"
   ]
  },
  {
   "cell_type": "code",
   "execution_count": 1,
   "metadata": {},
   "outputs": [],
   "source": [
    "import pandas as pd\n",
    "import numpy as np\n",
    "import matplotlib.pyplot as plt\n",
    "import yfinance as yf"
   ]
  },
  {
   "cell_type": "markdown",
   "metadata": {},
   "source": [
    "## I. Primera parte (50%)"
   ]
  },
  {
   "cell_type": "markdown",
   "metadata": {},
   "source": [
    "**Pregunta 1.** \n",
    "\n",
    "***Cuando la cantidad de activos es suficientemente grande la varianza del portafolio tiende a la covarianza entre pares de activos***\n",
    "\n",
    "Explique porque el enunciado anterior es verdad"
   ]
  },
  {
   "cell_type": "markdown",
   "metadata": {},
   "source": [
    "Primero se debe de ver la fórmula de varianza para portafolios de distintos activos.\n",
    "\n",
    "* 2 activos: $ \\sigma_p^2 = w_1^2 \\sigma_1^2 + w_2^2 \\sigma_2^2 + 2 w_1 w_2 \\sigma_{12} $\n",
    "* 3 activos: $ \\sigma_p^2 = w_1^2 \\sigma_1^2 + w_2^2 \\sigma_2^2 + w_3^2 \\sigma_3^2 + 2w_1w_2\\sigma_{12} + 2w_1w_3\\sigma_{13} + 2w_2w_3\\sigma_{23} $\n",
    "* 4 activos: $ \\sigma_p^2 = w_1^2 \\sigma_1^2 + w_2^2 \\sigma_2^2 + w_3^2 \\sigma_3^2 + w_4^2 \\sigma_4^2 + 2w_1w_2\\sigma_{12} + 2w_1w_3\\sigma_{13} + 2w_1w_4\\sigma_{14} + 2w_2w_3\\sigma_{23} + 2w_2w_4\\sigma_{24} + 2w_3w_4\\sigma_{34}\n",
    "$\n",
    "\n",
    "Como pudimos observar, mientras se agregan activos al portafolio también se agregan covarianzas a la fórmula. Por cada activo que se agrega también se agrega una varianza ($ \\sigma^2 $), pero por cada activo que se incluye en el portafolio se agregan al menos 2 covarianzas a la fórmula ($ \\sigma_{ab} $).\n",
    "\n",
    "Por lo tanto a medida que agregamos activos, la cantidad de covarianzas aumenta mucho más rápido que la de varianzas, por lo que si la cantidad de activos es muy grande entonces hay muchas más covarianzas que varianzas entonces la parte de covarianzas entre activos tiene mucho más peso en la fórmula lo cual hace que la varianza del portafolio tienda a estás covarianzas entre activos."
   ]
  },
  {
   "cell_type": "markdown",
   "metadata": {},
   "source": [
    "**Pregunta 2.**\n",
    "\n",
    "¿Qué es el R2 en una regresión lineal? Explicaselo a tu yo de primer semestre\n",
    "\n",
    "$$\\frac{errorPromedio - ErrorModelo}{ErrorPromedio} $$\n"
   ]
  },
  {
   "cell_type": "markdown",
   "metadata": {},
   "source": [
    "Imaginemos que tienes una gráfica con muchos puntos y cada punto tiene un valor de $x$ y un valor de $y$. Después sacas el promedio de los valores de $y$ de los puntos de la gráfica lo cual arroja un número y este valor lo graficas (Ejemplo: $y = 36$).\n",
    "\n",
    "Después obtienes una ecuación lineal ($y = mx + b$) que se ajuste a los puntos que tienes. Tanto el promedio como la ecuación lineal que ajustas tienen un error en relación a los puntos. Como se muestra en la fórmula $R^2$ es el cambio porcentual entre el error promedio y el error que tiene la ecuación lineal. Esto muestra qué tanto mejora el modelo contra el promedio porcentualmenete. Si $R^2 = 0.6$ entonces el modelo es 60% mejor que el modelo del promedio de los datos."
   ]
  },
  {
   "cell_type": "markdown",
   "metadata": {},
   "source": [
    "**Pregunta 3**\n",
    "\n",
    "¿Cómo le hago para pasar de covarianza a correlación? ¿Por qué la formula es así?"
   ]
  },
  {
   "cell_type": "markdown",
   "metadata": {},
   "source": [
    "Es un despeje donde,\n",
    "\n",
    "$$\\rho_{12} = \\frac{\\sigma_{12}}{\\sigma_1\\sigma_2}$$\n",
    "\n",
    "Aquí se divide la covarianza de ambos activos entre la multiplicación de la desviación estándar de cada activo.\n",
    "\n",
    "La fórmula es así debido a como se construyen la fórmula de varianza y covarianza.\n",
    "\n",
    "* Fórmula de varianza: $Var(x) = E[(x - E[x])^2]$\n",
    "\n",
    "* Fórmula de covarianza: $cov(x_1, x_2) = E[(x_1 - E[x_1])(x_2 - E[x_2])]$\n",
    "\n",
    "Si $\\sigma_1 = \\sigma_2$ entonces es el mismo activo y la multiplicaión que está en el denominador pasa de $\\sigma_1 \\sigma_2$ a ser $\\sigma_1^2$ lo cual es la varianza.\n",
    "\n",
    "Después si analizamos la fórmula de covarianza, si es el mismo activo entonces \n",
    "\n",
    "$$cov(x_1, x_1) = E[(x_1 - E[x_1])(x_1 - E[x_1])]$$\n",
    "$$cov(x_1, x_1) = E[(x_1 - E[x_1])^2]$$\n",
    "\n",
    "\n",
    "Si esto pasa entonces la covarianza es igual a la varianza, por lo que al hacer la divisón el coeficiente de correlación ($\\rho_{12}$) sería igual a 1 y si la covarianza es negativa sería -1, lo cual hace que tenga un rango de 1 a -1 normalizando así el resultado de covarianza permitiendo su interpretación como coeficiente de correlación."
   ]
  },
  {
   "cell_type": "markdown",
   "metadata": {},
   "source": [
    "**Pregunta 4.** \n",
    "\n",
    "Imaginate que tienes 3 activos. A, B y C. Tienes 3 escenarios para la economía\n",
    "\n",
    "Inventa un ejemplo donde inviertas en A, B y C (10%, 20% y 70% respectivamente) tu tienes que crear los rendimientos hipoteticos. Calcula la varianza y rendimiento esperado de este portafolio. \n"
   ]
  },
  {
   "cell_type": "code",
   "execution_count": 2,
   "metadata": {},
   "outputs": [
    {
     "data": {
      "text/html": [
       "<div>\n",
       "<style scoped>\n",
       "    .dataframe tbody tr th:only-of-type {\n",
       "        vertical-align: middle;\n",
       "    }\n",
       "\n",
       "    .dataframe tbody tr th {\n",
       "        vertical-align: top;\n",
       "    }\n",
       "\n",
       "    .dataframe thead th {\n",
       "        text-align: right;\n",
       "    }\n",
       "</style>\n",
       "<table border=\"1\" class=\"dataframe\">\n",
       "  <thead>\n",
       "    <tr style=\"text-align: right;\">\n",
       "      <th></th>\n",
       "      <th>Prob</th>\n",
       "      <th>A</th>\n",
       "      <th>B</th>\n",
       "      <th>C</th>\n",
       "    </tr>\n",
       "    <tr>\n",
       "      <th>Estado</th>\n",
       "      <th></th>\n",
       "      <th></th>\n",
       "      <th></th>\n",
       "      <th></th>\n",
       "    </tr>\n",
       "  </thead>\n",
       "  <tbody>\n",
       "    <tr>\n",
       "      <th>Expansion</th>\n",
       "      <td>0.4</td>\n",
       "      <td>0.065</td>\n",
       "      <td>0.05</td>\n",
       "      <td>0.035</td>\n",
       "    </tr>\n",
       "    <tr>\n",
       "      <th>Normal</th>\n",
       "      <td>0.4</td>\n",
       "      <td>0.060</td>\n",
       "      <td>0.04</td>\n",
       "      <td>0.010</td>\n",
       "    </tr>\n",
       "    <tr>\n",
       "      <th>Depresion</th>\n",
       "      <td>0.2</td>\n",
       "      <td>0.045</td>\n",
       "      <td>0.02</td>\n",
       "      <td>-0.020</td>\n",
       "    </tr>\n",
       "  </tbody>\n",
       "</table>\n",
       "</div>"
      ],
      "text/plain": [
       "           Prob      A     B      C\n",
       "Estado                             \n",
       "Expansion   0.4  0.065  0.05  0.035\n",
       "Normal      0.4  0.060  0.04  0.010\n",
       "Depresion   0.2  0.045  0.02 -0.020"
      ]
     },
     "execution_count": 2,
     "metadata": {},
     "output_type": "execute_result"
    }
   ],
   "source": [
    "tabla = pd.DataFrame(columns=['Prob', 'A', 'B', 'C'], \n",
    "                     index=['Expansion', 'Normal','Depresion'])\n",
    "tabla.index.name = 'Estado'\n",
    "tabla['Prob']=np.array([0.4, 0.4, 0.2])\n",
    "tabla['A']=np.array([0.065, 0.060, 0.045])\n",
    "tabla['B']=np.array([0.050, 0.040, 0.020])\n",
    "tabla['C']=np.array([0.035, 0.01, -0.02])\n",
    "\n",
    "tabla.round(4)"
   ]
  },
  {
   "cell_type": "code",
   "execution_count": 3,
   "metadata": {},
   "outputs": [
    {
     "data": {
      "text/plain": [
       "(0.059000000000000004, 0.04000000000000001, 0.014000000000000002)"
      ]
     },
     "execution_count": 3,
     "metadata": {},
     "output_type": "execute_result"
    }
   ],
   "source": [
    "## Rendimientos esperados\n",
    "\n",
    "erA = (tabla.A * tabla.Prob).sum()\n",
    "\n",
    "erB = (tabla.B * tabla.Prob).sum()\n",
    "\n",
    "erC = (tabla.C * tabla.Prob).sum()\n",
    "\n",
    "erA, erB, erC"
   ]
  },
  {
   "cell_type": "code",
   "execution_count": 4,
   "metadata": {},
   "outputs": [
    {
     "data": {
      "text/plain": [
       "(0.007348469228349535, 0.010954451150103323, 0.020346989949375806)"
      ]
     },
     "execution_count": 4,
     "metadata": {},
     "output_type": "execute_result"
    }
   ],
   "source": [
    "## Volatilidad\n",
    "\n",
    "var_A = (tabla.Prob * (tabla.A - erA)**2).sum()\n",
    "vol_A = np.sqrt(var_A)\n",
    "\n",
    "var_B = (tabla.Prob * (tabla.B - erB)**2).sum()\n",
    "vol_B = np.sqrt(var_B)\n",
    "\n",
    "var_C = (tabla.Prob * (tabla.C - erC)**2).sum()\n",
    "vol_C = np.sqrt(var_C)\n",
    "\n",
    "vol_A, vol_B, vol_C"
   ]
  },
  {
   "cell_type": "code",
   "execution_count": 5,
   "metadata": {},
   "outputs": [
    {
     "data": {
      "text/plain": [
       "0.023700000000000006"
      ]
     },
     "execution_count": 5,
     "metadata": {},
     "output_type": "execute_result"
    }
   ],
   "source": [
    "erP = 0.1 * erA + 0.2 * erB + 0.7 * erC\n",
    "erP"
   ]
  },
  {
   "cell_type": "code",
   "execution_count": 6,
   "metadata": {},
   "outputs": [
    {
     "data": {
      "text/plain": [
       "(8.000000000000002e-05, 0.00014400000000000006, 0.00022000000000000006)"
      ]
     },
     "execution_count": 6,
     "metadata": {},
     "output_type": "execute_result"
    }
   ],
   "source": [
    "cov_AB = (tabla.Prob * (tabla.A - erA) * (tabla.B - erB)).sum()\n",
    "cov_AC = (tabla.Prob * (tabla.A - erA) * (tabla.C - erC)).sum()\n",
    "cov_BC = (tabla.Prob * (tabla.B - erB) * (tabla.C - erC)).sum()\n",
    "\n",
    "\n",
    "cov_AB, cov_AC, cov_BC"
   ]
  },
  {
   "cell_type": "code",
   "execution_count": 7,
   "metadata": {},
   "outputs": [
    {
     "data": {
      "text/plain": [
       "(0.00029316, 0.017121915780659594)"
      ]
     },
     "execution_count": 7,
     "metadata": {},
     "output_type": "execute_result"
    }
   ],
   "source": [
    "w1 = 0.1\n",
    "w2 = 0.2\n",
    "w3 = 0.7\n",
    "\n",
    "varP = w1**2 * vol_A**2 + w2**2 * vol_B**2 + w3**2 * vol_C**2 + 2*w1*w2*cov_AB + 2*w1*w3*cov_AC + 2*w2*w3*cov_BC\n",
    "volP = np.sqrt(varP)\n",
    "varP, volP"
   ]
  },
  {
   "cell_type": "markdown",
   "metadata": {},
   "source": [
    "# Respuestas\n",
    "\n",
    "* Rendimiento esperado: 2.37%\n",
    "* Varianza de portafolio: 0.0002931"
   ]
  },
  {
   "cell_type": "markdown",
   "metadata": {},
   "source": [
    "**Pregunta 5.** \n",
    "- ¿Cuanto dinero hubieras ganado si en 2020 a la fecha inviertes $1,000 en Tesla?\n",
    "- ¿Dame el rendimiento anualizado en una cifra resumida? \"El rendimiento anual de tesla es X%\"\n",
    "\n"
   ]
  },
  {
   "cell_type": "code",
   "execution_count": 8,
   "metadata": {},
   "outputs": [
    {
     "name": "stdout",
     "output_type": "stream",
     "text": [
      "[*********************100%%**********************]  2 of 2 completed\n"
     ]
    },
    {
     "data": {
      "text/html": [
       "<div>\n",
       "<style scoped>\n",
       "    .dataframe tbody tr th:only-of-type {\n",
       "        vertical-align: middle;\n",
       "    }\n",
       "\n",
       "    .dataframe tbody tr th {\n",
       "        vertical-align: top;\n",
       "    }\n",
       "\n",
       "    .dataframe thead th {\n",
       "        text-align: right;\n",
       "    }\n",
       "</style>\n",
       "<table border=\"1\" class=\"dataframe\">\n",
       "  <thead>\n",
       "    <tr style=\"text-align: right;\">\n",
       "      <th></th>\n",
       "      <th>TSLA</th>\n",
       "      <th>VOO</th>\n",
       "    </tr>\n",
       "    <tr>\n",
       "      <th>Date</th>\n",
       "      <th></th>\n",
       "      <th></th>\n",
       "    </tr>\n",
       "  </thead>\n",
       "  <tbody>\n",
       "    <tr>\n",
       "      <th>2020-01-02</th>\n",
       "      <td>28.684000</td>\n",
       "      <td>278.849640</td>\n",
       "    </tr>\n",
       "    <tr>\n",
       "      <th>2020-01-03</th>\n",
       "      <td>29.534000</td>\n",
       "      <td>276.812622</td>\n",
       "    </tr>\n",
       "    <tr>\n",
       "      <th>2020-01-06</th>\n",
       "      <td>30.102667</td>\n",
       "      <td>277.849701</td>\n",
       "    </tr>\n",
       "    <tr>\n",
       "      <th>2020-01-07</th>\n",
       "      <td>31.270666</td>\n",
       "      <td>277.083527</td>\n",
       "    </tr>\n",
       "    <tr>\n",
       "      <th>2020-01-08</th>\n",
       "      <td>32.809334</td>\n",
       "      <td>278.513184</td>\n",
       "    </tr>\n",
       "    <tr>\n",
       "      <th>...</th>\n",
       "      <td>...</td>\n",
       "      <td>...</td>\n",
       "    </tr>\n",
       "    <tr>\n",
       "      <th>2024-02-21</th>\n",
       "      <td>194.770004</td>\n",
       "      <td>455.505157</td>\n",
       "    </tr>\n",
       "    <tr>\n",
       "      <th>2024-02-22</th>\n",
       "      <td>197.410004</td>\n",
       "      <td>465.074402</td>\n",
       "    </tr>\n",
       "    <tr>\n",
       "      <th>2024-02-23</th>\n",
       "      <td>191.970001</td>\n",
       "      <td>465.283722</td>\n",
       "    </tr>\n",
       "    <tr>\n",
       "      <th>2024-02-26</th>\n",
       "      <td>199.399994</td>\n",
       "      <td>463.579193</td>\n",
       "    </tr>\n",
       "    <tr>\n",
       "      <th>2024-02-27</th>\n",
       "      <td>199.729996</td>\n",
       "      <td>464.436432</td>\n",
       "    </tr>\n",
       "  </tbody>\n",
       "</table>\n",
       "<p>1045 rows × 2 columns</p>\n",
       "</div>"
      ],
      "text/plain": [
       "                  TSLA         VOO\n",
       "Date                              \n",
       "2020-01-02   28.684000  278.849640\n",
       "2020-01-03   29.534000  276.812622\n",
       "2020-01-06   30.102667  277.849701\n",
       "2020-01-07   31.270666  277.083527\n",
       "2020-01-08   32.809334  278.513184\n",
       "...                ...         ...\n",
       "2024-02-21  194.770004  455.505157\n",
       "2024-02-22  197.410004  465.074402\n",
       "2024-02-23  191.970001  465.283722\n",
       "2024-02-26  199.399994  463.579193\n",
       "2024-02-27  199.729996  464.436432\n",
       "\n",
       "[1045 rows x 2 columns]"
      ]
     },
     "execution_count": 8,
     "metadata": {},
     "output_type": "execute_result"
    }
   ],
   "source": [
    "tickers = ['TSLA', 'VOO']\n",
    "start_date = '2020-01-01'\n",
    "end_date = '2024-02-28'\n",
    "St = yf.download(tickers, start=start_date, end=end_date)['Adj Close']\n",
    "St"
   ]
  },
  {
   "cell_type": "code",
   "execution_count": 9,
   "metadata": {},
   "outputs": [],
   "source": [
    "rt2 = St.pct_change().dropna()"
   ]
  },
  {
   "cell_type": "code",
   "execution_count": 10,
   "metadata": {},
   "outputs": [
    {
     "data": {
      "text/plain": [
       "5.963115172963685"
      ]
     },
     "execution_count": 10,
     "metadata": {},
     "output_type": "execute_result"
    }
   ],
   "source": [
    "# Rendimiento aritmético\n",
    "ra = St.TSLA.iloc[-1]/St.TSLA[0]-1\n",
    "ra"
   ]
  },
  {
   "cell_type": "code",
   "execution_count": 11,
   "metadata": {},
   "outputs": [
    {
     "data": {
      "text/plain": [
       "0.4684137421427108"
      ]
     },
     "execution_count": 11,
     "metadata": {},
     "output_type": "execute_result"
    }
   ],
   "source": [
    "# Rendimiento geometrico\n",
    "rg_diario = (1 + rt2.TSLA).prod()**(1/len(St)) - 1\n",
    "\n",
    "rg_anual = rg_diario * 252\n",
    "rg_anual"
   ]
  },
  {
   "cell_type": "code",
   "execution_count": 12,
   "metadata": {},
   "outputs": [
    {
     "data": {
      "text/plain": [
       "199.72999572755347"
      ]
     },
     "execution_count": 12,
     "metadata": {},
     "output_type": "execute_result"
    }
   ],
   "source": [
    "St.TSLA.iloc[0] * (1+rg_diario) ** len(St)"
   ]
  },
  {
   "cell_type": "code",
   "execution_count": 13,
   "metadata": {},
   "outputs": [
    {
     "data": {
      "text/plain": [
       "6963.115172963685"
      ]
     },
     "execution_count": 13,
     "metadata": {},
     "output_type": "execute_result"
    }
   ],
   "source": [
    "1000*(1+ra)"
   ]
  },
  {
   "cell_type": "code",
   "execution_count": 14,
   "metadata": {},
   "outputs": [
    {
     "data": {
      "text/plain": [
       "6963.115172964188"
      ]
     },
     "execution_count": 14,
     "metadata": {},
     "output_type": "execute_result"
    }
   ],
   "source": [
    "1000*(1+rg_diario)**len(St)"
   ]
  },
  {
   "cell_type": "markdown",
   "metadata": {},
   "source": [
    "# Respuestas\n",
    "\n",
    "Hubieras ganado $6963.11.\n",
    "\n",
    "El rendimiento anual de tesla es 46.84%"
   ]
  },
  {
   "cell_type": "markdown",
   "metadata": {},
   "source": [
    "___\n",
    "## II. Segunda parte (50%)\n",
    "\n",
    "En lo que llevamos del curso hemos hablado que la teoría de portafolios moderna tiene que ver con un concepto base principal: **la diversificación**.\n",
    "\n",
    "Baje las siguientes acciones desde 2015 a la fecha:\n",
    "- JP morgan\n",
    "- Walmart\n",
    "- Costco\n",
    "- Microsoft\n",
    "- Tesla\n",
    "\n",
    "5% Obtenga el rendimiento geometrico y aritmetico de cada una"
   ]
  },
  {
   "cell_type": "code",
   "execution_count": 15,
   "metadata": {},
   "outputs": [
    {
     "name": "stdout",
     "output_type": "stream",
     "text": [
      "[*********************100%%**********************]  5 of 5 completed\n"
     ]
    }
   ],
   "source": [
    "tickers = ['JPM','WMT','COST','MSFT','TSLA']\n",
    "start_date = '2015-01-01'\n",
    "end_date = '2024-02-28'\n",
    "df = yf.download(tickers, start=start_date, end=end_date)['Adj Close']"
   ]
  },
  {
   "cell_type": "code",
   "execution_count": 16,
   "metadata": {},
   "outputs": [],
   "source": [
    "rt = df.pct_change().dropna()"
   ]
  },
  {
   "cell_type": "code",
   "execution_count": 17,
   "metadata": {},
   "outputs": [
    {
     "data": {
      "text/plain": [
       "(2.778588443396879,\n",
       " 1.5119649657592928,\n",
       " 5.4626868487988025,\n",
       " 9.091618534271616,\n",
       " 12.660798749921808)"
      ]
     },
     "execution_count": 17,
     "metadata": {},
     "output_type": "execute_result"
    }
   ],
   "source": [
    "ra_JPM = df.JPM.iloc[-1]/df.JPM[0]-1\n",
    "ra_WMT = df.WMT.iloc[-1]/df.WMT[0]-1\n",
    "ra_COST = df.COST.iloc[-1]/df.COST[0]-1\n",
    "ra_MSFT = df.MSFT.iloc[-1]/df.MSFT[0]-1\n",
    "ra_TSLA = df.TSLA.iloc[-1]/df.TSLA[0]-1\n",
    "\n",
    "ra_JPM, ra_WMT, ra_COST, ra_MSFT, ra_TSLA"
   ]
  },
  {
   "cell_type": "markdown",
   "metadata": {},
   "source": [
    "# Rendimiento Aritmético\n",
    "\n",
    "* JPM: 277.85%\n",
    "* WMT: 151.19%\n",
    "* COST: 546.26%\n",
    "* MSFT: 909.16%\n",
    "* TSLA: 1266.07%"
   ]
  },
  {
   "cell_type": "code",
   "execution_count": 18,
   "metadata": {},
   "outputs": [
    {
     "data": {
      "text/plain": [
       "(0.14550283626120386,\n",
       " 0.10080541777443397,\n",
       " 0.20427005696428058,\n",
       " 0.2530795449364165,\n",
       " 0.28625088023004963)"
      ]
     },
     "execution_count": 18,
     "metadata": {},
     "output_type": "execute_result"
    }
   ],
   "source": [
    "rg_diario_JPM = (1 + rt.JPM).prod()**(1/len(df)) - 1\n",
    "rg_diario_WMT = (1 + rt.WMT).prod()**(1/len(df)) - 1\n",
    "rg_diario_COST = (1 + rt.COST).prod()**(1/len(df)) - 1\n",
    "rg_diario_MSFT = (1 + rt.MSFT).prod()**(1/len(df)) - 1\n",
    "rg_diario_TSLA = (1 + rt.TSLA).prod()**(1/len(df)) - 1\n",
    "\n",
    "rg_anual_JPM = rg_diario_JPM * 252\n",
    "rg_anual_WMT = rg_diario_WMT * 252\n",
    "rg_anual_COST = rg_diario_COST * 252\n",
    "rg_anual_MSFT = rg_diario_MSFT * 252\n",
    "rg_anual_TSLA = rg_diario_TSLA * 252\n",
    "\n",
    "rg_anual_JPM, rg_anual_WMT, rg_anual_COST, rg_anual_MSFT, rg_anual_TSLA"
   ]
  },
  {
   "cell_type": "markdown",
   "metadata": {},
   "source": [
    "# Rendimiento Geométrico\n",
    "\n",
    "* JPM: 14.55%\n",
    "* WMT: 10.08%\n",
    "* COST: 20.42%\n",
    "* MSFT: 25.30%\n",
    "* TSLA: 28.62%"
   ]
  },
  {
   "cell_type": "markdown",
   "metadata": {},
   "source": [
    "\n",
    "5%, Grafique cada una de las acciones, eje X volatilidad, eje Y valor esperado\n"
   ]
  },
  {
   "cell_type": "code",
   "execution_count": 19,
   "metadata": {},
   "outputs": [
    {
     "data": {
      "text/html": [
       "<div>\n",
       "<style scoped>\n",
       "    .dataframe tbody tr th:only-of-type {\n",
       "        vertical-align: middle;\n",
       "    }\n",
       "\n",
       "    .dataframe tbody tr th {\n",
       "        vertical-align: top;\n",
       "    }\n",
       "\n",
       "    .dataframe thead th {\n",
       "        text-align: right;\n",
       "    }\n",
       "</style>\n",
       "<table border=\"1\" class=\"dataframe\">\n",
       "  <thead>\n",
       "    <tr style=\"text-align: right;\">\n",
       "      <th></th>\n",
       "      <th>Volatilidad</th>\n",
       "      <th>Rendimiento</th>\n",
       "    </tr>\n",
       "  </thead>\n",
       "  <tbody>\n",
       "    <tr>\n",
       "      <th>COST</th>\n",
       "      <td>0.217395</td>\n",
       "      <td>0.228032</td>\n",
       "    </tr>\n",
       "    <tr>\n",
       "      <th>JPM</th>\n",
       "      <td>0.275835</td>\n",
       "      <td>0.183507</td>\n",
       "    </tr>\n",
       "    <tr>\n",
       "      <th>MSFT</th>\n",
       "      <td>0.276929</td>\n",
       "      <td>0.291486</td>\n",
       "    </tr>\n",
       "    <tr>\n",
       "      <th>TSLA</th>\n",
       "      <td>0.562900</td>\n",
       "      <td>0.444515</td>\n",
       "    </tr>\n",
       "    <tr>\n",
       "      <th>WMT</th>\n",
       "      <td>0.213659</td>\n",
       "      <td>0.123675</td>\n",
       "    </tr>\n",
       "  </tbody>\n",
       "</table>\n",
       "</div>"
      ],
      "text/plain": [
       "      Volatilidad  Rendimiento\n",
       "COST     0.217395     0.228032\n",
       "JPM      0.275835     0.183507\n",
       "MSFT     0.276929     0.291486\n",
       "TSLA     0.562900     0.444515\n",
       "WMT      0.213659     0.123675"
      ]
     },
     "execution_count": 19,
     "metadata": {},
     "output_type": "execute_result"
    }
   ],
   "source": [
    "info = pd.DataFrame({\n",
    "    'Volatilidad' : rt.std() * np.sqrt(252),\n",
    "    'Rendimiento' : rt.mean() * 252\n",
    "})\n",
    "info"
   ]
  },
  {
   "cell_type": "code",
   "execution_count": 20,
   "metadata": {},
   "outputs": [
    {
     "data": {
      "text/plain": [
       "Text(0, 0.5, 'Rendimiento')"
      ]
     },
     "execution_count": 20,
     "metadata": {},
     "output_type": "execute_result"
    },
    {
     "data": {
      "image/png": "[encoded data removed]",
      "text/plain": [
       "<Figure size 640x480 with 1 Axes>"
      ]
     },
     "metadata": {},
     "output_type": "display_data"
    }
   ],
   "source": [
    "for i in range(len(info)):\n",
    "    flag = info.iloc[i]\n",
    "    plt.scatter(flag.Volatilidad, flag.Rendimiento)\n",
    "    plt.text(flag.Volatilidad, flag.Rendimiento, info.index[i])\n",
    "plt.grid()\n",
    "plt.title('Volatilidad vs. Rendimiento %')\n",
    "plt.xlabel('Volatilidad $\\sigma$')\n",
    "plt.ylabel('Rendimiento')"
   ]
  },
  {
   "cell_type": "markdown",
   "metadata": {},
   "source": [
    "20% Crea 10000 portafolios con los 3 ETF's y grafique los resultados"
   ]
  },
  {
   "cell_type": "code",
   "execution_count": 21,
   "metadata": {},
   "outputs": [
    {
     "data": {
      "text/plain": [
       "(0.2805788752345203,\n",
       " 0.26290344052379294,\n",
       " array([0.06311325, 0.36258668, 0.18858084, 0.30226024, 0.08345899]))"
      ]
     },
     "execution_count": 21,
     "metadata": {},
     "output_type": "execute_result"
    }
   ],
   "source": [
    "def random_portafolio(returns):\n",
    "    def rand_weights(n):\n",
    "        k = np.random.rand(n)\n",
    "        return k / sum(k)\n",
    "    # Definimos las constantes\n",
    "    means = rt.mean()\n",
    "    sigma = returns.cov()\n",
    "    # Obtenemos pesos\n",
    "    n_act = len(rt.keys())\n",
    "    w = rand_weights(n_act)\n",
    "    # Rendimiento esperado anual\n",
    "    re = w.dot(means)\n",
    "    # Varianza\n",
    "    var = w.dot(sigma).dot(w)\n",
    "    vol = np.sqrt(var)\n",
    "    # Retorna rendimiento esperado, volatilidad y pesos\n",
    "    return re * 252, vol * np.sqrt(252), w\n",
    "\n",
    "\n",
    "random_portafolio(rt)"
   ]
  },
  {
   "cell_type": "code",
   "execution_count": 22,
   "metadata": {},
   "outputs": [
    {
     "data": {
      "text/html": [
       "<div>\n",
       "<style scoped>\n",
       "    .dataframe tbody tr th:only-of-type {\n",
       "        vertical-align: middle;\n",
       "    }\n",
       "\n",
       "    .dataframe tbody tr th {\n",
       "        vertical-align: top;\n",
       "    }\n",
       "\n",
       "    .dataframe thead th {\n",
       "        text-align: right;\n",
       "    }\n",
       "</style>\n",
       "<table border=\"1\" class=\"dataframe\">\n",
       "  <thead>\n",
       "    <tr style=\"text-align: right;\">\n",
       "      <th></th>\n",
       "      <th>w</th>\n",
       "      <th>rendimiento_esperado</th>\n",
       "      <th>volatilidad</th>\n",
       "    </tr>\n",
       "  </thead>\n",
       "  <tbody>\n",
       "    <tr>\n",
       "      <th>0</th>\n",
       "      <td>[0.25849911710937384, 0.05291909369162927, 0.2...</td>\n",
       "      <td>0.292846</td>\n",
       "      <td>0.253626</td>\n",
       "    </tr>\n",
       "    <tr>\n",
       "      <th>1</th>\n",
       "      <td>[0.3159654763774155, 0.1084835826119481, 0.172...</td>\n",
       "      <td>0.261775</td>\n",
       "      <td>0.220189</td>\n",
       "    </tr>\n",
       "    <tr>\n",
       "      <th>2</th>\n",
       "      <td>[0.19114592804834926, 0.1657737620082238, 0.26...</td>\n",
       "      <td>0.300400</td>\n",
       "      <td>0.266046</td>\n",
       "    </tr>\n",
       "    <tr>\n",
       "      <th>3</th>\n",
       "      <td>[0.3950307162922008, 0.174313426914085, 0.1876...</td>\n",
       "      <td>0.279753</td>\n",
       "      <td>0.232406</td>\n",
       "    </tr>\n",
       "    <tr>\n",
       "      <th>4</th>\n",
       "      <td>[0.05864404072348781, 0.26863536648938346, 0.1...</td>\n",
       "      <td>0.306164</td>\n",
       "      <td>0.297247</td>\n",
       "    </tr>\n",
       "    <tr>\n",
       "      <th>...</th>\n",
       "      <td>...</td>\n",
       "      <td>...</td>\n",
       "      <td>...</td>\n",
       "    </tr>\n",
       "    <tr>\n",
       "      <th>9995</th>\n",
       "      <td>[0.454675791643, 0.04500693841904976, 0.180025...</td>\n",
       "      <td>0.303339</td>\n",
       "      <td>0.260185</td>\n",
       "    </tr>\n",
       "    <tr>\n",
       "      <th>9996</th>\n",
       "      <td>[0.31807219056451336, 0.27139192023455444, 0.2...</td>\n",
       "      <td>0.216548</td>\n",
       "      <td>0.186947</td>\n",
       "    </tr>\n",
       "    <tr>\n",
       "      <th>9997</th>\n",
       "      <td>[0.12400720793169116, 0.05875792382796668, 0.1...</td>\n",
       "      <td>0.308012</td>\n",
       "      <td>0.296370</td>\n",
       "    </tr>\n",
       "    <tr>\n",
       "      <th>9998</th>\n",
       "      <td>[0.32749986047807017, 0.3714578661593818, 0.01...</td>\n",
       "      <td>0.230213</td>\n",
       "      <td>0.205035</td>\n",
       "    </tr>\n",
       "    <tr>\n",
       "      <th>9999</th>\n",
       "      <td>[0.07246664034071634, 0.2967671778308357, 0.08...</td>\n",
       "      <td>0.254518</td>\n",
       "      <td>0.240854</td>\n",
       "    </tr>\n",
       "  </tbody>\n",
       "</table>\n",
       "<p>10000 rows × 3 columns</p>\n",
       "</div>"
      ],
      "text/plain": [
       "                                                      w  rendimiento_esperado  \\\n",
       "0     [0.25849911710937384, 0.05291909369162927, 0.2...              0.292846   \n",
       "1     [0.3159654763774155, 0.1084835826119481, 0.172...              0.261775   \n",
       "2     [0.19114592804834926, 0.1657737620082238, 0.26...              0.300400   \n",
       "3     [0.3950307162922008, 0.174313426914085, 0.1876...              0.279753   \n",
       "4     [0.05864404072348781, 0.26863536648938346, 0.1...              0.306164   \n",
       "...                                                 ...                   ...   \n",
       "9995  [0.454675791643, 0.04500693841904976, 0.180025...              0.303339   \n",
       "9996  [0.31807219056451336, 0.27139192023455444, 0.2...              0.216548   \n",
       "9997  [0.12400720793169116, 0.05875792382796668, 0.1...              0.308012   \n",
       "9998  [0.32749986047807017, 0.3714578661593818, 0.01...              0.230213   \n",
       "9999  [0.07246664034071634, 0.2967671778308357, 0.08...              0.254518   \n",
       "\n",
       "      volatilidad  \n",
       "0        0.253626  \n",
       "1        0.220189  \n",
       "2        0.266046  \n",
       "3        0.232406  \n",
       "4        0.297247  \n",
       "...           ...  \n",
       "9995     0.260185  \n",
       "9996     0.186947  \n",
       "9997     0.296370  \n",
       "9998     0.205035  \n",
       "9999     0.240854  \n",
       "\n",
       "[10000 rows x 3 columns]"
      ]
     },
     "execution_count": 22,
     "metadata": {},
     "output_type": "execute_result"
    }
   ],
   "source": [
    "valores_esperados = []\n",
    "volatilidades = []\n",
    "pesos = []\n",
    "for i in range(10000):\n",
    "    ve_i, vol_i, pesos_i = random_portafolio(rt)\n",
    "    \n",
    "    valores_esperados.append(ve_i)\n",
    "    volatilidades.append(vol_i)\n",
    "    pesos.append(pesos_i)\n",
    "    \n",
    "port = pd.DataFrame({\n",
    "    'w': pesos,\n",
    "    'rendimiento_esperado': valores_esperados,\n",
    "    'volatilidad': volatilidades\n",
    "})\n",
    "portafolio_varianza_minima = port[port.volatilidad == port.volatilidad.min()]\n",
    "port"
   ]
  },
  {
   "cell_type": "code",
   "execution_count": 23,
   "metadata": {},
   "outputs": [
    {
     "data": {
      "image/png": "[encoded data removed]",
      "text/plain": [
       "<Figure size 640x480 with 1 Axes>"
      ]
     },
     "metadata": {},
     "output_type": "display_data"
    }
   ],
   "source": [
    "plt.scatter(port.volatilidad, port.rendimiento_esperado, c = 'skyblue', s = 8)\n",
    "plt.plot(portafolio_varianza_minima.volatilidad, portafolio_varianza_minima.rendimiento_esperado, marker = '*',\n",
    "        ms= 10, c= 'black', label = 'min_var')\n",
    "plt.text(portafolio_varianza_minima.volatilidad, portafolio_varianza_minima.rendimiento_esperado, 'min_var')\n",
    "\n",
    "plt.xlabel('Volatilidad $\\sigma$')\n",
    "plt.ylabel('Rendimiento $E[x]$')\n",
    "plt.legend()\n",
    "plt.grid()"
   ]
  },
  {
   "cell_type": "markdown",
   "metadata": {},
   "source": [
    "10% ¿Cuál es el portafolio de mínima varianza?"
   ]
  },
  {
   "cell_type": "code",
   "execution_count": 24,
   "metadata": {},
   "outputs": [
    {
     "data": {
      "text/plain": [
       "array([array([0.32500136, 0.21893112, 0.02379505, 0.01473476, 0.41753771])],\n",
       "      dtype=object)"
      ]
     },
     "execution_count": 24,
     "metadata": {},
     "output_type": "execute_result"
    }
   ],
   "source": [
    "min_var = port[port.volatilidad == port.volatilidad.min()]\n",
    "min_var['w'].values"
   ]
  },
  {
   "cell_type": "code",
   "execution_count": 25,
   "metadata": {},
   "outputs": [
    {
     "data": {
      "text/html": [
       "<div>\n",
       "<style scoped>\n",
       "    .dataframe tbody tr th:only-of-type {\n",
       "        vertical-align: middle;\n",
       "    }\n",
       "\n",
       "    .dataframe tbody tr th {\n",
       "        vertical-align: top;\n",
       "    }\n",
       "\n",
       "    .dataframe thead th {\n",
       "        text-align: right;\n",
       "    }\n",
       "</style>\n",
       "<table border=\"1\" class=\"dataframe\">\n",
       "  <thead>\n",
       "    <tr style=\"text-align: right;\">\n",
       "      <th></th>\n",
       "      <th>w</th>\n",
       "      <th>rendimiento_esperado</th>\n",
       "      <th>volatilidad</th>\n",
       "    </tr>\n",
       "  </thead>\n",
       "  <tbody>\n",
       "    <tr>\n",
       "      <th>6744</th>\n",
       "      <td>[0.32500135932594204, 0.2189311177651725, 0.02...</td>\n",
       "      <td>0.179411</td>\n",
       "      <td>0.177694</td>\n",
       "    </tr>\n",
       "  </tbody>\n",
       "</table>\n",
       "</div>"
      ],
      "text/plain": [
       "                                                      w  rendimiento_esperado  \\\n",
       "6744  [0.32500135932594204, 0.2189311177651725, 0.02...              0.179411   \n",
       "\n",
       "      volatilidad  \n",
       "6744     0.177694  "
      ]
     },
     "execution_count": 25,
     "metadata": {},
     "output_type": "execute_result"
    }
   ],
   "source": [
    "portafolio_varianza_minima = port[port.volatilidad == port.volatilidad.min()]\n",
    "portafolio_varianza_minima"
   ]
  },
  {
   "cell_type": "markdown",
   "metadata": {},
   "source": [
    "# Portafolio mínima varianza"
   ]
  },
  {
   "cell_type": "code",
   "execution_count": 26,
   "metadata": {},
   "outputs": [
    {
     "name": "stdout",
     "output_type": "stream",
     "text": [
      "32.500135932594205 % en JPM\n",
      "21.893111776517248 % en WMT\n",
      "2.3795049957194596 % en COST\n",
      "1.4734760659808586 % en MSFT\n",
      "41.75377122918823 % en TSLA\n",
      "Ofreciendo un 17.94108179794484 % de rendimiento y una volatilidad de 17.769365329934406 %\n"
     ]
    }
   ],
   "source": [
    "print(min_var['w'].values[0][0] * 100, '% en JPM')\n",
    "print(min_var['w'].values[0][1] * 100, '% en WMT')\n",
    "print(min_var['w'].values[0][2] * 100, '% en COST')\n",
    "print(min_var['w'].values[0][3] * 100, '% en MSFT')\n",
    "print(min_var['w'].values[0][4] * 100, '% en TSLA')\n",
    "print('Ofreciendo un', portafolio_varianza_minima['rendimiento_esperado'].values[0]*100,\n",
    "      '% de rendimiento y una volatilidad de', portafolio_varianza_minima['volatilidad'].values[0]*100, '%')\n"
   ]
  },
  {
   "cell_type": "markdown",
   "metadata": {},
   "source": [
    "10% crea una regresión lineal con estos activos volatilidad anual vs rendiiento anual, dame el r2 y la ecuación"
   ]
  },
  {
   "cell_type": "code",
   "execution_count": 27,
   "metadata": {},
   "outputs": [],
   "source": [
    "from sklearn.linear_model import LinearRegression"
   ]
  },
  {
   "cell_type": "code",
   "execution_count": 28,
   "metadata": {},
   "outputs": [],
   "source": [
    "df_regresion = pd.DataFrame({\n",
    "    'valor_esperado': rt.mean() * 252,\n",
    "    'volatilidad': rt.std() * np.sqrt(252)\n",
    "})"
   ]
  },
  {
   "cell_type": "code",
   "execution_count": 29,
   "metadata": {},
   "outputs": [
    {
     "data": {
      "image/png": "[encoded data removed]",
      "text/plain": [
       "<Figure size 640x480 with 1 Axes>"
      ]
     },
     "metadata": {},
     "output_type": "display_data"
    }
   ],
   "source": [
    "plt.scatter(df_regresion.volatilidad, df_regresion.valor_esperado, c = 'navy', s = 8)\n",
    "plt.title('Volatilidad anual vs Rendimiento anual')\n",
    "plt.xlabel('Volatilidad $\\sigma$')\n",
    "plt.ylabel('Rendimiento $E[x]$')\n",
    "\n",
    "plt.grid()"
   ]
  },
  {
   "cell_type": "code",
   "execution_count": 30,
   "metadata": {},
   "outputs": [
    {
     "data": {
      "text/html": [
       "<style>#sk-container-id-1 {color: black;}#sk-container-id-1 pre{padding: 0;}#sk-container-id-1 div.sk-toggleable {background-color: white;}#sk-container-id-1 label.sk-toggleable__label {cursor: pointer;display: block;width: 100%;margin-bottom: 0;padding: 0.3em;box-sizing: border-box;text-align: center;}#sk-container-id-1 label.sk-toggleable__label-arrow:before {content: \"▸\";float: left;margin-right: 0.25em;color: #696969;}#sk-container-id-1 label.sk-toggleable__label-arrow:hover:before {color: black;}#sk-container-id-1 div.sk-estimator:hover label.sk-toggleable__label-arrow:before {color: black;}#sk-container-id-1 div.sk-toggleable__content {max-height: 0;max-width: 0;overflow: hidden;text-align: left;background-color: #f0f8ff;}#sk-container-id-1 div.sk-toggleable__content pre {margin: 0.2em;color: black;border-radius: 0.25em;background-color: #f0f8ff;}#sk-container-id-1 input.sk-toggleable__control:checked~div.sk-toggleable__content {max-height: 200px;max-width: 100%;overflow: auto;}#sk-container-id-1 input.sk-toggleable__control:checked~label.sk-toggleable__label-arrow:before {content: \"▾\";}#sk-container-id-1 div.sk-estimator input.sk-toggleable__control:checked~label.sk-toggleable__label {background-color: #d4ebff;}#sk-container-id-1 div.sk-label input.sk-toggleable__control:checked~label.sk-toggleable__label {background-color: #d4ebff;}#sk-container-id-1 input.sk-hidden--visually {border: 0;clip: rect(1px 1px 1px 1px);clip: rect(1px, 1px, 1px, 1px);height: 1px;margin: -1px;overflow: hidden;padding: 0;position: absolute;width: 1px;}#sk-container-id-1 div.sk-estimator {font-family: monospace;background-color: #f0f8ff;border: 1px dotted black;border-radius: 0.25em;box-sizing: border-box;margin-bottom: 0.5em;}#sk-container-id-1 div.sk-estimator:hover {background-color: #d4ebff;}#sk-container-id-1 div.sk-parallel-item::after {content: \"\";width: 100%;border-bottom: 1px solid gray;flex-grow: 1;}#sk-container-id-1 div.sk-label:hover label.sk-toggleable__label {background-color: #d4ebff;}#sk-container-id-1 div.sk-serial::before {content: \"\";position: absolute;border-left: 1px solid gray;box-sizing: border-box;top: 0;bottom: 0;left: 50%;z-index: 0;}#sk-container-id-1 div.sk-serial {display: flex;flex-direction: column;align-items: center;background-color: white;padding-right: 0.2em;padding-left: 0.2em;position: relative;}#sk-container-id-1 div.sk-item {position: relative;z-index: 1;}#sk-container-id-1 div.sk-parallel {display: flex;align-items: stretch;justify-content: center;background-color: white;position: relative;}#sk-container-id-1 div.sk-item::before, #sk-container-id-1 div.sk-parallel-item::before {content: \"\";position: absolute;border-left: 1px solid gray;box-sizing: border-box;top: 0;bottom: 0;left: 50%;z-index: -1;}#sk-container-id-1 div.sk-parallel-item {display: flex;flex-direction: column;z-index: 1;position: relative;background-color: white;}#sk-container-id-1 div.sk-parallel-item:first-child::after {align-self: flex-end;width: 50%;}#sk-container-id-1 div.sk-parallel-item:last-child::after {align-self: flex-start;width: 50%;}#sk-container-id-1 div.sk-parallel-item:only-child::after {width: 0;}#sk-container-id-1 div.sk-dashed-wrapped {border: 1px dashed gray;margin: 0 0.4em 0.5em 0.4em;box-sizing: border-box;padding-bottom: 0.4em;background-color: white;}#sk-container-id-1 div.sk-label label {font-family: monospace;font-weight: bold;display: inline-block;line-height: 1.2em;}#sk-container-id-1 div.sk-label-container {text-align: center;}#sk-container-id-1 div.sk-container {/* jupyter's `normalize.less` sets `[hidden] { display: none; }` but bootstrap.min.css set `[hidden] { display: none !important; }` so we also need the `!important` here to be able to override the default hidden behavior on the sphinx rendered scikit-learn.org. See: https://github.com/scikit-learn/scikit-learn/issues/21755 */display: inline-block !important;position: relative;}#sk-container-id-1 div.sk-text-repr-fallback {display: none;}</style><div id=\"sk-container-id-1\" class=\"sk-top-container\"><div class=\"sk-text-repr-fallback\"><pre>LinearRegression()</pre><b>In a Jupyter environment, please rerun this cell to show the HTML representation or trust the notebook. <br />On GitHub, the HTML representation is unable to render, please try loading this page with nbviewer.org.</b></div><div class=\"sk-container\" hidden><div class=\"sk-item\"><div class=\"sk-estimator sk-toggleable\"><input class=\"sk-toggleable__control sk-hidden--visually\" id=\"sk-estimator-id-1\" type=\"checkbox\" checked><label for=\"sk-estimator-id-1\" class=\"sk-toggleable__label sk-toggleable__label-arrow\">LinearRegression</label><div class=\"sk-toggleable__content\"><pre>LinearRegression()</pre></div></div></div></div></div>"
      ],
      "text/plain": [
       "LinearRegression()"
      ]
     },
     "execution_count": 30,
     "metadata": {},
     "output_type": "execute_result"
    }
   ],
   "source": [
    "model = LinearRegression()\n",
    "X = df_regresion[['volatilidad']]\n",
    "y = df_regresion[['valor_esperado']]\n",
    "\n",
    "model.fit(X,y)"
   ]
  },
  {
   "cell_type": "code",
   "execution_count": 31,
   "metadata": {},
   "outputs": [
    {
     "data": {
      "text/plain": [
       "array([0.01761636])"
      ]
     },
     "execution_count": 31,
     "metadata": {},
     "output_type": "execute_result"
    }
   ],
   "source": [
    "model.intercept_"
   ]
  },
  {
   "cell_type": "code",
   "execution_count": 32,
   "metadata": {},
   "outputs": [
    {
     "data": {
      "text/plain": [
       "array([[0.76493178]])"
      ]
     },
     "execution_count": 32,
     "metadata": {},
     "output_type": "execute_result"
    }
   ],
   "source": [
    "model.coef_"
   ]
  },
  {
   "cell_type": "markdown",
   "metadata": {},
   "source": [
    "# Ecuación"
   ]
  },
  {
   "cell_type": "markdown",
   "metadata": {},
   "source": [
    "$$ 0.7649 \\sigma + 0.0176 $$"
   ]
  },
  {
   "cell_type": "code",
   "execution_count": 33,
   "metadata": {},
   "outputs": [],
   "source": [
    "df_regresion['predicciones'] = model.predict(X)"
   ]
  },
  {
   "cell_type": "markdown",
   "metadata": {},
   "source": [
    "# Regresión Lineal"
   ]
  },
  {
   "cell_type": "code",
   "execution_count": 34,
   "metadata": {},
   "outputs": [
    {
     "data": {
      "image/png": "[encoded data removed]",
      "text/plain": [
       "<Figure size 640x480 with 1 Axes>"
      ]
     },
     "metadata": {},
     "output_type": "display_data"
    }
   ],
   "source": [
    "plt.plot(df_regresion.volatilidad, df_regresion.predicciones, c = 'black')\n",
    "plt.title('Regresión Lineal de Volatilidad anual vs Rendimiento anual')\n",
    "\n",
    "plt.xlabel('Volatilidad $\\sigma$')\n",
    "plt.ylabel('Rendimiento $E[x]$')\n",
    "\n",
    "for i in range(len(info)):\n",
    "    flag = info.iloc[i]\n",
    "    plt.scatter(flag.Volatilidad, flag.Rendimiento)\n",
    "    plt.text(flag.Volatilidad, flag.Rendimiento, info.index[i])\n",
    "\n",
    "plt.grid()"
   ]
  },
  {
   "cell_type": "code",
   "execution_count": 35,
   "metadata": {},
   "outputs": [],
   "source": [
    "error_modelo = np.var(df_regresion['predicciones'] - df_regresion['valor_esperado'])\n",
    "error_promedio = np.var(df_regresion['valor_esperado'].mean() - df_regresion['valor_esperado'])"
   ]
  },
  {
   "cell_type": "code",
   "execution_count": 36,
   "metadata": {},
   "outputs": [
    {
     "data": {
      "text/plain": [
       "0.8154202357507325"
      ]
     },
     "execution_count": 36,
     "metadata": {},
     "output_type": "execute_result"
    }
   ],
   "source": [
    "(error_promedio - error_modelo)/error_promedio"
   ]
  },
  {
   "cell_type": "code",
   "execution_count": 37,
   "metadata": {},
   "outputs": [],
   "source": [
    "from sklearn.metrics import r2_score"
   ]
  },
  {
   "cell_type": "code",
   "execution_count": 38,
   "metadata": {},
   "outputs": [
    {
     "data": {
      "text/plain": [
       "0.8154202357507325"
      ]
     },
     "execution_count": 38,
     "metadata": {},
     "output_type": "execute_result"
    }
   ],
   "source": [
    "r2_score(y_true = y, y_pred=df_regresion['predicciones'])"
   ]
  },
  {
   "cell_type": "markdown",
   "metadata": {},
   "source": [
    "# R2"
   ]
  },
  {
   "cell_type": "code",
   "execution_count": 39,
   "metadata": {},
   "outputs": [
    {
     "name": "stdout",
     "output_type": "stream",
     "text": [
      "0.8154202357507325\n"
     ]
    }
   ],
   "source": [
    "print(r2_score(y_true = y, y_pred=df_regresion['predicciones']))"
   ]
  }
 ],
 "metadata": {
  "kernelspec": {
   "display_name": "Python 3 (ipykernel)",
   "language": "python",
   "name": "python3"
  },
  "language_info": {
   "codemirror_mode": {
    "name": "ipython",
    "version": 3
   },
   "file_extension": ".py",
   "mimetype": "text/x-python",
   "name": "python",
   "nbconvert_exporter": "python",
   "pygments_lexer": "ipython3",
   "version": "3.12.3"
  }
 },
 "nbformat": 4,
 "nbformat_minor": 4
}
