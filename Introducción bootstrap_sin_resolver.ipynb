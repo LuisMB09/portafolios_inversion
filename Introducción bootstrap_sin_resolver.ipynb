{
 "cells": [
  {
   "cell_type": "markdown",
   "id": "6d72a836",
   "metadata": {},
   "source": [
    "# Repaso error estandar\n",
    "\n",
    "$$T = (x_1 + x_2 + x_3 + ... + x_n)$$\n",
    "\n",
    "$$Var(T) = (Var(x_1) + Var(x_2) + Var(x_3) + ... + Var(x_n))$$\n",
    "\n",
    "$$Var(T) = n\\sigma^2 $$\n",
    "\n",
    "$$\\mu = \\frac{T}{n} $$\n",
    "\n",
    "Varianza de la media\n",
    "\n",
    "$$Var(\\mu) = Var(\\frac{T}{n}) = \\frac{1}{n^2} Var(T) = \\frac{1}{n^2} n\\sigma^2 = \\frac{\\sigma^2}{n}$$\n",
    "\n",
    "$$SE = \\frac{\\sigma}{\\sqrt{n}} $$"
   ]
  },
  {
   "cell_type": "code",
   "execution_count": 27,
   "id": "5c8a1bde",
   "metadata": {},
   "outputs": [],
   "source": [
    "import pandas as pd\n",
    "import numpy as np\n",
    "import matplotlib.pyplot as plt\n",
    "df = pd.read_csv(\"weight-height.csv\")\n",
    "df = pd.read_csv('weight-height.csv')\n",
    "df['Height'] = np.round(df.Height * 2.54) / 100\n",
    "df['Weight'] = np.round(df.Weight * 0.453592)\n"
   ]
  },
  {
   "cell_type": "markdown",
   "id": "2e75c1f1",
   "metadata": {},
   "source": [
    "¿Cuál es la desviación estandard de la edad?"
   ]
  },
  {
   "cell_type": "code",
   "execution_count": 28,
   "id": "9c7bb778",
   "metadata": {},
   "outputs": [],
   "source": [
    "df['IMC'] = df['Weight'] / (df['Height']**2)"
   ]
  },
  {
   "cell_type": "markdown",
   "id": "f840e671",
   "metadata": {},
   "source": [
    "¿Cuál es el error estandard e la media de la estatura?\n",
    "\n",
    "$$SE = \\frac{\\sigma}{\\sqrt{n}}$$"
   ]
  },
  {
   "cell_type": "code",
   "execution_count": 4,
   "id": "64747819",
   "metadata": {},
   "outputs": [
    {
     "data": {
      "text/plain": [
       "0.09781115743615636"
      ]
     },
     "execution_count": 4,
     "metadata": {},
     "output_type": "execute_result"
    }
   ],
   "source": [
    "np.std(df.Height)"
   ]
  },
  {
   "cell_type": "code",
   "execution_count": 5,
   "id": "8fdf07c4",
   "metadata": {},
   "outputs": [
    {
     "data": {
      "text/plain": [
       "0.0009781604836085057"
      ]
     },
     "execution_count": 5,
     "metadata": {},
     "output_type": "execute_result"
    }
   ],
   "source": [
    "# Que tan diferente es el promedio de mi dataset contra otro el promedio de otro dataset (Error estándar)\n",
    "df.Height.std() / np.sqrt(len(df))"
   ]
  },
  {
   "cell_type": "markdown",
   "id": "06fa84c1",
   "metadata": {},
   "source": [
    "### Muestras con remplazo"
   ]
  },
  {
   "cell_type": "code",
   "execution_count": 6,
   "id": "278beda2",
   "metadata": {},
   "outputs": [
    {
     "data": {
      "text/html": [
       "<div>\n",
       "<style scoped>\n",
       "    .dataframe tbody tr th:only-of-type {\n",
       "        vertical-align: middle;\n",
       "    }\n",
       "\n",
       "    .dataframe tbody tr th {\n",
       "        vertical-align: top;\n",
       "    }\n",
       "\n",
       "    .dataframe thead th {\n",
       "        text-align: right;\n",
       "    }\n",
       "</style>\n",
       "<table border=\"1\" class=\"dataframe\">\n",
       "  <thead>\n",
       "    <tr style=\"text-align: right;\">\n",
       "      <th></th>\n",
       "      <th>edad</th>\n",
       "    </tr>\n",
       "  </thead>\n",
       "  <tbody>\n",
       "    <tr>\n",
       "      <th>0</th>\n",
       "      <td>21</td>\n",
       "    </tr>\n",
       "    <tr>\n",
       "      <th>1</th>\n",
       "      <td>20</td>\n",
       "    </tr>\n",
       "    <tr>\n",
       "      <th>2</th>\n",
       "      <td>21</td>\n",
       "    </tr>\n",
       "    <tr>\n",
       "      <th>3</th>\n",
       "      <td>21</td>\n",
       "    </tr>\n",
       "    <tr>\n",
       "      <th>4</th>\n",
       "      <td>23</td>\n",
       "    </tr>\n",
       "    <tr>\n",
       "      <th>5</th>\n",
       "      <td>23</td>\n",
       "    </tr>\n",
       "    <tr>\n",
       "      <th>6</th>\n",
       "      <td>21</td>\n",
       "    </tr>\n",
       "    <tr>\n",
       "      <th>7</th>\n",
       "      <td>20</td>\n",
       "    </tr>\n",
       "    <tr>\n",
       "      <th>8</th>\n",
       "      <td>21</td>\n",
       "    </tr>\n",
       "    <tr>\n",
       "      <th>9</th>\n",
       "      <td>21</td>\n",
       "    </tr>\n",
       "    <tr>\n",
       "      <th>10</th>\n",
       "      <td>20</td>\n",
       "    </tr>\n",
       "    <tr>\n",
       "      <th>11</th>\n",
       "      <td>21</td>\n",
       "    </tr>\n",
       "    <tr>\n",
       "      <th>12</th>\n",
       "      <td>20</td>\n",
       "    </tr>\n",
       "    <tr>\n",
       "      <th>13</th>\n",
       "      <td>21</td>\n",
       "    </tr>\n",
       "    <tr>\n",
       "      <th>14</th>\n",
       "      <td>21</td>\n",
       "    </tr>\n",
       "    <tr>\n",
       "      <th>15</th>\n",
       "      <td>21</td>\n",
       "    </tr>\n",
       "    <tr>\n",
       "      <th>16</th>\n",
       "      <td>21</td>\n",
       "    </tr>\n",
       "    <tr>\n",
       "      <th>17</th>\n",
       "      <td>23</td>\n",
       "    </tr>\n",
       "    <tr>\n",
       "      <th>18</th>\n",
       "      <td>20</td>\n",
       "    </tr>\n",
       "    <tr>\n",
       "      <th>19</th>\n",
       "      <td>23</td>\n",
       "    </tr>\n",
       "    <tr>\n",
       "      <th>20</th>\n",
       "      <td>21</td>\n",
       "    </tr>\n",
       "    <tr>\n",
       "      <th>21</th>\n",
       "      <td>22</td>\n",
       "    </tr>\n",
       "  </tbody>\n",
       "</table>\n",
       "</div>"
      ],
      "text/plain": [
       "    edad\n",
       "0     21\n",
       "1     20\n",
       "2     21\n",
       "3     21\n",
       "4     23\n",
       "5     23\n",
       "6     21\n",
       "7     20\n",
       "8     21\n",
       "9     21\n",
       "10    20\n",
       "11    21\n",
       "12    20\n",
       "13    21\n",
       "14    21\n",
       "15    21\n",
       "16    21\n",
       "17    23\n",
       "18    20\n",
       "19    23\n",
       "20    21\n",
       "21    22"
      ]
     },
     "execution_count": 6,
     "metadata": {},
     "output_type": "execute_result"
    }
   ],
   "source": [
    "edad = [21, 20, 21, 21, 23, 23, 21, 20, 21, 21, 20, 21, 20, 21, 21, 21, 21, 23, 20, 23, 21, 22]\n",
    "\n",
    "df = pd.DataFrame()\n",
    "df['edad'] = edad\n",
    "df"
   ]
  },
  {
   "cell_type": "code",
   "execution_count": 11,
   "id": "9947ae24",
   "metadata": {},
   "outputs": [
    {
     "data": {
      "text/plain": [
       "edad    21.045455\n",
       "dtype: float64"
      ]
     },
     "execution_count": 11,
     "metadata": {},
     "output_type": "execute_result"
    }
   ],
   "source": [
    "# Replace, se repiten\n",
    "df.sample(len(df), replace = True).mean()"
   ]
  },
  {
   "cell_type": "markdown",
   "id": "ed8b2ad3",
   "metadata": {},
   "source": [
    "## Realiza bootstrap  de la estatura\n"
   ]
  },
  {
   "cell_type": "code",
   "execution_count": 17,
   "id": "ed1c10be",
   "metadata": {},
   "outputs": [],
   "source": [
    "promedios = []\n",
    "n = 10000\n",
    "for i in range(n):\n",
    "    promedios.append(df.sample(len(df), replace = True).mean()[0]) "
   ]
  },
  {
   "cell_type": "code",
   "execution_count": 19,
   "id": "feb3cfab",
   "metadata": {},
   "outputs": [
    {
     "data": {
      "image/png": "[encoded data removed]",
      "text/plain": [
       "<Figure size 640x480 with 1 Axes>"
      ]
     },
     "metadata": {},
     "output_type": "display_data"
    }
   ],
   "source": [
    "plt.hist(promedios, bins = 100, color = 'navy')\n",
    "plt.grid()"
   ]
  },
  {
   "cell_type": "code",
   "execution_count": 20,
   "id": "b70879a4",
   "metadata": {},
   "outputs": [
    {
     "data": {
      "text/plain": [
       "0.20950132921332207"
      ]
     },
     "execution_count": 20,
     "metadata": {},
     "output_type": "execute_result"
    }
   ],
   "source": [
    "np.std(promedios)"
   ]
  },
  {
   "cell_type": "code",
   "execution_count": 24,
   "id": "33d29f0b",
   "metadata": {},
   "outputs": [],
   "source": [
    "se_edad = np.std(edad) / np.sqrt(len(edad))"
   ]
  },
  {
   "cell_type": "code",
   "execution_count": 25,
   "id": "2635da1e",
   "metadata": {},
   "outputs": [
    {
     "data": {
      "text/plain": [
       "20.76252393738956"
      ]
     },
     "execution_count": 25,
     "metadata": {},
     "output_type": "execute_result"
    }
   ],
   "source": [
    "# Cola inferior y superior\n",
    "np.mean(edad) - 2*se_edad"
   ]
  },
  {
   "cell_type": "code",
   "execution_count": 26,
   "id": "4b8e04bf",
   "metadata": {},
   "outputs": [
    {
     "data": {
      "text/plain": [
       "21.601112426246807"
      ]
     },
     "execution_count": 26,
     "metadata": {},
     "output_type": "execute_result"
    }
   ],
   "source": [
    "# Cola superior\n",
    "np.mean(edad) + 2*se_edad"
   ]
  },
  {
   "cell_type": "code",
   "execution_count": 24,
   "id": "85856719",
   "metadata": {},
   "outputs": [],
   "source": [
    "# No es lo mismo"
   ]
  },
  {
   "cell_type": "code",
   "execution_count": 3,
   "id": "bd9bf684",
   "metadata": {},
   "outputs": [],
   "source": [
    "# No es una distribución normal\n"
   ]
  },
  {
   "cell_type": "markdown",
   "id": "329e95c6",
   "metadata": {},
   "source": [
    "### Realiza bootstrap de la altura"
   ]
  },
  {
   "cell_type": "code",
   "execution_count": null,
   "id": "7daef955",
   "metadata": {},
   "outputs": [],
   "source": []
  },
  {
   "cell_type": "code",
   "execution_count": 24,
   "id": "9ab8e88e",
   "metadata": {},
   "outputs": [],
   "source": []
  },
  {
   "cell_type": "code",
   "execution_count": null,
   "id": "84b0fa38",
   "metadata": {},
   "outputs": [],
   "source": []
  },
  {
   "cell_type": "code",
   "execution_count": null,
   "id": "a8d30d68",
   "metadata": {},
   "outputs": [],
   "source": []
  },
  {
   "cell_type": "code",
   "execution_count": null,
   "id": "9ba0cfd8",
   "metadata": {},
   "outputs": [],
   "source": []
  },
  {
   "cell_type": "code",
   "execution_count": null,
   "id": "93177b19",
   "metadata": {},
   "outputs": [],
   "source": []
  },
  {
   "cell_type": "code",
   "execution_count": null,
   "id": "068536ea",
   "metadata": {},
   "outputs": [],
   "source": []
  },
  {
   "cell_type": "code",
   "execution_count": null,
   "id": "2c8558ee",
   "metadata": {},
   "outputs": [],
   "source": []
  },
  {
   "cell_type": "code",
   "execution_count": null,
   "id": "2d6a9a19",
   "metadata": {},
   "outputs": [],
   "source": []
  },
  {
   "cell_type": "markdown",
   "id": "c69dd1a4",
   "metadata": {},
   "source": [
    "¿Con un 95% de confianza, la media del salón se encuntra entre?"
   ]
  },
  {
   "cell_type": "code",
   "execution_count": null,
   "id": "8df2acc1",
   "metadata": {},
   "outputs": [],
   "source": [
    "# muestras con reemplazo, usas muchas y obtienes estadísticas"
   ]
  },
  {
   "cell_type": "markdown",
   "id": "e325283b",
   "metadata": {},
   "source": [
    "### Ahora del IMC "
   ]
  },
  {
   "cell_type": "code",
   "execution_count": 30,
   "id": "24c5baed",
   "metadata": {},
   "outputs": [
    {
     "data": {
      "image/png": "[encoded data removed]",
      "text/plain": [
       "<Figure size 640x480 with 1 Axes>"
      ]
     },
     "metadata": {},
     "output_type": "display_data"
    }
   ],
   "source": [
    "plt.hist(df['IMC'], bins = 100, color = 'navy')\n",
    "plt.grid()"
   ]
  },
  {
   "cell_type": "code",
   "execution_count": 36,
   "id": "a0c45bbd",
   "metadata": {},
   "outputs": [],
   "source": [
    "promedios_imc = []\n",
    "n = 10000\n",
    "for i in range(n):\n",
    "    promedios_imc.append(df['IMC'].sample(len(df), replace = True).mean())"
   ]
  },
  {
   "cell_type": "code",
   "execution_count": 37,
   "id": "f96fa9c5",
   "metadata": {},
   "outputs": [
    {
     "data": {
      "image/png": "[encoded data removed]",
      "text/plain": [
       "<Figure size 640x480 with 1 Axes>"
      ]
     },
     "metadata": {},
     "output_type": "display_data"
    }
   ],
   "source": [
    "plt.hist(promedios_imc, bins = 100, color = 'skyblue')\n",
    "plt.grid()"
   ]
  },
  {
   "cell_type": "code",
   "execution_count": 40,
   "id": "00977655",
   "metadata": {},
   "outputs": [],
   "source": [
    "desviaciones_imc = []\n",
    "n = 10000\n",
    "for i in range(n):\n",
    "    desviaciones_imc.append(df['IMC'].sample(len(df), replace = True).std())"
   ]
  },
  {
   "cell_type": "code",
   "execution_count": 41,
   "id": "7e537917",
   "metadata": {},
   "outputs": [
    {
     "data": {
      "image/png": "[encoded data removed]",
      "text/plain": [
       "<Figure size 640x480 with 1 Axes>"
      ]
     },
     "metadata": {},
     "output_type": "display_data"
    }
   ],
   "source": [
    "plt.hist(desviaciones_imc, bins = 100, color = 'skyblue')\n",
    "plt.grid()"
   ]
  },
  {
   "cell_type": "code",
   "execution_count": 42,
   "id": "0017701d",
   "metadata": {},
   "outputs": [],
   "source": [
    "df1 = pd.DataFrame()\n",
    "df1['desviaciones'] = desviaciones_imc"
   ]
  },
  {
   "cell_type": "code",
   "execution_count": 43,
   "id": "2ec9a164",
   "metadata": {},
   "outputs": [
    {
     "data": {
      "text/plain": [
       "0.0638"
      ]
     },
     "execution_count": 43,
     "metadata": {},
     "output_type": "execute_result"
    }
   ],
   "source": [
    "np.mean(df1.desviaciones > 2.72)"
   ]
  },
  {
   "cell_type": "markdown",
   "id": "a63d4bb6",
   "metadata": {},
   "source": [
    "A esto se le conoce resampleo boostrap \n",
    "\n",
    "<img style=\"margin: 15px 15px 15px 15px;\" src=\"https://blogs.sas.com/content/iml/files/2018/12/bootstrapSummary.png\" width=\"3000px\" height=\"100px\" />\n"
   ]
  },
  {
   "cell_type": "markdown",
   "id": "1029de11",
   "metadata": {},
   "source": [
    "<img style=\"margin: 15px 15px 15px 15px;\" src=\"https://uc-r.github.io/public/images/analytics/bootstrap/bootstrap.png\" width=\"3000px\" height=\"100px\" />\n"
   ]
  },
  {
   "cell_type": "markdown",
   "id": "8e5ba0f6",
   "metadata": {},
   "source": [
    "# Aplicación en la bolsa"
   ]
  },
  {
   "cell_type": "code",
   "execution_count": 58,
   "id": "a2d1d3da",
   "metadata": {},
   "outputs": [
    {
     "name": "stdout",
     "output_type": "stream",
     "text": [
      "[*********************100%%**********************]  2 of 2 completed\n"
     ]
    },
    {
     "data": {
      "text/html": [
       "<div>\n",
       "<style scoped>\n",
       "    .dataframe tbody tr th:only-of-type {\n",
       "        vertical-align: middle;\n",
       "    }\n",
       "\n",
       "    .dataframe tbody tr th {\n",
       "        vertical-align: top;\n",
       "    }\n",
       "\n",
       "    .dataframe thead th {\n",
       "        text-align: right;\n",
       "    }\n",
       "</style>\n",
       "<table border=\"1\" class=\"dataframe\">\n",
       "  <thead>\n",
       "    <tr style=\"text-align: right;\">\n",
       "      <th></th>\n",
       "      <th>AMZN</th>\n",
       "      <th>VTI</th>\n",
       "    </tr>\n",
       "    <tr>\n",
       "      <th>Date</th>\n",
       "      <th></th>\n",
       "      <th></th>\n",
       "    </tr>\n",
       "  </thead>\n",
       "  <tbody>\n",
       "    <tr>\n",
       "      <th>2015-10-02</th>\n",
       "      <td>0.022699</td>\n",
       "      <td>0.014557</td>\n",
       "    </tr>\n",
       "    <tr>\n",
       "      <th>2015-10-05</th>\n",
       "      <td>0.020919</td>\n",
       "      <td>0.018434</td>\n",
       "    </tr>\n",
       "    <tr>\n",
       "      <th>2015-10-06</th>\n",
       "      <td>-0.011404</td>\n",
       "      <td>-0.003229</td>\n",
       "    </tr>\n",
       "    <tr>\n",
       "      <th>2015-10-07</th>\n",
       "      <td>0.008298</td>\n",
       "      <td>0.009030</td>\n",
       "    </tr>\n",
       "    <tr>\n",
       "      <th>2015-10-08</th>\n",
       "      <td>-0.016201</td>\n",
       "      <td>0.008658</td>\n",
       "    </tr>\n",
       "  </tbody>\n",
       "</table>\n",
       "</div>"
      ],
      "text/plain": [
       "                AMZN       VTI\n",
       "Date                          \n",
       "2015-10-02  0.022699  0.014557\n",
       "2015-10-05  0.020919  0.018434\n",
       "2015-10-06 -0.011404 -0.003229\n",
       "2015-10-07  0.008298  0.009030\n",
       "2015-10-08 -0.016201  0.008658"
      ]
     },
     "execution_count": 58,
     "metadata": {},
     "output_type": "execute_result"
    }
   ],
   "source": [
    "# Get tickers \n",
    "import yfinance as yf\n",
    "tickers = ['VTI', 'AMZN']\n",
    "start_date = '2015-10-01'\n",
    "end_date = \"2022-10-01\"\n",
    "\n",
    "# Descargar precios y graficar\n",
    "St = yf.download(tickers, start=start_date)['Adj Close']\n",
    "\n",
    "returns = St.pct_change().dropna()\n",
    "returns.head()"
   ]
  },
  {
   "cell_type": "markdown",
   "id": "ef03d60f",
   "metadata": {},
   "source": [
    "# Desviación estandard de Amazon "
   ]
  },
  {
   "cell_type": "code",
   "execution_count": 59,
   "id": "590e6304",
   "metadata": {},
   "outputs": [
    {
     "data": {
      "text/plain": [
       "0.02067058304033696"
      ]
     },
     "execution_count": 59,
     "metadata": {},
     "output_type": "execute_result"
    }
   ],
   "source": [
    "vol_amzn = np.std(returns['AMZN'])\n",
    "vol_amzn"
   ]
  },
  {
   "cell_type": "markdown",
   "id": "59b9a3af",
   "metadata": {},
   "source": [
    "# Error estandard Amazon"
   ]
  },
  {
   "cell_type": "code",
   "execution_count": 60,
   "id": "904d031d",
   "metadata": {},
   "outputs": [
    {
     "data": {
      "text/plain": [
       "0.00044620852953538794"
      ]
     },
     "execution_count": 60,
     "metadata": {},
     "output_type": "execute_result"
    }
   ],
   "source": [
    "error_amzn = returns['AMZN'].sem()\n",
    "error_amzn"
   ]
  },
  {
   "cell_type": "markdown",
   "id": "b4bf9edb",
   "metadata": {},
   "source": [
    "# Boostrap de la volatilidad de Amazon "
   ]
  },
  {
   "cell_type": "code",
   "execution_count": 61,
   "id": "81b53e52",
   "metadata": {},
   "outputs": [],
   "source": [
    "volatilidades_amzn = []\n",
    "for i in range(10000):\n",
    "    volatilidades_amzn.append(returns['AMZN'].sample(len(returns), replace = True).std())"
   ]
  },
  {
   "cell_type": "code",
   "execution_count": 62,
   "id": "5e25cfd1",
   "metadata": {},
   "outputs": [],
   "source": [
    "df_volatilidades_amzn = pd.DataFrame()\n",
    "df_volatilidades_amzn['vol'] = volatilidades_amzn"
   ]
  },
  {
   "cell_type": "markdown",
   "id": "3bbb58d9",
   "metadata": {},
   "source": [
    "¿Cuál es la probabilidad de que la volatilidad de amazon sea menor al 2%?"
   ]
  },
  {
   "cell_type": "code",
   "execution_count": 63,
   "id": "4226e778",
   "metadata": {},
   "outputs": [
    {
     "data": {
      "text/plain": [
       "0.1313"
      ]
     },
     "execution_count": 63,
     "metadata": {},
     "output_type": "execute_result"
    }
   ],
   "source": [
    "(df_volatilidades_amzn['vol'] < 0.02).mean()"
   ]
  },
  {
   "cell_type": "markdown",
   "id": "6222a05f",
   "metadata": {},
   "source": [
    "# Boostrap de la correlación entre Amazon y VTI "
   ]
  },
  {
   "cell_type": "code",
   "execution_count": 64,
   "id": "b99007cd",
   "metadata": {},
   "outputs": [],
   "source": [
    "corr_amzn = []\n",
    "for i in range(10000):\n",
    "    corr_amzn.append(returns.sample(len(returns), replace = True).corr()['AMZN']['VTI'])"
   ]
  },
  {
   "cell_type": "code",
   "execution_count": 66,
   "id": "3165ffc2",
   "metadata": {},
   "outputs": [],
   "source": [
    "df_corr_amzn = pd.DataFrame()\n",
    "df_corr_amzn['corr_amzn'] = corr_amzn"
   ]
  },
  {
   "cell_type": "code",
   "execution_count": 67,
   "id": "9a7fc43e",
   "metadata": {},
   "outputs": [
    {
     "data": {
      "text/html": [
       "<div>\n",
       "<style scoped>\n",
       "    .dataframe tbody tr th:only-of-type {\n",
       "        vertical-align: middle;\n",
       "    }\n",
       "\n",
       "    .dataframe tbody tr th {\n",
       "        vertical-align: top;\n",
       "    }\n",
       "\n",
       "    .dataframe thead th {\n",
       "        text-align: right;\n",
       "    }\n",
       "</style>\n",
       "<table border=\"1\" class=\"dataframe\">\n",
       "  <thead>\n",
       "    <tr style=\"text-align: right;\">\n",
       "      <th></th>\n",
       "      <th>corr_amzn</th>\n",
       "    </tr>\n",
       "  </thead>\n",
       "  <tbody>\n",
       "    <tr>\n",
       "      <th>count</th>\n",
       "      <td>10000.000000</td>\n",
       "    </tr>\n",
       "    <tr>\n",
       "      <th>mean</th>\n",
       "      <td>0.630404</td>\n",
       "    </tr>\n",
       "    <tr>\n",
       "      <th>std</th>\n",
       "      <td>0.021100</td>\n",
       "    </tr>\n",
       "    <tr>\n",
       "      <th>min</th>\n",
       "      <td>0.551276</td>\n",
       "    </tr>\n",
       "    <tr>\n",
       "      <th>25%</th>\n",
       "      <td>0.616516</td>\n",
       "    </tr>\n",
       "    <tr>\n",
       "      <th>50%</th>\n",
       "      <td>0.630713</td>\n",
       "    </tr>\n",
       "    <tr>\n",
       "      <th>75%</th>\n",
       "      <td>0.644655</td>\n",
       "    </tr>\n",
       "    <tr>\n",
       "      <th>max</th>\n",
       "      <td>0.706348</td>\n",
       "    </tr>\n",
       "  </tbody>\n",
       "</table>\n",
       "</div>"
      ],
      "text/plain": [
       "          corr_amzn\n",
       "count  10000.000000\n",
       "mean       0.630404\n",
       "std        0.021100\n",
       "min        0.551276\n",
       "25%        0.616516\n",
       "50%        0.630713\n",
       "75%        0.644655\n",
       "max        0.706348"
      ]
     },
     "execution_count": 67,
     "metadata": {},
     "output_type": "execute_result"
    }
   ],
   "source": [
    "df_corr_amzn.describe()"
   ]
  },
  {
   "cell_type": "code",
   "execution_count": 70,
   "id": "6a8a0965",
   "metadata": {},
   "outputs": [
    {
     "data": {
      "text/plain": [
       "0.9212"
      ]
     },
     "execution_count": 70,
     "metadata": {},
     "output_type": "execute_result"
    }
   ],
   "source": [
    "np.mean(df_corr_amzn.corr_amzn > 0.6)"
   ]
  },
  {
   "cell_type": "markdown",
   "id": "dd4b98dc",
   "metadata": {},
   "source": [
    "# Aplicación de la vida real\n",
    "\n",
    "A las empresas que prestan dinero no les interesa tanto el porcentaje de pago sino a algo que se conoce como _loss rate_.\n",
    "\n",
    "El _loss rate es_:\n",
    "\n",
    "$$LR =1 -  \\frac{\\sum{Capital_i}}{\\sum{Prestado_i}} $$\n"
   ]
  },
  {
   "cell_type": "code",
   "execution_count": 44,
   "id": "2a59d1cb",
   "metadata": {},
   "outputs": [
    {
     "data": {
      "text/html": [
       "<div>\n",
       "<style scoped>\n",
       "    .dataframe tbody tr th:only-of-type {\n",
       "        vertical-align: middle;\n",
       "    }\n",
       "\n",
       "    .dataframe tbody tr th {\n",
       "        vertical-align: top;\n",
       "    }\n",
       "\n",
       "    .dataframe thead th {\n",
       "        text-align: right;\n",
       "    }\n",
       "</style>\n",
       "<table border=\"1\" class=\"dataframe\">\n",
       "  <thead>\n",
       "    <tr style=\"text-align: right;\">\n",
       "      <th></th>\n",
       "      <th>monto</th>\n",
       "      <th>pago</th>\n",
       "    </tr>\n",
       "  </thead>\n",
       "  <tbody>\n",
       "    <tr>\n",
       "      <th>0</th>\n",
       "      <td>2000</td>\n",
       "      <td>0</td>\n",
       "    </tr>\n",
       "    <tr>\n",
       "      <th>1</th>\n",
       "      <td>3000</td>\n",
       "      <td>1</td>\n",
       "    </tr>\n",
       "    <tr>\n",
       "      <th>2</th>\n",
       "      <td>1000</td>\n",
       "      <td>0</td>\n",
       "    </tr>\n",
       "    <tr>\n",
       "      <th>3</th>\n",
       "      <td>5000</td>\n",
       "      <td>1</td>\n",
       "    </tr>\n",
       "    <tr>\n",
       "      <th>4</th>\n",
       "      <td>1000</td>\n",
       "      <td>0</td>\n",
       "    </tr>\n",
       "    <tr>\n",
       "      <th>5</th>\n",
       "      <td>7000</td>\n",
       "      <td>1</td>\n",
       "    </tr>\n",
       "    <tr>\n",
       "      <th>6</th>\n",
       "      <td>4000</td>\n",
       "      <td>1</td>\n",
       "    </tr>\n",
       "  </tbody>\n",
       "</table>\n",
       "</div>"
      ],
      "text/plain": [
       "   monto  pago\n",
       "0   2000     0\n",
       "1   3000     1\n",
       "2   1000     0\n",
       "3   5000     1\n",
       "4   1000     0\n",
       "5   7000     1\n",
       "6   4000     1"
      ]
     },
     "execution_count": 44,
     "metadata": {},
     "output_type": "execute_result"
    }
   ],
   "source": [
    "df = pd.DataFrame()\n",
    "df['monto'] = [2000, 3000, 1000, 5000, 1000, 7000, 4000]\n",
    "df['pago'] = [0, 1, 0, 1, 0, 1, 1]\n",
    "df"
   ]
  },
  {
   "cell_type": "code",
   "execution_count": 45,
   "id": "01054869",
   "metadata": {},
   "outputs": [
    {
     "data": {
      "text/plain": [
       "0.17391304347826086"
      ]
     },
     "execution_count": 45,
     "metadata": {},
     "output_type": "execute_result"
    }
   ],
   "source": [
    "# Calcula el loss rate\n",
    "1 - (df.monto * df.pago).sum() / df.monto.sum()"
   ]
  },
  {
   "cell_type": "code",
   "execution_count": 47,
   "id": "dafef0f2",
   "metadata": {},
   "outputs": [
    {
     "data": {
      "text/plain": [
       "0.4285714285714286"
      ]
     },
     "execution_count": 47,
     "metadata": {},
     "output_type": "execute_result"
    }
   ],
   "source": [
    "# Calcula la morosidad\n",
    "1 - np.mean(df.pago)"
   ]
  },
  {
   "cell_type": "markdown",
   "id": "c65f88ca",
   "metadata": {},
   "source": [
    "Se desarrolla un nuevo modelo que ayuda a discriminar mejor, el modelo va a rechazar clientes"
   ]
  },
  {
   "cell_type": "code",
   "execution_count": 48,
   "id": "c8789776",
   "metadata": {},
   "outputs": [],
   "source": [
    "df['acepta'] =  [1, 1, 0, 1, 1, 1, 0]"
   ]
  },
  {
   "cell_type": "code",
   "execution_count": 49,
   "id": "e45fe168",
   "metadata": {},
   "outputs": [
    {
     "data": {
      "text/html": [
       "<div>\n",
       "<style scoped>\n",
       "    .dataframe tbody tr th:only-of-type {\n",
       "        vertical-align: middle;\n",
       "    }\n",
       "\n",
       "    .dataframe tbody tr th {\n",
       "        vertical-align: top;\n",
       "    }\n",
       "\n",
       "    .dataframe thead th {\n",
       "        text-align: right;\n",
       "    }\n",
       "</style>\n",
       "<table border=\"1\" class=\"dataframe\">\n",
       "  <thead>\n",
       "    <tr style=\"text-align: right;\">\n",
       "      <th></th>\n",
       "      <th>monto</th>\n",
       "      <th>pago</th>\n",
       "      <th>acepta</th>\n",
       "    </tr>\n",
       "  </thead>\n",
       "  <tbody>\n",
       "    <tr>\n",
       "      <th>0</th>\n",
       "      <td>2000</td>\n",
       "      <td>0</td>\n",
       "      <td>1</td>\n",
       "    </tr>\n",
       "    <tr>\n",
       "      <th>1</th>\n",
       "      <td>3000</td>\n",
       "      <td>1</td>\n",
       "      <td>1</td>\n",
       "    </tr>\n",
       "    <tr>\n",
       "      <th>2</th>\n",
       "      <td>1000</td>\n",
       "      <td>0</td>\n",
       "      <td>0</td>\n",
       "    </tr>\n",
       "    <tr>\n",
       "      <th>3</th>\n",
       "      <td>5000</td>\n",
       "      <td>1</td>\n",
       "      <td>1</td>\n",
       "    </tr>\n",
       "    <tr>\n",
       "      <th>4</th>\n",
       "      <td>1000</td>\n",
       "      <td>0</td>\n",
       "      <td>1</td>\n",
       "    </tr>\n",
       "    <tr>\n",
       "      <th>5</th>\n",
       "      <td>7000</td>\n",
       "      <td>1</td>\n",
       "      <td>1</td>\n",
       "    </tr>\n",
       "    <tr>\n",
       "      <th>6</th>\n",
       "      <td>4000</td>\n",
       "      <td>1</td>\n",
       "      <td>0</td>\n",
       "    </tr>\n",
       "  </tbody>\n",
       "</table>\n",
       "</div>"
      ],
      "text/plain": [
       "   monto  pago  acepta\n",
       "0   2000     0       1\n",
       "1   3000     1       1\n",
       "2   1000     0       0\n",
       "3   5000     1       1\n",
       "4   1000     0       1\n",
       "5   7000     1       1\n",
       "6   4000     1       0"
      ]
     },
     "execution_count": 49,
     "metadata": {},
     "output_type": "execute_result"
    }
   ],
   "source": [
    "df"
   ]
  },
  {
   "cell_type": "code",
   "execution_count": 50,
   "id": "83ca71bf",
   "metadata": {},
   "outputs": [
    {
     "data": {
      "text/plain": [
       "0.16666666666666663"
      ]
     },
     "execution_count": 50,
     "metadata": {},
     "output_type": "execute_result"
    }
   ],
   "source": [
    "# Cacua el nuevo loss rate\n",
    "df1 = df.query('acepta == 1')\n",
    "\n",
    "1 - (df1.monto * df1.pago).sum() / df1.monto.sum()"
   ]
  },
  {
   "cell_type": "markdown",
   "id": "95a86e35",
   "metadata": {},
   "source": [
    "¿Cuál es la prbobabilidad que el loss rate sea mayor a 40%?"
   ]
  },
  {
   "cell_type": "code",
   "execution_count": 53,
   "id": "6539cf0c",
   "metadata": {},
   "outputs": [],
   "source": [
    "n = 10000\n",
    "losses = []\n",
    "for i in range(n):\n",
    "    sample_df = df1.sample(len(df1), replace = True)\n",
    "    lr = 1 - (sample_df.monto * sample_df.pago).sum() / sample_df.monto.sum()\n",
    "    losses.append(lr)"
   ]
  },
  {
   "cell_type": "code",
   "execution_count": 54,
   "id": "79549e57",
   "metadata": {},
   "outputs": [
    {
     "data": {
      "image/png": "[encoded data removed]",
      "text/plain": [
       "<Figure size 640x480 with 1 Axes>"
      ]
     },
     "metadata": {},
     "output_type": "display_data"
    }
   ],
   "source": [
    "plt.hist(losses, bins = 100, color = 'skyblue')\n",
    "plt.grid()"
   ]
  },
  {
   "cell_type": "code",
   "execution_count": 56,
   "id": "7771431c",
   "metadata": {},
   "outputs": [
    {
     "data": {
      "text/plain": [
       "0.1039"
      ]
     },
     "execution_count": 56,
     "metadata": {},
     "output_type": "execute_result"
    }
   ],
   "source": [
    "# Probabilidad mayor a 40%\n",
    "df_losses = pd.DataFrame()\n",
    "df_losses['loss_rate'] = losses\n",
    "\n",
    "np.mean(df_losses.loss_rate > 0.4)"
   ]
  },
  {
   "cell_type": "code",
   "execution_count": 57,
   "id": "b53a065b",
   "metadata": {},
   "outputs": [
    {
     "data": {
      "text/plain": [
       "0.438"
      ]
     },
     "execution_count": 57,
     "metadata": {},
     "output_type": "execute_result"
    }
   ],
   "source": [
    "# Probabilidad menor a 15%\n",
    "np.mean(df_losses.loss_rate < 0.15)"
   ]
  }
 ],
 "metadata": {
  "kernelspec": {
   "display_name": "Python 3 (ipykernel)",
   "language": "python",
   "name": "python3"
  },
  "language_info": {
   "codemirror_mode": {
    "name": "ipython",
    "version": 3
   },
   "file_extension": ".py",
   "mimetype": "text/x-python",
   "name": "python",
   "nbconvert_exporter": "python",
   "pygments_lexer": "ipython3",
   "version": "3.11.4"
  }
 },
 "nbformat": 4,
 "nbformat_minor": 5
}
