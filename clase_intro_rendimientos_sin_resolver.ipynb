{
 "cells": [
  {
   "cell_type": "markdown",
   "id": "28b71f44",
   "metadata": {},
   "source": [
    "# Clase 3, entendiendo los conceptos de riesgo\n",
    "\n",
    "- Repaso de probabilidad\n",
    "- Diferentes medidas de rendimiento y riesgo \n",
    "\n",
    "\n",
    "Referencia general:\n",
    "Notas del curso \"Portfolio Selection and Risk Management\", Rice University, disponible en Coursera.\n",
    "\n",
    "\n",
    "<img style=\"float: left; margin: 15px 15px 15px 15px;\" src=\"http://www.creative-commons-images.com/clipboard/images/return-on-investment.jpg\" width=\"300\" height=\"100\" />\n",
    "<img style=\"float: right; margin: 15px 15px 15px 15px;\" src=\"https://upload.wikimedia.org/wikipedia/commons/5/5a/Risk-dice-example.jpg\" title=\"github\" width=\"300\" height=\"100\" />\n"
   ]
  },
  {
   "cell_type": "markdown",
   "id": "ea2c05fa",
   "metadata": {},
   "source": [
    "\n",
    "###  Función discreta de probabilidad\n",
    "Consideramos un conjunto finito (o contable) $\\Omega$ de todos los posibles resultados (o realizaciones) de una variable aleatoria $X$. Entonces a cada elemento en $x\\in\\Omega$ se le asocia una probabilidad intrínseca $P(X=x)$ que satisface:\n",
    "\n",
    "1. $0\\leq P(X=x)\\leq1$ para cada $x\\in\\Omega$,\n",
    "2. $\\sum_{x\\in\\Omega} P(X=x)=1$.\n",
    "\n",
    "Referencia: https://en.wikipedia.org/wiki/Probability_theory\n",
    "\n",
    "Para nuestros fines, el conjunto $\\Omega$ lo estimaremos con un conjunto finito de la forma $\\Omega=\\left\\lbrace x_j\\,:\\,j=1,\\dots,m\\right\\rbrace$. Entonces, la segunda condición se puede escribir como\n",
    "\n",
    "$$\\sum_{j=1}^m P(X=x_j)=1.$$\n",
    "\n",
    "Equivalentemente, si definimos $p_j=P(X=x_j)$\n",
    "\n",
    "$$\\sum_{j=1}^m p_j=1.$$\n",
    "\n",
    "Ejemplo:\n",
    "\n",
    "Tiro una moneda, \n",
    "\n",
    "$\\Omega$ = {Aguila, Sello}\n",
    "\n",
    "$P(moneda) = Aguila = 0.5$\n",
    "\n",
    "$P(moneda) = Sello = 0.5$\n",
    "\n",
    "$P(moneda) = Sello + P(moneda) = Aguila = 1$\n",
    "\n",
    "Se cumple que:\n",
    "\n",
    "$\\sum_{j=1}^m p_j=1.$\n"
   ]
  },
  {
   "cell_type": "markdown",
   "id": "d09b3e12",
   "metadata": {},
   "source": [
    "### Valor esperado\n",
    "\n",
    "\n",
    "El valor esperado de una variable aleatoria es, intuitivamente, el valor promedio a largo plazo de las repeticiones del experimento que representa. Informalmente, la ley de los grandes números afirma que la media aritmética de los resultados de un experimento aleatorio converge al valor esperado cuando el número de repeticiones tiende a infinito. \n",
    "Para una variable aleatoria discreta $X$\n",
    "\n",
    "$$E[X]=\\sum_{j=1}^{m} p_jx_j.$$\n",
    "\n",
    "Ejemplo, ¿cual es el valor esperado de esta apuesta?\n",
    "\n",
    "- Gano 100 si sale Aguila\n",
    "- Pierdo 100 si sale Sello\n",
    "\n",
    "$\\Omega$ = {Aguila, Sello}\n",
    "\n",
    "$P(y = Aguila) +  P(y = Sello) = 1 $\n",
    "\n",
    "$E[X] = P(y = Aguila) * 100 + P(y= Sello) * -100 $\n",
    "\n",
    "$E[X] = 0.5 * 100 + 0.5 * -100  = 0 $"
   ]
  },
  {
   "cell_type": "code",
   "execution_count": 1,
   "id": "da6aa8a9",
   "metadata": {},
   "outputs": [],
   "source": [
    "import random\n",
    "import pandas as pd\n",
    "import numpy as np\n",
    "from random import choices\n",
    "import matplotlib.pyplot as plt"
   ]
  },
  {
   "cell_type": "markdown",
   "id": "77e39422",
   "metadata": {},
   "source": [
    "## Ejemplo, Doy un prestamo de $1000 con un interes de 10%.\n",
    "\n",
    "El modelo de riesgos me dice que hay un 10% de probabilidad que el cliente no me pague. ¿Cuál es el valor esperado?\n",
    "\n",
    "$\\Omega$ = {pago, mora}\n",
    "\n",
    "- Si el clinte paga, gano $100 \n",
    "\n",
    "- Si el cliente no me paga, pierdo $1,000\n",
    "\n",
    "\n",
    "Calcula el valor esperado teoríco y empirico "
   ]
  },
  {
   "cell_type": "code",
   "execution_count": 4,
   "id": "99cbff39",
   "metadata": {},
   "outputs": [
    {
     "data": {
      "text/plain": [
       "-10.0"
      ]
     },
     "execution_count": 4,
     "metadata": {},
     "output_type": "execute_result"
    }
   ],
   "source": [
    "### Calcula los valores esperados\n",
    "100 * 0.9 - 1000 * 0.1"
   ]
  },
  {
   "cell_type": "code",
   "execution_count": 6,
   "id": "7b1d763d",
   "metadata": {},
   "outputs": [
    {
     "data": {
      "text/plain": [
       "80.0"
      ]
     },
     "execution_count": 6,
     "metadata": {},
     "output_type": "execute_result"
    }
   ],
   "source": [
    "200 * 0.9 - 1000 * 0.1"
   ]
  },
  {
   "cell_type": "code",
   "execution_count": 5,
   "id": "193aecaa",
   "metadata": {},
   "outputs": [
    {
     "data": {
      "text/plain": [
       "45.0"
      ]
     },
     "execution_count": 5,
     "metadata": {},
     "output_type": "execute_result"
    }
   ],
   "source": [
    "# Ahora prob de que no pague es 5%\n",
    "100 * 0.95 - 1000 * 0.05"
   ]
  },
  {
   "cell_type": "code",
   "execution_count": 20,
   "id": "ac8dcdae",
   "metadata": {},
   "outputs": [
    {
     "data": {
      "text/plain": [
       "-1110000"
      ]
     },
     "execution_count": 20,
     "metadata": {},
     "output_type": "execute_result"
    }
   ],
   "source": [
    "### Simula el prestamo para 1000 casos y aparte calcula el valor esperado teoríco \n",
    "prestamo=[]\n",
    "for i in range(100000):\n",
    "    prestamo.append(random.choices([100,-1000], weights=(90,10))[0])\n",
    "np.sum(prestamo)"
   ]
  },
  {
   "cell_type": "code",
   "execution_count": 21,
   "id": "91e3b174",
   "metadata": {},
   "outputs": [
    {
     "data": {
      "text/plain": [
       "-11.1"
      ]
     },
     "execution_count": 21,
     "metadata": {},
     "output_type": "execute_result"
    }
   ],
   "source": [
    "np.mean(prestamo)"
   ]
  },
  {
   "cell_type": "code",
   "execution_count": 22,
   "id": "509602ca",
   "metadata": {},
   "outputs": [
    {
     "data": {
      "text/plain": [
       "4504400"
      ]
     },
     "execution_count": 22,
     "metadata": {},
     "output_type": "execute_result"
    }
   ],
   "source": [
    "prestamo=[]\n",
    "for i in range(100000):\n",
    "    prestamo.append(random.choices([100,-1000], weights=(95,5))[0])\n",
    "np.sum(prestamo)"
   ]
  },
  {
   "cell_type": "code",
   "execution_count": 23,
   "id": "73b9fff7",
   "metadata": {},
   "outputs": [
    {
     "data": {
      "text/plain": [
       "45.044"
      ]
     },
     "execution_count": 23,
     "metadata": {},
     "output_type": "execute_result"
    }
   ],
   "source": [
    "np.mean(prestamo)"
   ]
  },
  {
   "cell_type": "code",
   "execution_count": null,
   "id": "1c1d557e",
   "metadata": {},
   "outputs": [],
   "source": []
  },
  {
   "cell_type": "markdown",
   "id": "307a7c7c",
   "metadata": {},
   "source": [
    "### Varianza\n",
    "\n",
    "<img style=\"float: right; margin: 0px 15px 15px 15px;\" src=\"https://upload.wikimedia.org/wikipedia/commons/f/f9/Comparison_standard_deviations.svg\" width=\"400\" height=\"200\" />\n",
    "\n",
    "La varianza es el valor esperado de la desviación al cuadrado de una variable aleatoria de su media. Informalmente, mide que tan dispersos (lejos) están los datos de su valor esperado. La desviación estándar es la raiz cuadrada de la varianza.\n",
    "\n",
    "Para una variable aleatoria discreta $X$\n",
    "\n",
    "$$Var(X)=\\sigma_X^2=E[(X-E[X])^2]=\\sum_{x\\in\\Omega} P(X=x)(x-E[X])^2.$$\n",
    "\n"
   ]
  },
  {
   "cell_type": "markdown",
   "id": "383373bc",
   "metadata": {},
   "source": [
    "$$Var(P) = P(pague) * (X_1 - E[X])^2  + P(no) * (X_2 - E[X])^2 $$"
   ]
  },
  {
   "cell_type": "markdown",
   "id": "89f3cce1",
   "metadata": {},
   "source": [
    "Calcula la varianza del préstamo \n",
    "\n"
   ]
  },
  {
   "cell_type": "code",
   "execution_count": 24,
   "id": "50a68e7e",
   "metadata": {},
   "outputs": [
    {
     "data": {
      "text/plain": [
       "(-10.0, 330.0)"
      ]
     },
     "execution_count": 24,
     "metadata": {},
     "output_type": "execute_result"
    }
   ],
   "source": [
    "# Teoríco\n",
    "# Prestamo 1\n",
    "ve1= 100 * 0.9 - 1000 * 0.10\n",
    "\n",
    "# var = ve(X- E[X])**2\n",
    "var= 0.9 * (100-ve1)**2 + 0.1 * (-1000-ve1)**2\n",
    "volatilidad=np.sqrt(var)\n",
    "\n",
    "ve1,volatilidad"
   ]
  },
  {
   "cell_type": "code",
   "execution_count": 27,
   "id": "6a35e00b",
   "metadata": {},
   "outputs": [
    {
     "data": {
      "text/plain": [
       "(-9.076, 328.76439318150017)"
      ]
     },
     "execution_count": 27,
     "metadata": {},
     "output_type": "execute_result"
    }
   ],
   "source": [
    "# Empirico\n",
    "prestamo=[]\n",
    "for i in range(100000):\n",
    "    prestamo.append(random.choices([100,-1000], weights=(90,10))[0])\n",
    "np.mean(prestamo),np.std(prestamo)"
   ]
  },
  {
   "cell_type": "code",
   "execution_count": 31,
   "id": "231e9b62",
   "metadata": {},
   "outputs": [
    {
     "data": {
      "text/plain": [
       "(80.0, 360.0)"
      ]
     },
     "execution_count": 31,
     "metadata": {},
     "output_type": "execute_result"
    }
   ],
   "source": [
    "# Prestamo2\n",
    "ve2= 200 * 0.9 - 1000 * 0.1\n",
    "\n",
    "# var = ve(X- E[X])**2\n",
    "var= 0.9 * (200-ve2)**2 + 0.1 * (-1000-ve2)**2\n",
    "volatilidad=np.sqrt(var)\n",
    "\n",
    "ve2,volatilidad"
   ]
  },
  {
   "cell_type": "code",
   "execution_count": 32,
   "id": "a372f87c",
   "metadata": {},
   "outputs": [
    {
     "data": {
      "text/plain": [
       "(80.204, 359.72783932300814)"
      ]
     },
     "execution_count": 32,
     "metadata": {},
     "output_type": "execute_result"
    }
   ],
   "source": [
    "prestamo=[]\n",
    "for i in range(100000):\n",
    "    prestamo.append(random.choices([200,-1000], weights=(90,10))[0])\n",
    "np.mean(prestamo),np.std(prestamo)"
   ]
  },
  {
   "cell_type": "code",
   "execution_count": 33,
   "id": "3061813d",
   "metadata": {},
   "outputs": [
    {
     "data": {
      "text/plain": [
       "(45.0, 239.73944189473704)"
      ]
     },
     "execution_count": 33,
     "metadata": {},
     "output_type": "execute_result"
    }
   ],
   "source": [
    "ve3= 100 * 0.95 - 1000 * 0.05\n",
    "\n",
    "# var = ve(X- E[X])**2\n",
    "var= 0.95 * (100-ve3)**2 + 0.05 * (-1000-ve3)**2\n",
    "volatilidad=np.sqrt(var)\n",
    "\n",
    "ve3,volatilidad"
   ]
  },
  {
   "cell_type": "code",
   "execution_count": 34,
   "id": "cf61fe3f",
   "metadata": {},
   "outputs": [
    {
     "data": {
      "text/plain": [
       "(44.846, 240.0571521200733)"
      ]
     },
     "execution_count": 34,
     "metadata": {},
     "output_type": "execute_result"
    }
   ],
   "source": [
    "prestamo=[]\n",
    "for i in range(100000):\n",
    "    prestamo.append(random.choices([100,-1000], weights=(95,5))[0])\n",
    "np.mean(prestamo),np.std(prestamo)"
   ]
  },
  {
   "cell_type": "markdown",
   "id": "04020bb7",
   "metadata": {},
   "source": [
    "### 1.1. Compensación rendimiento/riesgo\n",
    "- Cuando se realiza una inversión, pobablemente se anticipan ciertos rendimientos (esperados) futuros. \n",
    "- Sin embargo, dichos rendimientos futuros no pueden ser predichos con precisión.\n",
    "- Siempre hay cierto riesgo asociado.\n",
    "- Todo el mundo quiere la mayor cantidad de rendimientos\n",
    "\n",
    "**Ejemplo:** \n",
    "<img style=\"float: right; margin: 15px 15px 15px 15px;\" src=\"https://upload.wikimedia.org/wikipedia/commons/7/7e/S_and_P_500_chart_1950_to_2016_with_averages.png\" title=\"github\" width=\"300\" height=\"100\" />\n",
    "- ¿Qué es el índice S&P500?\n",
    "- En su peor año, el índice S&P500 cayó un 46% (1926).\n",
    "- En el 2010, el índice subió un 55%.\n",
    "\n",
    "Los inversionistas nunca anticiparon estos resultados extremos cuando realizaron sus inversiones en estos periodos."
   ]
  },
  {
   "cell_type": "markdown",
   "id": "b7d16181",
   "metadata": {},
   "source": [
    "¿Más riesgo es más rendimiento? ¿Por qué? ¿Según quien o que? Todo tiene que ver con el precio"
   ]
  },
  {
   "cell_type": "markdown",
   "id": "8c5b430c",
   "metadata": {},
   "source": [
    "### 1.2. Concepto de riesgo\n",
    "\n",
    "<img style=\"float: left; margin: 0px 15px 15px 15px;\" src=\"https://upload.wikimedia.org/wikipedia/commons/0/09/Playing-risk-venezuela.JPG\" title=\"github\" width=\"300\" height=\"100\" />\n",
    "\n",
    "Hasta acá todo bien, pero, ¿qué es **riesgo**?, ¿cómo se mide?\n",
    "\n",
    "- Riesgo significa que en realidad no sabemos qué es lo que va a pasar (incertidumbre).\n",
    "- \"Más cosas pueden pasar de las que pasarán en realidad\".\n",
    "- Existen varias posibilidades pero no sabemos cuál será el resultado.\n",
    "- ¿Cómo le hacemos para cuantificar el riesgo? Pues adaptamos la teoría de probabilidad a la forma en que medimos el riesgo "
   ]
  },
  {
   "cell_type": "markdown",
   "id": "7b86aa51",
   "metadata": {},
   "source": [
    "## 2. Midiendo el rendimiento\n",
    "\n",
    "El **rendimiento** que se obtiene al invertir en un activo sobre un periodo se puede calcular directamente.\n",
    "\n",
    "**Ejemplo:** \n",
    "- Suponga que usted invierte en un fondo de acciones. Cada acción se vende actualmente en $\\$100$. \n",
    "- Suponga que su horizonte de inversión es de un año. Si el precio de la acciónal final del año es $\\$110$ y los dividendos en el año son $\\$5$, ¿cuál es su rendimiento en el periodo de tenencia?\n",
    "\n",
    "$$\\frac{S_1 - S_0}{S_0}$$\n",
    "\n",
    "$$\\frac{115 - 100}{100} = 0.15$$\n"
   ]
  },
  {
   "cell_type": "markdown",
   "id": "361c1f44",
   "metadata": {},
   "source": [
    "**Ejemplo:** suponga que tiene una serie de rendimientos anuales para el índice S&P500"
   ]
  },
  {
   "cell_type": "code",
   "execution_count": 35,
   "id": "ae39b6db",
   "metadata": {},
   "outputs": [],
   "source": [
    "# Creamos tabla\n",
    "tabla = pd.DataFrame(columns=['ret'], index=range(1, 6))\n",
    "tabla.index.name = 'year'\n",
    "tabla['ret'] = [-0.1189, -0.2210, 0.2869, 0.1088, 0.0491]"
   ]
  },
  {
   "cell_type": "code",
   "execution_count": 36,
   "id": "a70395ad",
   "metadata": {},
   "outputs": [
    {
     "data": {
      "text/html": [
       "<div>\n",
       "<style scoped>\n",
       "    .dataframe tbody tr th:only-of-type {\n",
       "        vertical-align: middle;\n",
       "    }\n",
       "\n",
       "    .dataframe tbody tr th {\n",
       "        vertical-align: top;\n",
       "    }\n",
       "\n",
       "    .dataframe thead th {\n",
       "        text-align: right;\n",
       "    }\n",
       "</style>\n",
       "<table border=\"1\" class=\"dataframe\">\n",
       "  <thead>\n",
       "    <tr style=\"text-align: right;\">\n",
       "      <th></th>\n",
       "      <th>ret</th>\n",
       "    </tr>\n",
       "    <tr>\n",
       "      <th>year</th>\n",
       "      <th></th>\n",
       "    </tr>\n",
       "  </thead>\n",
       "  <tbody>\n",
       "    <tr>\n",
       "      <th>1</th>\n",
       "      <td>-0.1189</td>\n",
       "    </tr>\n",
       "    <tr>\n",
       "      <th>2</th>\n",
       "      <td>-0.2210</td>\n",
       "    </tr>\n",
       "    <tr>\n",
       "      <th>3</th>\n",
       "      <td>0.2869</td>\n",
       "    </tr>\n",
       "    <tr>\n",
       "      <th>4</th>\n",
       "      <td>0.1088</td>\n",
       "    </tr>\n",
       "    <tr>\n",
       "      <th>5</th>\n",
       "      <td>0.0491</td>\n",
       "    </tr>\n",
       "  </tbody>\n",
       "</table>\n",
       "</div>"
      ],
      "text/plain": [
       "         ret\n",
       "year        \n",
       "1    -0.1189\n",
       "2    -0.2210\n",
       "3     0.2869\n",
       "4     0.1088\n",
       "5     0.0491"
      ]
     },
     "execution_count": 36,
     "metadata": {},
     "output_type": "execute_result"
    }
   ],
   "source": [
    "tabla"
   ]
  },
  {
   "cell_type": "markdown",
   "id": "bcd51e43",
   "metadata": {},
   "source": [
    "1. ¿Cuál es el rendimiento en el periodo de tenencia de los cinco años?"
   ]
  },
  {
   "cell_type": "code",
   "execution_count": 37,
   "id": "56a3c055",
   "metadata": {},
   "outputs": [
    {
     "data": {
      "text/plain": [
       "1.0274899060099962"
      ]
     },
     "execution_count": 37,
     "metadata": {},
     "output_type": "execute_result"
    }
   ],
   "source": [
    "## Calcula el rendimiento final\n",
    "(1+tabla.ret[1]) * (1+tabla.ret[2]) * (1+tabla.ret[3]) * (1+tabla.ret[4]) * (1+tabla.ret[5])"
   ]
  },
  {
   "cell_type": "code",
   "execution_count": 40,
   "id": "4e5c73a8",
   "metadata": {},
   "outputs": [
    {
     "data": {
      "text/plain": [
       "1.0274899060099962"
      ]
     },
     "execution_count": 40,
     "metadata": {},
     "output_type": "execute_result"
    }
   ],
   "source": [
    "### Ahora con Pandas\n",
    "rendimiento = (1+tabla.ret).prod()\n",
    "rendimiento"
   ]
  },
  {
   "cell_type": "code",
   "execution_count": 41,
   "id": "c6cfc06b",
   "metadata": {},
   "outputs": [
    {
     "data": {
      "text/plain": [
       "10274.899060099962"
      ]
     },
     "execution_count": 41,
     "metadata": {},
     "output_type": "execute_result"
    }
   ],
   "source": [
    "### Cuanto dinero se hubiera ganadocomn una inversión de $10,000\n",
    "10000 * rendimiento"
   ]
  },
  {
   "cell_type": "markdown",
   "id": "04684a96",
   "metadata": {},
   "source": [
    "2. ¿Cuál es el rendimiento promedio anual a través de los cinco años?\n",
    "\n",
    "En general, el **rendimiento medio geométrico** $\\bar{r}_g$ satisface\n",
    "\n",
    "$$(1+\\bar{r}_g)^T=\\prod_{i=1}^{T}(1+r_i),$$\n",
    "\n",
    "o equivalentemente\n",
    "\n",
    "$$\\bar{r}_g=\\left[\\prod_{i=1}^{T}(1+r_i)\\right]^{1/T}-1.$$"
   ]
  },
  {
   "cell_type": "code",
   "execution_count": 43,
   "id": "73b70cc1",
   "metadata": {},
   "outputs": [
    {
     "data": {
      "text/plain": [
       "0.005438503962722274"
      ]
     },
     "execution_count": 43,
     "metadata": {},
     "output_type": "execute_result"
    }
   ],
   "source": [
    "t = 5\n",
    "rendimiento_geometrico=((1 + tabla.ret).prod()) ** (1/t) -1 \n",
    "rendimiento_geometrico"
   ]
  },
  {
   "cell_type": "code",
   "execution_count": 44,
   "id": "e2897f17",
   "metadata": {},
   "outputs": [
    {
     "data": {
      "text/plain": [
       "0.02098"
      ]
     },
     "execution_count": 44,
     "metadata": {},
     "output_type": "execute_result"
    }
   ],
   "source": [
    "# Respuesta a la pregunta 2\n",
    "# ESTO ESTA MAL\n",
    "np.mean(tabla.ret)"
   ]
  },
  {
   "cell_type": "code",
   "execution_count": 45,
   "id": "5fb79c41",
   "metadata": {},
   "outputs": [
    {
     "data": {
      "text/plain": [
       "1.0274899060099967"
      ]
     },
     "execution_count": 45,
     "metadata": {},
     "output_type": "execute_result"
    }
   ],
   "source": [
    "### Verifica que esto está bien \n",
    "(1 + rendimiento_geometrico) ** t"
   ]
  },
  {
   "cell_type": "markdown",
   "id": "3f0b8c8a",
   "metadata": {},
   "source": [
    "### 2.2. Rendimiento medio aritmético\n",
    "\n",
    "Si pudiéramos obtener escenarios probables para la economía, asociados con ciertas probabilidades, podríamos calcular el **rendimiento esperado** como el promedio ponderado (valor esperado) por probabilidad de los posibles resultados.\n",
    "\n",
    "Esto es\n",
    "\n",
    "$$E[r]=\\sum_{j=1}^{m}p_jr_j,$$\n",
    "\n",
    "donde $r_j$ para $j=1,2,\\dots,m$ son los posibles rendimientos y $p_j$ es la probabilidad asociada a que ocurra el rendimiento $r_j$.\n",
    "\n",
    "\n",
    "**Ejemplo:**\n",
    "- Suponga que usted invierte en un fondo de acciones. Cada acción se vende actualmente en \\$100.\n",
    "- Suponga que hay cuatro posibles estados futuros de la economía, los cuales se resumen en la siguiente tabla"
   ]
  },
  {
   "cell_type": "code",
   "execution_count": 46,
   "id": "492a7404",
   "metadata": {},
   "outputs": [
    {
     "data": {
      "text/html": [
       "<div>\n",
       "<style scoped>\n",
       "    .dataframe tbody tr th:only-of-type {\n",
       "        vertical-align: middle;\n",
       "    }\n",
       "\n",
       "    .dataframe tbody tr th {\n",
       "        vertical-align: top;\n",
       "    }\n",
       "\n",
       "    .dataframe thead th {\n",
       "        text-align: right;\n",
       "    }\n",
       "</style>\n",
       "<table border=\"1\" class=\"dataframe\">\n",
       "  <thead>\n",
       "    <tr style=\"text-align: right;\">\n",
       "      <th></th>\n",
       "      <th>prob</th>\n",
       "      <th>price</th>\n",
       "      <th>div</th>\n",
       "      <th>ret</th>\n",
       "    </tr>\n",
       "    <tr>\n",
       "      <th>state</th>\n",
       "      <th></th>\n",
       "      <th></th>\n",
       "      <th></th>\n",
       "      <th></th>\n",
       "    </tr>\n",
       "  </thead>\n",
       "  <tbody>\n",
       "    <tr>\n",
       "      <th>excellent</th>\n",
       "      <td>0.25</td>\n",
       "      <td>126.50</td>\n",
       "      <td>4.5</td>\n",
       "      <td>NaN</td>\n",
       "    </tr>\n",
       "    <tr>\n",
       "      <th>good</th>\n",
       "      <td>0.45</td>\n",
       "      <td>110.00</td>\n",
       "      <td>4.0</td>\n",
       "      <td>NaN</td>\n",
       "    </tr>\n",
       "    <tr>\n",
       "      <th>poor</th>\n",
       "      <td>0.25</td>\n",
       "      <td>89.75</td>\n",
       "      <td>3.5</td>\n",
       "      <td>NaN</td>\n",
       "    </tr>\n",
       "    <tr>\n",
       "      <th>crash</th>\n",
       "      <td>0.05</td>\n",
       "      <td>46.00</td>\n",
       "      <td>2.0</td>\n",
       "      <td>NaN</td>\n",
       "    </tr>\n",
       "  </tbody>\n",
       "</table>\n",
       "</div>"
      ],
      "text/plain": [
       "           prob   price  div  ret\n",
       "state                            \n",
       "excellent  0.25  126.50  4.5  NaN\n",
       "good       0.45  110.00  4.0  NaN\n",
       "poor       0.25   89.75  3.5  NaN\n",
       "crash      0.05   46.00  2.0  NaN"
      ]
     },
     "execution_count": 46,
     "metadata": {},
     "output_type": "execute_result"
    }
   ],
   "source": [
    "# Creamos tabla\n",
    "tabla2 = pd.DataFrame(columns=['prob', 'price', 'div', 'ret'], \n",
    "                      index=['excellent', 'good', 'poor', 'crash'])\n",
    "tabla2.index.name = 'state'\n",
    "tabla2['prob'] = [0.25, 0.45, 0.25, 0.05]\n",
    "tabla2['price'] = [126.50, 110.00, 89.75, 46.00]\n",
    "tabla2['div'] = [4.50, 4.00, 3.50, 2.00]\n",
    "tabla2"
   ]
  },
  {
   "cell_type": "code",
   "execution_count": 47,
   "id": "521d3572",
   "metadata": {},
   "outputs": [
    {
     "data": {
      "text/html": [
       "<div>\n",
       "<style scoped>\n",
       "    .dataframe tbody tr th:only-of-type {\n",
       "        vertical-align: middle;\n",
       "    }\n",
       "\n",
       "    .dataframe tbody tr th {\n",
       "        vertical-align: top;\n",
       "    }\n",
       "\n",
       "    .dataframe thead th {\n",
       "        text-align: right;\n",
       "    }\n",
       "</style>\n",
       "<table border=\"1\" class=\"dataframe\">\n",
       "  <thead>\n",
       "    <tr style=\"text-align: right;\">\n",
       "      <th></th>\n",
       "      <th>prob</th>\n",
       "      <th>price</th>\n",
       "      <th>div</th>\n",
       "      <th>ret</th>\n",
       "    </tr>\n",
       "    <tr>\n",
       "      <th>state</th>\n",
       "      <th></th>\n",
       "      <th></th>\n",
       "      <th></th>\n",
       "      <th></th>\n",
       "    </tr>\n",
       "  </thead>\n",
       "  <tbody>\n",
       "    <tr>\n",
       "      <th>excellent</th>\n",
       "      <td>0.25</td>\n",
       "      <td>126.50</td>\n",
       "      <td>4.5</td>\n",
       "      <td>0.3100</td>\n",
       "    </tr>\n",
       "    <tr>\n",
       "      <th>good</th>\n",
       "      <td>0.45</td>\n",
       "      <td>110.00</td>\n",
       "      <td>4.0</td>\n",
       "      <td>0.1400</td>\n",
       "    </tr>\n",
       "    <tr>\n",
       "      <th>poor</th>\n",
       "      <td>0.25</td>\n",
       "      <td>89.75</td>\n",
       "      <td>3.5</td>\n",
       "      <td>-0.0675</td>\n",
       "    </tr>\n",
       "    <tr>\n",
       "      <th>crash</th>\n",
       "      <td>0.05</td>\n",
       "      <td>46.00</td>\n",
       "      <td>2.0</td>\n",
       "      <td>-0.5200</td>\n",
       "    </tr>\n",
       "  </tbody>\n",
       "</table>\n",
       "</div>"
      ],
      "text/plain": [
       "           prob   price  div     ret\n",
       "state                               \n",
       "excellent  0.25  126.50  4.5  0.3100\n",
       "good       0.45  110.00  4.0  0.1400\n",
       "poor       0.25   89.75  3.5 -0.0675\n",
       "crash      0.05   46.00  2.0 -0.5200"
      ]
     },
     "execution_count": 47,
     "metadata": {},
     "output_type": "execute_result"
    }
   ],
   "source": [
    "# Calcular rendimiento de cada escenario\n",
    "tabla2['ret']=(tabla2['div'] + tabla2['price'] - 100)/100\n",
    "tabla2"
   ]
  },
  {
   "cell_type": "markdown",
   "id": "42656fb6",
   "metadata": {},
   "source": [
    "Dada las probabilidades anteriores, ¿cuál es el rendimiento esperado?"
   ]
  },
  {
   "cell_type": "code",
   "execution_count": 53,
   "id": "d5cfaef7",
   "metadata": {},
   "outputs": [
    {
     "data": {
      "text/plain": [
       "0.09762500000000002"
      ]
     },
     "execution_count": 53,
     "metadata": {},
     "output_type": "execute_result"
    }
   ],
   "source": [
    "valor_esperado=(tabla2['prob'] * tabla2['ret']).sum()\n",
    "valor_esperado"
   ]
  },
  {
   "cell_type": "code",
   "execution_count": 50,
   "id": "7fcd74e4",
   "metadata": {},
   "outputs": [
    {
     "data": {
      "text/html": [
       "<div>\n",
       "<style scoped>\n",
       "    .dataframe tbody tr th:only-of-type {\n",
       "        vertical-align: middle;\n",
       "    }\n",
       "\n",
       "    .dataframe tbody tr th {\n",
       "        vertical-align: top;\n",
       "    }\n",
       "\n",
       "    .dataframe thead th {\n",
       "        text-align: right;\n",
       "    }\n",
       "</style>\n",
       "<table border=\"1\" class=\"dataframe\">\n",
       "  <thead>\n",
       "    <tr style=\"text-align: right;\">\n",
       "      <th></th>\n",
       "      <th>prob</th>\n",
       "      <th>price</th>\n",
       "      <th>div</th>\n",
       "      <th>ret</th>\n",
       "      <th>prob1</th>\n",
       "    </tr>\n",
       "    <tr>\n",
       "      <th>state</th>\n",
       "      <th></th>\n",
       "      <th></th>\n",
       "      <th></th>\n",
       "      <th></th>\n",
       "      <th></th>\n",
       "    </tr>\n",
       "  </thead>\n",
       "  <tbody>\n",
       "    <tr>\n",
       "      <th>excellent</th>\n",
       "      <td>0.25</td>\n",
       "      <td>126.50</td>\n",
       "      <td>4.5</td>\n",
       "      <td>0.3100</td>\n",
       "      <td>0.25</td>\n",
       "    </tr>\n",
       "    <tr>\n",
       "      <th>good</th>\n",
       "      <td>0.45</td>\n",
       "      <td>110.00</td>\n",
       "      <td>4.0</td>\n",
       "      <td>0.1400</td>\n",
       "      <td>0.25</td>\n",
       "    </tr>\n",
       "    <tr>\n",
       "      <th>poor</th>\n",
       "      <td>0.25</td>\n",
       "      <td>89.75</td>\n",
       "      <td>3.5</td>\n",
       "      <td>-0.0675</td>\n",
       "      <td>0.25</td>\n",
       "    </tr>\n",
       "    <tr>\n",
       "      <th>crash</th>\n",
       "      <td>0.05</td>\n",
       "      <td>46.00</td>\n",
       "      <td>2.0</td>\n",
       "      <td>-0.5200</td>\n",
       "      <td>0.25</td>\n",
       "    </tr>\n",
       "  </tbody>\n",
       "</table>\n",
       "</div>"
      ],
      "text/plain": [
       "           prob   price  div     ret  prob1\n",
       "state                                      \n",
       "excellent  0.25  126.50  4.5  0.3100   0.25\n",
       "good       0.45  110.00  4.0  0.1400   0.25\n",
       "poor       0.25   89.75  3.5 -0.0675   0.25\n",
       "crash      0.05   46.00  2.0 -0.5200   0.25"
      ]
     },
     "execution_count": 50,
     "metadata": {},
     "output_type": "execute_result"
    }
   ],
   "source": [
    "# ¿Que pasaría si todo tiene la misma probabilidad? Calcula ese rendimientio \n",
    "tabla2['prob1'] = [0.25, 0.25, 0.25, 0.25]\n",
    "tabla2"
   ]
  },
  {
   "cell_type": "code",
   "execution_count": 51,
   "id": "bd925b02",
   "metadata": {},
   "outputs": [
    {
     "data": {
      "text/plain": [
       "-0.034375"
      ]
     },
     "execution_count": 51,
     "metadata": {},
     "output_type": "execute_result"
    }
   ],
   "source": [
    "(tabla2['prob1'] * tabla2['ret']).sum()"
   ]
  },
  {
   "cell_type": "code",
   "execution_count": 56,
   "id": "11dfb8d2",
   "metadata": {
    "scrolled": true
   },
   "outputs": [
    {
     "data": {
      "text/plain": [
       "(0.09762500000000002, 0.194867703519593)"
      ]
     },
     "execution_count": 56,
     "metadata": {},
     "output_type": "execute_result"
    }
   ],
   "source": [
    "# Sacando la volatilidad\n",
    "varianza = np.sum(tabla2.prob * (-valor_esperado+tabla2.ret)**2)\n",
    "volatilidad = np.sqrt(varianza)\n",
    "valor_esperado, volatilidad"
   ]
  },
  {
   "cell_type": "code",
   "execution_count": null,
   "id": "ad88c2a4",
   "metadata": {},
   "outputs": [],
   "source": []
  },
  {
   "cell_type": "code",
   "execution_count": null,
   "id": "c659ec94",
   "metadata": {},
   "outputs": [],
   "source": []
  },
  {
   "cell_type": "markdown",
   "id": "35ffdd40",
   "metadata": {},
   "source": [
    "### 2.3. Ejercicios\n",
    "\n",
    "En esta sección se dejarán algunos ejercicios para ustedes. Si alcanza el tiempo, se harán en clase.\n",
    "\n",
    "**Ejercicio.** Considere el siguiente reporte de rendimientos de cierta acción en los últimos tres años\n",
    "\n",
    "| Año | Rendimiento |\n",
    "| --- | ----------- |\n",
    "| 1   | -0.10       |\n",
    "| 2   | 0.20        |\n",
    "| 3   | 0.30        |\n",
    "\n",
    "- Calcular el rendimiento geométrico. ¿Cuál es su significado?\n",
    "- Calcular el rendimiento de la inversión, ¿Cuál es el significado?"
   ]
  },
  {
   "cell_type": "code",
   "execution_count": 57,
   "id": "987ef4a3",
   "metadata": {},
   "outputs": [
    {
     "data": {
      "text/html": [
       "<div>\n",
       "<style scoped>\n",
       "    .dataframe tbody tr th:only-of-type {\n",
       "        vertical-align: middle;\n",
       "    }\n",
       "\n",
       "    .dataframe tbody tr th {\n",
       "        vertical-align: top;\n",
       "    }\n",
       "\n",
       "    .dataframe thead th {\n",
       "        text-align: right;\n",
       "    }\n",
       "</style>\n",
       "<table border=\"1\" class=\"dataframe\">\n",
       "  <thead>\n",
       "    <tr style=\"text-align: right;\">\n",
       "      <th></th>\n",
       "      <th>year</th>\n",
       "      <th>rendimiento</th>\n",
       "    </tr>\n",
       "  </thead>\n",
       "  <tbody>\n",
       "    <tr>\n",
       "      <th>0</th>\n",
       "      <td>1</td>\n",
       "      <td>-0.1</td>\n",
       "    </tr>\n",
       "    <tr>\n",
       "      <th>1</th>\n",
       "      <td>2</td>\n",
       "      <td>0.2</td>\n",
       "    </tr>\n",
       "    <tr>\n",
       "      <th>2</th>\n",
       "      <td>3</td>\n",
       "      <td>0.3</td>\n",
       "    </tr>\n",
       "  </tbody>\n",
       "</table>\n",
       "</div>"
      ],
      "text/plain": [
       "   year  rendimiento\n",
       "0     1         -0.1\n",
       "1     2          0.2\n",
       "2     3          0.3"
      ]
     },
     "execution_count": 57,
     "metadata": {},
     "output_type": "execute_result"
    }
   ],
   "source": [
    "tabla = pd.DataFrame({\n",
    "    'year':[1,2,3],\n",
    "    'rendimiento':[-0.10,0.20,0.30]\n",
    "})\n",
    "tabla"
   ]
  },
  {
   "cell_type": "code",
   "execution_count": 60,
   "id": "a1b18641",
   "metadata": {},
   "outputs": [
    {
     "data": {
      "text/plain": [
       "1.4040000000000001"
      ]
     },
     "execution_count": 60,
     "metadata": {},
     "output_type": "execute_result"
    }
   ],
   "source": [
    "# Aritmetico\n",
    "(1 + tabla.rendimiento).prod()"
   ]
  },
  {
   "cell_type": "code",
   "execution_count": 63,
   "id": "e165e938",
   "metadata": {},
   "outputs": [
    {
     "data": {
      "text/plain": [
       "0.1197533470451746"
      ]
     },
     "execution_count": 63,
     "metadata": {},
     "output_type": "execute_result"
    }
   ],
   "source": [
    "# Geometrico \n",
    "t = 3\n",
    "((1 + tabla.rendimiento).prod()) ** (1/t) -1 "
   ]
  },
  {
   "cell_type": "code",
   "execution_count": 64,
   "id": "28e2a22a",
   "metadata": {},
   "outputs": [
    {
     "data": {
      "text/plain": [
       "1.4049280000000004"
      ]
     },
     "execution_count": 64,
     "metadata": {},
     "output_type": "execute_result"
    }
   ],
   "source": [
    "# Comprobacion\n",
    "(1 + 0.12) * (1 + 0.12) * (1 + 0.12)"
   ]
  },
  {
   "cell_type": "markdown",
   "id": "fbd4fb71",
   "metadata": {},
   "source": [
    "# Midiendo el riesgo"
   ]
  },
  {
   "cell_type": "markdown",
   "id": "b569537f",
   "metadata": {},
   "source": [
    "### 3.1. La volatilidad como medida de riesgo\n",
    "Dado que el riesgo está estrechamente relacionado con *cuánto no sabemos* acerca de lo que va a pasar, lo podemos cantificar con alguna medida de dispersión de la variable aleatoria de rendimientos.\n",
    "\n",
    "\n",
    "**Ejemplo:** \n",
    "- Tiramos una moneda que no está cargada. \n",
    "- Definimos la variable aleatoria $X$, la cual toma el valor de $+1$ cuando la moneda cae cara y el valor de $-1$ cuando cae sello. \n",
    "- Como la moneda no está cargada, los eventos tienen igual probabilidad $P(X=1)=P(X=-1)=0.5$.\n",
    "\n",
    "El valor esperado de la variable aleatoria $X$ es:\n",
    "\n",
    "$$E[X]=P(X=1) \\times (1) + P(X=-1) \\times (-1)=0.5\\times(1)+0.5\\times(-1)=0.$$\n",
    "\n",
    "Aunque el resultado real nunca va a ser cero, el resultado esperado es cero. *Necesitamos otra medida adicional para describir la distribución*."
   ]
  },
  {
   "cell_type": "markdown",
   "id": "61149b85",
   "metadata": {},
   "source": [
    "**Ejemplo:**\n",
    "- Suponga que cada acción de la compañía XYZ en $t=0$ cuestan \\$100.\n",
    "- Existen tres posibilidades para el precio de una acción de XYZ en $t=1$:\n",
    " - El precio subirá a \\$140 (probabilidad del 25%)\n",
    " - El precio subirá a \\$110 (probabilidad del 50%)\n",
    " - El precio bajará a \\$80 (probabilidad del 25%)\n",
    " \n",
    " \n",
    " Entonces, ¿cómo describimos una distribución de rendimiento?\n",
    "1. Tendencia central:\n",
    " - Usaremos el valor esperado de los rendimientos como su tendencia central (ya vimos porqué).\n",
    "   $$E[r]=\\sum_{j=1}^{m}p_jr_j.$$\n",
    "2. Medida de dispersión:\n",
    " - Usaremos la desviación estándar (volatilidad) o varianza como medida de dispersión para las distribuciones de rendimiento...\n",
    "   $$\\sigma_r^2=\\sum_{j=1}^{m} p_j(r_j-E[r])^2.$$\n",
    "   $$\\sigma_r=\\sqrt{\\sum_{j=1}^{m} p_j(r_j-E[r])^2}.$$"
   ]
  },
  {
   "cell_type": "code",
   "execution_count": 65,
   "id": "84bb8d57",
   "metadata": {},
   "outputs": [
    {
     "data": {
      "text/html": [
       "<div>\n",
       "<style scoped>\n",
       "    .dataframe tbody tr th:only-of-type {\n",
       "        vertical-align: middle;\n",
       "    }\n",
       "\n",
       "    .dataframe tbody tr th {\n",
       "        vertical-align: top;\n",
       "    }\n",
       "\n",
       "    .dataframe thead th {\n",
       "        text-align: right;\n",
       "    }\n",
       "</style>\n",
       "<table border=\"1\" class=\"dataframe\">\n",
       "  <thead>\n",
       "    <tr style=\"text-align: right;\">\n",
       "      <th></th>\n",
       "      <th>prob</th>\n",
       "      <th>price</th>\n",
       "      <th>div</th>\n",
       "      <th>ret</th>\n",
       "      <th>prob1</th>\n",
       "    </tr>\n",
       "    <tr>\n",
       "      <th>state</th>\n",
       "      <th></th>\n",
       "      <th></th>\n",
       "      <th></th>\n",
       "      <th></th>\n",
       "      <th></th>\n",
       "    </tr>\n",
       "  </thead>\n",
       "  <tbody>\n",
       "    <tr>\n",
       "      <th>excellent</th>\n",
       "      <td>0.25</td>\n",
       "      <td>126.50</td>\n",
       "      <td>4.5</td>\n",
       "      <td>0.3100</td>\n",
       "      <td>0.25</td>\n",
       "    </tr>\n",
       "    <tr>\n",
       "      <th>good</th>\n",
       "      <td>0.45</td>\n",
       "      <td>110.00</td>\n",
       "      <td>4.0</td>\n",
       "      <td>0.1400</td>\n",
       "      <td>0.25</td>\n",
       "    </tr>\n",
       "    <tr>\n",
       "      <th>poor</th>\n",
       "      <td>0.25</td>\n",
       "      <td>89.75</td>\n",
       "      <td>3.5</td>\n",
       "      <td>-0.0675</td>\n",
       "      <td>0.25</td>\n",
       "    </tr>\n",
       "    <tr>\n",
       "      <th>crash</th>\n",
       "      <td>0.05</td>\n",
       "      <td>46.00</td>\n",
       "      <td>2.0</td>\n",
       "      <td>-0.5200</td>\n",
       "      <td>0.25</td>\n",
       "    </tr>\n",
       "  </tbody>\n",
       "</table>\n",
       "</div>"
      ],
      "text/plain": [
       "           prob   price  div     ret  prob1\n",
       "state                                      \n",
       "excellent  0.25  126.50  4.5  0.3100   0.25\n",
       "good       0.45  110.00  4.0  0.1400   0.25\n",
       "poor       0.25   89.75  3.5 -0.0675   0.25\n",
       "crash      0.05   46.00  2.0 -0.5200   0.25"
      ]
     },
     "execution_count": 65,
     "metadata": {},
     "output_type": "execute_result"
    }
   ],
   "source": [
    "# Creamos tabla\n",
    "tabla2"
   ]
  },
  {
   "cell_type": "code",
   "execution_count": 67,
   "id": "1b0559db",
   "metadata": {},
   "outputs": [],
   "source": [
    "# Calculamos rendimiento esperado\n",
    "valor_esperado = (tabla2.ret * tabla2.prob).sum()"
   ]
  },
  {
   "cell_type": "code",
   "execution_count": 71,
   "id": "5331c0c4",
   "metadata": {},
   "outputs": [
    {
     "data": {
      "text/plain": [
       "0.194867703519593"
      ]
     },
     "execution_count": 71,
     "metadata": {},
     "output_type": "execute_result"
    }
   ],
   "source": [
    "# Calculamos varianza\n",
    "varianza = np.sum(tabla2['prob']*(tabla2['ret'] - valor_esperado)**2)\n",
    "volatilidad = np.sqrt(varianza)\n",
    "volatilidad"
   ]
  },
  {
   "cell_type": "code",
   "execution_count": null,
   "id": "9132ce37",
   "metadata": {},
   "outputs": [],
   "source": []
  },
  {
   "cell_type": "markdown",
   "id": "0e2915c6",
   "metadata": {},
   "source": [
    "**Conclusión: la varianza y la desviación estándar nos brindad una medida de riesgo (incertidumbre, dispersión, volatilidad) en las realizaciones.**"
   ]
  },
  {
   "cell_type": "markdown",
   "id": "11c8f5f8",
   "metadata": {},
   "source": [
    "### 3.2. Ejercicios\n",
    "\n",
    "En esta sección se dejarán algunos ejercicios para ustedes. Si alcanza el tiempo, se harán en clase.\n",
    "\n",
    "**Ejercicio 1.** A partir del análisis de un asesor financiero, se obtuvieron los siguientes datos de rendimientos de activos de cómputo y de telecomunicaciones, relativos a posibles situaciones económicas futuras"
   ]
  },
  {
   "cell_type": "markdown",
   "id": "6eeaf42a",
   "metadata": {},
   "source": [
    "| Condición  económica | Rendimiento activo de cómputo | Rendimiento activo telecomunicaciones | Probabilidad |\n",
    "| -------------------- | ----------------------------- | ------------------------------------- | ------------ |\n",
    "| Declive              | -0.04                         | 0.07                                  | 0.2          |\n",
    "| Estable              | 0.02                          | 0.04                                  | 0.5          |\n",
    "| Mejora               | 0.10                          | 0.03                                  | 0.3          |"
   ]
  },
  {
   "cell_type": "markdown",
   "id": "9b73b934",
   "metadata": {},
   "source": [
    "Calcular, para cada activo, su rendimiento esperado y volatilidad."
   ]
  },
  {
   "cell_type": "code",
   "execution_count": 72,
   "id": "ee1f2cba",
   "metadata": {},
   "outputs": [
    {
     "data": {
      "text/html": [
       "<div>\n",
       "<style scoped>\n",
       "    .dataframe tbody tr th:only-of-type {\n",
       "        vertical-align: middle;\n",
       "    }\n",
       "\n",
       "    .dataframe tbody tr th {\n",
       "        vertical-align: top;\n",
       "    }\n",
       "\n",
       "    .dataframe thead th {\n",
       "        text-align: right;\n",
       "    }\n",
       "</style>\n",
       "<table border=\"1\" class=\"dataframe\">\n",
       "  <thead>\n",
       "    <tr style=\"text-align: right;\">\n",
       "      <th></th>\n",
       "      <th>probabilidad</th>\n",
       "      <th>computo</th>\n",
       "      <th>telecom</th>\n",
       "    </tr>\n",
       "  </thead>\n",
       "  <tbody>\n",
       "    <tr>\n",
       "      <th>0</th>\n",
       "      <td>0.4</td>\n",
       "      <td>-0.10</td>\n",
       "      <td>0.07</td>\n",
       "    </tr>\n",
       "    <tr>\n",
       "      <th>1</th>\n",
       "      <td>0.3</td>\n",
       "      <td>0.08</td>\n",
       "      <td>0.04</td>\n",
       "    </tr>\n",
       "    <tr>\n",
       "      <th>2</th>\n",
       "      <td>0.3</td>\n",
       "      <td>0.23</td>\n",
       "      <td>0.03</td>\n",
       "    </tr>\n",
       "  </tbody>\n",
       "</table>\n",
       "</div>"
      ],
      "text/plain": [
       "   probabilidad  computo  telecom\n",
       "0           0.4    -0.10     0.07\n",
       "1           0.3     0.08     0.04\n",
       "2           0.3     0.23     0.03"
      ]
     },
     "execution_count": 72,
     "metadata": {},
     "output_type": "execute_result"
    }
   ],
   "source": [
    "df = pd.DataFrame()\n",
    "df['probabilidad'] = [0.4,0.3,0.3]\n",
    "df['computo'] = [-0.1, 0.08, 0.23]\n",
    "df['telecom'] = [0.07, 0.04, 0.03]\n",
    "df"
   ]
  },
  {
   "cell_type": "code",
   "execution_count": 74,
   "id": "426263dd",
   "metadata": {},
   "outputs": [
    {
     "data": {
      "text/plain": [
       "0.053"
      ]
     },
     "execution_count": 74,
     "metadata": {},
     "output_type": "execute_result"
    }
   ],
   "source": [
    "# Valor esperado computo\n",
    "valor_esperado = (df.computo * df.probabilidad).sum()\n",
    "valor_esperado"
   ]
  },
  {
   "cell_type": "code",
   "execution_count": 75,
   "id": "d8a217c1",
   "metadata": {},
   "outputs": [
    {
     "data": {
      "text/plain": [
       "0.04900000000000001"
      ]
     },
     "execution_count": 75,
     "metadata": {},
     "output_type": "execute_result"
    }
   ],
   "source": [
    "# Valor esperado telecom\n",
    "valor_esperado2 = (df.telecom * df.probabilidad).sum()\n",
    "valor_esperado2"
   ]
  },
  {
   "cell_type": "code",
   "execution_count": 77,
   "id": "3c915fbf",
   "metadata": {},
   "outputs": [
    {
     "data": {
      "text/plain": [
       "0.13777155003846042"
      ]
     },
     "execution_count": 77,
     "metadata": {},
     "output_type": "execute_result"
    }
   ],
   "source": [
    "# Volatilidad computo\n",
    "varianza = np.sum(df['probabilidad']*(df['computo'] - valor_esperado)**2)\n",
    "volatilidad = np.sqrt(varianza)\n",
    "volatilidad"
   ]
  },
  {
   "cell_type": "code",
   "execution_count": 79,
   "id": "0041879f",
   "metadata": {},
   "outputs": [
    {
     "data": {
      "text/plain": [
       "0.01757839583124695"
      ]
     },
     "execution_count": 79,
     "metadata": {},
     "output_type": "execute_result"
    }
   ],
   "source": [
    "# Voaltilidad telecom\n",
    "varianza = np.sum(df['probabilidad']*(df['telecom'] - valor_esperado2)**2)\n",
    "volatilidad = np.sqrt(varianza)\n",
    "volatilidad"
   ]
  }
 ],
 "metadata": {
  "kernelspec": {
   "display_name": "Python 3 (ipykernel)",
   "language": "python",
   "name": "python3"
  },
  "language_info": {
   "codemirror_mode": {
    "name": "ipython",
    "version": 3
   },
   "file_extension": ".py",
   "mimetype": "text/x-python",
   "name": "python",
   "nbconvert_exporter": "python",
   "pygments_lexer": "ipython3",
   "version": "3.11.4"
  }
 },
 "nbformat": 4,
 "nbformat_minor": 5
}
