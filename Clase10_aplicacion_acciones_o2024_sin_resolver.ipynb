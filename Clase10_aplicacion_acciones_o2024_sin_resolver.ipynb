{
 "cells": [
  {
   "cell_type": "markdown",
   "id": "9e086bc2",
   "metadata": {},
   "source": [
    "# Aplicación S&P500 y Naftrac\n",
    "\n",
    "\n",
    "### Varianza\n",
    "$$\n",
    "\\sigma_p^2 = \\sum_{i=1}^{n} \\sum_{k=1}^{n} w_i w_k \\sigma_{ik} \n",
    "$$\n",
    "\n",
    "Caso dos activos $(a,b)$:\n",
    "\n",
    "$$\\sigma^2_p = w_a^2 \\sigma^2_a + w_b^2 \\sigma_{b}^2 + 2 w_a w_b cov(a,b)$$\n",
    "\n",
    "$$\\sigma^2_p \\neq w_a^2 \\sigma^2_a + w_b^2 \\sigma_{b}^2 $$\n",
    "\n",
    "\n",
    "\n",
    "\n",
    "\n",
    "### Valor esperado\n",
    "$$E[r_p]=E\\left[\\sum_{i=1}^{n}w_ir_i\\right]=\\sum_{i=1}^{n}w_iE\\left[r_i\\right]  $$\n",
    "\n",
    "\n",
    "Caso dos activos $(a,b)$:\n",
    "$$E[r_b] = w_1 \\mu_r1 + w_2 \\mu_r2 $$\n",
    "\n",
    "\n",
    "\n",
    "***Nota: para este caso, no tenemos probabilidades asignadas por evento. La probabilidad de cada evento es entonces $\\frac{1}{n}$***\n",
    "\n",
    "\n",
    "Si queremos sacar el $w$ que minimiza la varianza de un portafolio:\n",
    "$$w = \\frac{\\sigma^2_2 - cov(r_1, r_2)}{\\sigma^2_1 + \\sigma^2_2 - 2cov(r_1, r_2)} $$\n",
    "\n"
   ]
  },
  {
   "cell_type": "code",
   "execution_count": 1,
   "id": "d64861cf",
   "metadata": {},
   "outputs": [
    {
     "name": "stdout",
     "output_type": "stream",
     "text": [
      "[*********************100%%**********************]  2 of 2 completed\n"
     ]
    }
   ],
   "source": [
    "# Bajamos los ETF de yahoo\n",
    "import yfinance as yf\n",
    "import pandas as pd\n",
    "import numpy as np \n",
    "import matplotlib.pyplot as plt\n",
    "\n",
    "tickers = ['VOO', 'NAFTRAC.MX']\n",
    "start_date = '2015-01-01'\n",
    "St = yf.download(tickers, start=start_date)['Close']\n"
   ]
  },
  {
   "cell_type": "code",
   "execution_count": 2,
   "id": "2a6a4cf4",
   "metadata": {},
   "outputs": [],
   "source": [
    "# Obten los rendimientos\n",
    "rt = St.pct_change()"
   ]
  },
  {
   "cell_type": "markdown",
   "id": "b54f452d",
   "metadata": {},
   "source": [
    "### Recordando\n",
    "\n",
    "Si tenemos rendimientos diarios y los queremos convertir anual:\n",
    "$$E[r_{anual}] = E[r_i] * 252 $$\n",
    "\n",
    "Para el caso de la volatilidad, tenemos que multiplicar por raíz de 252\n",
    "$$\\sigma[r_{anual}] = \\sigma_{ri} * \\sqrt{252} $$\n",
    "\n"
   ]
  },
  {
   "cell_type": "code",
   "execution_count": 3,
   "id": "03112354",
   "metadata": {},
   "outputs": [],
   "source": [
    "# Obten rendimientos anuales\n",
    "df = pd.DataFrame()\n",
    "df['rendimiento'] = rt.mean() * 252\n",
    "df['volatilidad'] = rt.std() * np.sqrt(252)"
   ]
  },
  {
   "cell_type": "code",
   "execution_count": 4,
   "id": "30205998",
   "metadata": {},
   "outputs": [
    {
     "data": {
      "text/plain": [
       "rendimiento    0.045111\n",
       "volatilidad    0.155676\n",
       "Name: NAFTRAC.MX, dtype: float64"
      ]
     },
     "execution_count": 4,
     "metadata": {},
     "output_type": "execute_result"
    }
   ],
   "source": [
    "df.iloc[0]"
   ]
  },
  {
   "cell_type": "code",
   "execution_count": 6,
   "id": "fa4052c6",
   "metadata": {},
   "outputs": [
    {
     "data": {
      "image/png": "[encoded data removed]",
      "text/plain": [
       "<Figure size 640x480 with 1 Axes>"
      ]
     },
     "metadata": {},
     "output_type": "display_data"
    }
   ],
   "source": [
    "# Grafique los portafolios \n",
    "plt.scatter(df.iloc[0]['volatilidad'], df.iloc[0]['rendimiento'])\n",
    "plt.text(df.iloc[0]['volatilidad'], df.iloc[0]['rendimiento'], 'Mexico')\n",
    "plt.scatter(df.iloc[1]['volatilidad'], df.iloc[1]['rendimiento'])\n",
    "plt.text(df.iloc[1]['volatilidad'], df.iloc[1]['rendimiento'], 'USA')\n",
    "plt.grid()"
   ]
  },
  {
   "cell_type": "markdown",
   "id": "f732f2b0",
   "metadata": {},
   "source": [
    "# ¿Cómo se verá un portafolio con diversos pesos en México y estados unidos? crea 100 portafolios\n"
   ]
  },
  {
   "cell_type": "code",
   "execution_count": 7,
   "id": "9f36b4f8",
   "metadata": {},
   "outputs": [
    {
     "data": {
      "text/plain": [
       "array([0.        , 0.01010101, 0.02020202, 0.03030303, 0.04040404,\n",
       "       0.05050505, 0.06060606, 0.07070707, 0.08080808, 0.09090909,\n",
       "       0.1010101 , 0.11111111, 0.12121212, 0.13131313, 0.14141414,\n",
       "       0.15151515, 0.16161616, 0.17171717, 0.18181818, 0.19191919,\n",
       "       0.2020202 , 0.21212121, 0.22222222, 0.23232323, 0.24242424,\n",
       "       0.25252525, 0.26262626, 0.27272727, 0.28282828, 0.29292929,\n",
       "       0.3030303 , 0.31313131, 0.32323232, 0.33333333, 0.34343434,\n",
       "       0.35353535, 0.36363636, 0.37373737, 0.38383838, 0.39393939,\n",
       "       0.4040404 , 0.41414141, 0.42424242, 0.43434343, 0.44444444,\n",
       "       0.45454545, 0.46464646, 0.47474747, 0.48484848, 0.49494949,\n",
       "       0.50505051, 0.51515152, 0.52525253, 0.53535354, 0.54545455,\n",
       "       0.55555556, 0.56565657, 0.57575758, 0.58585859, 0.5959596 ,\n",
       "       0.60606061, 0.61616162, 0.62626263, 0.63636364, 0.64646465,\n",
       "       0.65656566, 0.66666667, 0.67676768, 0.68686869, 0.6969697 ,\n",
       "       0.70707071, 0.71717172, 0.72727273, 0.73737374, 0.74747475,\n",
       "       0.75757576, 0.76767677, 0.77777778, 0.78787879, 0.7979798 ,\n",
       "       0.80808081, 0.81818182, 0.82828283, 0.83838384, 0.84848485,\n",
       "       0.85858586, 0.86868687, 0.87878788, 0.88888889, 0.8989899 ,\n",
       "       0.90909091, 0.91919192, 0.92929293, 0.93939394, 0.94949495,\n",
       "       0.95959596, 0.96969697, 0.97979798, 0.98989899, 1.        ])"
      ]
     },
     "execution_count": 7,
     "metadata": {},
     "output_type": "execute_result"
    }
   ],
   "source": [
    "np.linspace(0,1,100)"
   ]
  },
  {
   "cell_type": "code",
   "execution_count": 9,
   "id": "77ae6942",
   "metadata": {},
   "outputs": [
    {
     "data": {
      "text/html": [
       "<div>\n",
       "<style scoped>\n",
       "    .dataframe tbody tr th:only-of-type {\n",
       "        vertical-align: middle;\n",
       "    }\n",
       "\n",
       "    .dataframe tbody tr th {\n",
       "        vertical-align: top;\n",
       "    }\n",
       "\n",
       "    .dataframe thead th {\n",
       "        text-align: right;\n",
       "    }\n",
       "</style>\n",
       "<table border=\"1\" class=\"dataframe\">\n",
       "  <thead>\n",
       "    <tr style=\"text-align: right;\">\n",
       "      <th></th>\n",
       "      <th>w_mx</th>\n",
       "      <th>w_us</th>\n",
       "      <th>rendimiento</th>\n",
       "      <th>varianza</th>\n",
       "      <th>rendimiento_anual</th>\n",
       "      <th>volatilidad_anual</th>\n",
       "    </tr>\n",
       "  </thead>\n",
       "  <tbody>\n",
       "    <tr>\n",
       "      <th>0</th>\n",
       "      <td>0.000000</td>\n",
       "      <td>1.000000</td>\n",
       "      <td>0.000454</td>\n",
       "      <td>0.000131</td>\n",
       "      <td>0.114383</td>\n",
       "      <td>0.181944</td>\n",
       "    </tr>\n",
       "    <tr>\n",
       "      <th>1</th>\n",
       "      <td>0.010101</td>\n",
       "      <td>0.989899</td>\n",
       "      <td>0.000451</td>\n",
       "      <td>0.000130</td>\n",
       "      <td>0.113683</td>\n",
       "      <td>0.180908</td>\n",
       "    </tr>\n",
       "    <tr>\n",
       "      <th>2</th>\n",
       "      <td>0.020202</td>\n",
       "      <td>0.979798</td>\n",
       "      <td>0.000448</td>\n",
       "      <td>0.000128</td>\n",
       "      <td>0.112983</td>\n",
       "      <td>0.179882</td>\n",
       "    </tr>\n",
       "    <tr>\n",
       "      <th>3</th>\n",
       "      <td>0.030303</td>\n",
       "      <td>0.969697</td>\n",
       "      <td>0.000446</td>\n",
       "      <td>0.000127</td>\n",
       "      <td>0.112283</td>\n",
       "      <td>0.178866</td>\n",
       "    </tr>\n",
       "    <tr>\n",
       "      <th>4</th>\n",
       "      <td>0.040404</td>\n",
       "      <td>0.959596</td>\n",
       "      <td>0.000443</td>\n",
       "      <td>0.000126</td>\n",
       "      <td>0.111584</td>\n",
       "      <td>0.177861</td>\n",
       "    </tr>\n",
       "    <tr>\n",
       "      <th>...</th>\n",
       "      <td>...</td>\n",
       "      <td>...</td>\n",
       "      <td>...</td>\n",
       "      <td>...</td>\n",
       "      <td>...</td>\n",
       "      <td>...</td>\n",
       "    </tr>\n",
       "    <tr>\n",
       "      <th>95</th>\n",
       "      <td>0.959596</td>\n",
       "      <td>0.040404</td>\n",
       "      <td>0.000190</td>\n",
       "      <td>0.000093</td>\n",
       "      <td>0.047910</td>\n",
       "      <td>0.153241</td>\n",
       "    </tr>\n",
       "    <tr>\n",
       "      <th>96</th>\n",
       "      <td>0.969697</td>\n",
       "      <td>0.030303</td>\n",
       "      <td>0.000187</td>\n",
       "      <td>0.000094</td>\n",
       "      <td>0.047210</td>\n",
       "      <td>0.153825</td>\n",
       "    </tr>\n",
       "    <tr>\n",
       "      <th>97</th>\n",
       "      <td>0.979798</td>\n",
       "      <td>0.020202</td>\n",
       "      <td>0.000185</td>\n",
       "      <td>0.000095</td>\n",
       "      <td>0.046510</td>\n",
       "      <td>0.154426</td>\n",
       "    </tr>\n",
       "    <tr>\n",
       "      <th>98</th>\n",
       "      <td>0.989899</td>\n",
       "      <td>0.010101</td>\n",
       "      <td>0.000182</td>\n",
       "      <td>0.000095</td>\n",
       "      <td>0.045811</td>\n",
       "      <td>0.155043</td>\n",
       "    </tr>\n",
       "    <tr>\n",
       "      <th>99</th>\n",
       "      <td>1.000000</td>\n",
       "      <td>0.000000</td>\n",
       "      <td>0.000179</td>\n",
       "      <td>0.000096</td>\n",
       "      <td>0.045111</td>\n",
       "      <td>0.155676</td>\n",
       "    </tr>\n",
       "  </tbody>\n",
       "</table>\n",
       "<p>100 rows × 6 columns</p>\n",
       "</div>"
      ],
      "text/plain": [
       "        w_mx      w_us  rendimiento  varianza  rendimiento_anual  \\\n",
       "0   0.000000  1.000000     0.000454  0.000131           0.114383   \n",
       "1   0.010101  0.989899     0.000451  0.000130           0.113683   \n",
       "2   0.020202  0.979798     0.000448  0.000128           0.112983   \n",
       "3   0.030303  0.969697     0.000446  0.000127           0.112283   \n",
       "4   0.040404  0.959596     0.000443  0.000126           0.111584   \n",
       "..       ...       ...          ...       ...                ...   \n",
       "95  0.959596  0.040404     0.000190  0.000093           0.047910   \n",
       "96  0.969697  0.030303     0.000187  0.000094           0.047210   \n",
       "97  0.979798  0.020202     0.000185  0.000095           0.046510   \n",
       "98  0.989899  0.010101     0.000182  0.000095           0.045811   \n",
       "99  1.000000  0.000000     0.000179  0.000096           0.045111   \n",
       "\n",
       "    volatilidad_anual  \n",
       "0            0.181944  \n",
       "1            0.180908  \n",
       "2            0.179882  \n",
       "3            0.178866  \n",
       "4            0.177861  \n",
       "..                ...  \n",
       "95           0.153241  \n",
       "96           0.153825  \n",
       "97           0.154426  \n",
       "98           0.155043  \n",
       "99           0.155676  \n",
       "\n",
       "[100 rows x 6 columns]"
      ]
     },
     "execution_count": 9,
     "metadata": {},
     "output_type": "execute_result"
    }
   ],
   "source": [
    "# Pesos\n",
    "w_mx = np.linspace(0,1,100)\n",
    "w_us = 1 - w_mx\n",
    "\n",
    "# Valores esperados individuales\n",
    "ve_mx = rt['NAFTRAC.MX'].mean()\n",
    "ve_us = rt['VOO'].mean()\n",
    "\n",
    "# Varianzas individuales\n",
    "var_mx = rt['NAFTRAC.MX'].var()\n",
    "var_us = rt['VOO'].var()\n",
    "\n",
    "# Volatilidades individuales\n",
    "vol_mx = rt['NAFTRAC.MX'].std()\n",
    "vol_us = rt['VOO'].std()\n",
    "\n",
    "# Covarianza \n",
    "cov_mx_us = rt.cov()['VOO']['NAFTRAC.MX']\n",
    "\n",
    "portafolios = pd.DataFrame({\n",
    "    'w_mx':w_mx,\n",
    "    'w_us':w_us,\n",
    "    'rendimiento':w_mx * ve_mx + w_us * ve_us,\n",
    "    'varianza':w_mx**2 * var_mx + w_us**2 * var_us + 2*w_mx*w_us*cov_mx_us,\n",
    "})\n",
    "portafolios['rendimiento_anual'] = portafolios['rendimiento'] * 252\n",
    "portafolios['volatilidad_anual'] = np.sqrt(portafolios['varianza']) * np.sqrt(252)\n",
    "portafolios"
   ]
  },
  {
   "cell_type": "code",
   "execution_count": 13,
   "id": "dead9405",
   "metadata": {},
   "outputs": [
    {
     "data": {
      "image/png": "[encoded data removed]",
      "text/plain": [
       "<Figure size 640x480 with 1 Axes>"
      ]
     },
     "metadata": {},
     "output_type": "display_data"
    }
   ],
   "source": [
    "# Grafica los rendimientos\n",
    "plt.scatter(portafolios['volatilidad_anual'], portafolios['rendimiento_anual'])\n",
    "plt.xlabel('Volatilidad $\\sigma$')\n",
    "plt.ylabel('Rendimiento')\n",
    "plt.grid()"
   ]
  },
  {
   "cell_type": "code",
   "execution_count": 16,
   "id": "17e2118e",
   "metadata": {},
   "outputs": [],
   "source": [
    "# ¿Cuál es el portafoio con varianza mínima?\n",
    "portafolio_varianza_minima = portafolios[portafolios.volatilidad_anual == portafolios.volatilidad_anual.min()]"
   ]
  },
  {
   "cell_type": "code",
   "execution_count": 20,
   "id": "6d584798",
   "metadata": {},
   "outputs": [
    {
     "data": {
      "image/png": "[encoded data removed]",
      "text/plain": [
       "<Figure size 640x480 with 1 Axes>"
      ]
     },
     "metadata": {},
     "output_type": "display_data"
    }
   ],
   "source": [
    "plt.scatter(portafolios['volatilidad_anual'], portafolios['rendimiento_anual'], s=8)\n",
    "plt.text(portafolio_varianza_minima['volatilidad_anual'], portafolio_varianza_minima['rendimiento_anual'], \n",
    "         'varianza_minima')\n",
    "plt.xlabel('Volatilidad $\\sigma$')\n",
    "plt.ylabel('Rendimiento')\n",
    "plt.grid()"
   ]
  },
  {
   "cell_type": "markdown",
   "id": "f642bb73",
   "metadata": {},
   "source": [
    "# Varianza mínima de forma anaítica\n",
    "\n",
    "En este casi, $w$ será el peso que le demos a USA\n",
    "\n",
    "$$w = \\frac{\\sigma^2_2 - cov(r_1, r_2)}{\\sigma^2_1 + \\sigma^2_2 - 2cov(r_1, r_2)} $$\n"
   ]
  },
  {
   "cell_type": "code",
   "execution_count": 21,
   "id": "9408e342",
   "metadata": {},
   "outputs": [
    {
     "data": {
      "text/html": [
       "<div>\n",
       "<style scoped>\n",
       "    .dataframe tbody tr th:only-of-type {\n",
       "        vertical-align: middle;\n",
       "    }\n",
       "\n",
       "    .dataframe tbody tr th {\n",
       "        vertical-align: top;\n",
       "    }\n",
       "\n",
       "    .dataframe thead th {\n",
       "        text-align: right;\n",
       "    }\n",
       "</style>\n",
       "<table border=\"1\" class=\"dataframe\">\n",
       "  <thead>\n",
       "    <tr style=\"text-align: right;\">\n",
       "      <th></th>\n",
       "      <th>w_mx</th>\n",
       "      <th>w_us</th>\n",
       "      <th>rendimiento</th>\n",
       "      <th>varianza</th>\n",
       "      <th>rendimiento_anual</th>\n",
       "      <th>volatilidad_anual</th>\n",
       "    </tr>\n",
       "  </thead>\n",
       "  <tbody>\n",
       "    <tr>\n",
       "      <th>65</th>\n",
       "      <td>0.656566</td>\n",
       "      <td>0.343434</td>\n",
       "      <td>0.000273</td>\n",
       "      <td>0.000083</td>\n",
       "      <td>0.068901</td>\n",
       "      <td>0.144298</td>\n",
       "    </tr>\n",
       "  </tbody>\n",
       "</table>\n",
       "</div>"
      ],
      "text/plain": [
       "        w_mx      w_us  rendimiento  varianza  rendimiento_anual  \\\n",
       "65  0.656566  0.343434     0.000273  0.000083           0.068901   \n",
       "\n",
       "    volatilidad_anual  \n",
       "65           0.144298  "
      ]
     },
     "execution_count": 21,
     "metadata": {},
     "output_type": "execute_result"
    }
   ],
   "source": [
    "portafolio_varianza_minima"
   ]
  },
  {
   "cell_type": "code",
   "execution_count": 22,
   "id": "ffe10299",
   "metadata": {},
   "outputs": [
    {
     "data": {
      "text/plain": [
       "0.6548009629904904"
      ]
     },
     "execution_count": 22,
     "metadata": {},
     "output_type": "execute_result"
    }
   ],
   "source": [
    "w_varianza_minima = (var_us - cov_mx_us) / (var_mx + var_us - 2 * cov_mx_us)\n",
    "w_varianza_minima"
   ]
  },
  {
   "cell_type": "code",
   "execution_count": 33,
   "id": "de41777a",
   "metadata": {},
   "outputs": [],
   "source": [
    "# ¿Cual es esta varianza?\n"
   ]
  },
  {
   "cell_type": "code",
   "execution_count": 34,
   "id": "f826be72",
   "metadata": {},
   "outputs": [],
   "source": [
    "# Grafique los portafolios\n"
   ]
  },
  {
   "cell_type": "markdown",
   "id": "38ccf9da",
   "metadata": {},
   "source": [
    "\n",
    "# Haciendolo de forma matricial\n",
    "\n",
    "### Varianza\n",
    "$$\n",
    "\\sigma_p^2 = \\sum_{i=1}^{n} \\sum_{k=1}^{n} w_i w_k \\sigma_{ik} = w^T \\Sigma w\n",
    "$$\n",
    "\n",
    "\n",
    "### Valor esperado\n",
    "$$E[r_p]=E\\left[\\sum_{i=1}^{n}w_ir_i\\right]=\\sum_{i=1}^{n}w_iE\\left[r_i\\right] = w^T E[r],$$\n",
    "\n"
   ]
  },
  {
   "cell_type": "code",
   "execution_count": 25,
   "id": "ebb14058",
   "metadata": {},
   "outputs": [
    {
     "data": {
      "text/plain": [
       "array([0.04135611, 0.03978447, 0.4545483 , 0.46431113])"
      ]
     },
     "execution_count": 25,
     "metadata": {},
     "output_type": "execute_result"
    }
   ],
   "source": [
    "a = np.random.rand(4)\n",
    "a / np.sum(a)"
   ]
  },
  {
   "cell_type": "code",
   "execution_count": 32,
   "id": "ce7fa2d8",
   "metadata": {},
   "outputs": [
    {
     "data": {
      "text/plain": [
       "array([0.35513262, 0.64486738])"
      ]
     },
     "execution_count": 32,
     "metadata": {},
     "output_type": "execute_result"
    }
   ],
   "source": [
    "# Crear lista de pesos\n",
    "def random_list(n_act):\n",
    "    lista = np.random.rand(n_act)\n",
    "    return lista / np.sum(lista)\n",
    "\n",
    "w1 = random_list(2)\n",
    "w1"
   ]
  },
  {
   "cell_type": "markdown",
   "id": "18c47d64",
   "metadata": {},
   "source": [
    "$$E[p] = W^T \\mu $$\n",
    "(que es lo mismo que el producto punto)"
   ]
  },
  {
   "cell_type": "code",
   "execution_count": 33,
   "id": "9ac10b74",
   "metadata": {},
   "outputs": [],
   "source": [
    "# Calcula el rendimiento esperado de un portafolio con estos pesos\n",
    "mu = rt.mean() * 252"
   ]
  },
  {
   "cell_type": "code",
   "execution_count": 34,
   "id": "8950e9c0",
   "metadata": {},
   "outputs": [
    {
     "data": {
      "text/plain": [
       "0.08978200129891598"
      ]
     },
     "execution_count": 34,
     "metadata": {},
     "output_type": "execute_result"
    }
   ],
   "source": [
    "# Calcula el redimiento matricial\n",
    "w1.dot(mu)"
   ]
  },
  {
   "cell_type": "markdown",
   "id": "261bc575",
   "metadata": {},
   "source": [
    "$$\\sigma^2 = W * \\Sigma * W^t $$\n",
    "\n",
    "(Python interpreta las matrices al revés)"
   ]
  },
  {
   "cell_type": "code",
   "execution_count": 36,
   "id": "2db6c6c0",
   "metadata": {},
   "outputs": [
    {
     "data": {
      "text/plain": [
       "0.1529511413492124"
      ]
     },
     "execution_count": 36,
     "metadata": {},
     "output_type": "execute_result"
    }
   ],
   "source": [
    "# Calcula la volatilidad de un portafolio con los pesos previos\n",
    "sigma = rt.cov()\n",
    "varianza = w1.dot(sigma).dot(w1)\n",
    "vol = np.sqrt(varianza) * np.sqrt(252)\n",
    "vol"
   ]
  },
  {
   "cell_type": "code",
   "execution_count": 40,
   "id": "9ee7a7a3",
   "metadata": {},
   "outputs": [],
   "source": [
    "# Crea una función que retorne el rendimiento esperado y la varianza de un portafolio\n",
    "def random_portafolio(rt):\n",
    "    # Definimos valores esperados y volatilidates\n",
    "    sigma = rt.cov()\n",
    "    means = rt.mean()\n",
    "    \n",
    "    # Obtenemos pesos usando la función previa\n",
    "    n_act = len(rt.keys())\n",
    "    w = random_list(n_act)\n",
    "    \n",
    "    # Rendimiento esperado matricial y se hace de forma anual\n",
    "    rendimiento_esperado = w.dot(means)\n",
    "\n",
    "    # Varianza varianza matricial y se hace de forma anual\n",
    "    varianza = w.dot(sigma).dot(w)\n",
    "    volatilidad = np.sqrt(varianza)\n",
    "    \n",
    "    # Retorna rendimiento, volatilidad y pesos\n",
    "    return rendimiento_esperado, volatilidad, w"
   ]
  },
  {
   "cell_type": "code",
   "execution_count": 41,
   "id": "42fc09c6",
   "metadata": {},
   "outputs": [
    {
     "data": {
      "text/plain": [
       "(0.00030463810791373804, 0.009167707600610357, array([0.54299047, 0.45700953]))"
      ]
     },
     "execution_count": 41,
     "metadata": {},
     "output_type": "execute_result"
    }
   ],
   "source": [
    "random_portafolio(rt)"
   ]
  },
  {
   "cell_type": "code",
   "execution_count": 45,
   "id": "1c675b60",
   "metadata": {},
   "outputs": [
    {
     "data": {
      "text/html": [
       "<div>\n",
       "<style scoped>\n",
       "    .dataframe tbody tr th:only-of-type {\n",
       "        vertical-align: middle;\n",
       "    }\n",
       "\n",
       "    .dataframe tbody tr th {\n",
       "        vertical-align: top;\n",
       "    }\n",
       "\n",
       "    .dataframe thead th {\n",
       "        text-align: right;\n",
       "    }\n",
       "</style>\n",
       "<table border=\"1\" class=\"dataframe\">\n",
       "  <thead>\n",
       "    <tr style=\"text-align: right;\">\n",
       "      <th></th>\n",
       "      <th>rendimientos</th>\n",
       "      <th>volatilidades</th>\n",
       "      <th>pesos</th>\n",
       "      <th>rendimientos_anual</th>\n",
       "      <th>volatilidades_anual</th>\n",
       "    </tr>\n",
       "  </thead>\n",
       "  <tbody>\n",
       "    <tr>\n",
       "      <th>0</th>\n",
       "      <td>0.000353</td>\n",
       "      <td>0.009597</td>\n",
       "      <td>[0.36601384896878425, 0.6339861510312157]</td>\n",
       "      <td>0.089028</td>\n",
       "      <td>0.152350</td>\n",
       "    </tr>\n",
       "    <tr>\n",
       "      <th>1</th>\n",
       "      <td>0.000340</td>\n",
       "      <td>0.009443</td>\n",
       "      <td>[0.4149159675850837, 0.5850840324149164]</td>\n",
       "      <td>0.085641</td>\n",
       "      <td>0.149900</td>\n",
       "    </tr>\n",
       "    <tr>\n",
       "      <th>2</th>\n",
       "      <td>0.000338</td>\n",
       "      <td>0.009426</td>\n",
       "      <td>[0.4207742226769383, 0.5792257773230618]</td>\n",
       "      <td>0.085235</td>\n",
       "      <td>0.149635</td>\n",
       "    </tr>\n",
       "    <tr>\n",
       "      <th>3</th>\n",
       "      <td>0.000299</td>\n",
       "      <td>0.009140</td>\n",
       "      <td>[0.5649487973587478, 0.4350512026412522]</td>\n",
       "      <td>0.075248</td>\n",
       "      <td>0.145096</td>\n",
       "    </tr>\n",
       "    <tr>\n",
       "      <th>4</th>\n",
       "      <td>0.000376</td>\n",
       "      <td>0.009914</td>\n",
       "      <td>[0.28357451276029133, 0.7164254872397087]</td>\n",
       "      <td>0.094739</td>\n",
       "      <td>0.157382</td>\n",
       "    </tr>\n",
       "    <tr>\n",
       "      <th>...</th>\n",
       "      <td>...</td>\n",
       "      <td>...</td>\n",
       "      <td>...</td>\n",
       "      <td>...</td>\n",
       "      <td>...</td>\n",
       "    </tr>\n",
       "    <tr>\n",
       "      <th>95</th>\n",
       "      <td>0.000277</td>\n",
       "      <td>0.009091</td>\n",
       "      <td>[0.6424637724021982, 0.35753622759780174]</td>\n",
       "      <td>0.069878</td>\n",
       "      <td>0.144312</td>\n",
       "    </tr>\n",
       "    <tr>\n",
       "      <th>96</th>\n",
       "      <td>0.000216</td>\n",
       "      <td>0.009359</td>\n",
       "      <td>[0.8639709337004181, 0.13602906629958184]</td>\n",
       "      <td>0.054534</td>\n",
       "      <td>0.148577</td>\n",
       "    </tr>\n",
       "    <tr>\n",
       "      <th>97</th>\n",
       "      <td>0.000337</td>\n",
       "      <td>0.009409</td>\n",
       "      <td>[0.4267688180881694, 0.5732311819118306]</td>\n",
       "      <td>0.084820</td>\n",
       "      <td>0.149369</td>\n",
       "    </tr>\n",
       "    <tr>\n",
       "      <th>98</th>\n",
       "      <td>0.000262</td>\n",
       "      <td>0.009101</td>\n",
       "      <td>[0.6963413561864588, 0.3036586438135413]</td>\n",
       "      <td>0.066146</td>\n",
       "      <td>0.144468</td>\n",
       "    </tr>\n",
       "    <tr>\n",
       "      <th>99</th>\n",
       "      <td>0.000241</td>\n",
       "      <td>0.009179</td>\n",
       "      <td>[0.7745930908484963, 0.22540690915150374]</td>\n",
       "      <td>0.060725</td>\n",
       "      <td>0.145715</td>\n",
       "    </tr>\n",
       "  </tbody>\n",
       "</table>\n",
       "<p>100 rows × 5 columns</p>\n",
       "</div>"
      ],
      "text/plain": [
       "    rendimientos  volatilidades                                      pesos  \\\n",
       "0       0.000353       0.009597  [0.36601384896878425, 0.6339861510312157]   \n",
       "1       0.000340       0.009443   [0.4149159675850837, 0.5850840324149164]   \n",
       "2       0.000338       0.009426   [0.4207742226769383, 0.5792257773230618]   \n",
       "3       0.000299       0.009140   [0.5649487973587478, 0.4350512026412522]   \n",
       "4       0.000376       0.009914  [0.28357451276029133, 0.7164254872397087]   \n",
       "..           ...            ...                                        ...   \n",
       "95      0.000277       0.009091  [0.6424637724021982, 0.35753622759780174]   \n",
       "96      0.000216       0.009359  [0.8639709337004181, 0.13602906629958184]   \n",
       "97      0.000337       0.009409   [0.4267688180881694, 0.5732311819118306]   \n",
       "98      0.000262       0.009101   [0.6963413561864588, 0.3036586438135413]   \n",
       "99      0.000241       0.009179  [0.7745930908484963, 0.22540690915150374]   \n",
       "\n",
       "    rendimientos_anual  volatilidades_anual  \n",
       "0             0.089028             0.152350  \n",
       "1             0.085641             0.149900  \n",
       "2             0.085235             0.149635  \n",
       "3             0.075248             0.145096  \n",
       "4             0.094739             0.157382  \n",
       "..                 ...                  ...  \n",
       "95            0.069878             0.144312  \n",
       "96            0.054534             0.148577  \n",
       "97            0.084820             0.149369  \n",
       "98            0.066146             0.144468  \n",
       "99            0.060725             0.145715  \n",
       "\n",
       "[100 rows x 5 columns]"
      ]
     },
     "execution_count": 45,
     "metadata": {},
     "output_type": "execute_result"
    }
   ],
   "source": [
    "# Simula 100 portafolios, anualizalos\n",
    "rend=[]\n",
    "vol = []\n",
    "pesos = []\n",
    "for i in range(100):\n",
    "    rendimiento_i, volatilidad_i, w_i = random_portafolio(rt)\n",
    "    rend.append(rendimiento_i)\n",
    "    vol.append(volatilidad_i)\n",
    "    pesos.append(w_i)\n",
    "    \n",
    "df = pd.DataFrame({\n",
    "    'rendimientos':rend,\n",
    "    'volatilidades':vol,\n",
    "    'pesos':pesos\n",
    "})\n",
    "df['rendimientos_anual'] = df['rendimientos'] * 252\n",
    "df['volatilidades_anual'] = df['volatilidades'] * np.sqrt(252)\n",
    "df"
   ]
  },
  {
   "cell_type": "code",
   "execution_count": 49,
   "id": "484c5f59",
   "metadata": {},
   "outputs": [
    {
     "data": {
      "image/png": "[encoded data removed]",
      "text/plain": [
       "<Figure size 640x480 with 1 Axes>"
      ]
     },
     "metadata": {},
     "output_type": "display_data"
    }
   ],
   "source": [
    "# Grafica\n",
    "plt.scatter(df['volatilidades_anual'], df['rendimientos_anual'], s=10)\n",
    "plt.xlabel('Volatilidad $\\sigma$')\n",
    "plt.ylabel('Rendimiento')\n",
    "plt.grid()"
   ]
  },
  {
   "cell_type": "markdown",
   "id": "310fb0e5",
   "metadata": {},
   "source": [
    "## La forma matricial nos ayuda a hacerlo cuando hacemos el calculo para varios activos\n",
    "\n",
    "¿Cómo se ve con 3 activos o más?\n"
   ]
  },
  {
   "cell_type": "code",
   "execution_count": 69,
   "id": "5c5abba4",
   "metadata": {},
   "outputs": [
    {
     "name": "stdout",
     "output_type": "stream",
     "text": [
      "[*********************100%%**********************]  4 of 4 completed\n"
     ]
    }
   ],
   "source": [
    "# Parametros para la función\n",
    "tickers = ['VOO', 'VEA', 'VNQ', 'VWO']\n",
    "start_date = '2015-01-01'\n",
    "\n",
    "St = yf.download(tickers, start=start_date)['Close']"
   ]
  },
  {
   "cell_type": "code",
   "execution_count": 70,
   "id": "fa7da615",
   "metadata": {},
   "outputs": [],
   "source": [
    "# Obtenga los rendimientos\n",
    "rt = St.pct_change()"
   ]
  },
  {
   "cell_type": "code",
   "execution_count": 71,
   "id": "618bbdc4",
   "metadata": {},
   "outputs": [
    {
     "data": {
      "text/plain": [
       "(0.00025738856340148193,\n",
       " 0.011008623153153605,\n",
       " array([0.08928838, 0.22936147, 0.42634929, 0.25500087]))"
      ]
     },
     "execution_count": 71,
     "metadata": {},
     "output_type": "execute_result"
    }
   ],
   "source": [
    "# Simula un portafolio\n",
    "random_portafolio(rt)"
   ]
  },
  {
   "cell_type": "code",
   "execution_count": 72,
   "id": "5d8c65a6",
   "metadata": {},
   "outputs": [
    {
     "data": {
      "text/html": [
       "<div>\n",
       "<style scoped>\n",
       "    .dataframe tbody tr th:only-of-type {\n",
       "        vertical-align: middle;\n",
       "    }\n",
       "\n",
       "    .dataframe tbody tr th {\n",
       "        vertical-align: top;\n",
       "    }\n",
       "\n",
       "    .dataframe thead th {\n",
       "        text-align: right;\n",
       "    }\n",
       "</style>\n",
       "<table border=\"1\" class=\"dataframe\">\n",
       "  <thead>\n",
       "    <tr style=\"text-align: right;\">\n",
       "      <th></th>\n",
       "      <th>rendimientos</th>\n",
       "      <th>volatilidades</th>\n",
       "      <th>pesos</th>\n",
       "      <th>rendimientos_anual</th>\n",
       "      <th>volatilidades_anual</th>\n",
       "    </tr>\n",
       "  </thead>\n",
       "  <tbody>\n",
       "    <tr>\n",
       "      <th>0</th>\n",
       "      <td>0.000190</td>\n",
       "      <td>0.011266</td>\n",
       "      <td>[0.19015578393774046, 0.09349279328362427, 0.2...</td>\n",
       "      <td>0.047918</td>\n",
       "      <td>0.178843</td>\n",
       "    </tr>\n",
       "    <tr>\n",
       "      <th>1</th>\n",
       "      <td>0.000153</td>\n",
       "      <td>0.011390</td>\n",
       "      <td>[0.035699036486574055, 0.24780649435202803, 0....</td>\n",
       "      <td>0.038456</td>\n",
       "      <td>0.180812</td>\n",
       "    </tr>\n",
       "    <tr>\n",
       "      <th>2</th>\n",
       "      <td>0.000243</td>\n",
       "      <td>0.010973</td>\n",
       "      <td>[0.18028716463322153, 0.2766675756398547, 0.36...</td>\n",
       "      <td>0.061227</td>\n",
       "      <td>0.174191</td>\n",
       "    </tr>\n",
       "    <tr>\n",
       "      <th>3</th>\n",
       "      <td>0.000185</td>\n",
       "      <td>0.011192</td>\n",
       "      <td>[0.20122554207641424, 0.4476719263049308, 0.19...</td>\n",
       "      <td>0.046609</td>\n",
       "      <td>0.177663</td>\n",
       "    </tr>\n",
       "    <tr>\n",
       "      <th>4</th>\n",
       "      <td>0.000173</td>\n",
       "      <td>0.010913</td>\n",
       "      <td>[0.5096121138617208, 0.2851989150747204, 0.104...</td>\n",
       "      <td>0.043575</td>\n",
       "      <td>0.173235</td>\n",
       "    </tr>\n",
       "    <tr>\n",
       "      <th>...</th>\n",
       "      <td>...</td>\n",
       "      <td>...</td>\n",
       "      <td>...</td>\n",
       "      <td>...</td>\n",
       "      <td>...</td>\n",
       "    </tr>\n",
       "    <tr>\n",
       "      <th>9995</th>\n",
       "      <td>0.000153</td>\n",
       "      <td>0.011002</td>\n",
       "      <td>[0.34876700440714914, 0.31844542305670276, 0.0...</td>\n",
       "      <td>0.038586</td>\n",
       "      <td>0.174644</td>\n",
       "    </tr>\n",
       "    <tr>\n",
       "      <th>9996</th>\n",
       "      <td>0.000211</td>\n",
       "      <td>0.010960</td>\n",
       "      <td>[0.21777703214819638, 0.23073054324722853, 0.2...</td>\n",
       "      <td>0.053297</td>\n",
       "      <td>0.173981</td>\n",
       "    </tr>\n",
       "    <tr>\n",
       "      <th>9997</th>\n",
       "      <td>0.000202</td>\n",
       "      <td>0.010987</td>\n",
       "      <td>[0.2200462396616933, 0.3098084162975229, 0.244...</td>\n",
       "      <td>0.050944</td>\n",
       "      <td>0.174413</td>\n",
       "    </tr>\n",
       "    <tr>\n",
       "      <th>9998</th>\n",
       "      <td>0.000200</td>\n",
       "      <td>0.010899</td>\n",
       "      <td>[0.6268371341249976, 0.10245474829993126, 0.16...</td>\n",
       "      <td>0.050433</td>\n",
       "      <td>0.173012</td>\n",
       "    </tr>\n",
       "    <tr>\n",
       "      <th>9999</th>\n",
       "      <td>0.000304</td>\n",
       "      <td>0.010917</td>\n",
       "      <td>[0.4708670173703129, 0.028848426823628915, 0.4...</td>\n",
       "      <td>0.076577</td>\n",
       "      <td>0.173309</td>\n",
       "    </tr>\n",
       "  </tbody>\n",
       "</table>\n",
       "<p>10000 rows × 5 columns</p>\n",
       "</div>"
      ],
      "text/plain": [
       "      rendimientos  volatilidades  \\\n",
       "0         0.000190       0.011266   \n",
       "1         0.000153       0.011390   \n",
       "2         0.000243       0.010973   \n",
       "3         0.000185       0.011192   \n",
       "4         0.000173       0.010913   \n",
       "...            ...            ...   \n",
       "9995      0.000153       0.011002   \n",
       "9996      0.000211       0.010960   \n",
       "9997      0.000202       0.010987   \n",
       "9998      0.000200       0.010899   \n",
       "9999      0.000304       0.010917   \n",
       "\n",
       "                                                  pesos  rendimientos_anual  \\\n",
       "0     [0.19015578393774046, 0.09349279328362427, 0.2...            0.047918   \n",
       "1     [0.035699036486574055, 0.24780649435202803, 0....            0.038456   \n",
       "2     [0.18028716463322153, 0.2766675756398547, 0.36...            0.061227   \n",
       "3     [0.20122554207641424, 0.4476719263049308, 0.19...            0.046609   \n",
       "4     [0.5096121138617208, 0.2851989150747204, 0.104...            0.043575   \n",
       "...                                                 ...                 ...   \n",
       "9995  [0.34876700440714914, 0.31844542305670276, 0.0...            0.038586   \n",
       "9996  [0.21777703214819638, 0.23073054324722853, 0.2...            0.053297   \n",
       "9997  [0.2200462396616933, 0.3098084162975229, 0.244...            0.050944   \n",
       "9998  [0.6268371341249976, 0.10245474829993126, 0.16...            0.050433   \n",
       "9999  [0.4708670173703129, 0.028848426823628915, 0.4...            0.076577   \n",
       "\n",
       "      volatilidades_anual  \n",
       "0                0.178843  \n",
       "1                0.180812  \n",
       "2                0.174191  \n",
       "3                0.177663  \n",
       "4                0.173235  \n",
       "...                   ...  \n",
       "9995             0.174644  \n",
       "9996             0.173981  \n",
       "9997             0.174413  \n",
       "9998             0.173012  \n",
       "9999             0.173309  \n",
       "\n",
       "[10000 rows x 5 columns]"
      ]
     },
     "execution_count": 72,
     "metadata": {},
     "output_type": "execute_result"
    }
   ],
   "source": [
    "# Simula 100 portafolios, anualizalos\n",
    "# Simula 100 portafolios, anualizalos\n",
    "rend=[]\n",
    "vol = []\n",
    "pesos = []\n",
    "for i in range(10000):\n",
    "    rendimiento_i, volatilidad_i, w_i = random_portafolio(rt)\n",
    "    rend.append(rendimiento_i)\n",
    "    vol.append(volatilidad_i)\n",
    "    pesos.append(w_i)\n",
    "    \n",
    "df = pd.DataFrame({\n",
    "    'rendimientos':rend,\n",
    "    'volatilidades':vol,\n",
    "    'pesos':pesos\n",
    "})\n",
    "df['rendimientos_anual'] = df['rendimientos'] * 252\n",
    "df['volatilidades_anual'] = df['volatilidades'] * np.sqrt(252)\n",
    "df"
   ]
  },
  {
   "cell_type": "code",
   "execution_count": 73,
   "id": "c3064acb",
   "metadata": {},
   "outputs": [
    {
     "data": {
      "image/png": "[encoded data removed]",
      "text/plain": [
       "<Figure size 640x480 with 1 Axes>"
      ]
     },
     "metadata": {},
     "output_type": "display_data"
    }
   ],
   "source": [
    "# Grafique los portafolios\n",
    "plt.scatter(df['volatilidades_anual'], df['rendimientos_anual'], s=10)\n",
    "plt.xlabel('Volatilidad $\\sigma$')\n",
    "plt.ylabel('Rendimiento')\n",
    "plt.title('4 activos, distintos portafolios')\n",
    "plt.grid()"
   ]
  },
  {
   "cell_type": "code",
   "execution_count": 79,
   "id": "7125385a",
   "metadata": {},
   "outputs": [
    {
     "data": {
      "text/html": [
       "<div>\n",
       "<style scoped>\n",
       "    .dataframe tbody tr th:only-of-type {\n",
       "        vertical-align: middle;\n",
       "    }\n",
       "\n",
       "    .dataframe tbody tr th {\n",
       "        vertical-align: top;\n",
       "    }\n",
       "\n",
       "    .dataframe thead th {\n",
       "        text-align: right;\n",
       "    }\n",
       "</style>\n",
       "<table border=\"1\" class=\"dataframe\">\n",
       "  <thead>\n",
       "    <tr style=\"text-align: right;\">\n",
       "      <th></th>\n",
       "      <th>rendimientos</th>\n",
       "      <th>volatilidades</th>\n",
       "      <th>pesos</th>\n",
       "      <th>rendimientos_anual</th>\n",
       "      <th>volatilidades_anual</th>\n",
       "    </tr>\n",
       "  </thead>\n",
       "  <tbody>\n",
       "    <tr>\n",
       "      <th>8519</th>\n",
       "      <td>0.000231</td>\n",
       "      <td>0.010843</td>\n",
       "      <td>[0.5016085618189966, 0.16348988222397434, 0.27...</td>\n",
       "      <td>0.058289</td>\n",
       "      <td>0.17213</td>\n",
       "    </tr>\n",
       "  </tbody>\n",
       "</table>\n",
       "</div>"
      ],
      "text/plain": [
       "      rendimientos  volatilidades  \\\n",
       "8519      0.000231       0.010843   \n",
       "\n",
       "                                                  pesos  rendimientos_anual  \\\n",
       "8519  [0.5016085618189966, 0.16348988222397434, 0.27...            0.058289   \n",
       "\n",
       "      volatilidades_anual  \n",
       "8519              0.17213  "
      ]
     },
     "execution_count": 79,
     "metadata": {},
     "output_type": "execute_result"
    }
   ],
   "source": [
    "# Obtenga el de minima varianza\n",
    "min_variance = df[df.volatilidades_anual == df.volatilidades_anual.min()]\n",
    "min_variance"
   ]
  },
  {
   "cell_type": "markdown",
   "id": "0618499d",
   "metadata": {},
   "source": [
    "# ¿Qué pasa si no necesariamente quiero la mínima varianza?\n",
    "\n",
    "- Quiero tener un rendimiento de 7% con el menor riesgo posible, no estoy interesado si ese es el de varianza mínima "
   ]
  },
  {
   "cell_type": "code",
   "execution_count": 82,
   "id": "e7b63be7",
   "metadata": {},
   "outputs": [
    {
     "data": {
      "text/plain": [
       "array([array([0.40214228, 0.10594287, 0.42432106, 0.06759379])],\n",
       "      dtype=object)"
      ]
     },
     "execution_count": 82,
     "metadata": {},
     "output_type": "execute_result"
    }
   ],
   "source": [
    "df_7 = df[df.rendimientos_anual >= 0.07]\n",
    "\n",
    "portafolio_deseado = df_7[df_7.volatilidades_anual == df_7.volatilidades_anual.min()]\n",
    "portafolio_deseado.pesos.values"
   ]
  }
 ],
 "metadata": {
  "kernelspec": {
   "display_name": "Python 3 (ipykernel)",
   "language": "python",
   "name": "python3"
  },
  "language_info": {
   "codemirror_mode": {
    "name": "ipython",
    "version": 3
   },
   "file_extension": ".py",
   "mimetype": "text/x-python",
   "name": "python",
   "nbconvert_exporter": "python",
   "pygments_lexer": "ipython3",
   "version": "3.11.4"
  }
 },
 "nbformat": 4,
 "nbformat_minor": 5
}
