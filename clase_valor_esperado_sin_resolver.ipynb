{
 "cells": [
  {
   "cell_type": "markdown",
   "id": "6d0a99f5",
   "metadata": {},
   "source": [
    "# Valor esperado"
   ]
  },
  {
   "cell_type": "markdown",
   "id": "01a1950d",
   "metadata": {},
   "source": [
    "### Volado \n",
    "\n",
    "\n",
    "Crea un programa para simular la siguiente apeusta. \n",
    "\n",
    "Agila 100 y -100 sello\n"
   ]
  },
  {
   "cell_type": "code",
   "execution_count": 1,
   "id": "d8e5c3d6",
   "metadata": {},
   "outputs": [
    {
     "data": {
      "text/plain": [
       "0.0"
      ]
     },
     "execution_count": 1,
     "metadata": {},
     "output_type": "execute_result"
    }
   ],
   "source": [
    "# Valor esperado, proba x cosa + proba x cosa\n",
    "0.5 * 100 + 0.5 * -100"
   ]
  },
  {
   "cell_type": "code",
   "execution_count": 2,
   "id": "53d8848c",
   "metadata": {},
   "outputs": [],
   "source": [
    "import random\n",
    "resultados=[]\n",
    "for i in range(100000):\n",
    "    resultados.append(random.choices([100,-100], weights=(50,50))[0])\n",
    "    "
   ]
  },
  {
   "cell_type": "code",
   "execution_count": 3,
   "id": "ecc7d857",
   "metadata": {},
   "outputs": [
    {
     "data": {
      "text/plain": [
       "4200"
      ]
     },
     "execution_count": 3,
     "metadata": {},
     "output_type": "execute_result"
    }
   ],
   "source": [
    "import numpy as np\n",
    "np.sum(resultados)"
   ]
  },
  {
   "cell_type": "code",
   "execution_count": 4,
   "id": "a235e13a",
   "metadata": {},
   "outputs": [
    {
     "data": {
      "text/plain": [
       "0.042"
      ]
     },
     "execution_count": 4,
     "metadata": {},
     "output_type": "execute_result"
    }
   ],
   "source": [
    "np.mean(resultados)"
   ]
  },
  {
   "cell_type": "code",
   "execution_count": null,
   "id": "f2d7150b",
   "metadata": {},
   "outputs": [],
   "source": []
  },
  {
   "cell_type": "code",
   "execution_count": null,
   "id": "7c6e9405",
   "metadata": {},
   "outputs": [],
   "source": []
  },
  {
   "cell_type": "markdown",
   "id": "97343368",
   "metadata": {},
   "source": [
    "### ¿El promedio se acerca al valor esperado?\n",
    "Si"
   ]
  },
  {
   "cell_type": "code",
   "execution_count": 5,
   "id": "f4869f58",
   "metadata": {},
   "outputs": [],
   "source": [
    "# Grafica de promedio\n",
    "import pandas as pd\n",
    "df=pd.DataFrame()\n",
    "df['apuestas']=resultados"
   ]
  },
  {
   "cell_type": "code",
   "execution_count": 6,
   "id": "09db4e71",
   "metadata": {},
   "outputs": [
    {
     "data": {
      "text/plain": [
       "[<matplotlib.lines.Line2D at 0x20878e9c490>]"
      ]
     },
     "execution_count": 6,
     "metadata": {},
     "output_type": "execute_result"
    },
    {
     "data": {
      "image/png": "[encoded data removed]",
      "text/plain": [
       "<Figure size 640x480 with 1 Axes>"
      ]
     },
     "metadata": {},
     "output_type": "display_data"
    }
   ],
   "source": [
    "import matplotlib.pyplot as plt\n",
    "plt.plot(df.apuestas.expanding().mean())"
   ]
  },
  {
   "cell_type": "markdown",
   "id": "ada3d7a8",
   "metadata": {},
   "source": [
    "### Volado \n",
    "\n",
    "\n",
    "Crea un programa para simular la siguiente apeusta. \n",
    "\n",
    "Agila 150 y -100 sello\n",
    "\n",
    "¿Cuál conviene? "
   ]
  },
  {
   "cell_type": "code",
   "execution_count": 7,
   "id": "f03d4f6b",
   "metadata": {},
   "outputs": [
    {
     "data": {
      "text/plain": [
       "25.0"
      ]
     },
     "execution_count": 7,
     "metadata": {},
     "output_type": "execute_result"
    }
   ],
   "source": [
    "# Valor esperado\n",
    "valor_esperado=0.5 * 150 + 0.5 * -100\n",
    "valor_esperado"
   ]
  },
  {
   "cell_type": "code",
   "execution_count": 8,
   "id": "81a915ef",
   "metadata": {},
   "outputs": [],
   "source": [
    "resultados=[]\n",
    "for i in range(10000):\n",
    "    resultados.append(random.choices([150,-100], weights=(50,50))[0])"
   ]
  },
  {
   "cell_type": "code",
   "execution_count": 9,
   "id": "bf83b2ce",
   "metadata": {},
   "outputs": [
    {
     "data": {
      "text/plain": [
       "275500"
      ]
     },
     "execution_count": 9,
     "metadata": {},
     "output_type": "execute_result"
    }
   ],
   "source": [
    "np.sum(resultados)"
   ]
  },
  {
   "cell_type": "code",
   "execution_count": 10,
   "id": "b4d3cfe3",
   "metadata": {},
   "outputs": [
    {
     "data": {
      "text/plain": [
       "250000.0"
      ]
     },
     "execution_count": 10,
     "metadata": {},
     "output_type": "execute_result"
    }
   ],
   "source": [
    "valor_esperado * 10000"
   ]
  },
  {
   "cell_type": "code",
   "execution_count": 11,
   "id": "a2be9d80",
   "metadata": {},
   "outputs": [
    {
     "data": {
      "text/plain": [
       "27.55"
      ]
     },
     "execution_count": 11,
     "metadata": {},
     "output_type": "execute_result"
    }
   ],
   "source": [
    "np.mean(resultados)"
   ]
  },
  {
   "cell_type": "code",
   "execution_count": 12,
   "id": "629ad104",
   "metadata": {},
   "outputs": [
    {
     "data": {
      "text/plain": [
       "[<matplotlib.lines.Line2D at 0x20879520d10>]"
      ]
     },
     "execution_count": 12,
     "metadata": {},
     "output_type": "execute_result"
    },
    {
     "data": {
      "image/png": "[encoded data removed]",
      "text/plain": [
       "<Figure size 640x480 with 1 Axes>"
      ]
     },
     "metadata": {},
     "output_type": "display_data"
    }
   ],
   "source": [
    "df=pd.DataFrame()\n",
    "df['resultados']=resultados\n",
    "plt.plot(df.resultados.expanding().mean())"
   ]
  },
  {
   "cell_type": "markdown",
   "id": "f3b90723",
   "metadata": {},
   "source": [
    "### Volado \n",
    "\n",
    "\n",
    "Crea un programa para simular la siguiente apeusta. \n",
    "\n",
    "Agila 100 y -100 sello\n",
    "\n",
    "Pero la moneda está invertida, 60% Aguila y 40% sello"
   ]
  },
  {
   "cell_type": "code",
   "execution_count": 13,
   "id": "67e2b9ec",
   "metadata": {},
   "outputs": [
    {
     "data": {
      "text/plain": [
       "20.0"
      ]
     },
     "execution_count": 13,
     "metadata": {},
     "output_type": "execute_result"
    }
   ],
   "source": [
    "# Valor esperado\n",
    "0.6 * 100 + 0.4 * -100"
   ]
  },
  {
   "cell_type": "code",
   "execution_count": 14,
   "id": "f9d5429d",
   "metadata": {},
   "outputs": [],
   "source": [
    "resultado=[]\n",
    "for i in range(100000):\n",
    "    resultado.append(random.choices([100,-100], weights=(60,40))[0])"
   ]
  },
  {
   "cell_type": "code",
   "execution_count": 15,
   "id": "602cb2a8",
   "metadata": {},
   "outputs": [
    {
     "data": {
      "text/plain": [
       "1991000"
      ]
     },
     "execution_count": 15,
     "metadata": {},
     "output_type": "execute_result"
    }
   ],
   "source": [
    "np.sum(resultado)"
   ]
  },
  {
   "cell_type": "code",
   "execution_count": 16,
   "id": "2135bf97",
   "metadata": {},
   "outputs": [
    {
     "data": {
      "text/plain": [
       "2000000.0"
      ]
     },
     "execution_count": 16,
     "metadata": {},
     "output_type": "execute_result"
    }
   ],
   "source": [
    "(0.6 * 100 + 0.4 * -100)*100000"
   ]
  },
  {
   "cell_type": "code",
   "execution_count": 17,
   "id": "6cad76b3",
   "metadata": {},
   "outputs": [
    {
     "data": {
      "text/plain": [
       "19.91"
      ]
     },
     "execution_count": 17,
     "metadata": {},
     "output_type": "execute_result"
    }
   ],
   "source": [
    "np.mean(resultado)"
   ]
  },
  {
   "cell_type": "code",
   "execution_count": 18,
   "id": "43a8396f",
   "metadata": {},
   "outputs": [],
   "source": [
    "df=pd.DataFrame()\n",
    "df['apuesta']=resultado"
   ]
  },
  {
   "cell_type": "code",
   "execution_count": 19,
   "id": "d74e82b3",
   "metadata": {},
   "outputs": [
    {
     "data": {
      "text/plain": [
       "[<matplotlib.lines.Line2D at 0x20879464e50>]"
      ]
     },
     "execution_count": 19,
     "metadata": {},
     "output_type": "execute_result"
    },
    {
     "data": {
      "image/png": "[encoded data removed]",
      "text/plain": [
       "<Figure size 640x480 with 1 Axes>"
      ]
     },
     "metadata": {},
     "output_type": "display_data"
    }
   ],
   "source": [
    "plt.plot(df.apuesta.expanding().mean())"
   ]
  },
  {
   "cell_type": "markdown",
   "id": "94af1867",
   "metadata": {},
   "source": [
    "### Definición, valor esperado\n",
    "\n",
    "\n",
    "\n"
   ]
  },
  {
   "cell_type": "markdown",
   "id": "02262c17",
   "metadata": {},
   "source": [
    "El valor esperado se define como:\n",
    "\n",
    "$$E[x]= p_1 x_1 + p_2 x2 + p_3 x3 + ... p_n x_n $$\n",
    "\n",
    "\n",
    "Resumiendo:\n",
    "\n",
    "$$E[x]=\\sum_{j=1}^{m}p_jx_j,$$\n",
    "\n",
    "\n",
    "¿Qué pasa cuando las probabilidades son iguales en cada caso?\n",
    "\n",
    "El valor esperado se convierte en el promedio\n",
    "\n",
    "$$E[x]= \\frac{1}{n} \\sum_{j=1}^{m}x_j,$$\n"
   ]
  },
  {
   "cell_type": "code",
   "execution_count": 20,
   "id": "a751aaf8",
   "metadata": {},
   "outputs": [
    {
     "data": {
      "text/plain": [
       "0.0"
      ]
     },
     "execution_count": 20,
     "metadata": {},
     "output_type": "execute_result"
    }
   ],
   "source": [
    "# Calcula el valor esperado de : 50% Aguila, 50% sello, 100 y -100\n",
    "0.5 * 100 + 0.5 * -100"
   ]
  },
  {
   "cell_type": "code",
   "execution_count": 21,
   "id": "67f595f9",
   "metadata": {},
   "outputs": [
    {
     "data": {
      "text/plain": [
       "20.0"
      ]
     },
     "execution_count": 21,
     "metadata": {},
     "output_type": "execute_result"
    }
   ],
   "source": [
    "# Calcula el valor esperado de : 60% Aguila, 40% sello, 100 y -100\n",
    "0.6 * 100 + 0.4 * -100"
   ]
  },
  {
   "cell_type": "code",
   "execution_count": 22,
   "id": "ae183b24",
   "metadata": {},
   "outputs": [
    {
     "data": {
      "text/plain": [
       "50.0"
      ]
     },
     "execution_count": 22,
     "metadata": {},
     "output_type": "execute_result"
    }
   ],
   "source": [
    "# Calcula el valor esperado de : 60% Aguila, 40% sello, 150 y -100\n",
    "0.6 * 150 + 0.4 * -100"
   ]
  },
  {
   "cell_type": "markdown",
   "id": "e08d1830",
   "metadata": {},
   "source": [
    "## Varianza\n",
    "\n",
    "La varianza se define como el valor esperado de una variable aleatoria menos la diferencia de su valor esperado al cuadrado.\n",
    "\n",
    "$$Var(x) = E[(x - E[x])^2]$$\n",
    "\n",
    "\n",
    "Esto es equivalente a:\n",
    "\n",
    "$$Var[x]=\\sum_{j=1}^{m}p_j  (x - E[X])^2,$$\n",
    "\n",
    "\n",
    "¿Qué pasa cuando las probabilidades son iguales en cada caso?\n",
    "\n",
    "$$Var[x]= \\frac{1}{n} \\sum_{j=1}^{m} (x - E[X])^2,$$\n",
    "\n",
    "Le llamamos volatilidad a la raíz cuadrada de la varianza\n",
    "\n",
    "$$\\sigma = \\sqrt{Var[x]}$$\n",
    "\n",
    "\n"
   ]
  },
  {
   "cell_type": "code",
   "execution_count": 23,
   "id": "a7350438",
   "metadata": {},
   "outputs": [
    {
     "data": {
      "text/plain": [
       "(10000.0, 100.0)"
      ]
     },
     "execution_count": 23,
     "metadata": {},
     "output_type": "execute_result"
    }
   ],
   "source": [
    "# Calcula el varianza de : 50% Aguila, 50% sello, 100 y -100\n",
    "\n",
    "ve = 0.5 * 100 + 0.5 * -100\n",
    "\n",
    "varianza=0.5 * (100 - ve)**2 + 0.5 * (-100 - ve)**2\n",
    "volatilidad=np.sqrt(varianza)\n",
    "\n",
    "varianza, volatilidad"
   ]
  },
  {
   "cell_type": "code",
   "execution_count": 24,
   "id": "ed418f1d",
   "metadata": {},
   "outputs": [
    {
     "data": {
      "text/plain": [
       "(9600.0, 97.97958971132712)"
      ]
     },
     "execution_count": 24,
     "metadata": {},
     "output_type": "execute_result"
    }
   ],
   "source": [
    "# Calcula el varianza de : 60% Aguila, 40% sello, 100 y -100\n",
    "\n",
    "ve2 = 0.6 * 100 + 0.4 * -100\n",
    "\n",
    "varianza= 0.6 * (100-ve2)**2 + 0.4 * (-100-ve2)**2\n",
    "volatilidad=np.sqrt(varianza)\n",
    "\n",
    "varianza, volatilidad"
   ]
  },
  {
   "cell_type": "code",
   "execution_count": 25,
   "id": "175876e2",
   "metadata": {},
   "outputs": [
    {
     "data": {
      "text/plain": [
       "(15000.0, 122.47448713915891)"
      ]
     },
     "execution_count": 25,
     "metadata": {},
     "output_type": "execute_result"
    }
   ],
   "source": [
    "# Calcula el varianza de : 60% Aguila, 40% sello, 150 y -100\n",
    "\n",
    "ve = 0.6 * 150 + 0.4 * -100\n",
    "\n",
    "varianza=0.6 * (150 - ve)**2 + 0.4 * (-100 - ve)**2\n",
    "volatilidad=np.sqrt(varianza)\n",
    "\n",
    "varianza, volatilidad"
   ]
  },
  {
   "cell_type": "code",
   "execution_count": 26,
   "id": "3b43547d",
   "metadata": {},
   "outputs": [],
   "source": [
    "# Valida empiricamente los resultados anteriores\n",
    "# Calcula el varianza de : 60% Aguila, 40% sello, 150 y -100\n",
    "\n",
    "resultado=[]\n",
    "for i in range(100000):\n",
    "    resultado.append(random.choices([150,-100], weights=(60,40))[0])\n"
   ]
  },
  {
   "cell_type": "code",
   "execution_count": 27,
   "id": "7e10416e",
   "metadata": {},
   "outputs": [],
   "source": [
    "df = pd.DataFrame()\n",
    "df['resultado']=resultado"
   ]
  },
  {
   "cell_type": "code",
   "execution_count": 28,
   "id": "7407e24e",
   "metadata": {},
   "outputs": [
    {
     "data": {
      "text/plain": [
       "(14994.009933882026, 122.45003035476155)"
      ]
     },
     "execution_count": 28,
     "metadata": {},
     "output_type": "execute_result"
    }
   ],
   "source": [
    "(df.resultado.std())**2, df.resultado.std()"
   ]
  },
  {
   "cell_type": "code",
   "execution_count": 29,
   "id": "fac57dff",
   "metadata": {},
   "outputs": [
    {
     "data": {
      "text/plain": [
       "[<matplotlib.lines.Line2D at 0x2087939ec10>]"
      ]
     },
     "execution_count": 29,
     "metadata": {},
     "output_type": "execute_result"
    },
    {
     "data": {
      "image/png": "[encoded data removed]",
      "text/plain": [
       "<Figure size 640x480 with 1 Axes>"
      ]
     },
     "metadata": {},
     "output_type": "display_data"
    }
   ],
   "source": [
    "plt.plot(df.resultado.expanding().std())"
   ]
  },
  {
   "cell_type": "markdown",
   "id": "c7d8bf55",
   "metadata": {},
   "source": [
    "## Ejercicio \n",
    "\n",
    "**Calcula el valor esperado y la varianza de estas distintas probabilidades**\n",
    "\n",
    "Posibles resultados de un dado: \n",
    "[1, 2, 3, 4, 5, 6]\n",
    "\n",
    "\n",
    "1- Misma probabilidad :  [1/6, 1/6, 1/6, 1/6, 1/6, 1/6]\n",
    "\n",
    "Resultado: [20, 10, 10, 10, 10, 20]\n",
    "\n",
    "\n",
    "2- Distinta probabilidad\n",
    "Probabilidad: [7/12, 1/12, 1/12, 1/12, 1/12, 1/12]\n",
    "\n",
    "Resultado: [20, 10, 10, 10, 10, 20]\n",
    "\n"
   ]
  },
  {
   "cell_type": "code",
   "execution_count": 30,
   "id": "89e84dce",
   "metadata": {},
   "outputs": [
    {
     "data": {
      "text/plain": [
       "(13.333333333333332, 22.22222222222222, 4.714045207910317)"
      ]
     },
     "execution_count": 30,
     "metadata": {},
     "output_type": "execute_result"
    }
   ],
   "source": [
    "valor_e = (1/6) * 20 + (1/6) * 10 + (1/6) * 10 + (1/6) * 10 + (1/6) * 10 + (1/6) * 20 \n",
    "\n",
    "varianza = (1/6) * (20 - valor_e)**2 + (1/6) * (10 - valor_e)**2 + (1/6) * (10 - valor_e)**2 + (1/6) * (10 - valor_e)**2 + (1/6) * (10 - valor_e)**2 + (1/6) * (20 - valor_e)**2\n",
    "volatilidad = np.sqrt(varianza)\n",
    "\n",
    "valor_e, varianza, volatilidad"
   ]
  },
  {
   "cell_type": "code",
   "execution_count": 31,
   "id": "d991cd93",
   "metadata": {},
   "outputs": [
    {
     "data": {
      "text/plain": [
       "(16.66666666666667, 22.222222222222225, 4.714045207910317)"
      ]
     },
     "execution_count": 31,
     "metadata": {},
     "output_type": "execute_result"
    }
   ],
   "source": [
    "valor_e = (7/12) * 20 + (1/12) * 10 + (1/12) * 10 + (1/12) * 10 + (1/12) * 10 + (1/12) * 20 \n",
    "\n",
    "varianza = (7/12) * (20 - valor_e)**2 + (1/12) * (10 - valor_e)**2 + (1/12) * (10 - valor_e)**2 + (1/12) * (10 - valor_e)**2 + (1/12) * (10 - valor_e)**2 + (1/12) * (20 - valor_e)**2\n",
    "volatilidad = np.sqrt(varianza)\n",
    "\n",
    "valor_e, varianza, volatilidad"
   ]
  }
 ],
 "metadata": {
  "kernelspec": {
   "display_name": "Python 3 (ipykernel)",
   "language": "python",
   "name": "python3"
  },
  "language_info": {
   "codemirror_mode": {
    "name": "ipython",
    "version": 3
   },
   "file_extension": ".py",
   "mimetype": "text/x-python",
   "name": "python",
   "nbconvert_exporter": "python",
   "pygments_lexer": "ipython3",
   "version": "3.11.4"
  }
 },
 "nbformat": 4,
 "nbformat_minor": 5
}
