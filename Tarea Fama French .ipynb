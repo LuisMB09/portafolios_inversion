{
 "cells": [
  {
   "cell_type": "markdown",
   "id": "65c67195-1269-4529-b54a-d7027fa15a8e",
   "metadata": {},
   "source": [
    "# Instrucciones\n",
    "\n",
    "* Escoge 15 acciones del S&P 500 que esten listadas desde el 2015\n",
    "* Crea 3 modelos, CAPM, 3 factores y 5 factores\n",
    "* Obten coeficientes y R2\n",
    "* Explica los resultados "
   ]
  },
  {
   "cell_type": "code",
   "execution_count": 1,
   "id": "3c1d198c-4432-4a24-9b1b-8ffede0934e5",
   "metadata": {
    "tags": []
   },
   "outputs": [],
   "source": [
    "import pandas_datareader.data as web\n",
    "import datetime\n",
    "from sklearn.metrics import r2_score\n",
    "import pandas as pd\n",
    "import yfinance as yf\n",
    "import numpy as np\n",
    "import matplotlib.pyplot as plt\n",
    "from sklearn.linear_model import LinearRegression\n",
    "from IPython.display import display\n",
    "\n",
    "# Definir las fechas de inicio y fin\n",
    "start_date = datetime.datetime(2015, 1, 1)\n",
    "end_date = datetime.datetime(2023, 12, 31)\n",
    "\n",
    "# Descargar los factores Fama-French desde la web de Ken French\n",
    "ff_factores = web.DataReader(\"F-F_Research_Data_5_Factors_2x3\", \"famafrench\", start_date, end_date)"
   ]
  },
  {
   "cell_type": "code",
   "execution_count": 2,
   "id": "0e352685-1978-4b1d-9e02-d5b11b838c85",
   "metadata": {
    "tags": []
   },
   "outputs": [
    {
     "data": {
      "text/html": [
       "<div>\n",
       "<style scoped>\n",
       "    .dataframe tbody tr th:only-of-type {\n",
       "        vertical-align: middle;\n",
       "    }\n",
       "\n",
       "    .dataframe tbody tr th {\n",
       "        vertical-align: top;\n",
       "    }\n",
       "\n",
       "    .dataframe thead th {\n",
       "        text-align: right;\n",
       "    }\n",
       "</style>\n",
       "<table border=\"1\" class=\"dataframe\">\n",
       "  <thead>\n",
       "    <tr style=\"text-align: right;\">\n",
       "      <th></th>\n",
       "      <th>Mkt-RF</th>\n",
       "      <th>SMB</th>\n",
       "      <th>HML</th>\n",
       "      <th>RMW</th>\n",
       "      <th>CMA</th>\n",
       "      <th>RF</th>\n",
       "    </tr>\n",
       "    <tr>\n",
       "      <th>Date</th>\n",
       "      <th></th>\n",
       "      <th></th>\n",
       "      <th></th>\n",
       "      <th></th>\n",
       "      <th></th>\n",
       "      <th></th>\n",
       "    </tr>\n",
       "  </thead>\n",
       "  <tbody>\n",
       "    <tr>\n",
       "      <th>2023-08-01</th>\n",
       "      <td>-0.0239</td>\n",
       "      <td>-0.0365</td>\n",
       "      <td>-0.0106</td>\n",
       "      <td>0.0343</td>\n",
       "      <td>-0.0237</td>\n",
       "      <td>0.0045</td>\n",
       "    </tr>\n",
       "    <tr>\n",
       "      <th>2023-09-01</th>\n",
       "      <td>-0.0524</td>\n",
       "      <td>-0.0180</td>\n",
       "      <td>0.0152</td>\n",
       "      <td>0.0186</td>\n",
       "      <td>-0.0083</td>\n",
       "      <td>0.0043</td>\n",
       "    </tr>\n",
       "    <tr>\n",
       "      <th>2023-10-01</th>\n",
       "      <td>-0.0319</td>\n",
       "      <td>-0.0405</td>\n",
       "      <td>0.0018</td>\n",
       "      <td>0.0247</td>\n",
       "      <td>-0.0065</td>\n",
       "      <td>0.0047</td>\n",
       "    </tr>\n",
       "    <tr>\n",
       "      <th>2023-11-01</th>\n",
       "      <td>0.0884</td>\n",
       "      <td>-0.0012</td>\n",
       "      <td>0.0164</td>\n",
       "      <td>-0.0391</td>\n",
       "      <td>-0.0100</td>\n",
       "      <td>0.0044</td>\n",
       "    </tr>\n",
       "    <tr>\n",
       "      <th>2023-12-01</th>\n",
       "      <td>0.0487</td>\n",
       "      <td>0.0732</td>\n",
       "      <td>0.0493</td>\n",
       "      <td>-0.0307</td>\n",
       "      <td>0.0132</td>\n",
       "      <td>0.0043</td>\n",
       "    </tr>\n",
       "  </tbody>\n",
       "</table>\n",
       "</div>"
      ],
      "text/plain": [
       "            Mkt-RF     SMB     HML     RMW     CMA      RF\n",
       "Date                                                      \n",
       "2023-08-01 -0.0239 -0.0365 -0.0106  0.0343 -0.0237  0.0045\n",
       "2023-09-01 -0.0524 -0.0180  0.0152  0.0186 -0.0083  0.0043\n",
       "2023-10-01 -0.0319 -0.0405  0.0018  0.0247 -0.0065  0.0047\n",
       "2023-11-01  0.0884 -0.0012  0.0164 -0.0391 -0.0100  0.0044\n",
       "2023-12-01  0.0487  0.0732  0.0493 -0.0307  0.0132  0.0043"
      ]
     },
     "execution_count": 2,
     "metadata": {},
     "output_type": "execute_result"
    }
   ],
   "source": [
    "factors_df = ff_factores[0] / 100\n",
    "factors_df.index = factors_df.index.to_timestamp()\n",
    "factors_df.tail()"
   ]
  },
  {
   "cell_type": "code",
   "execution_count": 3,
   "id": "2a996438-6031-4524-8b45-9de21ee1ce11",
   "metadata": {
    "tags": []
   },
   "outputs": [
    {
     "name": "stdout",
     "output_type": "stream",
     "text": [
      "[*********************100%%**********************]  15 of 15 completed\n"
     ]
    }
   ],
   "source": [
    "tickers = ['AAPL','MSFT','AMZN','WMT','COST',\n",
    "          'JNJ','PFE','XOM','CVS','IBM',\n",
    "          'V','AMD','MCD','KO','HP']\n",
    "stock_data = yf.download(tickers, start_date, end_date, interval='1mo')['Adj Close']\n",
    "rt = stock_data.pct_change().dropna()"
   ]
  },
  {
   "cell_type": "code",
   "execution_count": 4,
   "id": "13f3b721-b79e-457b-9e96-383190b92da2",
   "metadata": {
    "tags": []
   },
   "outputs": [],
   "source": [
    "fama_french_df = pd.merge(factors_df, rt, on='Date')"
   ]
  },
  {
   "cell_type": "code",
   "execution_count": 5,
   "id": "e8e0d488-f9a6-402f-be93-43e2c3540207",
   "metadata": {
    "tags": []
   },
   "outputs": [],
   "source": [
    "# Correr todos los modelos\n",
    "def run_all_models(data, ticker):\n",
    "    flag_data = data.copy()\n",
    "    flag_data[ticker + '_minus_RF'] = data[ticker] - data['RF']\n",
    "    y = flag_data[[ticker + '_minus_RF']] \n",
    "\n",
    "    # CAPM \n",
    "    X_capm = flag_data[['Mkt-RF']]\n",
    "    model_capm = LinearRegression().fit(X_capm, y)\n",
    "    prediction_capm = model_capm.predict(X_capm)\n",
    "    r2_capm = np.round(r2_score(y_pred=prediction_capm, y_true=y),4)\n",
    "    summary_capm = {str(X_capm.keys().values): list(model_capm.coef_[0])}\n",
    "\n",
    "    # 3 factor model \n",
    "    X_3factor = flag_data[['Mkt-RF', 'SMB', 'HML']]\n",
    "    model_3factor = LinearRegression().fit(X_3factor, y)\n",
    "    prediction_3factor = model_3factor.predict(X_3factor)\n",
    "    r2_3factor = np.round(r2_score(y_pred=prediction_3factor, y_true=y),4)\n",
    "    summary_3factor = {str(X_3factor.keys().values): list(model_3factor.coef_[0])}\n",
    "    \n",
    "    \n",
    "    # 5 factor\n",
    "    X_5factor = flag_data[['Mkt-RF', 'SMB', 'HML', 'RMW', 'CMA']]\n",
    "    model_5factor = LinearRegression().fit(X_5factor, y)\n",
    "    prediction_5factor = model_5factor.predict(X_5factor)\n",
    "    r2_5factor = np.round(r2_score(y_pred=prediction_5factor, y_true=y),4)\n",
    "    summary_5factor = {str(X_5factor.keys().values): list(model_5factor.coef_[0])}\n",
    "    \n",
    "    summary = {\n",
    "        'CAPM': {'BETAS': summary_capm, 'R2': r2_capm},\n",
    "        '3 factor': {'BETAS': summary_3factor, 'R2': r2_3factor},\n",
    "        '5 factor': {'BETAS': summary_5factor, 'R2': r2_5factor}\n",
    "\n",
    "    }\n",
    "    return summary"
   ]
  },
  {
   "cell_type": "code",
   "execution_count": 6,
   "id": "484aae7f-44f0-431b-baff-5db132adf553",
   "metadata": {
    "tags": []
   },
   "outputs": [
    {
     "name": "stdout",
     "output_type": "stream",
     "text": [
      "AAPL\n"
     ]
    },
    {
     "data": {
      "text/plain": [
       "{'CAPM': {'BETAS': {\"['Mkt-RF']\": [1.2139143124805247]}, 'R2': 0.4899},\n",
       " '3 factor': {'BETAS': {\"['Mkt-RF' 'SMB' 'HML']\": [1.2957946599992973,\n",
       "    -0.355418360011865,\n",
       "    -0.4705908785040141]},\n",
       "  'R2': 0.5705},\n",
       " '5 factor': {'BETAS': {\"['Mkt-RF' 'SMB' 'HML' 'RMW' 'CMA']\": [1.2592218505101374,\n",
       "    -0.19593280177661854,\n",
       "    -0.53771932421899,\n",
       "    0.38387386099178783,\n",
       "    0.0009714315738426627]},\n",
       "  'R2': 0.5781}}"
      ]
     },
     "metadata": {},
     "output_type": "display_data"
    },
    {
     "name": "stdout",
     "output_type": "stream",
     "text": [
      "\n",
      "MSFT\n"
     ]
    },
    {
     "data": {
      "text/plain": [
       "{'CAPM': {'BETAS': {\"['Mkt-RF']\": [0.8916677588124616]}, 'R2': 0.4536},\n",
       " '3 factor': {'BETAS': {\"['Mkt-RF' 'SMB' 'HML']\": [1.0508444704513755,\n",
       "    -0.7590247154409094,\n",
       "    -0.2897045528358261]},\n",
       "  'R2': 0.6363},\n",
       " '5 factor': {'BETAS': {\"['Mkt-RF' 'SMB' 'HML' 'RMW' 'CMA']\": [1.0349693562466606,\n",
       "    -0.8387601441585714,\n",
       "    -0.14504009045941216,\n",
       "    -0.11833908787073731,\n",
       "    -0.2782759876412632]},\n",
       "  'R2': 0.644}}"
      ]
     },
     "metadata": {},
     "output_type": "display_data"
    },
    {
     "name": "stdout",
     "output_type": "stream",
     "text": [
      "\n",
      "AMZN\n"
     ]
    },
    {
     "data": {
      "text/plain": [
       "{'CAPM': {'BETAS': {\"['Mkt-RF']\": [1.2453088042015112]}, 'R2': 0.4159},\n",
       " '3 factor': {'BETAS': {\"['Mkt-RF' 'SMB' 'HML']\": [1.3397783033801842,\n",
       "    -0.3747197209920857,\n",
       "    -0.867460720642176]},\n",
       "  'R2': 0.5905},\n",
       " '5 factor': {'BETAS': {\"['Mkt-RF' 'SMB' 'HML' 'RMW' 'CMA']\": [1.3472742560231448,\n",
       "    -0.867225307821562,\n",
       "    -0.31720976639343224,\n",
       "    -0.9583103555922232,\n",
       "    -0.8604794530243428]},\n",
       "  'R2': 0.6588}}"
      ]
     },
     "metadata": {},
     "output_type": "display_data"
    },
    {
     "name": "stdout",
     "output_type": "stream",
     "text": [
      "\n",
      "WMT\n"
     ]
    },
    {
     "data": {
      "text/plain": [
       "{'CAPM': {'BETAS': {\"['Mkt-RF']\": [0.404947304797913]}, 'R2': 0.1307},\n",
       " '3 factor': {'BETAS': {\"['Mkt-RF' 'SMB' 'HML']\": [0.5105103684930423,\n",
       "    -0.5183085995465171,\n",
       "    -0.05497850985186566]},\n",
       "  'R2': 0.2123},\n",
       " '5 factor': {'BETAS': {\"['Mkt-RF' 'SMB' 'HML' 'RMW' 'CMA']\": [0.5236313293602484,\n",
       "    -0.32441845214045184,\n",
       "    -0.32387530182273233,\n",
       "    0.34264971248509973,\n",
       "    0.46945301655777016]},\n",
       "  'R2': 0.2527}}"
      ]
     },
     "metadata": {},
     "output_type": "display_data"
    },
    {
     "name": "stdout",
     "output_type": "stream",
     "text": [
      "\n",
      "COST\n"
     ]
    },
    {
     "data": {
      "text/plain": [
       "{'CAPM': {'BETAS': {\"['Mkt-RF']\": [0.7541342512636198]}, 'R2': 0.3708},\n",
       " '3 factor': {'BETAS': {\"['Mkt-RF' 'SMB' 'HML']\": [0.8104197705615579,\n",
       "    -0.24041722275572558,\n",
       "    -0.3593120787608351]},\n",
       "  'R2': 0.4573},\n",
       " '5 factor': {'BETAS': {\"['Mkt-RF' 'SMB' 'HML' 'RMW' 'CMA']\": [0.7744444853822089,\n",
       "    0.010845298765790809,\n",
       "    -0.5354647757168213,\n",
       "    0.5581562971174215,\n",
       "    0.17753762934456097]},\n",
       "  'R2': 0.4921}}"
      ]
     },
     "metadata": {},
     "output_type": "display_data"
    },
    {
     "name": "stdout",
     "output_type": "stream",
     "text": [
      "\n",
      "JNJ\n"
     ]
    },
    {
     "data": {
      "text/plain": [
       "{'CAPM': {'BETAS': {\"['Mkt-RF']\": [0.4975945662405118]}, 'R2': 0.2572},\n",
       " '3 factor': {'BETAS': {\"['Mkt-RF' 'SMB' 'HML']\": [0.5833619858417018,\n",
       "    -0.44486014836917664,\n",
       "    0.17336558734806987]},\n",
       "  'R2': 0.3232},\n",
       " '5 factor': {'BETAS': {\"['Mkt-RF' 'SMB' 'HML' 'RMW' 'CMA']\": [0.6430887542298958,\n",
       "    -0.2624467924671837,\n",
       "    -0.23372395959852021,\n",
       "    0.22030585769011313,\n",
       "    0.826982799701654]},\n",
       "  'R2': 0.4323}}"
      ]
     },
     "metadata": {},
     "output_type": "display_data"
    },
    {
     "name": "stdout",
     "output_type": "stream",
     "text": [
      "\n",
      "PFE\n"
     ]
    },
    {
     "data": {
      "text/plain": [
       "{'CAPM': {'BETAS': {\"['Mkt-RF']\": [0.579310605532223]}, 'R2': 0.1732},\n",
       " '3 factor': {'BETAS': {\"['Mkt-RF' 'SMB' 'HML']\": [0.6803767668909022,\n",
       "    -0.5113144567522403,\n",
       "    0.08587064483151315]},\n",
       "  'R2': 0.2147},\n",
       " '5 factor': {'BETAS': {\"['Mkt-RF' 'SMB' 'HML' 'RMW' 'CMA']\": [0.7054775129388012,\n",
       "    -0.11025587290442829,\n",
       "    -0.46370376827531556,\n",
       "    0.7131589046232989,\n",
       "    0.9544684845485356]},\n",
       "  'R2': 0.3249}}"
      ]
     },
     "metadata": {},
     "output_type": "display_data"
    },
    {
     "name": "stdout",
     "output_type": "stream",
     "text": [
      "\n",
      "XOM\n"
     ]
    },
    {
     "data": {
      "text/plain": [
       "{'CAPM': {'BETAS': {\"['Mkt-RF']\": [0.901239188665413]}, 'R2': 0.2719},\n",
       " '3 factor': {'BETAS': {\"['Mkt-RF' 'SMB' 'HML']\": [0.85407988368869,\n",
       "    0.12705651341307228,\n",
       "    0.9839675553576792]},\n",
       "  'R2': 0.5032},\n",
       " '5 factor': {'BETAS': {\"['Mkt-RF' 'SMB' 'HML' 'RMW' 'CMA']\": [0.9383861379648659,\n",
       "    0.21259949662888317,\n",
       "    0.6099578963913819,\n",
       "    -0.01795146384916305,\n",
       "    0.8456285830037471]},\n",
       "  'R2': 0.5365}}"
      ]
     },
     "metadata": {},
     "output_type": "display_data"
    },
    {
     "name": "stdout",
     "output_type": "stream",
     "text": [
      "\n",
      "CVS\n"
     ]
    },
    {
     "data": {
      "text/plain": [
       "{'CAPM': {'BETAS': {\"['Mkt-RF']\": [0.6043878860019355]}, 'R2': 0.1588},\n",
       " '3 factor': {'BETAS': {\"['Mkt-RF' 'SMB' 'HML']\": [0.5974526535054191,\n",
       "    9.660772592132161e-05,\n",
       "    0.3153710220374045]},\n",
       "  'R2': 0.1877},\n",
       " '5 factor': {'BETAS': {\"['Mkt-RF' 'SMB' 'HML' 'RMW' 'CMA']\": [0.6761333680138332,\n",
       "    0.09855418369264185,\n",
       "    -0.055409929205939706,\n",
       "    0.018871567233414016,\n",
       "    0.824043405181185]},\n",
       "  'R2': 0.229}}"
      ]
     },
     "metadata": {},
     "output_type": "display_data"
    },
    {
     "name": "stdout",
     "output_type": "stream",
     "text": [
      "\n",
      "IBM\n"
     ]
    },
    {
     "data": {
      "text/plain": [
       "{'CAPM': {'BETAS': {\"['Mkt-RF']\": [0.8132968528490391]}, 'R2': 0.3347},\n",
       " '3 factor': {'BETAS': {\"['Mkt-RF' 'SMB' 'HML']\": [0.8455113578730112,\n",
       "    -0.20056780317824466,\n",
       "    0.3724867963859948]},\n",
       "  'R2': 0.3768},\n",
       " '5 factor': {'BETAS': {\"['Mkt-RF' 'SMB' 'HML' 'RMW' 'CMA']\": [0.8471230272122267,\n",
       "    -0.04786770113223754,\n",
       "    0.1890819729343178,\n",
       "    0.28864404919501835,\n",
       "    0.2987954399751589]},\n",
       "  'R2': 0.3902}}"
      ]
     },
     "metadata": {},
     "output_type": "display_data"
    },
    {
     "name": "stdout",
     "output_type": "stream",
     "text": [
      "\n",
      "V\n"
     ]
    },
    {
     "data": {
      "text/plain": [
       "{'CAPM': {'BETAS': {\"['Mkt-RF']\": [0.9042577527890572]}, 'R2': 0.5165},\n",
       " '3 factor': {'BETAS': {\"['Mkt-RF' 'SMB' 'HML']\": [1.0023037117682954,\n",
       "    -0.48903726384672747,\n",
       "    0.019057912166933214]},\n",
       "  'R2': 0.5663},\n",
       " '5 factor': {'BETAS': {\"['Mkt-RF' 'SMB' 'HML' 'RMW' 'CMA']\": [1.000396219329499,\n",
       "    -0.5217722712773429,\n",
       "    0.06345553685533392,\n",
       "    -0.05851339858184598,\n",
       "    -0.07675635454376409]},\n",
       "  'R2': 0.5672}}"
      ]
     },
     "metadata": {},
     "output_type": "display_data"
    },
    {
     "name": "stdout",
     "output_type": "stream",
     "text": [
      "\n",
      "AMD\n"
     ]
    },
    {
     "data": {
      "text/plain": [
       "{'CAPM': {'BETAS': {\"['Mkt-RF']\": [2.056102666676594]}, 'R2': 0.3344},\n",
       " '3 factor': {'BETAS': {\"['Mkt-RF' 'SMB' 'HML']\": [2.094320256465361,\n",
       "    -0.1016933047424406,\n",
       "    -0.8090839236718295]},\n",
       "  'R2': 0.3713},\n",
       " '5 factor': {'BETAS': {\"['Mkt-RF' 'SMB' 'HML' 'RMW' 'CMA']\": [2.1736171256089247,\n",
       "    -0.37876600474704913,\n",
       "    -0.7437187028185979,\n",
       "    -0.7008457428285539,\n",
       "    0.12646802442580835]},\n",
       "  'R2': 0.3773}}"
      ]
     },
     "metadata": {},
     "output_type": "display_data"
    },
    {
     "name": "stdout",
     "output_type": "stream",
     "text": [
      "\n",
      "MCD\n"
     ]
    },
    {
     "data": {
      "text/plain": [
       "{'CAPM': {'BETAS': {\"['Mkt-RF']\": [0.6084365144073168]}, 'R2': 0.3263},\n",
       " '3 factor': {'BETAS': {\"['Mkt-RF' 'SMB' 'HML']\": [0.7198975031896178,\n",
       "    -0.5838921375284354,\n",
       "    0.2782242652181516]},\n",
       "  'R2': 0.4298},\n",
       " '5 factor': {'BETAS': {\"['Mkt-RF' 'SMB' 'HML' 'RMW' 'CMA']\": [0.7156876831587833,\n",
       "    -0.42839898896608264,\n",
       "    0.11049478731019896,\n",
       "    0.3065266182287738,\n",
       "    0.2566802119229208]},\n",
       "  'R2': 0.4515}}"
      ]
     },
     "metadata": {},
     "output_type": "display_data"
    },
    {
     "name": "stdout",
     "output_type": "stream",
     "text": [
      "\n",
      "KO\n"
     ]
    },
    {
     "data": {
      "text/plain": [
       "{'CAPM': {'BETAS': {\"['Mkt-RF']\": [0.5042959044121006]}, 'R2': 0.2497},\n",
       " '3 factor': {'BETAS': {\"['Mkt-RF' 'SMB' 'HML']\": [0.648975378748007,\n",
       "    -0.763150481419088,\n",
       "    0.4092742421526173]},\n",
       "  'R2': 0.4593},\n",
       " '5 factor': {'BETAS': {\"['Mkt-RF' 'SMB' 'HML' 'RMW' 'CMA']\": [0.6425460834753397,\n",
       "    -0.6197340760576654,\n",
       "    0.26285405618909297,\n",
       "    0.2882045272486174,\n",
       "    0.21603668870074874]},\n",
       "  'R2': 0.479}}"
      ]
     },
     "metadata": {},
     "output_type": "display_data"
    },
    {
     "name": "stdout",
     "output_type": "stream",
     "text": [
      "\n",
      "HP\n"
     ]
    },
    {
     "data": {
      "text/plain": [
       "{'CAPM': {'BETAS': {\"['Mkt-RF']\": [1.5548799257163037]}, 'R2': 0.2749},\n",
       " '3 factor': {'BETAS': {\"['Mkt-RF' 'SMB' 'HML']\": [1.2914687236356945,\n",
       "    1.1410706246257174,\n",
       "    1.5351992758761281]},\n",
       "  'R2': 0.566},\n",
       " '5 factor': {'BETAS': {\"['Mkt-RF' 'SMB' 'HML' 'RMW' 'CMA']\": [1.4684282047225827,\n",
       "    0.9586200883174223,\n",
       "    1.1725207410229357,\n",
       "    -0.730198260942138,\n",
       "    1.0976978992175697]},\n",
       "  'R2': 0.5932}}"
      ]
     },
     "metadata": {},
     "output_type": "display_data"
    },
    {
     "name": "stdout",
     "output_type": "stream",
     "text": [
      "\n"
     ]
    }
   ],
   "source": [
    "for i in range(len(tickers)):\n",
    "    print(tickers[i])\n",
    "    x = run_all_models(fama_french_df, tickers[i])\n",
    "    display(x)\n",
    "    print()"
   ]
  },
  {
   "cell_type": "markdown",
   "id": "b79e18a8-dea4-465e-b423-47325369c1b6",
   "metadata": {},
   "source": [
    "# Resultados"
   ]
  },
  {
   "cell_type": "markdown",
   "id": "4c0980ce-c554-49ab-b539-9acd5564e03f",
   "metadata": {},
   "source": [
    "Lo que se hace con los modelos contra cada acción es una regresión lineal, para el modelo del CAPM es una regresión lineal simple donde solo se toma en cuenta el retorno del mercado menos la tasa libre de riesgo, para los otros dos modelos se utiliza una regresión lineal múltiple ya que se toman en cuenta otros factores que existen en el mercado, y para cada modelo se calcula el r2, que es una manera de saber que tan confiable y bueno es el modelo.\n",
    "\n",
    "Para la mayoría de acciones el r2 va aumentando conforme aumentamos la cantidad de factores en el modelo. El cambio de r2 del CAPM contra el 3 factor suele ser bastante grande y significativo por lo que el modelo de 3 factor se puede considerar mejor y más completo al CAPM ya que su r2 suele ser bastante mayor indicando mayor confianza en el resultado.\n",
    "\n",
    "El cambio entre el r2 del 3 factor contra el 5 factor suele ser muy pequeño, a pesar de aumentar la cantidad de factores en el modelo si bien lo confiable del modelo si es mayor, es un cambio muy pequeño para la cantidad de datos que se le agregan al modelo por lo que se considera que es excesivo utilizar el modelo 5 factor para la poca mejora.\n",
    "\n",
    "Tomar en cuenta los factores de SMB, donde compara retornos de empresas chicas contra grandes y el HML que analiza los retornos de empresas de distinto book-to-value ratio; suele ser una buena idea ya que mejora el r2 lo que significa que estos factores son importantes en el mercado. Cuando se agregan el RMW donde ve empresas robustas contra débiles y el CMA donde analiza empresas conservadoras contra agresivas el incremento del r2 no es alto por lo que estos fatores no tienen mucho peso en el mercado, sin embargo, en ciertas acciones usar el modelo de 5 factor si mejora mucho el r2 por lo que puede ser útil hacerlo para ver en que tipo de empresas si tiene una mayor importancia."
   ]
  }
 ],
 "metadata": {
  "kernelspec": {
   "display_name": "Python 3 (ipykernel)",
   "language": "python",
   "name": "python3"
  },
  "language_info": {
   "codemirror_mode": {
    "name": "ipython",
    "version": 3
   },
   "file_extension": ".py",
   "mimetype": "text/x-python",
   "name": "python",
   "nbconvert_exporter": "python",
   "pygments_lexer": "ipython3",
   "version": "3.11.4"
  }
 },
 "nbformat": 4,
 "nbformat_minor": 5
}
