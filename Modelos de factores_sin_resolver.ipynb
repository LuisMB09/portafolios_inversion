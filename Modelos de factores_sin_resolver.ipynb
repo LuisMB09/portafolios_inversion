{
 "cells": [
  {
   "cell_type": "markdown",
   "id": "f4278e52",
   "metadata": {},
   "source": [
    "# Modelos de 1, 3 y 5 factores \n",
    "\n",
    "Fuente :  https://www.pwlcapital.com/wp-content/uploads/2020/12/Five-Factor-Investing-with-ETFs.pdf%20z\n",
    "\n",
    "## 5 factor model\n",
    "\n",
    "$$Stock = \\sum_{t=1} \\frac{E(d_{t+1})}{(1+r)^t}$$\n",
    "\n",
    "\n",
    "*Miller Modigliani Proposition*\n",
    "\n",
    "Los dividendos no importan, en realidad son solo dinero que tiene la empresa. De las ganancias vienen las inversiones en equipo, etc. \n",
    "\n",
    "$$E(d_{t+1}) = E(Profits_{t+1} - dB_{t+1}) $$\n",
    "\n",
    "\n",
    "Juntando todo\n",
    "$$Stock = \\sum_{t=1} \\frac{E(Profits_{t+1} - dB_{t+1})}{(1+r)^t}$$\n",
    "\n",
    "Escalando por el valor en libros:\n",
    "\n",
    "$$\\frac{Stock}{B_t} = \\frac{\\sum_{t=1} \\frac{E(Profits_{t+1} - dB_{t+1})}{(1+r)^t}}{B_t}$$\n",
    "\n",
    "\n",
    "$r$ es lo que imorta\n",
    "\n",
    "\n",
    "1- *Value premium*: 1- Si dejamos todo constante, excepto $r$ y $\\frac{stock}{B_t}$ significa que empresas con precio bajo necesariamente tienen mejor $r$\n",
    "\n",
    "2-  *Profitability premium*: Si dejamos todo constante excepto $Profits_{t+1}$  y $r$ significa que las empresas que ganan más deben tener mejor $r$\n",
    "\n",
    "3- *Investment premium* Si dejamos todo constante excepto $dB_{t+1}$ y $r$ entonces las compañias que gastan menos, tienen un mayor $r$\n"
   ]
  },
  {
   "cell_type": "markdown",
   "id": "1e24afc6",
   "metadata": {},
   "source": [
    "Instalar paquete"
   ]
  },
  {
   "cell_type": "code",
   "execution_count": 3,
   "id": "f7593dac",
   "metadata": {
    "tags": []
   },
   "outputs": [],
   "source": [
    "# Descargar factores\n",
    "\n",
    "import pandas_datareader.data as web\n",
    "import datetime\n",
    "from sklearn.metrics import r2_score\n",
    "import pandas as pd\n",
    "import yfinance as yf\n",
    "import matplotlib.pyplot as plt\n",
    "from sklearn.linear_model import LinearRegression\n",
    "\n",
    "# Definir las fechas de inicio y fin\n",
    "start_date = datetime.datetime(1980, 1, 1)\n",
    "end_date = datetime.datetime(2023, 12, 31)\n",
    "\n",
    "# Descargar los factores Fama-French desde la web de Ken French\n",
    "ff_factores = web.DataReader(\"F-F_Research_Data_5_Factors_2x3\", \"famafrench\", start_date, end_date)\n",
    "\n",
    "#ff_factores.head()"
   ]
  },
  {
   "cell_type": "code",
   "execution_count": 4,
   "id": "7b355db9",
   "metadata": {
    "tags": []
   },
   "outputs": [
    {
     "data": {
      "text/html": [
       "<div>\n",
       "<style scoped>\n",
       "    .dataframe tbody tr th:only-of-type {\n",
       "        vertical-align: middle;\n",
       "    }\n",
       "\n",
       "    .dataframe tbody tr th {\n",
       "        vertical-align: top;\n",
       "    }\n",
       "\n",
       "    .dataframe thead th {\n",
       "        text-align: right;\n",
       "    }\n",
       "</style>\n",
       "<table border=\"1\" class=\"dataframe\">\n",
       "  <thead>\n",
       "    <tr style=\"text-align: right;\">\n",
       "      <th></th>\n",
       "      <th>Mkt-RF</th>\n",
       "      <th>SMB</th>\n",
       "      <th>HML</th>\n",
       "      <th>RMW</th>\n",
       "      <th>CMA</th>\n",
       "      <th>RF</th>\n",
       "    </tr>\n",
       "    <tr>\n",
       "      <th>Date</th>\n",
       "      <th></th>\n",
       "      <th></th>\n",
       "      <th></th>\n",
       "      <th></th>\n",
       "      <th></th>\n",
       "      <th></th>\n",
       "    </tr>\n",
       "  </thead>\n",
       "  <tbody>\n",
       "    <tr>\n",
       "      <th>1980-01-01</th>\n",
       "      <td>0.0551</td>\n",
       "      <td>0.0183</td>\n",
       "      <td>0.0175</td>\n",
       "      <td>-0.0170</td>\n",
       "      <td>0.0164</td>\n",
       "      <td>0.0080</td>\n",
       "    </tr>\n",
       "    <tr>\n",
       "      <th>1980-02-01</th>\n",
       "      <td>-0.0122</td>\n",
       "      <td>-0.0157</td>\n",
       "      <td>0.0061</td>\n",
       "      <td>0.0004</td>\n",
       "      <td>0.0268</td>\n",
       "      <td>0.0089</td>\n",
       "    </tr>\n",
       "    <tr>\n",
       "      <th>1980-03-01</th>\n",
       "      <td>-0.1290</td>\n",
       "      <td>-0.0693</td>\n",
       "      <td>-0.0101</td>\n",
       "      <td>0.0146</td>\n",
       "      <td>-0.0119</td>\n",
       "      <td>0.0121</td>\n",
       "    </tr>\n",
       "    <tr>\n",
       "      <th>1980-04-01</th>\n",
       "      <td>0.0397</td>\n",
       "      <td>0.0105</td>\n",
       "      <td>0.0106</td>\n",
       "      <td>-0.0210</td>\n",
       "      <td>0.0029</td>\n",
       "      <td>0.0126</td>\n",
       "    </tr>\n",
       "    <tr>\n",
       "      <th>1980-05-01</th>\n",
       "      <td>0.0526</td>\n",
       "      <td>0.0211</td>\n",
       "      <td>0.0038</td>\n",
       "      <td>0.0034</td>\n",
       "      <td>-0.0031</td>\n",
       "      <td>0.0081</td>\n",
       "    </tr>\n",
       "  </tbody>\n",
       "</table>\n",
       "</div>"
      ],
      "text/plain": [
       "            Mkt-RF     SMB     HML     RMW     CMA      RF\n",
       "Date                                                      \n",
       "1980-01-01  0.0551  0.0183  0.0175 -0.0170  0.0164  0.0080\n",
       "1980-02-01 -0.0122 -0.0157  0.0061  0.0004  0.0268  0.0089\n",
       "1980-03-01 -0.1290 -0.0693 -0.0101  0.0146 -0.0119  0.0121\n",
       "1980-04-01  0.0397  0.0105  0.0106 -0.0210  0.0029  0.0126\n",
       "1980-05-01  0.0526  0.0211  0.0038  0.0034 -0.0031  0.0081"
      ]
     },
     "execution_count": 4,
     "metadata": {},
     "output_type": "execute_result"
    }
   ],
   "source": [
    "factors_df = ff_factores[0] / 100\n",
    "factors_df.index = factors_df.index.to_timestamp()\n",
    "factors_df.head()"
   ]
  },
  {
   "cell_type": "code",
   "execution_count": 6,
   "id": "d914af59",
   "metadata": {
    "tags": []
   },
   "outputs": [
    {
     "data": {
      "text/plain": [
       "Mkt-RF    0.084420\n",
       "SMB       0.010577\n",
       "HML       0.026720\n",
       "RMW       0.046257\n",
       "CMA       0.031368\n",
       "RF        0.039264\n",
       "dtype: float64"
      ]
     },
     "execution_count": 6,
     "metadata": {},
     "output_type": "execute_result"
    }
   ],
   "source": [
    "#  Anualizados\n",
    "factors_df.mean() * 12"
   ]
  },
  {
   "cell_type": "code",
   "execution_count": 4,
   "id": "3b09d375",
   "metadata": {},
   "outputs": [],
   "source": [
    "# Porcentaje de veces p\n",
    "np.mean(factors_df.RMW > 0)"
   ]
  },
  {
   "cell_type": "code",
   "execution_count": 8,
   "id": "ecd57354",
   "metadata": {
    "tags": []
   },
   "outputs": [
    {
     "data": {
      "text/plain": [
       "0.6231060606060606"
      ]
     },
     "execution_count": 8,
     "metadata": {},
     "output_type": "execute_result"
    }
   ],
   "source": [
    "# Escalar y transformar factores\n",
    "(factors_df['Mkt-RF'] > 0).mean()"
   ]
  },
  {
   "cell_type": "code",
   "execution_count": 9,
   "id": "0857c569-e425-44a9-98f1-d01af797320b",
   "metadata": {
    "tags": []
   },
   "outputs": [
    {
     "data": {
      "text/plain": [
       "0.4981060606060606"
      ]
     },
     "execution_count": 9,
     "metadata": {},
     "output_type": "execute_result"
    }
   ],
   "source": [
    "(factors_df['SMB'] > 0).mean()"
   ]
  },
  {
   "cell_type": "code",
   "execution_count": 10,
   "id": "7c20ecaf-66d7-4a84-89df-b22d792511ad",
   "metadata": {
    "tags": []
   },
   "outputs": [
    {
     "data": {
      "text/plain": [
       "0.5151515151515151"
      ]
     },
     "execution_count": 10,
     "metadata": {},
     "output_type": "execute_result"
    }
   ],
   "source": [
    "(factors_df['HML'] > 0).mean()"
   ]
  },
  {
   "cell_type": "code",
   "execution_count": 11,
   "id": "e1ad92b0",
   "metadata": {
    "tags": []
   },
   "outputs": [
    {
     "name": "stdout",
     "output_type": "stream",
     "text": [
      "[*********************100%%**********************]  8 of 8 completed\n"
     ]
    }
   ],
   "source": [
    "# Descargar acciones\n",
    "tickers = ['BRK-A', 'SPY', 'VB', 'VGT',\n",
    "          'AAPL', 'AMZN', 'MSFT', 'WMT']\n",
    "stock_data = yf.download(tickers, start_date, end_date, interval='1mo')['Adj Close']\n",
    "rt = stock_data.pct_change().dropna()"
   ]
  },
  {
   "cell_type": "code",
   "execution_count": 12,
   "id": "c06a24ea",
   "metadata": {
    "tags": []
   },
   "outputs": [],
   "source": [
    "# Ejemplo merge\n",
    "df1 = pd.DataFrame({\n",
    "    'id': ['1A', '5B', '7B','54'],\n",
    "    'rendimiento': [12, 1000, 50, 30]\n",
    "})\n",
    "\n",
    "df2 = pd.DataFrame({\n",
    "    'id': ['1A', '5B', '7B','54'],\n",
    "    'rendimiento': [12, 120, 50, 30]\n",
    "})"
   ]
  },
  {
   "cell_type": "code",
   "execution_count": 13,
   "id": "90becad9",
   "metadata": {
    "tags": []
   },
   "outputs": [
    {
     "data": {
      "text/html": [
       "<div>\n",
       "<style scoped>\n",
       "    .dataframe tbody tr th:only-of-type {\n",
       "        vertical-align: middle;\n",
       "    }\n",
       "\n",
       "    .dataframe tbody tr th {\n",
       "        vertical-align: top;\n",
       "    }\n",
       "\n",
       "    .dataframe thead th {\n",
       "        text-align: right;\n",
       "    }\n",
       "</style>\n",
       "<table border=\"1\" class=\"dataframe\">\n",
       "  <thead>\n",
       "    <tr style=\"text-align: right;\">\n",
       "      <th></th>\n",
       "      <th>id</th>\n",
       "      <th>rendimiento</th>\n",
       "    </tr>\n",
       "  </thead>\n",
       "  <tbody>\n",
       "    <tr>\n",
       "      <th>0</th>\n",
       "      <td>1A</td>\n",
       "      <td>12</td>\n",
       "    </tr>\n",
       "    <tr>\n",
       "      <th>1</th>\n",
       "      <td>5B</td>\n",
       "      <td>1000</td>\n",
       "    </tr>\n",
       "    <tr>\n",
       "      <th>2</th>\n",
       "      <td>7B</td>\n",
       "      <td>50</td>\n",
       "    </tr>\n",
       "    <tr>\n",
       "      <th>3</th>\n",
       "      <td>54</td>\n",
       "      <td>30</td>\n",
       "    </tr>\n",
       "  </tbody>\n",
       "</table>\n",
       "</div>"
      ],
      "text/plain": [
       "   id  rendimiento\n",
       "0  1A           12\n",
       "1  5B         1000\n",
       "2  7B           50\n",
       "3  54           30"
      ]
     },
     "execution_count": 13,
     "metadata": {},
     "output_type": "execute_result"
    }
   ],
   "source": [
    "df1"
   ]
  },
  {
   "cell_type": "code",
   "execution_count": 14,
   "id": "79b6f97b",
   "metadata": {
    "tags": []
   },
   "outputs": [
    {
     "data": {
      "text/html": [
       "<div>\n",
       "<style scoped>\n",
       "    .dataframe tbody tr th:only-of-type {\n",
       "        vertical-align: middle;\n",
       "    }\n",
       "\n",
       "    .dataframe tbody tr th {\n",
       "        vertical-align: top;\n",
       "    }\n",
       "\n",
       "    .dataframe thead th {\n",
       "        text-align: right;\n",
       "    }\n",
       "</style>\n",
       "<table border=\"1\" class=\"dataframe\">\n",
       "  <thead>\n",
       "    <tr style=\"text-align: right;\">\n",
       "      <th></th>\n",
       "      <th>id</th>\n",
       "      <th>rendimiento</th>\n",
       "    </tr>\n",
       "  </thead>\n",
       "  <tbody>\n",
       "    <tr>\n",
       "      <th>0</th>\n",
       "      <td>1A</td>\n",
       "      <td>12</td>\n",
       "    </tr>\n",
       "    <tr>\n",
       "      <th>1</th>\n",
       "      <td>5B</td>\n",
       "      <td>120</td>\n",
       "    </tr>\n",
       "    <tr>\n",
       "      <th>2</th>\n",
       "      <td>7B</td>\n",
       "      <td>50</td>\n",
       "    </tr>\n",
       "    <tr>\n",
       "      <th>3</th>\n",
       "      <td>54</td>\n",
       "      <td>30</td>\n",
       "    </tr>\n",
       "  </tbody>\n",
       "</table>\n",
       "</div>"
      ],
      "text/plain": [
       "   id  rendimiento\n",
       "0  1A           12\n",
       "1  5B          120\n",
       "2  7B           50\n",
       "3  54           30"
      ]
     },
     "execution_count": 14,
     "metadata": {},
     "output_type": "execute_result"
    }
   ],
   "source": [
    "df2"
   ]
  },
  {
   "cell_type": "code",
   "execution_count": 19,
   "id": "6faf6680",
   "metadata": {
    "tags": []
   },
   "outputs": [
    {
     "data": {
      "text/html": [
       "<div>\n",
       "<style scoped>\n",
       "    .dataframe tbody tr th:only-of-type {\n",
       "        vertical-align: middle;\n",
       "    }\n",
       "\n",
       "    .dataframe tbody tr th {\n",
       "        vertical-align: top;\n",
       "    }\n",
       "\n",
       "    .dataframe thead th {\n",
       "        text-align: right;\n",
       "    }\n",
       "</style>\n",
       "<table border=\"1\" class=\"dataframe\">\n",
       "  <thead>\n",
       "    <tr style=\"text-align: right;\">\n",
       "      <th></th>\n",
       "      <th>id</th>\n",
       "      <th>rendimiento_x</th>\n",
       "      <th>rendimiento_y</th>\n",
       "    </tr>\n",
       "  </thead>\n",
       "  <tbody>\n",
       "    <tr>\n",
       "      <th>0</th>\n",
       "      <td>1A</td>\n",
       "      <td>12</td>\n",
       "      <td>12</td>\n",
       "    </tr>\n",
       "    <tr>\n",
       "      <th>1</th>\n",
       "      <td>5B</td>\n",
       "      <td>1000</td>\n",
       "      <td>120</td>\n",
       "    </tr>\n",
       "    <tr>\n",
       "      <th>2</th>\n",
       "      <td>7B</td>\n",
       "      <td>50</td>\n",
       "      <td>50</td>\n",
       "    </tr>\n",
       "    <tr>\n",
       "      <th>3</th>\n",
       "      <td>54</td>\n",
       "      <td>30</td>\n",
       "      <td>30</td>\n",
       "    </tr>\n",
       "  </tbody>\n",
       "</table>\n",
       "</div>"
      ],
      "text/plain": [
       "   id  rendimiento_x  rendimiento_y\n",
       "0  1A             12             12\n",
       "1  5B           1000            120\n",
       "2  7B             50             50\n",
       "3  54             30             30"
      ]
     },
     "execution_count": 19,
     "metadata": {},
     "output_type": "execute_result"
    }
   ],
   "source": [
    "df3 = pd.merge(df1, df2, on='id')\n",
    "df3"
   ]
  },
  {
   "cell_type": "code",
   "execution_count": 20,
   "id": "e8fab2f2",
   "metadata": {
    "tags": []
   },
   "outputs": [],
   "source": [
    "# Juntar datos en Date\n",
    "fama_french_df = pd.merge(rt, factors_df, on='Date')"
   ]
  },
  {
   "cell_type": "markdown",
   "id": "1670fb21",
   "metadata": {},
   "source": [
    "### Crea el CAPM con el S&P500, ¿Qué concluyes?\n",
    "\n",
    "\n"
   ]
  },
  {
   "cell_type": "code",
   "execution_count": 24,
   "id": "bf349807",
   "metadata": {
    "tags": []
   },
   "outputs": [
    {
     "data": {
      "text/plain": [
       "0.9795754195873254"
      ]
     },
     "execution_count": 24,
     "metadata": {},
     "output_type": "execute_result"
    }
   ],
   "source": [
    "X = fama_french_df[['Mkt-RF']]\n",
    "y = fama_french_df['SPY'] - fama_french_df['RF']\n",
    "\n",
    "model = LinearRegression().fit(X,y)\n",
    "predictions = model.predict(X)\n",
    "r2_score(y_true=y, y_pred=predictions)"
   ]
  },
  {
   "cell_type": "markdown",
   "id": "81b8720c",
   "metadata": {},
   "source": [
    "# Ahora con Berkshiere"
   ]
  },
  {
   "cell_type": "code",
   "execution_count": 25,
   "id": "4d117dc1",
   "metadata": {
    "tags": []
   },
   "outputs": [
    {
     "data": {
      "text/plain": [
       "0.3650992255971841"
      ]
     },
     "execution_count": 25,
     "metadata": {},
     "output_type": "execute_result"
    }
   ],
   "source": [
    "# Accion minus RF \n",
    "X = fama_french_df[['BRK-A']]\n",
    "y = fama_french_df['SPY'] - fama_french_df['RF']\n",
    "\n",
    "model = LinearRegression().fit(X,y)\n",
    "predictions = model.predict(X)\n",
    "r2_score(y_true=y, y_pred=predictions)\n"
   ]
  },
  {
   "cell_type": "code",
   "execution_count": 26,
   "id": "6939c6b2-54d5-46d2-9384-12d4f4249497",
   "metadata": {
    "tags": []
   },
   "outputs": [
    {
     "data": {
      "image/png": "[encoded data removed]",
      "text/plain": [
       "<Figure size 640x480 with 1 Axes>"
      ]
     },
     "metadata": {},
     "output_type": "display_data"
    }
   ],
   "source": [
    "plt.scatter(X,y)\n",
    "plt.plot(X, predictions, c = 'red')\n",
    "plt.grid()"
   ]
  },
  {
   "cell_type": "markdown",
   "id": "93eaf3d3",
   "metadata": {},
   "source": [
    "## Fama french con Berkshiere"
   ]
  },
  {
   "cell_type": "code",
   "execution_count": 27,
   "id": "326c741e-1660-4e3b-8cf7-514f75edf7d7",
   "metadata": {
    "tags": []
   },
   "outputs": [
    {
     "data": {
      "text/plain": [
       "Index(['AAPL', 'AMZN', 'BRK-A', 'MSFT', 'SPY', 'VB', 'VGT', 'WMT', 'Mkt-RF',\n",
       "       'SMB', 'HML', 'RMW', 'CMA', 'RF'],\n",
       "      dtype='object')"
      ]
     },
     "execution_count": 27,
     "metadata": {},
     "output_type": "execute_result"
    }
   ],
   "source": [
    "fama_french_df.keys()"
   ]
  },
  {
   "cell_type": "code",
   "execution_count": 29,
   "id": "9ae30353-6324-45e7-96bb-f916744ce113",
   "metadata": {
    "tags": []
   },
   "outputs": [
    {
     "data": {
      "text/plain": [
       "0.35688413427777976"
      ]
     },
     "execution_count": 29,
     "metadata": {},
     "output_type": "execute_result"
    }
   ],
   "source": [
    "X = fama_french_df[['Mkt-RF']]\n",
    "y = fama_french_df['BRK-A'] - fama_french_df['RF']\n",
    "\n",
    "model = LinearRegression().fit(X,y)\n",
    "predictions = model.predict(X)\n",
    "r2_score(y_true=y, y_pred=predictions)"
   ]
  },
  {
   "cell_type": "code",
   "execution_count": 30,
   "id": "0211303b",
   "metadata": {
    "tags": []
   },
   "outputs": [
    {
     "data": {
      "text/plain": [
       "0.440680515679454"
      ]
     },
     "execution_count": 30,
     "metadata": {},
     "output_type": "execute_result"
    }
   ],
   "source": [
    "# Fama french\n",
    "X = fama_french_df[['Mkt-RF','SMB','HML']]\n",
    "y = fama_french_df['BRK-A'] - fama_french_df['RF']\n",
    "\n",
    "model = LinearRegression().fit(X,y)\n",
    "predictions = model.predict(X)\n",
    "r2_score(y_true=y, y_pred=predictions)"
   ]
  },
  {
   "cell_type": "markdown",
   "id": "0e28a876",
   "metadata": {},
   "source": [
    "# 5 factor model con Berkshiere"
   ]
  },
  {
   "cell_type": "code",
   "execution_count": 31,
   "id": "14a56b1b",
   "metadata": {
    "tags": []
   },
   "outputs": [
    {
     "data": {
      "text/plain": [
       "0.44167936419190357"
      ]
     },
     "execution_count": 31,
     "metadata": {},
     "output_type": "execute_result"
    }
   ],
   "source": [
    "X = fama_french_df[['Mkt-RF','SMB','HML','RMW','CMA']]\n",
    "y = fama_french_df['BRK-A'] - fama_french_df['RF']\n",
    "\n",
    "model = LinearRegression().fit(X,y)\n",
    "predictions = model.predict(X)\n",
    "r2_score(y_true=y, y_pred=predictions)"
   ]
  },
  {
   "cell_type": "code",
   "execution_count": 32,
   "id": "d00f41ad",
   "metadata": {
    "tags": []
   },
   "outputs": [],
   "source": [
    "# Correr todos los modelos\n",
    "def run_all_models(data, ticker):\n",
    "    flag_data = data.copy()\n",
    "    flag_data[ticker + '_minus_RF'] = data[ticker] - data['RF']\n",
    "    y = flag_data[[ticker + '_minus_RF']] \n",
    "\n",
    "    # CAPM \n",
    "    X_capm = flag_data[['Mkt-RF']]\n",
    "    model_capm = LinearRegression().fit(X_capm, y)\n",
    "    prediction_capm = model_capm.predict(X_capm)\n",
    "    r2_capm = r2_score(y_pred=prediction_capm, y_true=y)\n",
    "    summary_capm = {str(X_capm.keys().values): list(model_capm.coef_[0])}\n",
    "\n",
    "    # 3 factor model \n",
    "    X_3factor = flag_data[['Mkt-RF', 'SMB', 'HML']]\n",
    "    model_3factor = LinearRegression().fit(X_3factor, y)\n",
    "    prediction_3factor = model_3factor.predict(X_3factor)\n",
    "    r2_3factor = r2_score(y_pred=prediction_3factor, y_true=y)\n",
    "    summary_3factor = {str(X_3factor.keys().values): list(model_3factor.coef_[0])}\n",
    "    \n",
    "    \n",
    "    # 5 factor\n",
    "    X_5factor = flag_data[['Mkt-RF', 'SMB', 'HML', 'RMW', 'CMA']]\n",
    "    model_5factor = LinearRegression().fit(X_5factor, y)\n",
    "    prediction_5factor = model_5factor.predict(X_5factor)\n",
    "    r2_5factor = r2_score(y_pred=prediction_5factor, y_true=y)\n",
    "    summary_5factor = {str(X_5factor.keys().values): list(model_5factor.coef_[0])}\n",
    "    \n",
    "    summary = {\n",
    "        'CAPM': {'BETAS': summary_capm, 'R2': r2_capm},\n",
    "        '3 factor': {'BETAS': summary_3factor, 'R2': r2_3factor},\n",
    "        '5 factor': {'BETAS': summary_5factor, 'R2': r2_5factor}\n",
    "\n",
    "    }\n",
    "    return summary\n"
   ]
  },
  {
   "cell_type": "code",
   "execution_count": 35,
   "id": "c6156784",
   "metadata": {
    "tags": []
   },
   "outputs": [
    {
     "data": {
      "text/plain": [
       "{'CAPM': {'BETAS': {\"['Mkt-RF']\": [1.2111336838323317]},\n",
       "  'R2': 0.25896354576284586},\n",
       " '3 factor': {'BETAS': {\"['Mkt-RF' 'SMB' 'HML']\": [1.3434767078214442,\n",
       "    0.004054097892029707,\n",
       "    -1.2145754047253658]},\n",
       "  'R2': 0.38812567295839706},\n",
       " '5 factor': {'BETAS': {\"['Mkt-RF' 'SMB' 'HML' 'RMW' 'CMA']\": [1.2878886037793489,\n",
       "    -0.11819254404437413,\n",
       "    -0.9694201746859544,\n",
       "    -0.30396029797269825,\n",
       "    -0.5767823191617114]},\n",
       "  'R2': 0.39734868791624334}}"
      ]
     },
     "execution_count": 35,
     "metadata": {},
     "output_type": "execute_result"
    }
   ],
   "source": [
    "# Todos los modelos\n",
    "run_all_models(fama_french_df, 'AMZN')"
   ]
  },
  {
   "cell_type": "markdown",
   "id": "d509f502",
   "metadata": {
    "tags": []
   },
   "source": [
    "## Crea un portafolio con 50% apple y 50% amazon\n",
    "¿Qué concluyes?"
   ]
  },
  {
   "cell_type": "code",
   "execution_count": 36,
   "id": "47881566",
   "metadata": {
    "tags": []
   },
   "outputs": [],
   "source": [
    "fama_french_df['port_50_50'] = 0.5 * fama_french_df['AAPL'] + 0.5 * fama_french_df['AMZN']"
   ]
  },
  {
   "cell_type": "code",
   "execution_count": 37,
   "id": "6c065bda",
   "metadata": {
    "tags": []
   },
   "outputs": [
    {
     "data": {
      "text/plain": [
       "{'CAPM': {'BETAS': {\"['Mkt-RF']\": [1.2057880308359201]},\n",
       "  'R2': 0.41535423249036485},\n",
       " '3 factor': {'BETAS': {\"['Mkt-RF' 'SMB' 'HML']\": [1.3352366017563382,\n",
       "    -0.12880393543306679,\n",
       "    -0.9105522487162818]},\n",
       "  'R2': 0.5410016313704692},\n",
       " '5 factor': {'BETAS': {\"['Mkt-RF' 'SMB' 'HML' 'RMW' 'CMA']\": [1.2977745616768068,\n",
       "    -0.11874466070844397,\n",
       "    -0.7258381770400051,\n",
       "    0.13449421176089765,\n",
       "    -0.5133564443483215]},\n",
       "  'R2': 0.5502506842959071}}"
      ]
     },
     "execution_count": 37,
     "metadata": {},
     "output_type": "execute_result"
    }
   ],
   "source": [
    "run_all_models(fama_french_df, 'port_50_50')"
   ]
  },
  {
   "cell_type": "markdown",
   "id": "8b3f2d1a",
   "metadata": {},
   "source": [
    "## Crea un portafolio con (1/3) apple, (1/3) amazon 6(1/3) microsoft\n",
    "¿Qué concluyes?\n"
   ]
  },
  {
   "cell_type": "code",
   "execution_count": 38,
   "id": "61634be4",
   "metadata": {
    "tags": []
   },
   "outputs": [],
   "source": [
    "fama_french_df['port_33_33_33'] = (1/3) * fama_french_df['AAPL'] + (1/3) * fama_french_df['AMZN'] + (1/3) * fama_french_df['MSFT']"
   ]
  },
  {
   "cell_type": "code",
   "execution_count": 40,
   "id": "eb1b2710",
   "metadata": {
    "tags": []
   },
   "outputs": [
    {
     "data": {
      "text/plain": [
       "{'CAPM': {'BETAS': {\"['Mkt-RF']\": [1.1101335501574336]},\n",
       "  'R2': 0.5067627019646979},\n",
       " '3 factor': {'BETAS': {\"['Mkt-RF' 'SMB' 'HML']\": [1.2511988388667075,\n",
       "    -0.28840274606453753,\n",
       "    -0.6828936437672202]},\n",
       "  'R2': 0.6279523163360032},\n",
       " '5 factor': {'BETAS': {\"['Mkt-RF' 'SMB' 'HML' 'RMW' 'CMA']\": [1.2181315080679536,\n",
       "    -0.29100125632267937,\n",
       "    -0.5222694842066427,\n",
       "    0.07658458728539921,\n",
       "    -0.437657680410262]},\n",
       "  'R2': 0.6372079196848089}}"
      ]
     },
     "execution_count": 40,
     "metadata": {},
     "output_type": "execute_result"
    }
   ],
   "source": [
    "run_all_models(fama_french_df, 'port_33_33_33')"
   ]
  },
  {
   "cell_type": "code",
   "execution_count": 41,
   "id": "6cfcd7f6",
   "metadata": {
    "tags": []
   },
   "outputs": [
    {
     "data": {
      "text/plain": [
       "{'CAPM': {'BETAS': {\"['Mkt-RF']\": [1.1358848797477819]},\n",
       "  'R2': 0.8284505117345342},\n",
       " '3 factor': {'BETAS': {\"['Mkt-RF' 'SMB' 'HML']\": [1.1843895516585525,\n",
       "    -0.025795345276381748,\n",
       "    -0.3881388044199044]},\n",
       "  'R2': 0.8778884031412277},\n",
       " '5 factor': {'BETAS': {\"['Mkt-RF' 'SMB' 'HML' 'RMW' 'CMA']\": [1.1720840411925442,\n",
       "    -0.052791111845878924,\n",
       "    -0.3338550130763808,\n",
       "    -0.06704559491724685,\n",
       "    -0.127770883278319]},\n",
       "  'R2': 0.879530696929228}}"
      ]
     },
     "execution_count": 41,
     "metadata": {},
     "output_type": "execute_result"
    }
   ],
   "source": [
    "run_all_models(fama_french_df, 'VGT')"
   ]
  },
  {
   "cell_type": "code",
   "execution_count": 42,
   "id": "ff9ef9a6-45bb-419e-bb7c-0055bb6ab2bc",
   "metadata": {
    "tags": []
   },
   "outputs": [
    {
     "data": {
      "text/plain": [
       "{'CAPM': {'BETAS': {\"['Mkt-RF']\": [1.1873304615786653]},\n",
       "  'R2': 0.8928365926997954},\n",
       " '3 factor': {'BETAS': {\"['Mkt-RF' 'SMB' 'HML']\": [1.0376327232167635,\n",
       "    0.6233031873110804,\n",
       "    0.06169538250957721]},\n",
       "  'R2': 0.9699076381313712},\n",
       " '5 factor': {'BETAS': {\"['Mkt-RF' 'SMB' 'HML' 'RMW' 'CMA']\": [1.0311027612147434,\n",
       "    0.6124087266104885,\n",
       "    0.09122493042681798,\n",
       "    -0.022983828578090115,\n",
       "    -0.07242829421104642]},\n",
       "  'R2': 0.9703389922920004}}"
      ]
     },
     "execution_count": 42,
     "metadata": {},
     "output_type": "execute_result"
    }
   ],
   "source": [
    "run_all_models(fama_french_df, 'VB')"
   ]
  }
 ],
 "metadata": {
  "kernelspec": {
   "display_name": "Python 3 (ipykernel)",
   "language": "python",
   "name": "python3"
  },
  "language_info": {
   "codemirror_mode": {
    "name": "ipython",
    "version": 3
   },
   "file_extension": ".py",
   "mimetype": "text/x-python",
   "name": "python",
   "nbconvert_exporter": "python",
   "pygments_lexer": "ipython3",
   "version": "3.11.4"
  }
 },
 "nbformat": 4,
 "nbformat_minor": 5
}
