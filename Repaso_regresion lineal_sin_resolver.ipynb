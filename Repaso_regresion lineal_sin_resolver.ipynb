{
 "cells": [
  {
   "cell_type": "code",
   "execution_count": 1,
   "id": "8dff8588",
   "metadata": {},
   "outputs": [],
   "source": [
    "# Importar liberias\n",
    "import pandas as pd\n",
    "import numpy as np\n",
    "import matplotlib.pyplot as plt"
   ]
  },
  {
   "cell_type": "code",
   "execution_count": 2,
   "id": "081ce094",
   "metadata": {},
   "outputs": [],
   "source": [
    "# Convertir a pesos\n",
    "df = pd.read_csv('weight-height.csv')[['Height', 'Weight', 'Gender']].sample(50).reset_index()\n",
    "df['Height'] = np.round(df.Height * 2.54) / 100\n",
    "df['Weight'] = np.round(df.Weight * 0.453592)"
   ]
  },
  {
   "cell_type": "code",
   "execution_count": 4,
   "id": "c04cb66b",
   "metadata": {},
   "outputs": [
    {
     "data": {
      "image/png": "[encoded data removed]",
      "text/plain": [
       "<Figure size 640x480 with 1 Axes>"
      ]
     },
     "metadata": {},
     "output_type": "display_data"
    }
   ],
   "source": [
    "# Grafique peso vs altura\n",
    "plt.scatter(df.Height, df.Weight)\n",
    "plt.grid()"
   ]
  },
  {
   "cell_type": "code",
   "execution_count": null,
   "id": "a5bd4401-ecf6-4c81-a06c-78530034b8ea",
   "metadata": {},
   "outputs": [],
   "source": []
  },
  {
   "cell_type": "markdown",
   "id": "66389c24",
   "metadata": {},
   "source": [
    "# Llega alguien de 1.7 metros  ¿cuanto peso tiene?\n",
    "\n",
    "Idea 1: centimetros = peso\n"
   ]
  },
  {
   "cell_type": "code",
   "execution_count": 11,
   "id": "02a2e9ce",
   "metadata": {},
   "outputs": [
    {
     "data": {
      "text/html": [
       "<div>\n",
       "<style scoped>\n",
       "    .dataframe tbody tr th:only-of-type {\n",
       "        vertical-align: middle;\n",
       "    }\n",
       "\n",
       "    .dataframe tbody tr th {\n",
       "        vertical-align: top;\n",
       "    }\n",
       "\n",
       "    .dataframe thead th {\n",
       "        text-align: right;\n",
       "    }\n",
       "</style>\n",
       "<table border=\"1\" class=\"dataframe\">\n",
       "  <thead>\n",
       "    <tr style=\"text-align: right;\">\n",
       "      <th></th>\n",
       "      <th>index</th>\n",
       "      <th>Height</th>\n",
       "      <th>Weight</th>\n",
       "      <th>Gender</th>\n",
       "      <th>centimetros</th>\n",
       "      <th>centimeters</th>\n",
       "    </tr>\n",
       "  </thead>\n",
       "  <tbody>\n",
       "    <tr>\n",
       "      <th>0</th>\n",
       "      <td>9418</td>\n",
       "      <td>1.67</td>\n",
       "      <td>62.0</td>\n",
       "      <td>Female</td>\n",
       "      <td>67.0</td>\n",
       "      <td>67.0</td>\n",
       "    </tr>\n",
       "    <tr>\n",
       "      <th>1</th>\n",
       "      <td>4009</td>\n",
       "      <td>1.78</td>\n",
       "      <td>87.0</td>\n",
       "      <td>Male</td>\n",
       "      <td>78.0</td>\n",
       "      <td>78.0</td>\n",
       "    </tr>\n",
       "    <tr>\n",
       "      <th>2</th>\n",
       "      <td>6433</td>\n",
       "      <td>1.71</td>\n",
       "      <td>78.0</td>\n",
       "      <td>Female</td>\n",
       "      <td>71.0</td>\n",
       "      <td>71.0</td>\n",
       "    </tr>\n",
       "    <tr>\n",
       "      <th>3</th>\n",
       "      <td>2649</td>\n",
       "      <td>1.91</td>\n",
       "      <td>103.0</td>\n",
       "      <td>Male</td>\n",
       "      <td>91.0</td>\n",
       "      <td>91.0</td>\n",
       "    </tr>\n",
       "    <tr>\n",
       "      <th>4</th>\n",
       "      <td>8077</td>\n",
       "      <td>1.56</td>\n",
       "      <td>64.0</td>\n",
       "      <td>Female</td>\n",
       "      <td>56.0</td>\n",
       "      <td>56.0</td>\n",
       "    </tr>\n",
       "    <tr>\n",
       "      <th>5</th>\n",
       "      <td>1644</td>\n",
       "      <td>1.64</td>\n",
       "      <td>78.0</td>\n",
       "      <td>Male</td>\n",
       "      <td>64.0</td>\n",
       "      <td>64.0</td>\n",
       "    </tr>\n",
       "    <tr>\n",
       "      <th>6</th>\n",
       "      <td>8506</td>\n",
       "      <td>1.65</td>\n",
       "      <td>67.0</td>\n",
       "      <td>Female</td>\n",
       "      <td>65.0</td>\n",
       "      <td>65.0</td>\n",
       "    </tr>\n",
       "    <tr>\n",
       "      <th>7</th>\n",
       "      <td>9063</td>\n",
       "      <td>1.64</td>\n",
       "      <td>69.0</td>\n",
       "      <td>Female</td>\n",
       "      <td>64.0</td>\n",
       "      <td>64.0</td>\n",
       "    </tr>\n",
       "    <tr>\n",
       "      <th>8</th>\n",
       "      <td>5181</td>\n",
       "      <td>1.64</td>\n",
       "      <td>59.0</td>\n",
       "      <td>Female</td>\n",
       "      <td>64.0</td>\n",
       "      <td>64.0</td>\n",
       "    </tr>\n",
       "    <tr>\n",
       "      <th>9</th>\n",
       "      <td>2569</td>\n",
       "      <td>1.74</td>\n",
       "      <td>87.0</td>\n",
       "      <td>Male</td>\n",
       "      <td>74.0</td>\n",
       "      <td>74.0</td>\n",
       "    </tr>\n",
       "    <tr>\n",
       "      <th>10</th>\n",
       "      <td>3859</td>\n",
       "      <td>1.91</td>\n",
       "      <td>102.0</td>\n",
       "      <td>Male</td>\n",
       "      <td>91.0</td>\n",
       "      <td>91.0</td>\n",
       "    </tr>\n",
       "    <tr>\n",
       "      <th>11</th>\n",
       "      <td>5489</td>\n",
       "      <td>1.68</td>\n",
       "      <td>68.0</td>\n",
       "      <td>Female</td>\n",
       "      <td>68.0</td>\n",
       "      <td>68.0</td>\n",
       "    </tr>\n",
       "    <tr>\n",
       "      <th>12</th>\n",
       "      <td>2967</td>\n",
       "      <td>1.73</td>\n",
       "      <td>85.0</td>\n",
       "      <td>Male</td>\n",
       "      <td>73.0</td>\n",
       "      <td>73.0</td>\n",
       "    </tr>\n",
       "    <tr>\n",
       "      <th>13</th>\n",
       "      <td>750</td>\n",
       "      <td>1.79</td>\n",
       "      <td>91.0</td>\n",
       "      <td>Male</td>\n",
       "      <td>79.0</td>\n",
       "      <td>79.0</td>\n",
       "    </tr>\n",
       "    <tr>\n",
       "      <th>14</th>\n",
       "      <td>4760</td>\n",
       "      <td>1.74</td>\n",
       "      <td>75.0</td>\n",
       "      <td>Male</td>\n",
       "      <td>74.0</td>\n",
       "      <td>74.0</td>\n",
       "    </tr>\n",
       "    <tr>\n",
       "      <th>15</th>\n",
       "      <td>8656</td>\n",
       "      <td>1.69</td>\n",
       "      <td>69.0</td>\n",
       "      <td>Female</td>\n",
       "      <td>69.0</td>\n",
       "      <td>69.0</td>\n",
       "    </tr>\n",
       "    <tr>\n",
       "      <th>16</th>\n",
       "      <td>6415</td>\n",
       "      <td>1.70</td>\n",
       "      <td>71.0</td>\n",
       "      <td>Female</td>\n",
       "      <td>70.0</td>\n",
       "      <td>70.0</td>\n",
       "    </tr>\n",
       "    <tr>\n",
       "      <th>17</th>\n",
       "      <td>636</td>\n",
       "      <td>1.72</td>\n",
       "      <td>74.0</td>\n",
       "      <td>Male</td>\n",
       "      <td>72.0</td>\n",
       "      <td>72.0</td>\n",
       "    </tr>\n",
       "    <tr>\n",
       "      <th>18</th>\n",
       "      <td>108</td>\n",
       "      <td>1.76</td>\n",
       "      <td>78.0</td>\n",
       "      <td>Male</td>\n",
       "      <td>76.0</td>\n",
       "      <td>76.0</td>\n",
       "    </tr>\n",
       "    <tr>\n",
       "      <th>19</th>\n",
       "      <td>9544</td>\n",
       "      <td>1.61</td>\n",
       "      <td>62.0</td>\n",
       "      <td>Female</td>\n",
       "      <td>61.0</td>\n",
       "      <td>61.0</td>\n",
       "    </tr>\n",
       "    <tr>\n",
       "      <th>20</th>\n",
       "      <td>9768</td>\n",
       "      <td>1.67</td>\n",
       "      <td>65.0</td>\n",
       "      <td>Female</td>\n",
       "      <td>67.0</td>\n",
       "      <td>67.0</td>\n",
       "    </tr>\n",
       "    <tr>\n",
       "      <th>21</th>\n",
       "      <td>6881</td>\n",
       "      <td>1.64</td>\n",
       "      <td>63.0</td>\n",
       "      <td>Female</td>\n",
       "      <td>64.0</td>\n",
       "      <td>64.0</td>\n",
       "    </tr>\n",
       "    <tr>\n",
       "      <th>22</th>\n",
       "      <td>3923</td>\n",
       "      <td>1.71</td>\n",
       "      <td>80.0</td>\n",
       "      <td>Male</td>\n",
       "      <td>71.0</td>\n",
       "      <td>71.0</td>\n",
       "    </tr>\n",
       "    <tr>\n",
       "      <th>23</th>\n",
       "      <td>3249</td>\n",
       "      <td>1.81</td>\n",
       "      <td>88.0</td>\n",
       "      <td>Male</td>\n",
       "      <td>81.0</td>\n",
       "      <td>81.0</td>\n",
       "    </tr>\n",
       "    <tr>\n",
       "      <th>24</th>\n",
       "      <td>9505</td>\n",
       "      <td>1.52</td>\n",
       "      <td>47.0</td>\n",
       "      <td>Female</td>\n",
       "      <td>52.0</td>\n",
       "      <td>52.0</td>\n",
       "    </tr>\n",
       "    <tr>\n",
       "      <th>25</th>\n",
       "      <td>3283</td>\n",
       "      <td>1.84</td>\n",
       "      <td>90.0</td>\n",
       "      <td>Male</td>\n",
       "      <td>84.0</td>\n",
       "      <td>84.0</td>\n",
       "    </tr>\n",
       "    <tr>\n",
       "      <th>26</th>\n",
       "      <td>948</td>\n",
       "      <td>1.76</td>\n",
       "      <td>79.0</td>\n",
       "      <td>Male</td>\n",
       "      <td>76.0</td>\n",
       "      <td>76.0</td>\n",
       "    </tr>\n",
       "    <tr>\n",
       "      <th>27</th>\n",
       "      <td>2469</td>\n",
       "      <td>1.61</td>\n",
       "      <td>63.0</td>\n",
       "      <td>Male</td>\n",
       "      <td>61.0</td>\n",
       "      <td>61.0</td>\n",
       "    </tr>\n",
       "    <tr>\n",
       "      <th>28</th>\n",
       "      <td>2963</td>\n",
       "      <td>1.84</td>\n",
       "      <td>94.0</td>\n",
       "      <td>Male</td>\n",
       "      <td>84.0</td>\n",
       "      <td>84.0</td>\n",
       "    </tr>\n",
       "    <tr>\n",
       "      <th>29</th>\n",
       "      <td>6090</td>\n",
       "      <td>1.57</td>\n",
       "      <td>52.0</td>\n",
       "      <td>Female</td>\n",
       "      <td>57.0</td>\n",
       "      <td>57.0</td>\n",
       "    </tr>\n",
       "    <tr>\n",
       "      <th>30</th>\n",
       "      <td>94</td>\n",
       "      <td>1.70</td>\n",
       "      <td>75.0</td>\n",
       "      <td>Male</td>\n",
       "      <td>70.0</td>\n",
       "      <td>70.0</td>\n",
       "    </tr>\n",
       "    <tr>\n",
       "      <th>31</th>\n",
       "      <td>1354</td>\n",
       "      <td>1.83</td>\n",
       "      <td>91.0</td>\n",
       "      <td>Male</td>\n",
       "      <td>83.0</td>\n",
       "      <td>83.0</td>\n",
       "    </tr>\n",
       "    <tr>\n",
       "      <th>32</th>\n",
       "      <td>7584</td>\n",
       "      <td>1.64</td>\n",
       "      <td>67.0</td>\n",
       "      <td>Female</td>\n",
       "      <td>64.0</td>\n",
       "      <td>64.0</td>\n",
       "    </tr>\n",
       "    <tr>\n",
       "      <th>33</th>\n",
       "      <td>4217</td>\n",
       "      <td>1.68</td>\n",
       "      <td>68.0</td>\n",
       "      <td>Male</td>\n",
       "      <td>68.0</td>\n",
       "      <td>68.0</td>\n",
       "    </tr>\n",
       "    <tr>\n",
       "      <th>34</th>\n",
       "      <td>7149</td>\n",
       "      <td>1.59</td>\n",
       "      <td>53.0</td>\n",
       "      <td>Female</td>\n",
       "      <td>59.0</td>\n",
       "      <td>59.0</td>\n",
       "    </tr>\n",
       "    <tr>\n",
       "      <th>35</th>\n",
       "      <td>9857</td>\n",
       "      <td>1.63</td>\n",
       "      <td>58.0</td>\n",
       "      <td>Female</td>\n",
       "      <td>63.0</td>\n",
       "      <td>63.0</td>\n",
       "    </tr>\n",
       "    <tr>\n",
       "      <th>36</th>\n",
       "      <td>8841</td>\n",
       "      <td>1.48</td>\n",
       "      <td>52.0</td>\n",
       "      <td>Female</td>\n",
       "      <td>48.0</td>\n",
       "      <td>48.0</td>\n",
       "    </tr>\n",
       "    <tr>\n",
       "      <th>37</th>\n",
       "      <td>4466</td>\n",
       "      <td>1.74</td>\n",
       "      <td>76.0</td>\n",
       "      <td>Male</td>\n",
       "      <td>74.0</td>\n",
       "      <td>74.0</td>\n",
       "    </tr>\n",
       "    <tr>\n",
       "      <th>38</th>\n",
       "      <td>4224</td>\n",
       "      <td>1.80</td>\n",
       "      <td>94.0</td>\n",
       "      <td>Male</td>\n",
       "      <td>80.0</td>\n",
       "      <td>80.0</td>\n",
       "    </tr>\n",
       "    <tr>\n",
       "      <th>39</th>\n",
       "      <td>9004</td>\n",
       "      <td>1.54</td>\n",
       "      <td>55.0</td>\n",
       "      <td>Female</td>\n",
       "      <td>54.0</td>\n",
       "      <td>54.0</td>\n",
       "    </tr>\n",
       "    <tr>\n",
       "      <th>40</th>\n",
       "      <td>8093</td>\n",
       "      <td>1.64</td>\n",
       "      <td>64.0</td>\n",
       "      <td>Female</td>\n",
       "      <td>64.0</td>\n",
       "      <td>64.0</td>\n",
       "    </tr>\n",
       "    <tr>\n",
       "      <th>41</th>\n",
       "      <td>587</td>\n",
       "      <td>1.79</td>\n",
       "      <td>79.0</td>\n",
       "      <td>Male</td>\n",
       "      <td>79.0</td>\n",
       "      <td>79.0</td>\n",
       "    </tr>\n",
       "    <tr>\n",
       "      <th>42</th>\n",
       "      <td>350</td>\n",
       "      <td>1.68</td>\n",
       "      <td>75.0</td>\n",
       "      <td>Male</td>\n",
       "      <td>68.0</td>\n",
       "      <td>68.0</td>\n",
       "    </tr>\n",
       "    <tr>\n",
       "      <th>43</th>\n",
       "      <td>591</td>\n",
       "      <td>1.87</td>\n",
       "      <td>97.0</td>\n",
       "      <td>Male</td>\n",
       "      <td>87.0</td>\n",
       "      <td>87.0</td>\n",
       "    </tr>\n",
       "    <tr>\n",
       "      <th>44</th>\n",
       "      <td>3523</td>\n",
       "      <td>1.78</td>\n",
       "      <td>90.0</td>\n",
       "      <td>Male</td>\n",
       "      <td>78.0</td>\n",
       "      <td>78.0</td>\n",
       "    </tr>\n",
       "    <tr>\n",
       "      <th>45</th>\n",
       "      <td>3922</td>\n",
       "      <td>1.62</td>\n",
       "      <td>70.0</td>\n",
       "      <td>Male</td>\n",
       "      <td>62.0</td>\n",
       "      <td>62.0</td>\n",
       "    </tr>\n",
       "    <tr>\n",
       "      <th>46</th>\n",
       "      <td>4319</td>\n",
       "      <td>1.76</td>\n",
       "      <td>91.0</td>\n",
       "      <td>Male</td>\n",
       "      <td>76.0</td>\n",
       "      <td>76.0</td>\n",
       "    </tr>\n",
       "    <tr>\n",
       "      <th>47</th>\n",
       "      <td>5926</td>\n",
       "      <td>1.51</td>\n",
       "      <td>56.0</td>\n",
       "      <td>Female</td>\n",
       "      <td>51.0</td>\n",
       "      <td>51.0</td>\n",
       "    </tr>\n",
       "    <tr>\n",
       "      <th>48</th>\n",
       "      <td>8616</td>\n",
       "      <td>1.67</td>\n",
       "      <td>65.0</td>\n",
       "      <td>Female</td>\n",
       "      <td>67.0</td>\n",
       "      <td>67.0</td>\n",
       "    </tr>\n",
       "    <tr>\n",
       "      <th>49</th>\n",
       "      <td>973</td>\n",
       "      <td>1.71</td>\n",
       "      <td>86.0</td>\n",
       "      <td>Male</td>\n",
       "      <td>71.0</td>\n",
       "      <td>71.0</td>\n",
       "    </tr>\n",
       "  </tbody>\n",
       "</table>\n",
       "</div>"
      ],
      "text/plain": [
       "    index  Height  Weight  Gender  centimetros  centimeters\n",
       "0    9418    1.67    62.0  Female         67.0         67.0\n",
       "1    4009    1.78    87.0    Male         78.0         78.0\n",
       "2    6433    1.71    78.0  Female         71.0         71.0\n",
       "3    2649    1.91   103.0    Male         91.0         91.0\n",
       "4    8077    1.56    64.0  Female         56.0         56.0\n",
       "5    1644    1.64    78.0    Male         64.0         64.0\n",
       "6    8506    1.65    67.0  Female         65.0         65.0\n",
       "7    9063    1.64    69.0  Female         64.0         64.0\n",
       "8    5181    1.64    59.0  Female         64.0         64.0\n",
       "9    2569    1.74    87.0    Male         74.0         74.0\n",
       "10   3859    1.91   102.0    Male         91.0         91.0\n",
       "11   5489    1.68    68.0  Female         68.0         68.0\n",
       "12   2967    1.73    85.0    Male         73.0         73.0\n",
       "13    750    1.79    91.0    Male         79.0         79.0\n",
       "14   4760    1.74    75.0    Male         74.0         74.0\n",
       "15   8656    1.69    69.0  Female         69.0         69.0\n",
       "16   6415    1.70    71.0  Female         70.0         70.0\n",
       "17    636    1.72    74.0    Male         72.0         72.0\n",
       "18    108    1.76    78.0    Male         76.0         76.0\n",
       "19   9544    1.61    62.0  Female         61.0         61.0\n",
       "20   9768    1.67    65.0  Female         67.0         67.0\n",
       "21   6881    1.64    63.0  Female         64.0         64.0\n",
       "22   3923    1.71    80.0    Male         71.0         71.0\n",
       "23   3249    1.81    88.0    Male         81.0         81.0\n",
       "24   9505    1.52    47.0  Female         52.0         52.0\n",
       "25   3283    1.84    90.0    Male         84.0         84.0\n",
       "26    948    1.76    79.0    Male         76.0         76.0\n",
       "27   2469    1.61    63.0    Male         61.0         61.0\n",
       "28   2963    1.84    94.0    Male         84.0         84.0\n",
       "29   6090    1.57    52.0  Female         57.0         57.0\n",
       "30     94    1.70    75.0    Male         70.0         70.0\n",
       "31   1354    1.83    91.0    Male         83.0         83.0\n",
       "32   7584    1.64    67.0  Female         64.0         64.0\n",
       "33   4217    1.68    68.0    Male         68.0         68.0\n",
       "34   7149    1.59    53.0  Female         59.0         59.0\n",
       "35   9857    1.63    58.0  Female         63.0         63.0\n",
       "36   8841    1.48    52.0  Female         48.0         48.0\n",
       "37   4466    1.74    76.0    Male         74.0         74.0\n",
       "38   4224    1.80    94.0    Male         80.0         80.0\n",
       "39   9004    1.54    55.0  Female         54.0         54.0\n",
       "40   8093    1.64    64.0  Female         64.0         64.0\n",
       "41    587    1.79    79.0    Male         79.0         79.0\n",
       "42    350    1.68    75.0    Male         68.0         68.0\n",
       "43    591    1.87    97.0    Male         87.0         87.0\n",
       "44   3523    1.78    90.0    Male         78.0         78.0\n",
       "45   3922    1.62    70.0    Male         62.0         62.0\n",
       "46   4319    1.76    91.0    Male         76.0         76.0\n",
       "47   5926    1.51    56.0  Female         51.0         51.0\n",
       "48   8616    1.67    65.0  Female         67.0         67.0\n",
       "49    973    1.71    86.0    Male         71.0         71.0"
      ]
     },
     "execution_count": 11,
     "metadata": {},
     "output_type": "execute_result"
    }
   ],
   "source": [
    "# Crea una columna de centimetros, altura * 100 - 100 \n",
    "df['centimeters']=df.Height * 100 - 100\n",
    "df"
   ]
  },
  {
   "cell_type": "code",
   "execution_count": 12,
   "id": "8e4dd258",
   "metadata": {},
   "outputs": [
    {
     "data": {
      "image/png": "[encoded data removed]",
      "text/plain": [
       "<Figure size 640x480 with 1 Axes>"
      ]
     },
     "metadata": {},
     "output_type": "display_data"
    }
   ],
   "source": [
    "# Grafique el modelo\n",
    "# Grafique peso vs altura\n",
    "plt.scatter(df.Height, df.Weight)\n",
    "plt.plot(df.Height, df.centimeters, c='red', label='Model centimeters')\n",
    "plt.legend()\n",
    "plt.grid()"
   ]
  },
  {
   "cell_type": "markdown",
   "id": "af3aa34f",
   "metadata": {},
   "source": [
    "### ¿Qué tan bueno es mi modelo? Saquemos el error"
   ]
  },
  {
   "cell_type": "code",
   "execution_count": 16,
   "id": "b3923513",
   "metadata": {},
   "outputs": [
    {
     "data": {
      "text/plain": [
       "5.93686786108635"
      ]
     },
     "execution_count": 16,
     "metadata": {},
     "output_type": "execute_result"
    }
   ],
   "source": [
    "# Error\n",
    "np.std(df.Weight - df.centimeters)"
   ]
  },
  {
   "cell_type": "code",
   "execution_count": 17,
   "id": "13032877",
   "metadata": {},
   "outputs": [],
   "source": [
    "error_cuadratico = np.var(df.Weight - df.centimeters)"
   ]
  },
  {
   "cell_type": "code",
   "execution_count": 19,
   "id": "1cbf6b5a",
   "metadata": {},
   "outputs": [],
   "source": [
    "# error usando el promedio\n",
    "error_promedio = np.var(df.Weight - df.Weight.mean())"
   ]
  },
  {
   "cell_type": "code",
   "execution_count": 20,
   "id": "e6a3d1d3",
   "metadata": {},
   "outputs": [
    {
     "data": {
      "text/plain": [
       "0.8185255665669869"
      ]
     },
     "execution_count": 20,
     "metadata": {},
     "output_type": "execute_result"
    }
   ],
   "source": [
    "# Es 81% mejor al promedio\n",
    "(error_promedio - error_cuadratico)/error_promedio"
   ]
  },
  {
   "cell_type": "code",
   "execution_count": null,
   "id": "7a6e6ee0",
   "metadata": {},
   "outputs": [],
   "source": []
  },
  {
   "cell_type": "markdown",
   "id": "da1a87f5-570d-470e-a4c2-883beecb1e3d",
   "metadata": {},
   "source": [
    "La intuición de esta métrica es --> que tan mejor es mi modelo a si simplemente no tengo modelo y uso el promedio\n",
    "\n",
    "$$R^2 = \\frac{ErrorPromedio - ErrorModelo}{ErrorPromedio} $$"
   ]
  },
  {
   "cell_type": "code",
   "execution_count": null,
   "id": "5c48489d",
   "metadata": {},
   "outputs": [],
   "source": []
  },
  {
   "cell_type": "code",
   "execution_count": 9,
   "id": "1dd6ef3d",
   "metadata": {},
   "outputs": [],
   "source": [
    "# Usa Sklearn\n"
   ]
  },
  {
   "cell_type": "markdown",
   "id": "efd9f93f",
   "metadata": {},
   "source": [
    "## ¿Podemos mejorar este modelo? Si podemos, un método sencillo es calcular una regresión lineal"
   ]
  },
  {
   "cell_type": "markdown",
   "id": "732c434e",
   "metadata": {},
   "source": [
    "\n",
    "$$h(x) = \\theta_0 + \\theta_1 * x $$\n",
    "\n",
    "\n",
    "\n",
    "$$J(\\theta)  ={\\frac{1}{2} \\sum (h(x) - y)^2} $$\n",
    "\n",
    "$$\\frac{\\partial }{\\partial \\theta_i} J(\\theta)  = \\frac{\\partial }{\\partial \\theta_i} \\frac{1}{2}(h(x) - y)^2$$\n",
    "\n",
    "\n",
    "Reptir hasta converger {\n",
    "$$ \\theta_i  := \\theta_i - \\alpha * \\frac{\\partial }{\\partial \\theta_i} J(\\theta) $$\n",
    "\n",
    "}\n",
    "\n",
    "\n",
    "\n",
    "Ya con el gradiente calculado tenemos  {\n",
    "$$ \\theta_i  := \\theta_i - \\alpha * (h(x) - y) * x_i $$\n",
    "\n",
    "}\n",
    "\n"
   ]
  },
  {
   "cell_type": "code",
   "execution_count": 21,
   "id": "f633d33a",
   "metadata": {},
   "outputs": [],
   "source": [
    "def cost_function(X, y, theta):\n",
    "    m = len(y) \n",
    "    \n",
    "    J = np.sum((X.dot(theta)-y)**2)/2/m\n",
    "    \n",
    "    return J"
   ]
  },
  {
   "cell_type": "code",
   "execution_count": 22,
   "id": "faae3c9c",
   "metadata": {},
   "outputs": [],
   "source": [
    "def gradient_descent(X, y, theta, alpha, iterations):\n",
    "\n",
    "    cost_history = [0] * iterations\n",
    "    \n",
    "    for iteration in range(iterations):\n",
    "        hypothesis = X.dot(theta)\n",
    "        loss = hypothesis-y\n",
    "        gradient = X.T.dot(loss)/m\n",
    "        theta = theta - alpha*gradient\n",
    "        cost = cost_function(X, y, theta)\n",
    "        cost_history[iteration] = cost\n",
    "\n",
    "    return theta, cost_history\n",
    "     "
   ]
  },
  {
   "cell_type": "code",
   "execution_count": 23,
   "id": "7a3a1914",
   "metadata": {},
   "outputs": [
    {
     "name": "stderr",
     "output_type": "stream",
     "text": [
      "C:\\Users\\luism\\AppData\\Local\\Temp\\ipykernel_19320\\130210434.py:3: SettingWithCopyWarning: \n",
      "A value is trying to be set on a copy of a slice from a DataFrame.\n",
      "Try using .loc[row_indexer,col_indexer] = value instead\n",
      "\n",
      "See the caveats in the documentation: https://pandas.pydata.org/pandas-docs/stable/user_guide/indexing.html#returning-a-view-versus-a-copy\n",
      "  X_df['intercept'] = 1\n"
     ]
    }
   ],
   "source": [
    "# Agrega la columna de intercepto \n",
    "X_df = df[['Height']]\n",
    "X_df['intercept'] = 1\n",
    "y_df = df[['Weight']]\n",
    "\n",
    "alpha = 0.1\n",
    "\n",
    "## Transforma a numpy los arrays\n",
    "X = np.array(X_df)\n",
    "y = np.array(y_df).flatten()\n",
    "theta = np.array([40, 40])\n",
    "m = len(X_df)"
   ]
  },
  {
   "cell_type": "markdown",
   "id": "8fbb4199",
   "metadata": {},
   "source": [
    "$$Weight = 40 + 40 X $$"
   ]
  },
  {
   "cell_type": "code",
   "execution_count": 24,
   "id": "a3303de0",
   "metadata": {},
   "outputs": [],
   "source": [
    "(t, c) = gradient_descent(X,y,theta, 0.5, 1500)"
   ]
  },
  {
   "cell_type": "code",
   "execution_count": 25,
   "id": "ab9d034e",
   "metadata": {},
   "outputs": [
    {
     "data": {
      "image/png": "[encoded data removed]",
      "text/plain": [
       "<Figure size 640x480 with 1 Axes>"
      ]
     },
     "metadata": {},
     "output_type": "display_data"
    }
   ],
   "source": [
    "# Grafique el costo por iteración \n",
    "plt.plot(c)\n",
    "plt.grid()"
   ]
  },
  {
   "cell_type": "code",
   "execution_count": 26,
   "id": "8edd3d94",
   "metadata": {},
   "outputs": [
    {
     "data": {
      "text/plain": [
       "array([ 115.3146747 , -121.49544336])"
      ]
     },
     "execution_count": 26,
     "metadata": {},
     "output_type": "execute_result"
    }
   ],
   "source": [
    "# ¿Cómo quedo el modelo?\n",
    "t"
   ]
  },
  {
   "cell_type": "markdown",
   "id": "bb836584",
   "metadata": {},
   "source": [
    "Escriba la formula\n",
    "$$Weight = \\theta_0 + \\theta_1 *altura$$\n",
    "\n",
    "$$Weight = -121 + 115*altura$$\n"
   ]
  },
  {
   "cell_type": "code",
   "execution_count": 12,
   "id": "c8d56270",
   "metadata": {},
   "outputs": [],
   "source": [
    "# Prediga usando el modelo\n"
   ]
  },
  {
   "cell_type": "markdown",
   "id": "cefad832-5a2d-42be-875a-fcd40ce9f46d",
   "metadata": {},
   "source": [
    "### Ejemplo, Alguien mide 1.7 metros de altura ... ¿cuanto pesa?"
   ]
  },
  {
   "cell_type": "code",
   "execution_count": 27,
   "id": "2046a0ea",
   "metadata": {},
   "outputs": [
    {
     "data": {
      "text/plain": [
       "74.5"
      ]
     },
     "execution_count": 27,
     "metadata": {},
     "output_type": "execute_result"
    }
   ],
   "source": [
    "# Grafique el modelo y comparelo con los otros\n",
    "-121 + 115 * 1.7"
   ]
  },
  {
   "cell_type": "code",
   "execution_count": 28,
   "id": "ba3f4183",
   "metadata": {},
   "outputs": [
    {
     "data": {
      "text/plain": [
       "103.25"
      ]
     },
     "execution_count": 28,
     "metadata": {},
     "output_type": "execute_result"
    }
   ],
   "source": [
    "# Mide 1.95\n",
    "-121 + 115 * 1.95"
   ]
  },
  {
   "cell_type": "code",
   "execution_count": 29,
   "id": "d10bc0d5",
   "metadata": {},
   "outputs": [
    {
     "data": {
      "text/html": [
       "<div>\n",
       "<style scoped>\n",
       "    .dataframe tbody tr th:only-of-type {\n",
       "        vertical-align: middle;\n",
       "    }\n",
       "\n",
       "    .dataframe tbody tr th {\n",
       "        vertical-align: top;\n",
       "    }\n",
       "\n",
       "    .dataframe thead th {\n",
       "        text-align: right;\n",
       "    }\n",
       "</style>\n",
       "<table border=\"1\" class=\"dataframe\">\n",
       "  <thead>\n",
       "    <tr style=\"text-align: right;\">\n",
       "      <th></th>\n",
       "      <th>index</th>\n",
       "      <th>Height</th>\n",
       "      <th>Weight</th>\n",
       "      <th>Gender</th>\n",
       "      <th>centimetros</th>\n",
       "      <th>centimeters</th>\n",
       "      <th>modelo2</th>\n",
       "    </tr>\n",
       "  </thead>\n",
       "  <tbody>\n",
       "    <tr>\n",
       "      <th>0</th>\n",
       "      <td>9418</td>\n",
       "      <td>1.67</td>\n",
       "      <td>62.0</td>\n",
       "      <td>Female</td>\n",
       "      <td>67.0</td>\n",
       "      <td>67.0</td>\n",
       "      <td>71.05</td>\n",
       "    </tr>\n",
       "    <tr>\n",
       "      <th>1</th>\n",
       "      <td>4009</td>\n",
       "      <td>1.78</td>\n",
       "      <td>87.0</td>\n",
       "      <td>Male</td>\n",
       "      <td>78.0</td>\n",
       "      <td>78.0</td>\n",
       "      <td>83.70</td>\n",
       "    </tr>\n",
       "    <tr>\n",
       "      <th>2</th>\n",
       "      <td>6433</td>\n",
       "      <td>1.71</td>\n",
       "      <td>78.0</td>\n",
       "      <td>Female</td>\n",
       "      <td>71.0</td>\n",
       "      <td>71.0</td>\n",
       "      <td>75.65</td>\n",
       "    </tr>\n",
       "    <tr>\n",
       "      <th>3</th>\n",
       "      <td>2649</td>\n",
       "      <td>1.91</td>\n",
       "      <td>103.0</td>\n",
       "      <td>Male</td>\n",
       "      <td>91.0</td>\n",
       "      <td>91.0</td>\n",
       "      <td>98.65</td>\n",
       "    </tr>\n",
       "    <tr>\n",
       "      <th>4</th>\n",
       "      <td>8077</td>\n",
       "      <td>1.56</td>\n",
       "      <td>64.0</td>\n",
       "      <td>Female</td>\n",
       "      <td>56.0</td>\n",
       "      <td>56.0</td>\n",
       "      <td>58.40</td>\n",
       "    </tr>\n",
       "  </tbody>\n",
       "</table>\n",
       "</div>"
      ],
      "text/plain": [
       "   index  Height  Weight  Gender  centimetros  centimeters  modelo2\n",
       "0   9418    1.67    62.0  Female         67.0         67.0    71.05\n",
       "1   4009    1.78    87.0    Male         78.0         78.0    83.70\n",
       "2   6433    1.71    78.0  Female         71.0         71.0    75.65\n",
       "3   2649    1.91   103.0    Male         91.0         91.0    98.65\n",
       "4   8077    1.56    64.0  Female         56.0         56.0    58.40"
      ]
     },
     "execution_count": 29,
     "metadata": {},
     "output_type": "execute_result"
    }
   ],
   "source": [
    "# Error del segundo modelo\n",
    "df['modelo2']=-121 + 115*df.Height\n",
    "df.head()"
   ]
  },
  {
   "cell_type": "code",
   "execution_count": 30,
   "id": "e5501ceb",
   "metadata": {},
   "outputs": [
    {
     "data": {
      "text/plain": [
       "5.313755733941859"
      ]
     },
     "execution_count": 30,
     "metadata": {},
     "output_type": "execute_result"
    }
   ],
   "source": [
    "np.std(df.Weight - df.modelo2)"
   ]
  },
  {
   "cell_type": "code",
   "execution_count": 31,
   "id": "bcd9c10d",
   "metadata": {},
   "outputs": [
    {
     "data": {
      "text/plain": [
       "5.93686786108635"
      ]
     },
     "execution_count": 31,
     "metadata": {},
     "output_type": "execute_result"
    }
   ],
   "source": [
    "np.std(df.Weight - df.centimeters)"
   ]
  },
  {
   "cell_type": "code",
   "execution_count": 32,
   "id": "892b6121",
   "metadata": {},
   "outputs": [
    {
     "data": {
      "text/plain": [
       "0.854620270370462"
      ]
     },
     "execution_count": 32,
     "metadata": {},
     "output_type": "execute_result"
    }
   ],
   "source": [
    "# Calcula el R2 del segundo modelo \n",
    "error_cuadratico_mod2 = np.var(df.Weight - df.modelo2)\n",
    "(error_promedio-error_cuadratico_mod2)/error_promedio"
   ]
  },
  {
   "cell_type": "code",
   "execution_count": 16,
   "id": "7deeab6d",
   "metadata": {},
   "outputs": [],
   "source": [
    "# Error cuadratico medio del segundo modelo con sklearn \n"
   ]
  },
  {
   "cell_type": "markdown",
   "id": "6ff796d5-cc7e-4838-aab3-6ee9c0b3a8d3",
   "metadata": {},
   "source": [
    "# Ahora usa sklearn para calcular la regresión lineal"
   ]
  },
  {
   "cell_type": "code",
   "execution_count": 33,
   "id": "76dcbac5-9c24-4213-8437-85655cefa099",
   "metadata": {},
   "outputs": [],
   "source": [
    "from sklearn.linear_model import LinearRegression"
   ]
  },
  {
   "cell_type": "code",
   "execution_count": 34,
   "id": "dd79d009-1958-4379-9eab-6b8657a85a18",
   "metadata": {},
   "outputs": [],
   "source": [
    "X = df[['Height']]\n",
    "y = df[['Weight']]"
   ]
  },
  {
   "cell_type": "code",
   "execution_count": 36,
   "id": "78bc8e5b-facb-4d6a-860d-471333eb948a",
   "metadata": {},
   "outputs": [],
   "source": [
    "model = LinearRegression().fit(X, y)"
   ]
  },
  {
   "cell_type": "code",
   "execution_count": 37,
   "id": "1bd72c90-232c-4e2c-880d-1a88e338cdf8",
   "metadata": {},
   "outputs": [
    {
     "data": {
      "text/plain": [
       "array([[131.44262295]])"
      ]
     },
     "execution_count": 37,
     "metadata": {},
     "output_type": "execute_result"
    }
   ],
   "source": [
    "model.coef_"
   ]
  },
  {
   "cell_type": "code",
   "execution_count": 38,
   "id": "30ad058f",
   "metadata": {},
   "outputs": [
    {
     "data": {
      "text/plain": [
       "array([-148.94957377])"
      ]
     },
     "execution_count": 38,
     "metadata": {},
     "output_type": "execute_result"
    }
   ],
   "source": [
    "model.intercept_"
   ]
  },
  {
   "cell_type": "markdown",
   "id": "29004e97-e751-4172-a6f2-36e448c10ed8",
   "metadata": {},
   "source": [
    "**Escriba la ecuación del modelo**\n",
    "\n",
    "$$Peso = -148.94 + 134.44 * Altura$$\n",
    "\n",
    "$$y = \\beta_0 + \\beta_1 * X $$"
   ]
  },
  {
   "cell_type": "code",
   "execution_count": 40,
   "id": "0af3b0ec-ab2a-4b2e-bb6c-e2ef955aefa8",
   "metadata": {},
   "outputs": [],
   "source": [
    "df['sklearn_model1']=model.predict(X)"
   ]
  },
  {
   "cell_type": "code",
   "execution_count": 46,
   "id": "d491b50e-8d38-4d39-a012-0edddc2d448d",
   "metadata": {},
   "outputs": [
    {
     "data": {
      "image/png": "[encoded data removed]",
      "text/plain": [
       "<Figure size 640x480 with 1 Axes>"
      ]
     },
     "metadata": {},
     "output_type": "display_data"
    }
   ],
   "source": [
    "# Grafique el modelo y comparelo con los otros\n",
    "plt.scatter(df.Height, df.Weight)\n",
    "plt.plot(df.Height, df.centimeters, c='red', label='Centimeters')\n",
    "plt.plot(df.Height, df.modelo2, c='green', label='Modelo Manual')\n",
    "plt.plot(df.Height, df.sklearn_model1, c='black', label='sklearn')\n",
    "plt.legend()\n",
    "plt.grid()"
   ]
  },
  {
   "cell_type": "markdown",
   "id": "4f440f44",
   "metadata": {},
   "source": [
    "# Ahora usa sklearn para regresión lineal multiple "
   ]
  },
  {
   "cell_type": "markdown",
   "id": "ec8426bb",
   "metadata": {},
   "source": [
    "$$h(x) = \\theta_0 + \\theta_1 * x $$\n",
    "$$Peso = \\theta_0 + \\theta_1 * altura $$\n"
   ]
  },
  {
   "cell_type": "code",
   "execution_count": 47,
   "id": "3973793e",
   "metadata": {},
   "outputs": [
    {
     "data": {
      "text/html": [
       "<div>\n",
       "<style scoped>\n",
       "    .dataframe tbody tr th:only-of-type {\n",
       "        vertical-align: middle;\n",
       "    }\n",
       "\n",
       "    .dataframe tbody tr th {\n",
       "        vertical-align: top;\n",
       "    }\n",
       "\n",
       "    .dataframe thead th {\n",
       "        text-align: right;\n",
       "    }\n",
       "</style>\n",
       "<table border=\"1\" class=\"dataframe\">\n",
       "  <thead>\n",
       "    <tr style=\"text-align: right;\">\n",
       "      <th></th>\n",
       "      <th>index</th>\n",
       "      <th>Height</th>\n",
       "      <th>Weight</th>\n",
       "      <th>Gender</th>\n",
       "      <th>centimetros</th>\n",
       "      <th>centimeters</th>\n",
       "      <th>modelo2</th>\n",
       "      <th>sklearn_model1</th>\n",
       "      <th>is_male</th>\n",
       "    </tr>\n",
       "  </thead>\n",
       "  <tbody>\n",
       "    <tr>\n",
       "      <th>0</th>\n",
       "      <td>9418</td>\n",
       "      <td>1.67</td>\n",
       "      <td>62.0</td>\n",
       "      <td>Female</td>\n",
       "      <td>67.0</td>\n",
       "      <td>67.0</td>\n",
       "      <td>71.05</td>\n",
       "      <td>70.559607</td>\n",
       "      <td>False</td>\n",
       "    </tr>\n",
       "    <tr>\n",
       "      <th>1</th>\n",
       "      <td>4009</td>\n",
       "      <td>1.78</td>\n",
       "      <td>87.0</td>\n",
       "      <td>Male</td>\n",
       "      <td>78.0</td>\n",
       "      <td>78.0</td>\n",
       "      <td>83.70</td>\n",
       "      <td>85.018295</td>\n",
       "      <td>True</td>\n",
       "    </tr>\n",
       "    <tr>\n",
       "      <th>2</th>\n",
       "      <td>6433</td>\n",
       "      <td>1.71</td>\n",
       "      <td>78.0</td>\n",
       "      <td>Female</td>\n",
       "      <td>71.0</td>\n",
       "      <td>71.0</td>\n",
       "      <td>75.65</td>\n",
       "      <td>75.817311</td>\n",
       "      <td>False</td>\n",
       "    </tr>\n",
       "    <tr>\n",
       "      <th>3</th>\n",
       "      <td>2649</td>\n",
       "      <td>1.91</td>\n",
       "      <td>103.0</td>\n",
       "      <td>Male</td>\n",
       "      <td>91.0</td>\n",
       "      <td>91.0</td>\n",
       "      <td>98.65</td>\n",
       "      <td>102.105836</td>\n",
       "      <td>True</td>\n",
       "    </tr>\n",
       "    <tr>\n",
       "      <th>4</th>\n",
       "      <td>8077</td>\n",
       "      <td>1.56</td>\n",
       "      <td>64.0</td>\n",
       "      <td>Female</td>\n",
       "      <td>56.0</td>\n",
       "      <td>56.0</td>\n",
       "      <td>58.40</td>\n",
       "      <td>56.100918</td>\n",
       "      <td>False</td>\n",
       "    </tr>\n",
       "  </tbody>\n",
       "</table>\n",
       "</div>"
      ],
      "text/plain": [
       "   index  Height  Weight  Gender  centimetros  centimeters  modelo2  \\\n",
       "0   9418    1.67    62.0  Female         67.0         67.0    71.05   \n",
       "1   4009    1.78    87.0    Male         78.0         78.0    83.70   \n",
       "2   6433    1.71    78.0  Female         71.0         71.0    75.65   \n",
       "3   2649    1.91   103.0    Male         91.0         91.0    98.65   \n",
       "4   8077    1.56    64.0  Female         56.0         56.0    58.40   \n",
       "\n",
       "   sklearn_model1  is_male  \n",
       "0       70.559607    False  \n",
       "1       85.018295     True  \n",
       "2       75.817311    False  \n",
       "3      102.105836     True  \n",
       "4       56.100918    False  "
      ]
     },
     "execution_count": 47,
     "metadata": {},
     "output_type": "execute_result"
    }
   ],
   "source": [
    "# Crea una columna dummy para el genero \n",
    "df['is_male'] = df.Gender == 'Male'\n",
    "df.head()"
   ]
  },
  {
   "cell_type": "code",
   "execution_count": 48,
   "id": "af5e2ed0",
   "metadata": {},
   "outputs": [],
   "source": [
    "X = df[['is_male', 'Height']]\n",
    "y = df[['Weight']]"
   ]
  },
  {
   "cell_type": "code",
   "execution_count": 49,
   "id": "1f84dae3",
   "metadata": {},
   "outputs": [],
   "source": [
    "model = LinearRegression().fit(X, y)"
   ]
  },
  {
   "cell_type": "code",
   "execution_count": 50,
   "id": "57343bb4",
   "metadata": {},
   "outputs": [
    {
     "data": {
      "text/plain": [
       "array([-112.54631553])"
      ]
     },
     "execution_count": 50,
     "metadata": {},
     "output_type": "execute_result"
    }
   ],
   "source": [
    "model.intercept_"
   ]
  },
  {
   "cell_type": "code",
   "execution_count": 51,
   "id": "619d2a7c",
   "metadata": {},
   "outputs": [
    {
     "data": {
      "text/plain": [
       "array([[  6.77138778, 107.7705173 ]])"
      ]
     },
     "execution_count": 51,
     "metadata": {},
     "output_type": "execute_result"
    }
   ],
   "source": [
    "model.coef_"
   ]
  },
  {
   "cell_type": "markdown",
   "id": "972570ec",
   "metadata": {},
   "source": [
    "$$PesoHombre = 6 + 107 * altura$$\n",
    "$$PesoMujer = 107 * altura$$"
   ]
  },
  {
   "cell_type": "code",
   "execution_count": 19,
   "id": "4b64b986",
   "metadata": {},
   "outputs": [],
   "source": [
    "# Coeficiente\n"
   ]
  },
  {
   "cell_type": "markdown",
   "id": "661f0f0e",
   "metadata": {},
   "source": [
    "Escriba el modelo\n",
    "\n",
    "\n",
    "$$Weight = -94 + 9.43 * isMale + 97*altura $$\n"
   ]
  },
  {
   "cell_type": "code",
   "execution_count": 52,
   "id": "3dbc4964-79a9-469f-ba7e-ffb16451f2c4",
   "metadata": {},
   "outputs": [],
   "source": [
    "# Prediga el modelo\n",
    "df['modelo_multiple'] = model.predict(X)"
   ]
  },
  {
   "cell_type": "code",
   "execution_count": 53,
   "id": "8b491dcb",
   "metadata": {},
   "outputs": [
    {
     "data": {
      "text/plain": [
       "4.446192554742398"
      ]
     },
     "execution_count": 53,
     "metadata": {},
     "output_type": "execute_result"
    }
   ],
   "source": [
    "# Error del modelo\n",
    "np.std(df.Weight - df.modelo_multiple)"
   ]
  },
  {
   "cell_type": "code",
   "execution_count": 54,
   "id": "58607dea-7333-4a26-803e-7b3e8cea6b4f",
   "metadata": {},
   "outputs": [],
   "source": [
    "# Crea una lista con colores\n",
    "c = ['red' if i == 'Male' else 'blue' for i in df.Gender]"
   ]
  },
  {
   "cell_type": "code",
   "execution_count": 59,
   "id": "67d9690f",
   "metadata": {},
   "outputs": [
    {
     "data": {
      "image/png": "[encoded data removed]",
      "text/plain": [
       "<Figure size 640x480 with 1 Axes>"
      ]
     },
     "metadata": {},
     "output_type": "display_data"
    }
   ],
   "source": [
    "# Grafique los modelos\n",
    "plt.scatter(df.Height, df.Weight, c=c)\n",
    "plt.scatter(df.Height, df.modelo_multiple)\n",
    "\n",
    "plt.grid()"
   ]
  },
  {
   "cell_type": "code",
   "execution_count": 60,
   "id": "d15a8a7a",
   "metadata": {},
   "outputs": [
    {
     "data": {
      "text/html": [
       "<div>\n",
       "<style scoped>\n",
       "    .dataframe tbody tr th:only-of-type {\n",
       "        vertical-align: middle;\n",
       "    }\n",
       "\n",
       "    .dataframe tbody tr th {\n",
       "        vertical-align: top;\n",
       "    }\n",
       "\n",
       "    .dataframe thead th {\n",
       "        text-align: right;\n",
       "    }\n",
       "</style>\n",
       "<table border=\"1\" class=\"dataframe\">\n",
       "  <thead>\n",
       "    <tr style=\"text-align: right;\">\n",
       "      <th></th>\n",
       "      <th>index</th>\n",
       "      <th>Height</th>\n",
       "      <th>Weight</th>\n",
       "      <th>Gender</th>\n",
       "      <th>centimetros</th>\n",
       "      <th>centimeters</th>\n",
       "      <th>modelo2</th>\n",
       "      <th>sklearn_model1</th>\n",
       "      <th>is_male</th>\n",
       "      <th>modelo_multiple</th>\n",
       "    </tr>\n",
       "  </thead>\n",
       "  <tbody>\n",
       "    <tr>\n",
       "      <th>0</th>\n",
       "      <td>9418</td>\n",
       "      <td>1.67</td>\n",
       "      <td>62.0</td>\n",
       "      <td>Female</td>\n",
       "      <td>67.0</td>\n",
       "      <td>67.0</td>\n",
       "      <td>71.05</td>\n",
       "      <td>70.559607</td>\n",
       "      <td>False</td>\n",
       "      <td>67.430448</td>\n",
       "    </tr>\n",
       "    <tr>\n",
       "      <th>1</th>\n",
       "      <td>4009</td>\n",
       "      <td>1.78</td>\n",
       "      <td>87.0</td>\n",
       "      <td>Male</td>\n",
       "      <td>78.0</td>\n",
       "      <td>78.0</td>\n",
       "      <td>83.70</td>\n",
       "      <td>85.018295</td>\n",
       "      <td>True</td>\n",
       "      <td>86.056593</td>\n",
       "    </tr>\n",
       "    <tr>\n",
       "      <th>2</th>\n",
       "      <td>6433</td>\n",
       "      <td>1.71</td>\n",
       "      <td>78.0</td>\n",
       "      <td>Female</td>\n",
       "      <td>71.0</td>\n",
       "      <td>71.0</td>\n",
       "      <td>75.65</td>\n",
       "      <td>75.817311</td>\n",
       "      <td>False</td>\n",
       "      <td>71.741269</td>\n",
       "    </tr>\n",
       "    <tr>\n",
       "      <th>3</th>\n",
       "      <td>2649</td>\n",
       "      <td>1.91</td>\n",
       "      <td>103.0</td>\n",
       "      <td>Male</td>\n",
       "      <td>91.0</td>\n",
       "      <td>91.0</td>\n",
       "      <td>98.65</td>\n",
       "      <td>102.105836</td>\n",
       "      <td>True</td>\n",
       "      <td>100.066760</td>\n",
       "    </tr>\n",
       "    <tr>\n",
       "      <th>4</th>\n",
       "      <td>8077</td>\n",
       "      <td>1.56</td>\n",
       "      <td>64.0</td>\n",
       "      <td>Female</td>\n",
       "      <td>56.0</td>\n",
       "      <td>56.0</td>\n",
       "      <td>58.40</td>\n",
       "      <td>56.100918</td>\n",
       "      <td>False</td>\n",
       "      <td>55.575691</td>\n",
       "    </tr>\n",
       "  </tbody>\n",
       "</table>\n",
       "</div>"
      ],
      "text/plain": [
       "   index  Height  Weight  Gender  centimetros  centimeters  modelo2  \\\n",
       "0   9418    1.67    62.0  Female         67.0         67.0    71.05   \n",
       "1   4009    1.78    87.0    Male         78.0         78.0    83.70   \n",
       "2   6433    1.71    78.0  Female         71.0         71.0    75.65   \n",
       "3   2649    1.91   103.0    Male         91.0         91.0    98.65   \n",
       "4   8077    1.56    64.0  Female         56.0         56.0    58.40   \n",
       "\n",
       "   sklearn_model1  is_male  modelo_multiple  \n",
       "0       70.559607    False        67.430448  \n",
       "1       85.018295     True        86.056593  \n",
       "2       75.817311    False        71.741269  \n",
       "3      102.105836     True       100.066760  \n",
       "4       56.100918    False        55.575691  "
      ]
     },
     "execution_count": 60,
     "metadata": {},
     "output_type": "execute_result"
    }
   ],
   "source": [
    "# Alguien mide 1.7, ¿cuanto pesa?\n",
    "df.head()"
   ]
  },
  {
   "cell_type": "code",
   "execution_count": 44,
   "id": "bb958abc",
   "metadata": {},
   "outputs": [],
   "source": [
    "# Compare error de los 3 modelos"
   ]
  },
  {
   "cell_type": "code",
   "execution_count": null,
   "id": "bd29b462",
   "metadata": {},
   "outputs": [],
   "source": []
  }
 ],
 "metadata": {
  "kernelspec": {
   "display_name": "Python 3 (ipykernel)",
   "language": "python",
   "name": "python3"
  },
  "language_info": {
   "codemirror_mode": {
    "name": "ipython",
    "version": 3
   },
   "file_extension": ".py",
   "mimetype": "text/x-python",
   "name": "python",
   "nbconvert_exporter": "python",
   "pygments_lexer": "ipython3",
   "version": "3.11.4"
  }
 },
 "nbformat": 4,
 "nbformat_minor": 5
}
