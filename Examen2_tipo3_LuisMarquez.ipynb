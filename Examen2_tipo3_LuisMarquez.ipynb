{
 "cells": [
  {
   "cell_type": "markdown",
   "id": "1628101f",
   "metadata": {},
   "source": [
    "# Teoría"
   ]
  },
  {
   "cell_type": "code",
   "execution_count": 1,
   "id": "e50631b8-4b61-4eb7-b057-0bdc51ea5a38",
   "metadata": {
    "tags": []
   },
   "outputs": [],
   "source": [
    "import yfinance as yf\n",
    "import pandas as pd\n",
    "import numpy as np \n",
    "import matplotlib.pyplot as plt\n",
    "from sklearn.linear_model import LinearRegression\n",
    "from sklearn.metrics import r2_score\n",
    "import seaborn as sns\n",
    "from matplotlib.colors import LinearSegmentedColormap\n",
    "import warnings\n",
    "from IPython.display import display, Markdown\n",
    "import pandas_datareader.data as web\n",
    "import datetime"
   ]
  },
  {
   "cell_type": "markdown",
   "id": "078c9bea",
   "metadata": {},
   "source": [
    "## 1- 10 puntos\n",
    "\n",
    "La formula del R2 es:\n",
    "\n",
    "$$R^2 = \\frac{Var(errorPromedio) - Var(errorModelo)}{Var(errorPromedio)}$$ \n",
    "\n",
    "Convenceme que entiendes esta formula y porque esto tiene sentido\n"
   ]
  },
  {
   "cell_type": "markdown",
   "id": "e83aa3a4-1747-4521-b0e7-f436cfa28183",
   "metadata": {
    "tags": []
   },
   "source": [
    "### Respuesta\n",
    "La formula del r2, que es una métrica que nos ayuda a saber que tan bueno es nuestro modelo, es un cambio porcentual entre el error promedio y el error de nuestro modelo, y así sabemos que tanto mejora nuestro modelo contra el promedio de los datos.\n",
    "\n",
    "La Var(errorPromedio) nos dice la variación de los datos contra la media (su varianza), y Var(erroModelo) nos dice la variación de los datos contra nuestro modelo (su varianza).\n",
    "\n",
    "Al restar ambos obtenemos la diferencia entre lo que varían los modelos y al hacer la división entre Var(errorPromedio), nos da el resultado de manera porcentual para entenderlo mejor. Este resultado fue el cambio porcentual entre las varianzas de los errores del promedio y el error de nustro modelo, llegando a lo que es el r2 que es el cambio porcentual entre el erorr promedio y del modelo para saber que tanto mejora nuestro modelo a comparación de la media de los datos."
   ]
  },
  {
   "cell_type": "markdown",
   "id": "25c627ca",
   "metadata": {},
   "source": [
    "## 2- 20 puntos \n",
    "\n",
    "¿Qué es una regresión lineal y para que sirve?\n",
    "¿Qué es el gradiente descendiente? ¿Cómo uso eso para encontrar los mejores coeficientes de una regresión lineal?\n",
    "\n",
    "\n",
    "Responde estas preguntas, convenceme que entiendes que es una regresión lineal y de donde salen los coeficientes"
   ]
  },
  {
   "cell_type": "markdown",
   "id": "fc86bab2-fd61-43ad-9c98-7f829f6216f5",
   "metadata": {},
   "source": [
    "### Respuesta\n",
    "La regresión lineal es un método el cual obtiene una ecuación $y = mx + b$ la cual mejor se ajuste a los datos que se tengan y busca explicar la relación que existe entre la variable independiente y la dependiente. La linea que se traza con la ecuación busca ajustarse lo mejor posble a los datos para explicar lo más que pueda la variación de los datos, esto sirve para identificar tendencias, ver la relación entre las variables y hacer predicciones con este modelo.\n",
    "\n",
    "El gradiente descendiente es un proceso de optimización repetitivo (como un ciclo for) el cual busca obtener los coeficientes que minimicen una función, basándose en el error cuadrático entre los valores reales y nuestro modelo. Inicia con valores iniciales de los coeficientes y usando derivadas parciales de las funciones que obtiene va repitiendo el proceso hasta encontrar el error más pequeño y de ahi salen los coeficientes.\n",
    "\n",
    "En la fórmula $b$ es la intersección en el eje $y$ y $m$ es la pendiente de la recta de nuestro modelo."
   ]
  },
  {
   "cell_type": "markdown",
   "id": "a8f7789a",
   "metadata": {
    "tags": []
   },
   "source": [
    "## 3- 5 puntos \n",
    "¿Por qué hay empresas con valuaciones bajas respecto a sus ganancias? "
   ]
  },
  {
   "cell_type": "markdown",
   "id": "61acf5a9-1b19-45ac-9d39-3124ac2f696b",
   "metadata": {},
   "source": [
    "### Respuesta\n",
    "Las ganancias de una empresa es un factor importante al momento de analizarlas y valuarlas, pero a pesar de ser muy buenas o malas, no es el único factor que afecta la valuación de una empresa. Empresas que tienen un buen nivel de ganancias puden tener una valuación baja debido a limitadas oportunidades de crecimiento, saturación de mercado o altos niveles de deuda.\n",
    "\n",
    "Además una de las cosas que más afectan la valuación de una empresa es el sentimiento de mercado, las expectativas sobre una empresa pueden ser malas, o la empresa ser percibida como poco atractiva, por lo que a pesar de tener buenas ganancias su valuación puede ser baja. Dentro de esta categoría entran las consideradas como \"empresas aburridas\"."
   ]
  },
  {
   "cell_type": "markdown",
   "id": "402caf35",
   "metadata": {},
   "source": [
    "## 4- 10 puntos\n",
    "\n",
    "La utilidad de un activo es:\n",
    "\n",
    "$$Utiliad = E[P] - \\alpha *\\frac{1}{2} Var(P) $$\n",
    "\n",
    "Explica porque esto tiene sentido  en el mundo de los econos"
   ]
  },
  {
   "cell_type": "markdown",
   "id": "d08f41c9-c539-4377-af55-d3f5915564e4",
   "metadata": {},
   "source": [
    "### Respuesta\n",
    "El mundo de los econos supone que todos somos racionales y lo único que nos interesa es maximizar nuestras ganancias, lo cual en el mundo de las inversiones no esta tan alejado de la realidad.\n",
    "\n",
    "Esta fórmula tiene sentido ya que busca la utilidad con base en el rendimiento que ganas contra el riesgo que se asume. $E[P]$ representa las ganancias esperadas y a esto se le resta el riesgo que se corre $Var(P)$ multiplicado por un coeficiente de aversión al riesgo lo cual le da una ponderación, ya que todos tienen un nivel de tolerancia al riesgo distinto, obteniendo así nuestra utilidad.\n",
    "\n",
    "Esto nos permite tomar decisiones de inversión que maximicen nuestras ganancias y utilidad según el riesgo que estemos dispuestos a correr en dicha inversión."
   ]
  },
  {
   "cell_type": "markdown",
   "id": "18c75549",
   "metadata": {},
   "source": [
    "## 5- 5 puntos \n",
    "Explica en 3 renglones la hopitesis de mercados eficientes"
   ]
  },
  {
   "cell_type": "markdown",
   "id": "641df667-5db8-4927-b047-fb30b44bc609",
   "metadata": {},
   "source": [
    "### Respuesta\n",
    "\n",
    "La hipótesis de mercados eficientes dice que el precio de una acción ya tiene reflejada toda la información que existe, incluso expectativas a futuro, por lo que no es posible tener rendimientos mayores al mercado de manera constante en el largo plazo. Esto implica que no hay acciones \"baratas\" o \"caras\" y que el precio de la acción siempre es el justo ya que el mercado se ajusta rápidamente a nueva información disponible."
   ]
  },
  {
   "cell_type": "markdown",
   "id": "1495fff2",
   "metadata": {
    "tags": []
   },
   "source": [
    "# Práctica"
   ]
  },
  {
   "cell_type": "markdown",
   "id": "87c0fd7c",
   "metadata": {},
   "source": [
    "### 30%\n",
    "\n",
    "Baja del 2016 a 2021, de forma diario las acciones de:\n",
    "\n",
    "\n",
    "- Apple\n",
    "- Amazon\n",
    "- Discover\n",
    "- Cotsco\n",
    "- Starbucks\n",
    "\n",
    "\n",
    "- Obten el portafolio de mínima varianza\n",
    "- Obten una gráfica de todos los posibles portafolios\n",
    "- Calcula la beta de cada uno de esos activos\n",
    "- Calcula el R2 de cada uno de esos activos\n",
    "- Cuanto debes invertir en ese portafolio dado los cooeficientes de aversión : [1, 2, 3, 4, 5, 6, 6, 7]\n",
    "- Obten el R2 y Beta con bootstrap de cada uno de esos activos\n",
    "  Responde: probabilidad beta > 1  y probabilidad r2 > 0.5\n",
    "  \n",
    "  \n",
    "### CAPM, Fama french y 5 factores (20%)\n",
    "\n",
    "Sobre el portafolio anterior, crea los 3 distintos modelos vistos en clase. \n",
    "\n",
    "¿Cuál es el R2 de cada uno?  Crea un boostrap de cada uno de los R2\n",
    "\n",
    "Explica conclusiones"
   ]
  },
  {
   "cell_type": "markdown",
   "id": "d63a21d2-c6b4-4299-91c1-de4bb2f23374",
   "metadata": {
    "tags": []
   },
   "source": [
    "## Código"
   ]
  },
  {
   "cell_type": "markdown",
   "id": "bab40540-d32d-4a0d-a787-4e2e08b3730b",
   "metadata": {
    "jp-MarkdownHeadingCollapsed": true,
    "tags": []
   },
   "source": [
    "### Simulaciones"
   ]
  },
  {
   "cell_type": "code",
   "execution_count": 2,
   "id": "d0ccae69-d991-4163-afda-b3041fb9d392",
   "metadata": {
    "tags": []
   },
   "outputs": [
    {
     "name": "stdout",
     "output_type": "stream",
     "text": [
      "[*********************100%%**********************]  5 of 5 completed\n",
      "[*********************100%%**********************]  2 of 2 completed\n",
      "[*********************100%%**********************]  6 of 6 completed\n"
     ]
    },
    {
     "data": {
      "text/html": [
       "<div>\n",
       "<style scoped>\n",
       "    .dataframe tbody tr th:only-of-type {\n",
       "        vertical-align: middle;\n",
       "    }\n",
       "\n",
       "    .dataframe tbody tr th {\n",
       "        vertical-align: top;\n",
       "    }\n",
       "\n",
       "    .dataframe thead th {\n",
       "        text-align: right;\n",
       "    }\n",
       "</style>\n",
       "<table border=\"1\" class=\"dataframe\">\n",
       "  <thead>\n",
       "    <tr style=\"text-align: right;\">\n",
       "      <th></th>\n",
       "      <th>AAPL</th>\n",
       "      <th>AMZN</th>\n",
       "      <th>COST</th>\n",
       "      <th>DFS</th>\n",
       "      <th>SBUX</th>\n",
       "    </tr>\n",
       "  </thead>\n",
       "  <tbody>\n",
       "    <tr>\n",
       "      <th>means</th>\n",
       "      <td>0.27843</td>\n",
       "      <td>0.259147</td>\n",
       "      <td>0.226451</td>\n",
       "      <td>0.210297</td>\n",
       "      <td>0.106241</td>\n",
       "    </tr>\n",
       "    <tr>\n",
       "      <th>vol</th>\n",
       "      <td>0.29057</td>\n",
       "      <td>0.329134</td>\n",
       "      <td>0.222038</td>\n",
       "      <td>0.402291</td>\n",
       "      <td>0.270038</td>\n",
       "    </tr>\n",
       "  </tbody>\n",
       "</table>\n",
       "</div>"
      ],
      "text/plain": [
       "          AAPL      AMZN      COST       DFS      SBUX\n",
       "means  0.27843  0.259147  0.226451  0.210297  0.106241\n",
       "vol    0.29057  0.329134  0.222038  0.402291  0.270038"
      ]
     },
     "execution_count": 2,
     "metadata": {},
     "output_type": "execute_result"
    }
   ],
   "source": [
    "np.random.seed(27) # Para poder escribir en Markdown sin que cambien los resultados\n",
    "tickers = ['AAPL','AMZN','DFS','COST','SBUX']\n",
    "tickers2 = ['VTI','XOM']\n",
    "tickers3 =['VTI', 'AAPL','AMZN','DFS','COST','SBUX']\n",
    "\n",
    "start_date = '2016-01-01'\n",
    "end_date = '2024-05-01'\n",
    "\n",
    "St = yf.download(tickers, start=start_date, end=end_date)['Adj Close']\n",
    "St.head()\n",
    "rt = St.pct_change().dropna()\n",
    "\n",
    "St2 = yf.download(tickers2, start=start_date, end=end_date)['Adj Close']\n",
    "St2.head()\n",
    "rt2 = St2.pct_change().dropna()\n",
    "\n",
    "St3 = yf.download(tickers3, start=start_date, end=end_date)['Adj Close']\n",
    "St3.head()\n",
    "rt3 = St3.pct_change().dropna()\n",
    "\n",
    "df = pd.DataFrame({\n",
    "    'means': rt.mean() * 252,\n",
    "    'vol': rt.std() * np.sqrt(252)\n",
    "})\n",
    "df.T"
   ]
  },
  {
   "cell_type": "code",
   "execution_count": 3,
   "id": "f9b7f88c",
   "metadata": {
    "tags": []
   },
   "outputs": [
    {
     "data": {
      "text/html": [
       "<div>\n",
       "<style scoped>\n",
       "    .dataframe tbody tr th:only-of-type {\n",
       "        vertical-align: middle;\n",
       "    }\n",
       "\n",
       "    .dataframe tbody tr th {\n",
       "        vertical-align: top;\n",
       "    }\n",
       "\n",
       "    .dataframe thead th {\n",
       "        text-align: right;\n",
       "    }\n",
       "</style>\n",
       "<table border=\"1\" class=\"dataframe\">\n",
       "  <thead>\n",
       "    <tr style=\"text-align: right;\">\n",
       "      <th></th>\n",
       "      <th>rend</th>\n",
       "      <th>vol</th>\n",
       "      <th>sharpe</th>\n",
       "      <th>AAPL</th>\n",
       "      <th>AMZN</th>\n",
       "      <th>COST</th>\n",
       "      <th>DFS</th>\n",
       "      <th>SBUX</th>\n",
       "    </tr>\n",
       "  </thead>\n",
       "  <tbody>\n",
       "    <tr>\n",
       "      <th>0</th>\n",
       "      <td>0.225315</td>\n",
       "      <td>0.238653</td>\n",
       "      <td>0.818404</td>\n",
       "      <td>0.091257</td>\n",
       "      <td>0.277263</td>\n",
       "      <td>0.218751</td>\n",
       "      <td>0.333176</td>\n",
       "      <td>0.079552</td>\n",
       "    </tr>\n",
       "    <tr>\n",
       "      <th>1</th>\n",
       "      <td>0.240362</td>\n",
       "      <td>0.245716</td>\n",
       "      <td>0.856116</td>\n",
       "      <td>0.441525</td>\n",
       "      <td>0.254189</td>\n",
       "      <td>0.026747</td>\n",
       "      <td>0.153886</td>\n",
       "      <td>0.123654</td>\n",
       "    </tr>\n",
       "    <tr>\n",
       "      <th>2</th>\n",
       "      <td>0.241813</td>\n",
       "      <td>0.237602</td>\n",
       "      <td>0.891462</td>\n",
       "      <td>0.280675</td>\n",
       "      <td>0.251483</td>\n",
       "      <td>0.178220</td>\n",
       "      <td>0.262990</td>\n",
       "      <td>0.026633</td>\n",
       "    </tr>\n",
       "    <tr>\n",
       "      <th>3</th>\n",
       "      <td>0.230286</td>\n",
       "      <td>0.205313</td>\n",
       "      <td>0.975518</td>\n",
       "      <td>0.141222</td>\n",
       "      <td>0.167333</td>\n",
       "      <td>0.565947</td>\n",
       "      <td>0.058717</td>\n",
       "      <td>0.066781</td>\n",
       "    </tr>\n",
       "    <tr>\n",
       "      <th>4</th>\n",
       "      <td>0.228526</td>\n",
       "      <td>0.206733</td>\n",
       "      <td>0.960304</td>\n",
       "      <td>0.037978</td>\n",
       "      <td>0.163343</td>\n",
       "      <td>0.686038</td>\n",
       "      <td>0.079774</td>\n",
       "      <td>0.032867</td>\n",
       "    </tr>\n",
       "    <tr>\n",
       "      <th>...</th>\n",
       "      <td>...</td>\n",
       "      <td>...</td>\n",
       "      <td>...</td>\n",
       "      <td>...</td>\n",
       "      <td>...</td>\n",
       "      <td>...</td>\n",
       "      <td>...</td>\n",
       "      <td>...</td>\n",
       "    </tr>\n",
       "    <tr>\n",
       "      <th>9995</th>\n",
       "      <td>0.200094</td>\n",
       "      <td>0.229749</td>\n",
       "      <td>0.740346</td>\n",
       "      <td>0.199182</td>\n",
       "      <td>0.204831</td>\n",
       "      <td>0.084529</td>\n",
       "      <td>0.173704</td>\n",
       "      <td>0.337754</td>\n",
       "    </tr>\n",
       "    <tr>\n",
       "      <th>9996</th>\n",
       "      <td>0.220498</td>\n",
       "      <td>0.231301</td>\n",
       "      <td>0.823592</td>\n",
       "      <td>0.130028</td>\n",
       "      <td>0.381070</td>\n",
       "      <td>0.152222</td>\n",
       "      <td>0.147045</td>\n",
       "      <td>0.189635</td>\n",
       "    </tr>\n",
       "    <tr>\n",
       "      <th>9997</th>\n",
       "      <td>0.240250</td>\n",
       "      <td>0.211576</td>\n",
       "      <td>0.993733</td>\n",
       "      <td>0.202429</td>\n",
       "      <td>0.220617</td>\n",
       "      <td>0.494838</td>\n",
       "      <td>0.057039</td>\n",
       "      <td>0.025078</td>\n",
       "    </tr>\n",
       "    <tr>\n",
       "      <th>9998</th>\n",
       "      <td>0.194261</td>\n",
       "      <td>0.216906</td>\n",
       "      <td>0.757293</td>\n",
       "      <td>0.002185</td>\n",
       "      <td>0.195160</td>\n",
       "      <td>0.301105</td>\n",
       "      <td>0.207651</td>\n",
       "      <td>0.293899</td>\n",
       "    </tr>\n",
       "    <tr>\n",
       "      <th>9999</th>\n",
       "      <td>0.233287</td>\n",
       "      <td>0.221939</td>\n",
       "      <td>0.915957</td>\n",
       "      <td>0.155800</td>\n",
       "      <td>0.344284</td>\n",
       "      <td>0.299278</td>\n",
       "      <td>0.111470</td>\n",
       "      <td>0.089167</td>\n",
       "    </tr>\n",
       "  </tbody>\n",
       "</table>\n",
       "<p>10000 rows × 8 columns</p>\n",
       "</div>"
      ],
      "text/plain": [
       "          rend       vol    sharpe      AAPL      AMZN      COST       DFS  \\\n",
       "0     0.225315  0.238653  0.818404  0.091257  0.277263  0.218751  0.333176   \n",
       "1     0.240362  0.245716  0.856116  0.441525  0.254189  0.026747  0.153886   \n",
       "2     0.241813  0.237602  0.891462  0.280675  0.251483  0.178220  0.262990   \n",
       "3     0.230286  0.205313  0.975518  0.141222  0.167333  0.565947  0.058717   \n",
       "4     0.228526  0.206733  0.960304  0.037978  0.163343  0.686038  0.079774   \n",
       "...        ...       ...       ...       ...       ...       ...       ...   \n",
       "9995  0.200094  0.229749  0.740346  0.199182  0.204831  0.084529  0.173704   \n",
       "9996  0.220498  0.231301  0.823592  0.130028  0.381070  0.152222  0.147045   \n",
       "9997  0.240250  0.211576  0.993733  0.202429  0.220617  0.494838  0.057039   \n",
       "9998  0.194261  0.216906  0.757293  0.002185  0.195160  0.301105  0.207651   \n",
       "9999  0.233287  0.221939  0.915957  0.155800  0.344284  0.299278  0.111470   \n",
       "\n",
       "          SBUX  \n",
       "0     0.079552  \n",
       "1     0.123654  \n",
       "2     0.026633  \n",
       "3     0.066781  \n",
       "4     0.032867  \n",
       "...        ...  \n",
       "9995  0.337754  \n",
       "9996  0.189635  \n",
       "9997  0.025078  \n",
       "9998  0.293899  \n",
       "9999  0.089167  \n",
       "\n",
       "[10000 rows x 8 columns]"
      ]
     },
     "execution_count": 3,
     "metadata": {},
     "output_type": "execute_result"
    }
   ],
   "source": [
    "# Para las simulaciones\n",
    "sigma = rt.cov()\n",
    "n_port = 10000\n",
    "n_act = len(rt.keys())\n",
    "\n",
    "W = np.random.dirichlet((1,) * n_act, size=n_port)\n",
    "\n",
    "# Obten los rendimientos\n",
    "rendimientos = W.dot(rt.mean()) * 252\n",
    "\n",
    "# Calcula las volatilidades\n",
    "zeros = np.zeros(n_port)\n",
    "for i in range(len(zeros)):\n",
    "    zeros[i] = np.sqrt(W[i,:].dot(sigma).dot(W[i,:])) * np.sqrt(252)\n",
    "volatility = zeros\n",
    "\n",
    "# Sharpe\n",
    "rf = 0.03\n",
    "sharpe = (rendimientos - rf) / volatility\n",
    "\n",
    "# Data frame de resultados\n",
    "resultados = pd.DataFrame({\n",
    "    'rend': rendimientos,\n",
    "    'vol': volatility,\n",
    "    'sharpe': sharpe\n",
    "})\n",
    "pesos = pd.DataFrame(W, columns=rt.keys())\n",
    "resultados = pd.concat([resultados, pesos], axis=1)\n",
    "resultados"
   ]
  },
  {
   "cell_type": "markdown",
   "id": "9a0ed8eb-3f0f-420e-8b5e-8e098d48d31f",
   "metadata": {
    "jp-MarkdownHeadingCollapsed": true,
    "tags": []
   },
   "source": [
    "### Portafolio mínima varianza"
   ]
  },
  {
   "cell_type": "code",
   "execution_count": 4,
   "id": "dc55f6b4-5e18-421a-9810-ab95c45e022a",
   "metadata": {
    "tags": []
   },
   "outputs": [
    {
     "data": {
      "text/html": [
       "<div>\n",
       "<style scoped>\n",
       "    .dataframe tbody tr th:only-of-type {\n",
       "        vertical-align: middle;\n",
       "    }\n",
       "\n",
       "    .dataframe tbody tr th {\n",
       "        vertical-align: top;\n",
       "    }\n",
       "\n",
       "    .dataframe thead th {\n",
       "        text-align: right;\n",
       "    }\n",
       "</style>\n",
       "<table border=\"1\" class=\"dataframe\">\n",
       "  <thead>\n",
       "    <tr style=\"text-align: right;\">\n",
       "      <th></th>\n",
       "      <th>rend</th>\n",
       "      <th>vol</th>\n",
       "      <th>sharpe</th>\n",
       "      <th>AAPL</th>\n",
       "      <th>AMZN</th>\n",
       "      <th>COST</th>\n",
       "      <th>DFS</th>\n",
       "      <th>SBUX</th>\n",
       "    </tr>\n",
       "  </thead>\n",
       "  <tbody>\n",
       "    <tr>\n",
       "      <th>521</th>\n",
       "      <td>0.200535</td>\n",
       "      <td>0.198725</td>\n",
       "      <td>0.858149</td>\n",
       "      <td>0.089408</td>\n",
       "      <td>0.055265</td>\n",
       "      <td>0.55278</td>\n",
       "      <td>0.038432</td>\n",
       "      <td>0.264114</td>\n",
       "    </tr>\n",
       "  </tbody>\n",
       "</table>\n",
       "</div>"
      ],
      "text/plain": [
       "         rend       vol    sharpe      AAPL      AMZN     COST       DFS  \\\n",
       "521  0.200535  0.198725  0.858149  0.089408  0.055265  0.55278  0.038432   \n",
       "\n",
       "         SBUX  \n",
       "521  0.264114  "
      ]
     },
     "execution_count": 4,
     "metadata": {},
     "output_type": "execute_result"
    }
   ],
   "source": [
    "min_var = resultados[resultados.vol == resultados.vol.min()]\n",
    "min_var"
   ]
  },
  {
   "cell_type": "markdown",
   "id": "b7371e68-2109-462a-8600-7e76b854d07d",
   "metadata": {},
   "source": [
    "* Apple: 8.94%\n",
    "* Amazon: 5.52%\n",
    "* Costco: 55.27%\n",
    "* Discover: 3.84%\n",
    "* Starbucks: 26.41%"
   ]
  },
  {
   "cell_type": "markdown",
   "id": "7917ddbe-bb85-439d-ba99-a9be5716109e",
   "metadata": {
    "jp-MarkdownHeadingCollapsed": true,
    "tags": []
   },
   "source": [
    "### Gráfica de los portafolios"
   ]
  },
  {
   "cell_type": "code",
   "execution_count": 5,
   "id": "7ea12a93-bd2e-48ff-9860-3ebff8c6b713",
   "metadata": {
    "tags": []
   },
   "outputs": [
    {
     "data": {
      "image/png": "[encoded data removed]",
      "text/plain": [
       "<Figure size 640x480 with 1 Axes>"
      ]
     },
     "metadata": {},
     "output_type": "display_data"
    }
   ],
   "source": [
    "plt.scatter(resultados.vol, resultados.rend, c = 'skyblue')\n",
    "plt.scatter(min_var.vol, min_var.rend, c = 'navy', s=100, label = 'min_var')\n",
    "plt.text(min_var.vol, min_var.rend, 'min_var')\n",
    "\n",
    "plt.legend()\n",
    "plt.title('Rendimiento vs Volatilidad')\n",
    "plt.xlabel('Volatilidad $\\sigma$')\n",
    "plt.ylabel('Rendimiento $E[x]$')\n",
    "plt.grid()"
   ]
  },
  {
   "cell_type": "markdown",
   "id": "62ac5b52-68a9-4c60-9536-1dab3e488fdf",
   "metadata": {
    "jp-MarkdownHeadingCollapsed": true,
    "tags": []
   },
   "source": [
    "### Market Beta y r2"
   ]
  },
  {
   "cell_type": "code",
   "execution_count": 6,
   "id": "0f50f259-e219-4704-b3b2-b77f4ec71cb9",
   "metadata": {},
   "outputs": [],
   "source": [
    "# Calculemos beta y R2 de cada acción \n",
    "warnings.filterwarnings(\"ignore\")\n",
    "\n",
    "r2s = []\n",
    "betas = []\n",
    "rendimiento = []\n",
    "\n",
    "for i in tickers:\n",
    "    X = rt2[['VTI']]\n",
    "    y = rt[[i]]\n",
    "    # Beta\n",
    "    model = LinearRegression().fit(X, y)\n",
    "    beta = model.coef_[0][0]\n",
    "    betas.append(beta)\n",
    "    # R2\n",
    "    predictions = model.predict(X)\n",
    "    r2 = r2_score(y_true = y, y_pred = predictions)\n",
    "    r2s.append(r2)"
   ]
  },
  {
   "cell_type": "code",
   "execution_count": 7,
   "id": "f11d97e8-dbf4-4105-a554-e3749d6cb84a",
   "metadata": {
    "tags": []
   },
   "outputs": [
    {
     "data": {
      "text/html": [
       "<div>\n",
       "<style scoped>\n",
       "    .dataframe tbody tr th:only-of-type {\n",
       "        vertical-align: middle;\n",
       "    }\n",
       "\n",
       "    .dataframe tbody tr th {\n",
       "        vertical-align: top;\n",
       "    }\n",
       "\n",
       "    .dataframe thead th {\n",
       "        text-align: right;\n",
       "    }\n",
       "</style>\n",
       "<table border=\"1\" class=\"dataframe\">\n",
       "  <thead>\n",
       "    <tr style=\"text-align: right;\">\n",
       "      <th></th>\n",
       "      <th>tickers</th>\n",
       "      <th>betas</th>\n",
       "      <th>r2</th>\n",
       "    </tr>\n",
       "  </thead>\n",
       "  <tbody>\n",
       "    <tr>\n",
       "      <th>0</th>\n",
       "      <td>AAPL</td>\n",
       "      <td>1.172828</td>\n",
       "      <td>0.563829</td>\n",
       "    </tr>\n",
       "    <tr>\n",
       "      <th>1</th>\n",
       "      <td>AMZN</td>\n",
       "      <td>1.116404</td>\n",
       "      <td>0.398181</td>\n",
       "    </tr>\n",
       "    <tr>\n",
       "      <th>2</th>\n",
       "      <td>DFS</td>\n",
       "      <td>1.501476</td>\n",
       "      <td>0.482101</td>\n",
       "    </tr>\n",
       "    <tr>\n",
       "      <th>3</th>\n",
       "      <td>COST</td>\n",
       "      <td>0.696069</td>\n",
       "      <td>0.340120</td>\n",
       "    </tr>\n",
       "    <tr>\n",
       "      <th>4</th>\n",
       "      <td>SBUX</td>\n",
       "      <td>0.990599</td>\n",
       "      <td>0.465724</td>\n",
       "    </tr>\n",
       "  </tbody>\n",
       "</table>\n",
       "</div>"
      ],
      "text/plain": [
       "  tickers     betas        r2\n",
       "0    AAPL  1.172828  0.563829\n",
       "1    AMZN  1.116404  0.398181\n",
       "2     DFS  1.501476  0.482101\n",
       "3    COST  0.696069  0.340120\n",
       "4    SBUX  0.990599  0.465724"
      ]
     },
     "execution_count": 7,
     "metadata": {},
     "output_type": "execute_result"
    }
   ],
   "source": [
    "df_info = pd.DataFrame({\n",
    "    'tickers': tickers,\n",
    "    'betas': betas,\n",
    "    'r2': r2s\n",
    "})\n",
    "df_info"
   ]
  },
  {
   "cell_type": "markdown",
   "id": "926f958c-5a3e-40a5-b208-79649319d497",
   "metadata": {
    "jp-MarkdownHeadingCollapsed": true,
    "tags": []
   },
   "source": [
    "### Porcentaje de inversión según aversión al riesgo"
   ]
  },
  {
   "cell_type": "code",
   "execution_count": 8,
   "id": "ccd5b0db-ef26-45f6-ac47-c8cc9197887b",
   "metadata": {
    "tags": []
   },
   "outputs": [
    {
     "data": {
      "text/html": [
       "<div>\n",
       "<style scoped>\n",
       "    .dataframe tbody tr th:only-of-type {\n",
       "        vertical-align: middle;\n",
       "    }\n",
       "\n",
       "    .dataframe tbody tr th {\n",
       "        vertical-align: top;\n",
       "    }\n",
       "\n",
       "    .dataframe thead th {\n",
       "        text-align: right;\n",
       "    }\n",
       "</style>\n",
       "<table border=\"1\" class=\"dataframe\">\n",
       "  <thead>\n",
       "    <tr style=\"text-align: right;\">\n",
       "      <th></th>\n",
       "      <th>rend</th>\n",
       "      <th>vol</th>\n",
       "      <th>sharpe</th>\n",
       "      <th>AAPL</th>\n",
       "      <th>AMZN</th>\n",
       "      <th>COST</th>\n",
       "      <th>DFS</th>\n",
       "      <th>SBUX</th>\n",
       "    </tr>\n",
       "  </thead>\n",
       "  <tbody>\n",
       "    <tr>\n",
       "      <th>6749</th>\n",
       "      <td>0.24784</td>\n",
       "      <td>0.215137</td>\n",
       "      <td>1.012563</td>\n",
       "      <td>0.360871</td>\n",
       "      <td>0.117375</td>\n",
       "      <td>0.47008</td>\n",
       "      <td>0.048101</td>\n",
       "      <td>0.003573</td>\n",
       "    </tr>\n",
       "  </tbody>\n",
       "</table>\n",
       "</div>"
      ],
      "text/plain": [
       "         rend       vol    sharpe      AAPL      AMZN     COST       DFS  \\\n",
       "6749  0.24784  0.215137  1.012563  0.360871  0.117375  0.47008  0.048101   \n",
       "\n",
       "          SBUX  \n",
       "6749  0.003573  "
      ]
     },
     "execution_count": 8,
     "metadata": {},
     "output_type": "execute_result"
    }
   ],
   "source": [
    "emv = resultados[resultados.sharpe == resultados.sharpe.max()]\n",
    "emv"
   ]
  },
  {
   "cell_type": "code",
   "execution_count": 9,
   "id": "2148158b-c2e5-4df2-81d0-b80d49c78510",
   "metadata": {
    "tags": []
   },
   "outputs": [],
   "source": [
    "emv2 = emv.drop(['rend','vol','sharpe'], axis = 1)"
   ]
  },
  {
   "cell_type": "code",
   "execution_count": 10,
   "id": "d2ae4766-8994-4024-8d4e-eb5344c1cbbb",
   "metadata": {
    "tags": []
   },
   "outputs": [
    {
     "data": {
      "image/png": "[encoded data removed]",
      "text/plain": [
       "<Figure size 640x480 with 1 Axes>"
      ]
     },
     "metadata": {},
     "output_type": "display_data"
    }
   ],
   "source": [
    "erp = emv.rend.iloc[0]\n",
    "sp = emv.vol.iloc[0]\n",
    "\n",
    "s = np.linspace(0,0.25,10)\n",
    "\n",
    "lac = rf + s * emv.sharpe.iloc[0]\n",
    "\n",
    "plt.scatter(resultados.vol, resultados.rend, c = 'skyblue')\n",
    "\n",
    "plt.scatter(0, rf, s = 50, c = 'red')\n",
    "plt.text(0, rf, 'Rendimiento libre de riesgo')\n",
    "\n",
    "plt.scatter(emv.vol, emv.rend, c = 'navy', s=100, label = 'EMV')\n",
    "plt.text(emv.vol, emv.rend, 'EMV')\n",
    "\n",
    "plt.plot(s, lac, c = 'navy', label = 'LAC')\n",
    "\n",
    "plt.legend()\n",
    "plt.title('Rendimiento vs Volatilidad')\n",
    "plt.xlabel('Volatilidad $\\sigma$')\n",
    "plt.ylabel('Rendimiento $E[x]$')\n",
    "plt.grid()"
   ]
  },
  {
   "cell_type": "code",
   "execution_count": 11,
   "id": "dcd532a7-c1a1-44bd-bca5-7b6aeee0a4ae",
   "metadata": {
    "tags": []
   },
   "outputs": [
    {
     "data": {
      "text/html": [
       "<div>\n",
       "<style scoped>\n",
       "    .dataframe tbody tr th:only-of-type {\n",
       "        vertical-align: middle;\n",
       "    }\n",
       "\n",
       "    .dataframe tbody tr th {\n",
       "        vertical-align: top;\n",
       "    }\n",
       "\n",
       "    .dataframe thead th {\n",
       "        text-align: right;\n",
       "    }\n",
       "</style>\n",
       "<table border=\"1\" class=\"dataframe\">\n",
       "  <thead>\n",
       "    <tr style=\"text-align: right;\">\n",
       "      <th></th>\n",
       "      <th>aversion</th>\n",
       "      <th>peso_acciones</th>\n",
       "      <th>peso_bonos</th>\n",
       "      <th>rendimientos</th>\n",
       "      <th>volatilidad</th>\n",
       "    </tr>\n",
       "  </thead>\n",
       "  <tbody>\n",
       "    <tr>\n",
       "      <th>0</th>\n",
       "      <td>1</td>\n",
       "      <td>4.706590</td>\n",
       "      <td>-3.706590</td>\n",
       "      <td>1.055284</td>\n",
       "      <td>1.012563</td>\n",
       "    </tr>\n",
       "    <tr>\n",
       "      <th>1</th>\n",
       "      <td>2</td>\n",
       "      <td>2.353295</td>\n",
       "      <td>-1.353295</td>\n",
       "      <td>0.542642</td>\n",
       "      <td>0.506281</td>\n",
       "    </tr>\n",
       "    <tr>\n",
       "      <th>2</th>\n",
       "      <td>3</td>\n",
       "      <td>1.568863</td>\n",
       "      <td>-0.568863</td>\n",
       "      <td>0.371761</td>\n",
       "      <td>0.337521</td>\n",
       "    </tr>\n",
       "    <tr>\n",
       "      <th>3</th>\n",
       "      <td>4</td>\n",
       "      <td>1.176648</td>\n",
       "      <td>-0.176648</td>\n",
       "      <td>0.286321</td>\n",
       "      <td>0.253141</td>\n",
       "    </tr>\n",
       "    <tr>\n",
       "      <th>4</th>\n",
       "      <td>5</td>\n",
       "      <td>0.941318</td>\n",
       "      <td>0.058682</td>\n",
       "      <td>0.235057</td>\n",
       "      <td>0.202513</td>\n",
       "    </tr>\n",
       "    <tr>\n",
       "      <th>5</th>\n",
       "      <td>6</td>\n",
       "      <td>0.784432</td>\n",
       "      <td>0.215568</td>\n",
       "      <td>0.200881</td>\n",
       "      <td>0.168760</td>\n",
       "    </tr>\n",
       "    <tr>\n",
       "      <th>6</th>\n",
       "      <td>7</td>\n",
       "      <td>0.672370</td>\n",
       "      <td>0.327630</td>\n",
       "      <td>0.176469</td>\n",
       "      <td>0.144652</td>\n",
       "    </tr>\n",
       "    <tr>\n",
       "      <th>7</th>\n",
       "      <td>8</td>\n",
       "      <td>0.588324</td>\n",
       "      <td>0.411676</td>\n",
       "      <td>0.158160</td>\n",
       "      <td>0.126570</td>\n",
       "    </tr>\n",
       "  </tbody>\n",
       "</table>\n",
       "</div>"
      ],
      "text/plain": [
       "   aversion  peso_acciones  peso_bonos  rendimientos  volatilidad\n",
       "0         1       4.706590   -3.706590      1.055284     1.012563\n",
       "1         2       2.353295   -1.353295      0.542642     0.506281\n",
       "2         3       1.568863   -0.568863      0.371761     0.337521\n",
       "3         4       1.176648   -0.176648      0.286321     0.253141\n",
       "4         5       0.941318    0.058682      0.235057     0.202513\n",
       "5         6       0.784432    0.215568      0.200881     0.168760\n",
       "6         7       0.672370    0.327630      0.176469     0.144652\n",
       "7         8       0.588324    0.411676      0.158160     0.126570"
      ]
     },
     "execution_count": 11,
     "metadata": {},
     "output_type": "execute_result"
    }
   ],
   "source": [
    "alpha = [1,2,3,4,5,6,7,8]\n",
    "\n",
    "w_opt= []\n",
    "for i in alpha:\n",
    "    w_opt.append(((erp-rf)/(i*sp**2)))\n",
    "\n",
    "riesgo = []\n",
    "for j in range(8):\n",
    "    riesgo.append(w_opt[j]*sp)\n",
    "\n",
    "dist = pd.DataFrame()\n",
    "dist['aversion'] = alpha\n",
    "dist['peso_acciones'] = w_opt\n",
    "dist['peso_bonos'] = 1-dist.peso_acciones\n",
    "dist['rendimientos'] = dist.peso_acciones * erp + dist.peso_bonos * rf\n",
    "dist['volatilidad'] = riesgo\n",
    "dist"
   ]
  },
  {
   "cell_type": "markdown",
   "id": "a7e0aff2-0abf-4995-9665-c69d5ae3dc60",
   "metadata": {
    "jp-MarkdownHeadingCollapsed": true,
    "tags": []
   },
   "source": [
    "### Bootsrap beta"
   ]
  },
  {
   "cell_type": "code",
   "execution_count": 12,
   "id": "b47fd8a3-7d7d-4ff5-b66f-35d21fa5518e",
   "metadata": {
    "tags": []
   },
   "outputs": [
    {
     "data": {
      "text/html": [
       "<div>\n",
       "<style scoped>\n",
       "    .dataframe tbody tr th:only-of-type {\n",
       "        vertical-align: middle;\n",
       "    }\n",
       "\n",
       "    .dataframe tbody tr th {\n",
       "        vertical-align: top;\n",
       "    }\n",
       "\n",
       "    .dataframe thead th {\n",
       "        text-align: right;\n",
       "    }\n",
       "</style>\n",
       "<table border=\"1\" class=\"dataframe\">\n",
       "  <thead>\n",
       "    <tr style=\"text-align: right;\">\n",
       "      <th></th>\n",
       "      <th>AAPL</th>\n",
       "      <th>AMZN</th>\n",
       "      <th>DFS</th>\n",
       "      <th>COST</th>\n",
       "      <th>SBUX</th>\n",
       "    </tr>\n",
       "  </thead>\n",
       "  <tbody>\n",
       "    <tr>\n",
       "      <th>0</th>\n",
       "      <td>1.146537</td>\n",
       "      <td>1.002202</td>\n",
       "      <td>1.624488</td>\n",
       "      <td>0.630638</td>\n",
       "      <td>1.056174</td>\n",
       "    </tr>\n",
       "    <tr>\n",
       "      <th>1</th>\n",
       "      <td>1.148144</td>\n",
       "      <td>1.060440</td>\n",
       "      <td>1.569954</td>\n",
       "      <td>0.630144</td>\n",
       "      <td>1.026487</td>\n",
       "    </tr>\n",
       "    <tr>\n",
       "      <th>2</th>\n",
       "      <td>1.145453</td>\n",
       "      <td>1.058931</td>\n",
       "      <td>1.600306</td>\n",
       "      <td>0.661847</td>\n",
       "      <td>1.035782</td>\n",
       "    </tr>\n",
       "    <tr>\n",
       "      <th>3</th>\n",
       "      <td>1.129743</td>\n",
       "      <td>1.078283</td>\n",
       "      <td>1.514390</td>\n",
       "      <td>0.698582</td>\n",
       "      <td>0.964418</td>\n",
       "    </tr>\n",
       "    <tr>\n",
       "      <th>4</th>\n",
       "      <td>1.120294</td>\n",
       "      <td>1.156607</td>\n",
       "      <td>1.433451</td>\n",
       "      <td>0.689150</td>\n",
       "      <td>0.943269</td>\n",
       "    </tr>\n",
       "    <tr>\n",
       "      <th>...</th>\n",
       "      <td>...</td>\n",
       "      <td>...</td>\n",
       "      <td>...</td>\n",
       "      <td>...</td>\n",
       "      <td>...</td>\n",
       "    </tr>\n",
       "    <tr>\n",
       "      <th>995</th>\n",
       "      <td>1.137517</td>\n",
       "      <td>1.100389</td>\n",
       "      <td>1.503287</td>\n",
       "      <td>0.753474</td>\n",
       "      <td>0.972902</td>\n",
       "    </tr>\n",
       "    <tr>\n",
       "      <th>996</th>\n",
       "      <td>1.163809</td>\n",
       "      <td>1.099264</td>\n",
       "      <td>1.531474</td>\n",
       "      <td>0.683008</td>\n",
       "      <td>1.022737</td>\n",
       "    </tr>\n",
       "    <tr>\n",
       "      <th>997</th>\n",
       "      <td>1.136905</td>\n",
       "      <td>0.993883</td>\n",
       "      <td>1.651855</td>\n",
       "      <td>0.601334</td>\n",
       "      <td>1.019614</td>\n",
       "    </tr>\n",
       "    <tr>\n",
       "      <th>998</th>\n",
       "      <td>1.204240</td>\n",
       "      <td>1.022926</td>\n",
       "      <td>1.570657</td>\n",
       "      <td>0.706745</td>\n",
       "      <td>0.988658</td>\n",
       "    </tr>\n",
       "    <tr>\n",
       "      <th>999</th>\n",
       "      <td>1.163049</td>\n",
       "      <td>1.093322</td>\n",
       "      <td>1.591248</td>\n",
       "      <td>0.664439</td>\n",
       "      <td>0.983458</td>\n",
       "    </tr>\n",
       "  </tbody>\n",
       "</table>\n",
       "<p>1000 rows × 5 columns</p>\n",
       "</div>"
      ],
      "text/plain": [
       "         AAPL      AMZN       DFS      COST      SBUX\n",
       "0    1.146537  1.002202  1.624488  0.630638  1.056174\n",
       "1    1.148144  1.060440  1.569954  0.630144  1.026487\n",
       "2    1.145453  1.058931  1.600306  0.661847  1.035782\n",
       "3    1.129743  1.078283  1.514390  0.698582  0.964418\n",
       "4    1.120294  1.156607  1.433451  0.689150  0.943269\n",
       "..        ...       ...       ...       ...       ...\n",
       "995  1.137517  1.100389  1.503287  0.753474  0.972902\n",
       "996  1.163809  1.099264  1.531474  0.683008  1.022737\n",
       "997  1.136905  0.993883  1.651855  0.601334  1.019614\n",
       "998  1.204240  1.022926  1.570657  0.706745  0.988658\n",
       "999  1.163049  1.093322  1.591248  0.664439  0.983458\n",
       "\n",
       "[1000 rows x 5 columns]"
      ]
     },
     "execution_count": 12,
     "metadata": {},
     "output_type": "execute_result"
    }
   ],
   "source": [
    "betas = []\n",
    "n_reps = 1000\n",
    "for i in range(n_reps):\n",
    "    flag_frame = rt3.sample(len(rt3), replace=True)\n",
    "    model = LinearRegression()\n",
    "    temp_betas = []\n",
    "    for j, ticker in enumerate(tickers3[1:]):\n",
    "        X = flag_frame[['VTI']]\n",
    "        y = flag_frame[[ticker]]\n",
    "        model.fit(X, y)\n",
    "        beta = model.coef_[0][0]\n",
    "        temp_betas.append(beta)\n",
    "    betas.append(temp_betas)\n",
    "\n",
    "df_betas = pd.DataFrame(betas, columns=tickers3[1:])\n",
    "\n",
    "df_betas"
   ]
  },
  {
   "cell_type": "markdown",
   "id": "9eb9c186-140f-4fd8-911d-fd892a098691",
   "metadata": {
    "jp-MarkdownHeadingCollapsed": true,
    "tags": []
   },
   "source": [
    "### Probabilidad beta > 1 para cada activo"
   ]
  },
  {
   "cell_type": "code",
   "execution_count": 13,
   "id": "8b4c4cb4-f665-448c-91ff-bfb82be42e40",
   "metadata": {
    "tags": []
   },
   "outputs": [
    {
     "data": {
      "image/png": "[encoded data removed]",
      "text/plain": [
       "<Figure size 640x480 with 1 Axes>"
      ]
     },
     "metadata": {},
     "output_type": "display_data"
    },
    {
     "data": {
      "image/png": "[encoded data removed]",
      "text/plain": [
       "<Figure size 640x480 with 1 Axes>"
      ]
     },
     "metadata": {},
     "output_type": "display_data"
    },
    {
     "data": {
      "image/png": "[encoded data removed]",
      "text/plain": [
       "<Figure size 640x480 with 1 Axes>"
      ]
     },
     "metadata": {},
     "output_type": "display_data"
    },
    {
     "data": {
      "image/png": "[encoded data removed]",
      "text/plain": [
       "<Figure size 640x480 with 1 Axes>"
      ]
     },
     "metadata": {},
     "output_type": "display_data"
    },
    {
     "data": {
      "image/png": "[encoded data removed]",
      "text/plain": [
       "<Figure size 640x480 with 1 Axes>"
      ]
     },
     "metadata": {},
     "output_type": "display_data"
    }
   ],
   "source": [
    "for col in df_betas.columns:\n",
    "    plt.hist(df_betas[col], bins=100, color = 'skyblue')\n",
    "    plt.title(\"Histograma de \" + col)\n",
    "    plt.grid()\n",
    "    plt.show()"
   ]
  },
  {
   "cell_type": "code",
   "execution_count": 14,
   "id": "7f9c44cc-e44d-49da-b582-4144280645ed",
   "metadata": {
    "tags": []
   },
   "outputs": [
    {
     "name": "stdout",
     "output_type": "stream",
     "text": [
      "Probabilidad que la beta de AAPL sea mayor a 1\n",
      "1.0\n",
      "\n",
      "Probabilidad que la beta de AMZN sea mayor a 1\n",
      "0.98\n",
      "\n",
      "Probabilidad que la beta de DFS sea mayor a 1\n",
      "1.0\n",
      "\n",
      "Probabilidad que la beta de COST sea mayor a 1\n",
      "0.0\n",
      "\n",
      "Probabilidad que la beta de SBUX sea mayor a 1\n",
      "0.383\n",
      "\n"
     ]
    }
   ],
   "source": [
    "for i in tickers:\n",
    "    print('Probabilidad que la beta de', i, 'sea mayor a 1')\n",
    "    print((df_betas[i] > 1).mean())\n",
    "    print()"
   ]
  },
  {
   "cell_type": "markdown",
   "id": "ec7cb5ca-638b-4585-8c6f-050ac8957651",
   "metadata": {
    "jp-MarkdownHeadingCollapsed": true,
    "tags": []
   },
   "source": [
    "### Bootstrap de r2"
   ]
  },
  {
   "cell_type": "code",
   "execution_count": 15,
   "id": "59433a82-403e-4fa4-8aa8-9b5ee8a8c13b",
   "metadata": {
    "tags": []
   },
   "outputs": [
    {
     "data": {
      "text/html": [
       "<div>\n",
       "<style scoped>\n",
       "    .dataframe tbody tr th:only-of-type {\n",
       "        vertical-align: middle;\n",
       "    }\n",
       "\n",
       "    .dataframe tbody tr th {\n",
       "        vertical-align: top;\n",
       "    }\n",
       "\n",
       "    .dataframe thead th {\n",
       "        text-align: right;\n",
       "    }\n",
       "</style>\n",
       "<table border=\"1\" class=\"dataframe\">\n",
       "  <thead>\n",
       "    <tr style=\"text-align: right;\">\n",
       "      <th></th>\n",
       "      <th>AAPL</th>\n",
       "      <th>AMZN</th>\n",
       "      <th>DFS</th>\n",
       "      <th>COST</th>\n",
       "      <th>SBUX</th>\n",
       "    </tr>\n",
       "  </thead>\n",
       "  <tbody>\n",
       "    <tr>\n",
       "      <th>0</th>\n",
       "      <td>0.590344</td>\n",
       "      <td>0.400633</td>\n",
       "      <td>0.515553</td>\n",
       "      <td>0.415951</td>\n",
       "      <td>0.520104</td>\n",
       "    </tr>\n",
       "    <tr>\n",
       "      <th>1</th>\n",
       "      <td>0.552863</td>\n",
       "      <td>0.378852</td>\n",
       "      <td>0.462030</td>\n",
       "      <td>0.320057</td>\n",
       "      <td>0.458585</td>\n",
       "    </tr>\n",
       "    <tr>\n",
       "      <th>2</th>\n",
       "      <td>0.550305</td>\n",
       "      <td>0.376228</td>\n",
       "      <td>0.475105</td>\n",
       "      <td>0.394863</td>\n",
       "      <td>0.475902</td>\n",
       "    </tr>\n",
       "    <tr>\n",
       "      <th>3</th>\n",
       "      <td>0.559503</td>\n",
       "      <td>0.403131</td>\n",
       "      <td>0.462427</td>\n",
       "      <td>0.341874</td>\n",
       "      <td>0.458771</td>\n",
       "    </tr>\n",
       "    <tr>\n",
       "      <th>4</th>\n",
       "      <td>0.533513</td>\n",
       "      <td>0.399490</td>\n",
       "      <td>0.400706</td>\n",
       "      <td>0.327213</td>\n",
       "      <td>0.409925</td>\n",
       "    </tr>\n",
       "    <tr>\n",
       "      <th>...</th>\n",
       "      <td>...</td>\n",
       "      <td>...</td>\n",
       "      <td>...</td>\n",
       "      <td>...</td>\n",
       "      <td>...</td>\n",
       "    </tr>\n",
       "    <tr>\n",
       "      <th>995</th>\n",
       "      <td>0.596081</td>\n",
       "      <td>0.422032</td>\n",
       "      <td>0.497325</td>\n",
       "      <td>0.362835</td>\n",
       "      <td>0.503375</td>\n",
       "    </tr>\n",
       "    <tr>\n",
       "      <th>996</th>\n",
       "      <td>0.599718</td>\n",
       "      <td>0.402374</td>\n",
       "      <td>0.489582</td>\n",
       "      <td>0.336304</td>\n",
       "      <td>0.475715</td>\n",
       "    </tr>\n",
       "    <tr>\n",
       "      <th>997</th>\n",
       "      <td>0.530488</td>\n",
       "      <td>0.359829</td>\n",
       "      <td>0.432527</td>\n",
       "      <td>0.323395</td>\n",
       "      <td>0.415979</td>\n",
       "    </tr>\n",
       "    <tr>\n",
       "      <th>998</th>\n",
       "      <td>0.598364</td>\n",
       "      <td>0.461111</td>\n",
       "      <td>0.440860</td>\n",
       "      <td>0.405594</td>\n",
       "      <td>0.428627</td>\n",
       "    </tr>\n",
       "    <tr>\n",
       "      <th>999</th>\n",
       "      <td>0.601451</td>\n",
       "      <td>0.394608</td>\n",
       "      <td>0.492928</td>\n",
       "      <td>0.357807</td>\n",
       "      <td>0.494316</td>\n",
       "    </tr>\n",
       "  </tbody>\n",
       "</table>\n",
       "<p>1000 rows × 5 columns</p>\n",
       "</div>"
      ],
      "text/plain": [
       "         AAPL      AMZN       DFS      COST      SBUX\n",
       "0    0.590344  0.400633  0.515553  0.415951  0.520104\n",
       "1    0.552863  0.378852  0.462030  0.320057  0.458585\n",
       "2    0.550305  0.376228  0.475105  0.394863  0.475902\n",
       "3    0.559503  0.403131  0.462427  0.341874  0.458771\n",
       "4    0.533513  0.399490  0.400706  0.327213  0.409925\n",
       "..        ...       ...       ...       ...       ...\n",
       "995  0.596081  0.422032  0.497325  0.362835  0.503375\n",
       "996  0.599718  0.402374  0.489582  0.336304  0.475715\n",
       "997  0.530488  0.359829  0.432527  0.323395  0.415979\n",
       "998  0.598364  0.461111  0.440860  0.405594  0.428627\n",
       "999  0.601451  0.394608  0.492928  0.357807  0.494316\n",
       "\n",
       "[1000 rows x 5 columns]"
      ]
     },
     "execution_count": 15,
     "metadata": {},
     "output_type": "execute_result"
    }
   ],
   "source": [
    "r2 = []\n",
    "n = 1000\n",
    "for i in range(n):\n",
    "    flag_frame = rt3.sample(len(rt3), replace=True)\n",
    "    temp_r2 = []\n",
    "    for j, ticker in enumerate(tickers3[1:]):\n",
    "        X = flag_frame[['VTI']]\n",
    "        y = flag_frame[[ticker]]\n",
    "        model = LinearRegression().fit(X, y)\n",
    "        predicciones = model.predict(X)\n",
    "        flag_r2 = r2_score(y_true=y, y_pred=predicciones)\n",
    "        temp_r2.append(flag_r2)\n",
    "    r2.append(temp_r2)\n",
    "\n",
    "df_r2 = pd.DataFrame(r2, columns=tickers3[1:])\n",
    "df_r2"
   ]
  },
  {
   "cell_type": "markdown",
   "id": "c65f9506-7032-46b7-91d3-5b1a4345a7b5",
   "metadata": {
    "jp-MarkdownHeadingCollapsed": true,
    "tags": []
   },
   "source": [
    "### Probabilidad r2 > 0.5 para cada activo"
   ]
  },
  {
   "cell_type": "code",
   "execution_count": 16,
   "id": "cdef1095-470f-4136-959e-1e28958f7700",
   "metadata": {
    "tags": []
   },
   "outputs": [
    {
     "data": {
      "image/png": "[encoded data removed]",
      "text/plain": [
       "<Figure size 640x480 with 1 Axes>"
      ]
     },
     "metadata": {},
     "output_type": "display_data"
    },
    {
     "data": {
      "image/png": "[encoded data removed]",
      "text/plain": [
       "<Figure size 640x480 with 1 Axes>"
      ]
     },
     "metadata": {},
     "output_type": "display_data"
    },
    {
     "data": {
      "image/png": "[encoded data removed]",
      "text/plain": [
       "<Figure size 640x480 with 1 Axes>"
      ]
     },
     "metadata": {},
     "output_type": "display_data"
    },
    {
     "data": {
      "image/png": "[encoded data removed]",
      "text/plain": [
       "<Figure size 640x480 with 1 Axes>"
      ]
     },
     "metadata": {},
     "output_type": "display_data"
    },
    {
     "data": {
      "image/png": "[encoded data removed]",
      "text/plain": [
       "<Figure size 640x480 with 1 Axes>"
      ]
     },
     "metadata": {},
     "output_type": "display_data"
    }
   ],
   "source": [
    "for col in df_r2.columns:\n",
    "    plt.hist(df_r2[col], bins=100, color='skyblue')\n",
    "    plt.title(\"Histograma de \" + col)\n",
    "    plt.grid()\n",
    "    plt.show()"
   ]
  },
  {
   "cell_type": "code",
   "execution_count": 17,
   "id": "ecff44eb-2a3b-4368-aa26-8f0fa65b0f5a",
   "metadata": {
    "tags": []
   },
   "outputs": [
    {
     "name": "stdout",
     "output_type": "stream",
     "text": [
      "Probabilidad de que el r2 de AAPL sea mayor a 0.5\n",
      "0.997\n",
      "\n",
      "Probabilidad de que el r2 de AMZN sea mayor a 0.5\n",
      "0.0\n",
      "\n",
      "Probabilidad de que el r2 de DFS sea mayor a 0.5\n",
      "0.316\n",
      "\n",
      "Probabilidad de que el r2 de COST sea mayor a 0.5\n",
      "0.0\n",
      "\n",
      "Probabilidad de que el r2 de SBUX sea mayor a 0.5\n",
      "0.165\n",
      "\n"
     ]
    }
   ],
   "source": [
    "for i in tickers:\n",
    "    print('Probabilidad de que el r2 de', i, 'sea mayor a 0.5')\n",
    "    print((df_r2[i] > 0.5).mean())\n",
    "    print()"
   ]
  },
  {
   "cell_type": "markdown",
   "id": "75a25f0a-a48d-4f87-a9a7-e512d03acbc9",
   "metadata": {
    "jp-MarkdownHeadingCollapsed": true,
    "tags": []
   },
   "source": [
    "### CAPM, Fama French y 5 factores"
   ]
  },
  {
   "cell_type": "code",
   "execution_count": 18,
   "id": "2c7032cc-9e04-4ea8-9874-b8ba94f437fa",
   "metadata": {
    "tags": []
   },
   "outputs": [],
   "source": [
    "start_date = datetime.datetime(2016, 1, 1)\n",
    "end_date = datetime.datetime(2024, 5, 1)\n",
    "\n",
    "ff_factores = web.DataReader(\"F-F_Research_Data_5_Factors_2x3\", \"famafrench\", start_date, end_date)\n",
    "\n",
    "factors_df = ff_factores[0] / 100\n",
    "factors_df.index = factors_df.index.to_timestamp()"
   ]
  },
  {
   "cell_type": "code",
   "execution_count": 19,
   "id": "4960e836-cf2f-460b-81ed-50eac2dab52b",
   "metadata": {
    "tags": []
   },
   "outputs": [
    {
     "name": "stdout",
     "output_type": "stream",
     "text": [
      "[*********************100%%**********************]  5 of 5 completed\n"
     ]
    }
   ],
   "source": [
    "stock_data = yf.download(tickers, start_date, end_date, interval='1mo')['Adj Close']\n",
    "rt = stock_data.pct_change().dropna()\n",
    "\n",
    "fama_french_df = pd.merge(rt, factors_df, on='Date')"
   ]
  },
  {
   "cell_type": "code",
   "execution_count": 20,
   "id": "14f6e07e-e59f-4c8f-b3eb-13115dc3b103",
   "metadata": {
    "tags": []
   },
   "outputs": [],
   "source": [
    "def run_all_models(data, ticker):\n",
    "    flag_data = data.copy()\n",
    "    flag_data[ticker + '_minus_RF'] = data[ticker] - data['RF']\n",
    "    y = flag_data[[ticker + '_minus_RF']] \n",
    "\n",
    "    # CAPM \n",
    "    X_capm = flag_data[['Mkt-RF']]\n",
    "    model_capm = LinearRegression().fit(X_capm, y)\n",
    "    prediction_capm = model_capm.predict(X_capm)\n",
    "    r2_capm = r2_score(y_pred=prediction_capm, y_true=y)\n",
    "    summary_capm = {str(X_capm.keys().values): list(model_capm.coef_[0])}\n",
    "\n",
    "    # 3 factor model \n",
    "    X_3factor = flag_data[['Mkt-RF', 'SMB', 'HML']]\n",
    "    model_3factor = LinearRegression().fit(X_3factor, y)\n",
    "    prediction_3factor = model_3factor.predict(X_3factor)\n",
    "    r2_3factor = r2_score(y_pred=prediction_3factor, y_true=y)\n",
    "    summary_3factor = {str(X_3factor.keys().values): list(model_3factor.coef_[0])}\n",
    "    \n",
    "    \n",
    "    # 5 factor\n",
    "    X_5factor = flag_data[['Mkt-RF', 'SMB', 'HML', 'RMW', 'CMA']]\n",
    "    model_5factor = LinearRegression().fit(X_5factor, y)\n",
    "    prediction_5factor = model_5factor.predict(X_5factor)\n",
    "    r2_5factor = r2_score(y_pred=prediction_5factor, y_true=y)\n",
    "    summary_5factor = {str(X_5factor.keys().values): list(model_5factor.coef_[0])}\n",
    "    \n",
    "    summary = {\n",
    "        'CAPM': {'BETAS': summary_capm, 'R2': r2_capm},\n",
    "        '3 factor': {'BETAS': summary_3factor, 'R2': r2_3factor},\n",
    "        '5 factor': {'BETAS': summary_5factor, 'R2': r2_5factor}\n",
    "\n",
    "    }\n",
    "    return summary"
   ]
  },
  {
   "cell_type": "code",
   "execution_count": 21,
   "id": "97e95cec-47d9-45d9-854d-2b0b045bdd63",
   "metadata": {
    "tags": []
   },
   "outputs": [],
   "source": [
    "fama_french_df['emv'] = emv.AAPL.values[0] * fama_french_df['AAPL'] + emv.AMZN.values[0] * fama_french_df['AMZN'] + emv.DFS.values[0] * fama_french_df['DFS'] + emv.COST.values[0] * fama_french_df['COST'] + emv.SBUX.values[0] * fama_french_df['SBUX']"
   ]
  },
  {
   "cell_type": "code",
   "execution_count": 22,
   "id": "0047259a-5024-44e6-8ab4-861bc33053fd",
   "metadata": {
    "tags": []
   },
   "outputs": [
    {
     "data": {
      "text/html": [
       "<div>\n",
       "<style scoped>\n",
       "    .dataframe tbody tr th:only-of-type {\n",
       "        vertical-align: middle;\n",
       "    }\n",
       "\n",
       "    .dataframe tbody tr th {\n",
       "        vertical-align: top;\n",
       "    }\n",
       "\n",
       "    .dataframe thead th {\n",
       "        text-align: right;\n",
       "    }\n",
       "</style>\n",
       "<table border=\"1\" class=\"dataframe\">\n",
       "  <thead>\n",
       "    <tr style=\"text-align: right;\">\n",
       "      <th></th>\n",
       "      <th>AAPL</th>\n",
       "      <th>AMZN</th>\n",
       "      <th>COST</th>\n",
       "      <th>DFS</th>\n",
       "      <th>SBUX</th>\n",
       "      <th>Mkt-RF</th>\n",
       "      <th>SMB</th>\n",
       "      <th>HML</th>\n",
       "      <th>RMW</th>\n",
       "      <th>CMA</th>\n",
       "      <th>RF</th>\n",
       "      <th>emv</th>\n",
       "    </tr>\n",
       "    <tr>\n",
       "      <th>Date</th>\n",
       "      <th></th>\n",
       "      <th></th>\n",
       "      <th></th>\n",
       "      <th></th>\n",
       "      <th></th>\n",
       "      <th></th>\n",
       "      <th></th>\n",
       "      <th></th>\n",
       "      <th></th>\n",
       "      <th></th>\n",
       "      <th></th>\n",
       "      <th></th>\n",
       "    </tr>\n",
       "  </thead>\n",
       "  <tbody>\n",
       "    <tr>\n",
       "      <th>2016-02-01</th>\n",
       "      <td>-0.006677</td>\n",
       "      <td>-0.058739</td>\n",
       "      <td>-0.007213</td>\n",
       "      <td>0.013758</td>\n",
       "      <td>-0.042126</td>\n",
       "      <td>-0.0007</td>\n",
       "      <td>0.0088</td>\n",
       "      <td>-0.0057</td>\n",
       "      <td>0.0325</td>\n",
       "      <td>0.0202</td>\n",
       "      <td>0.0002</td>\n",
       "      <td>-0.012183</td>\n",
       "    </tr>\n",
       "    <tr>\n",
       "      <th>2016-03-01</th>\n",
       "      <td>0.133327</td>\n",
       "      <td>0.074423</td>\n",
       "      <td>0.053171</td>\n",
       "      <td>0.103651</td>\n",
       "      <td>0.028948</td>\n",
       "      <td>0.0696</td>\n",
       "      <td>0.0107</td>\n",
       "      <td>0.0119</td>\n",
       "      <td>0.0077</td>\n",
       "      <td>-0.0008</td>\n",
       "      <td>0.0002</td>\n",
       "      <td>0.086933</td>\n",
       "    </tr>\n",
       "    <tr>\n",
       "      <th>2016-04-01</th>\n",
       "      <td>-0.139921</td>\n",
       "      <td>0.111094</td>\n",
       "      <td>-0.059970</td>\n",
       "      <td>0.105067</td>\n",
       "      <td>-0.058124</td>\n",
       "      <td>0.0091</td>\n",
       "      <td>0.0123</td>\n",
       "      <td>0.0328</td>\n",
       "      <td>-0.0297</td>\n",
       "      <td>0.0190</td>\n",
       "      <td>0.0001</td>\n",
       "      <td>-0.060798</td>\n",
       "    </tr>\n",
       "    <tr>\n",
       "      <th>2016-05-01</th>\n",
       "      <td>0.065287</td>\n",
       "      <td>0.095817</td>\n",
       "      <td>0.007291</td>\n",
       "      <td>0.009597</td>\n",
       "      <td>-0.023831</td>\n",
       "      <td>0.0178</td>\n",
       "      <td>-0.0061</td>\n",
       "      <td>-0.0166</td>\n",
       "      <td>-0.0109</td>\n",
       "      <td>-0.0248</td>\n",
       "      <td>0.0001</td>\n",
       "      <td>0.038610</td>\n",
       "    </tr>\n",
       "    <tr>\n",
       "      <th>2016-06-01</th>\n",
       "      <td>-0.036831</td>\n",
       "      <td>-0.009920</td>\n",
       "      <td>0.055589</td>\n",
       "      <td>-0.051973</td>\n",
       "      <td>0.044268</td>\n",
       "      <td>-0.0005</td>\n",
       "      <td>0.0045</td>\n",
       "      <td>-0.0148</td>\n",
       "      <td>0.0140</td>\n",
       "      <td>0.0194</td>\n",
       "      <td>0.0002</td>\n",
       "      <td>0.009334</td>\n",
       "    </tr>\n",
       "    <tr>\n",
       "      <th>...</th>\n",
       "      <td>...</td>\n",
       "      <td>...</td>\n",
       "      <td>...</td>\n",
       "      <td>...</td>\n",
       "      <td>...</td>\n",
       "      <td>...</td>\n",
       "      <td>...</td>\n",
       "      <td>...</td>\n",
       "      <td>...</td>\n",
       "      <td>...</td>\n",
       "      <td>...</td>\n",
       "      <td>...</td>\n",
       "    </tr>\n",
       "    <tr>\n",
       "      <th>2023-11-01</th>\n",
       "      <td>0.112315</td>\n",
       "      <td>0.097678</td>\n",
       "      <td>0.072949</td>\n",
       "      <td>0.133041</td>\n",
       "      <td>0.076540</td>\n",
       "      <td>0.0884</td>\n",
       "      <td>-0.0012</td>\n",
       "      <td>0.0164</td>\n",
       "      <td>-0.0391</td>\n",
       "      <td>-0.0100</td>\n",
       "      <td>0.0044</td>\n",
       "      <td>0.092961</td>\n",
       "    </tr>\n",
       "    <tr>\n",
       "      <th>2023-12-01</th>\n",
       "      <td>0.014918</td>\n",
       "      <td>0.040044</td>\n",
       "      <td>0.115652</td>\n",
       "      <td>0.218411</td>\n",
       "      <td>-0.027819</td>\n",
       "      <td>0.0487</td>\n",
       "      <td>0.0732</td>\n",
       "      <td>0.0493</td>\n",
       "      <td>-0.0307</td>\n",
       "      <td>0.0132</td>\n",
       "      <td>0.0043</td>\n",
       "      <td>0.074856</td>\n",
       "    </tr>\n",
       "    <tr>\n",
       "      <th>2024-01-01</th>\n",
       "      <td>-0.042227</td>\n",
       "      <td>0.021456</td>\n",
       "      <td>0.076660</td>\n",
       "      <td>-0.061210</td>\n",
       "      <td>-0.031038</td>\n",
       "      <td>0.0071</td>\n",
       "      <td>-0.0574</td>\n",
       "      <td>-0.0238</td>\n",
       "      <td>0.0069</td>\n",
       "      <td>-0.0096</td>\n",
       "      <td>0.0047</td>\n",
       "      <td>0.020261</td>\n",
       "    </tr>\n",
       "    <tr>\n",
       "      <th>2024-02-01</th>\n",
       "      <td>-0.019794</td>\n",
       "      <td>0.138918</td>\n",
       "      <td>0.070530</td>\n",
       "      <td>0.143859</td>\n",
       "      <td>0.020101</td>\n",
       "      <td>0.0506</td>\n",
       "      <td>-0.0078</td>\n",
       "      <td>-0.0349</td>\n",
       "      <td>-0.0199</td>\n",
       "      <td>-0.0214</td>\n",
       "      <td>0.0042</td>\n",
       "      <td>0.049309</td>\n",
       "    </tr>\n",
       "    <tr>\n",
       "      <th>2024-03-01</th>\n",
       "      <td>-0.050076</td>\n",
       "      <td>0.020480</td>\n",
       "      <td>-0.013689</td>\n",
       "      <td>0.092226</td>\n",
       "      <td>-0.031192</td>\n",
       "      <td>0.0283</td>\n",
       "      <td>-0.0116</td>\n",
       "      <td>0.0419</td>\n",
       "      <td>0.0148</td>\n",
       "      <td>0.0118</td>\n",
       "      <td>0.0043</td>\n",
       "      <td>-0.017777</td>\n",
       "    </tr>\n",
       "  </tbody>\n",
       "</table>\n",
       "<p>98 rows × 12 columns</p>\n",
       "</div>"
      ],
      "text/plain": [
       "                AAPL      AMZN      COST       DFS      SBUX  Mkt-RF     SMB  \\\n",
       "Date                                                                           \n",
       "2016-02-01 -0.006677 -0.058739 -0.007213  0.013758 -0.042126 -0.0007  0.0088   \n",
       "2016-03-01  0.133327  0.074423  0.053171  0.103651  0.028948  0.0696  0.0107   \n",
       "2016-04-01 -0.139921  0.111094 -0.059970  0.105067 -0.058124  0.0091  0.0123   \n",
       "2016-05-01  0.065287  0.095817  0.007291  0.009597 -0.023831  0.0178 -0.0061   \n",
       "2016-06-01 -0.036831 -0.009920  0.055589 -0.051973  0.044268 -0.0005  0.0045   \n",
       "...              ...       ...       ...       ...       ...     ...     ...   \n",
       "2023-11-01  0.112315  0.097678  0.072949  0.133041  0.076540  0.0884 -0.0012   \n",
       "2023-12-01  0.014918  0.040044  0.115652  0.218411 -0.027819  0.0487  0.0732   \n",
       "2024-01-01 -0.042227  0.021456  0.076660 -0.061210 -0.031038  0.0071 -0.0574   \n",
       "2024-02-01 -0.019794  0.138918  0.070530  0.143859  0.020101  0.0506 -0.0078   \n",
       "2024-03-01 -0.050076  0.020480 -0.013689  0.092226 -0.031192  0.0283 -0.0116   \n",
       "\n",
       "               HML     RMW     CMA      RF       emv  \n",
       "Date                                                  \n",
       "2016-02-01 -0.0057  0.0325  0.0202  0.0002 -0.012183  \n",
       "2016-03-01  0.0119  0.0077 -0.0008  0.0002  0.086933  \n",
       "2016-04-01  0.0328 -0.0297  0.0190  0.0001 -0.060798  \n",
       "2016-05-01 -0.0166 -0.0109 -0.0248  0.0001  0.038610  \n",
       "2016-06-01 -0.0148  0.0140  0.0194  0.0002  0.009334  \n",
       "...            ...     ...     ...     ...       ...  \n",
       "2023-11-01  0.0164 -0.0391 -0.0100  0.0044  0.092961  \n",
       "2023-12-01  0.0493 -0.0307  0.0132  0.0043  0.074856  \n",
       "2024-01-01 -0.0238  0.0069 -0.0096  0.0047  0.020261  \n",
       "2024-02-01 -0.0349 -0.0199 -0.0214  0.0042  0.049309  \n",
       "2024-03-01  0.0419  0.0148  0.0118  0.0043 -0.017777  \n",
       "\n",
       "[98 rows x 12 columns]"
      ]
     },
     "execution_count": 22,
     "metadata": {},
     "output_type": "execute_result"
    }
   ],
   "source": [
    "fama_french_df"
   ]
  },
  {
   "cell_type": "code",
   "execution_count": 23,
   "id": "d9794852-1f48-4d57-867d-78af30692ba6",
   "metadata": {
    "tags": []
   },
   "outputs": [
    {
     "data": {
      "text/plain": [
       "{'CAPM': {'BETAS': {\"['Mkt-RF']\": [0.99204659470237]},\n",
       "  'R2': 0.6348372303897014},\n",
       " '3 factor': {'BETAS': {\"['Mkt-RF' 'SMB' 'HML']\": [1.0592443635936393,\n",
       "    -0.2378876768730605,\n",
       "    -0.4179173200810632]},\n",
       "  'R2': 0.7497478944259752},\n",
       " '5 factor': {'BETAS': {\"['Mkt-RF' 'SMB' 'HML' 'RMW' 'CMA']\": [1.0215447576988765,\n",
       "    -0.10722274920842298,\n",
       "    -0.4593098634342903,\n",
       "    0.31815783929705865,\n",
       "    -0.03161070069922787]},\n",
       "  'R2': 0.760260788439833}}"
      ]
     },
     "execution_count": 23,
     "metadata": {},
     "output_type": "execute_result"
    }
   ],
   "source": [
    "run_all_models(fama_french_df, 'emv')"
   ]
  },
  {
   "cell_type": "markdown",
   "id": "27b07713-0c60-494f-bdd0-3887f798317b",
   "metadata": {},
   "source": [
    "El R2 para los modelos es el siguiente:\n",
    "\n",
    "* CAPM: 0.6348\n",
    "* Fama French (3 factor): 0.7497\n",
    "* 5 factor: 0.7602\n",
    "\n",
    "Esto significa que el modelo del CAPM explica el 63% de la variación, el Fama French explica el 74% de la variación y por últio el 5 factor model explica el 76% de la variación."
   ]
  },
  {
   "cell_type": "markdown",
   "id": "cd1a3c6b-e4ce-45e5-83a5-a3158056589f",
   "metadata": {
    "jp-MarkdownHeadingCollapsed": true,
    "tags": []
   },
   "source": [
    "### Bootsrap de r2 de CAPM, 3 factor y 5 factor"
   ]
  },
  {
   "cell_type": "code",
   "execution_count": 24,
   "id": "a0041828-da77-449c-9629-3a3fc3d1a8c9",
   "metadata": {
    "tags": []
   },
   "outputs": [
    {
     "name": "stdout",
     "output_type": "stream",
     "text": [
      "\t\t\t\t Mean: 0.6374\n"
     ]
    },
    {
     "data": {
      "image/png": "[encoded data removed]",
      "text/plain": [
       "<Figure size 640x480 with 1 Axes>"
      ]
     },
     "metadata": {},
     "output_type": "display_data"
    },
    {
     "name": "stdout",
     "output_type": "stream",
     "text": [
      "\n",
      "\t\t\t\t Mean: 0.755\n"
     ]
    },
    {
     "data": {
      "image/png": "[encoded data removed]",
      "text/plain": [
       "<Figure size 640x480 with 1 Axes>"
      ]
     },
     "metadata": {},
     "output_type": "display_data"
    },
    {
     "name": "stdout",
     "output_type": "stream",
     "text": [
      "\n",
      "\t\t\t\t Mean: 0.7718\n"
     ]
    },
    {
     "data": {
      "image/png": "[encoded data removed]",
      "text/plain": [
       "<Figure size 640x480 with 1 Axes>"
      ]
     },
     "metadata": {},
     "output_type": "display_data"
    },
    {
     "name": "stdout",
     "output_type": "stream",
     "text": [
      "\n"
     ]
    }
   ],
   "source": [
    "n = 1000\n",
    "r2_c = []\n",
    "bsr2_3f = []\n",
    "bsr2_5f = []\n",
    "for i in range(n):\n",
    "    \n",
    "    flag_frame = fama_french_df.sample(len(fama_french_df), replace = True)\n",
    "    y = flag_frame['emv'] - flag_frame['RF']\n",
    "    \n",
    "    # CAPM\n",
    "    X_capm = flag_frame[['Mkt-RF']]\n",
    "    model_capm = LinearRegression().fit(X_capm, y)\n",
    "    prediction_capm = model_capm.predict(X_capm)\n",
    "    r2_capm = np.round(r2_score(y_pred=prediction_capm, y_true=y),4)\n",
    "    r2_c.append(r2_capm)\n",
    "    \n",
    "    # 3 factor\n",
    "    X_3f = flag_frame[['Mkt-RF','SMB','HML']]\n",
    "    model_3f = LinearRegression().fit(X_3f, y)\n",
    "    prediction_3f = model_3f.predict(X_3f)\n",
    "    r2_3f = np.round(r2_score(y_pred=prediction_3f, y_true=y),4)\n",
    "    bsr2_3f.append(r2_3f)\n",
    "    \n",
    "    # 5 factor\n",
    "    X_5f = flag_frame[['Mkt-RF', 'SMB', 'HML', 'RMW', 'CMA']]\n",
    "    model_5f = LinearRegression().fit(X_5f, y)\n",
    "    prediction_5f = model_5f.predict(X_5f)\n",
    "    r2_5f = np.round(r2_score(y_pred=prediction_5f, y_true=y),4)\n",
    "    bsr2_5f.append(r2_5f)\n",
    "\n",
    "bs_r2 = pd.DataFrame()\n",
    "bs_r2[\"CAPM\"] = r2_c\n",
    "bs_r2[\"3_factores\"] = bsr2_3f\n",
    "bs_r2[\"5_factores\"] = bsr2_5f\n",
    "\n",
    "for j in bs_r2.columns:\n",
    "    print('\\t' '\\t' '\\t' '\\t', 'Mean:', np.round(np.mean(bs_r2[j]),4))\n",
    "    plt.hist(bs_r2[j], bins = 100, color = 'skyblue')\n",
    "    plt.title(\"Histograma de \" + j)\n",
    "    plt.grid()\n",
    "    plt.show()\n",
    "    print()"
   ]
  },
  {
   "cell_type": "markdown",
   "id": "26c32653-3599-4673-a311-f4f29ac476b4",
   "metadata": {
    "jp-MarkdownHeadingCollapsed": true,
    "tags": []
   },
   "source": [
    "### Conclusiones"
   ]
  },
  {
   "cell_type": "markdown",
   "id": "bcb6a78d-c494-428a-862d-6fa06ba42454",
   "metadata": {},
   "source": [
    "Una vez analizado los 3 modelos en nuestro portafolio vemos como el modelo del CAPM tiene el peor r2 que es de 0.6348 por lo que el modelo no esta tan bien ajustado a los datos, pero al utilizar el 3 factor model hay un aumento significativo en el r2 ya que con ese modelo el r2 es de 0.7497, por lo que explica más del 70% de la variación. Por lo tanto lo podemos considerar como un buen modelo; por último al utilizar el 5 factor model el incremeneto en el r2 es muy pequeño pues pasa a 0.7602 por ello se puede decir que el modelo es algo exagerado, pues su confiabilidad tiene un aumento muy pequeño a pesar da la gran cantidad de datos que se agregan al análisis.\n",
    "\n",
    "El bootsrap es importante realizarlo pues este r2 se basa en simulaciones de pesos de un portafolio y simulaciones en los rendimientos de éste y de los factores de mercado por lo que no se puede tener un resultado exacto. El boostrap nos permite tener un intervalo de confianza que nuestro r2 puede llegar a tomar en cada modelo lo cual nos da un panorama más confiable para analizar.\n",
    "\n",
    "Vemos que en el CAPM lo más probable en tener un r2 entre 0.55 y 0.75, para el 3 factor model entre 0.7 y 0.8 y por último en el 5 factor model entre 0.72  y 0.82, de esta manera tenemos intervalos que nos pueden ser de más ayuda que un solo valor basado en simulaciones."
   ]
  }
 ],
 "metadata": {
  "kernelspec": {
   "display_name": "Python 3 (ipykernel)",
   "language": "python",
   "name": "python3"
  },
  "language_info": {
   "codemirror_mode": {
    "name": "ipython",
    "version": 3
   },
   "file_extension": ".py",
   "mimetype": "text/x-python",
   "name": "python",
   "nbconvert_exporter": "python",
   "pygments_lexer": "ipython3",
   "version": "3.11.4"
  }
 },
 "nbformat": 4,
 "nbformat_minor": 5
}
